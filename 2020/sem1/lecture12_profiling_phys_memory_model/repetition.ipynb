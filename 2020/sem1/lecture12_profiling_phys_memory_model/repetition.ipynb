{
 "cells": [
  {
   "cell_type": "markdown",
   "metadata": {},
   "source": [
    "**Вопросы для повторения**:"
   ]
  },
  {
   "cell_type": "markdown",
   "metadata": {},
   "source": [
    "* напишите функцию `join`: функции, которая соединяет строки `std::vector<std::string>` через разделитель `std::string`:"
   ]
  },
  {
   "cell_type": "markdown",
   "metadata": {},
   "source": [
    "..."
   ]
  },
  {
   "cell_type": "markdown",
   "metadata": {},
   "source": [
    "* напишите функцию `deduplicate`, которая удаляет дубликаты из `std::vector<std::string>` без сохранения порядка:"
   ]
  },
  {
   "cell_type": "markdown",
   "metadata": {},
   "source": [
    "* что здесь может пойти не так?\n",
    "\n",
    "```c++\n",
    "class Animal\n",
    "{\n",
    "};\n",
    "\n",
    "class Human : public Animal\n",
    "{\n",
    "    std::string name;\n",
    "};\n",
    "```\n",
    "\n",
    "<details>\n",
    "<summary>ответ</summary>\n",
    "<p>\n",
    "    не хватает виртуального деструктора\n",
    "</p>\n",
    "</details>"
   ]
  }
 ],
 "metadata": {
  "kernelspec": {
   "display_name": "Python 3",
   "language": "python",
   "name": "python3"
  },
  "language_info": {
   "codemirror_mode": {
    "name": "ipython",
    "version": 3
   },
   "file_extension": ".py",
   "mimetype": "text/x-python",
   "name": "python",
   "nbconvert_exporter": "python",
   "pygments_lexer": "ipython3",
   "version": "3.6.9"
  }
 },
 "nbformat": 4,
 "nbformat_minor": 2
}
