{
 "cells": [
  {
   "cell_type": "markdown",
   "metadata": {},
   "source": [
    "### Семинар 5. Шаблоны"
   ]
  },
  {
   "cell_type": "markdown",
   "metadata": {},
   "source": [
    "<br />"
   ]
  },
  {
   "cell_type": "markdown",
   "metadata": {},
   "source": [
    "##### Специфика компиляции шаблонов"
   ]
  },
  {
   "cell_type": "markdown",
   "metadata": {},
   "source": [
    "```c++\n",
    "#include <iostream>\n",
    "#include <string>\n",
    "\n",
    "template<typename T, int n>\n",
    "class PlainArray {\n",
    "    T arr_[n];\n",
    "\n",
    "public:\n",
    "    PlainArray() = default;\n",
    "    \n",
    "    T& operator[](size_t index) {\n",
    "        return arr_[index];\n",
    "    }\n",
    "    \n",
    "    const T& operator[](size_t index) const {\n",
    "        return arr_[index];\n",
    "    }\n",
    "\n",
    "    void clear_first() {\n",
    "        arr_[0].clear();\n",
    "    }\n",
    "};\n",
    "\n",
    "int main(int argc, char** argv) {\n",
    "    PlainArray<int, 10> pai;\n",
    "    pai[5] = 42;\n",
    "    std::cout << pai[5] << std::endl;\n",
    "\n",
    "    PlainArray<std::string, 3> pas;\n",
    "    pas[0] = \"run, Forest, run!\";\n",
    "    std::cout << pas[0] << std::endl;\n",
    "\n",
    "    pas.clear_first();\n",
    "    // # pai.clear_first();\n",
    "    return 0;\n",
    "}\n",
    "```"
   ]
  },
  {
   "cell_type": "markdown",
   "metadata": {},
   "source": [
    "<br />"
   ]
  },
  {
   "cell_type": "markdown",
   "metadata": {},
   "source": [
    "##### Примеры шаблонных функций / классов из стандартной библиотеки"
   ]
  },
  {
   "cell_type": "markdown",
   "metadata": {},
   "source": [
    "Рассмотреть примеры подробнее, специализации (если есть). Показать секции member types, non-member functions etc."
   ]
  },
  {
   "cell_type": "markdown",
   "metadata": {},
   "source": [
    "https://en.cppreference.com/w/cpp/numeric/complex"
   ]
  },
  {
   "cell_type": "markdown",
   "metadata": {},
   "source": [
    "https://en.cppreference.com/w/cpp/container/vector"
   ]
  },
  {
   "cell_type": "markdown",
   "metadata": {},
   "source": [
    "<br />"
   ]
  },
  {
   "cell_type": "markdown",
   "metadata": {},
   "source": [
    "##### Member types"
   ]
  },
  {
   "cell_type": "markdown",
   "metadata": {},
   "source": [
    "Рассмотрим пример: `RoundRobinQueue` с `std::vector` внутри"
   ]
  },
  {
   "cell_type": "markdown",
   "metadata": {},
   "source": [
    "```c++\n",
    "template<typename T>\n",
    "class RoundRobinQueue\n",
    "{\n",
    "public:\n",
    "    using container_type = std::vector<T>;\n",
    "    \n",
    "private:    \n",
    "    container_type data;\n",
    "    \n",
    "    /* ... какая-то реализация ... */\n",
    "\n",
    "public:\n",
    "    // объявляем типы в рамках RoundRobinQueue<T>\n",
    "    using value_type = T;\n",
    "    using pointer_type = T*;\n",
    "};\n",
    "```"
   ]
  },
  {
   "cell_type": "markdown",
   "metadata": {},
   "source": [
    "Теперь за пределами класса можно обращаться к объявленным типам:\n",
    "\n",
    "```c++\n",
    "RoundRobinQueue<int> rrq;\n",
    "RoundRobinQueue<int>::value_type value = rrq.pop();  // аналогично int value = rrq.pop();\n",
    "RoundRobinQueue<float>::value_type value = rrqf.pop();  // аналогично int value = rrq.pop();\n",
    "\n",
    "RoundRobinQueue<int>::container_type values;  // алалогично std::vector<int> values;\n",
    "```\n",
    "\n",
    "Практический смысл будет понятен, когда начнёте делать домашнее задание по полиному."
   ]
  }
 ],
 "metadata": {
  "kernelspec": {
   "display_name": "Python 3",
   "language": "python",
   "name": "python3"
  },
  "language_info": {
   "codemirror_mode": {
    "name": "ipython",
    "version": 3
   },
   "file_extension": ".py",
   "mimetype": "text/x-python",
   "name": "python",
   "nbconvert_exporter": "python",
   "pygments_lexer": "ipython3",
   "version": "3.6.9"
  }
 },
 "nbformat": 4,
 "nbformat_minor": 2
}
