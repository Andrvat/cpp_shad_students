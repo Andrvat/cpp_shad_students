{
 "cells": [
  {
   "cell_type": "markdown",
   "metadata": {},
   "source": [
    "Вопросы для повторения:\n",
    "* Что такое стэк и куча?\n",
    "* Что такое указатель?\n",
    "* `sizeof(int *)`?\n",
    "* `sizeof(int)`?\n",
    "* `sizeof(uint64_t)`?\n",
    "* Куда указывает `p`?\n",
    "\n",
    "    ```c++\n",
    "    std::uint64_t arr[100];\n",
    "    std::uint64_t *p = &arr[0];\n",
    "    p = p + 8;\n",
    "    ```\n",
    "    \n",
    "* Где хранятся данные строк при исполнении программы?\n",
    "\n",
    "```c++\n",
    "const char* s = \"hello world\";\n",
    "\n",
    "std::string s2 = \"London is the capital of Great Britain\";\n",
    "```"
   ]
  },
  {
   "cell_type": "markdown",
   "metadata": {},
   "source": [
    "<br />"
   ]
  },
  {
   "cell_type": "markdown",
   "metadata": {},
   "source": [
    "##### Эхо прошлого занятия: аргументы командной строки"
   ]
  },
  {
   "cell_type": "markdown",
   "metadata": {},
   "source": [
    "Общепринят формат передачи аргументов командной строки в программу, в котором аргументы делятся на:\n",
    "\n",
    "* позиционные\n",
    "* флажки\n",
    "* именованные со значением"
   ]
  },
  {
   "cell_type": "markdown",
   "metadata": {},
   "source": [
    "Пример консольной утилиты linux `ls`, выводящей содержимое папки (по возможности продемонстрировать):\n",
    "\n",
    "```\n",
    "ls /usr/bin -a --human-readable --color=always\n",
    "ls -a --color always --human-readable /usr/bin\n",
    "```\n",
    "\n",
    "описание опций можно прочитать, набрав `ls --help`:\n",
    "\n",
    "```\n",
    "  -a, --all                  do not ignore entries starting with .\n",
    "  -h, --human-readable       with -l and/or -s, print human readable sizes\n",
    "                               (e.g., 1K 234M 2G)\n",
    "      --color[=WHEN]         colorize the output; WHEN can be 'always' (default\n",
    "                               if omitted), 'auto', or 'never'; more info below\n",
    "```"
   ]
  },
  {
   "cell_type": "markdown",
   "metadata": {},
   "source": [
    "<br />"
   ]
  },
  {
   "cell_type": "markdown",
   "metadata": {},
   "source": [
    "**Задача**: вывести аргументы командной строки, переданные консольной утилите"
   ]
  },
  {
   "cell_type": "markdown",
   "metadata": {},
   "source": [
    "```c++\n",
    "#include <iostream>\n",
    "\n",
    "int main(int argc, char** argv)\n",
    "{\n",
    "    std::cout << \"command line arguments are:\" << std::endl;\n",
    "    for (int i = 0; i < argc; ++i)\n",
    "    {\n",
    "        std::cout << \"    \" << i << \" -> \" << argv[i] << std::endl;\n",
    "    }\n",
    "    return 0;\n",
    "}\n",
    "```"
   ]
  },
  {
   "cell_type": "markdown",
   "metadata": {},
   "source": [
    "Скомпилируем программу в исполняемый файл `a.out` и запустим: <br />\n",
    "_(инструкции компиляции можно найти в лекции 1)_"
   ]
  },
  {
   "cell_type": "markdown",
   "metadata": {},
   "source": [
    "Команда:\n",
    "```\n",
    "./a.out /usr/bin -a --human-readable --color=always\n",
    "```\n",
    "\n",
    "Вывод:\n",
    "```\n",
    "command line arguments are:\n",
    "    0 -> ./a.out\n",
    "    1 -> /usr/bin\n",
    "    2 -> -a\n",
    "    3 -> --human-readable\n",
    "    4 -> --color=always\n",
    "```"
   ]
  },
  {
   "cell_type": "markdown",
   "metadata": {},
   "source": [
    "Команда:\n",
    "```\n",
    "./a.out /usr/bin -a --human-readable --color always\n",
    "```\n",
    "\n",
    "Вывод:\n",
    "```\n",
    "command line arguments are:\n",
    "    0 -> ./a.out\n",
    "    1 -> /usr/bin\n",
    "    2 -> -a\n",
    "    3 -> --human-readable\n",
    "    4 -> --color\n",
    "    5 -> always\n",
    "```"
   ]
  },
  {
   "cell_type": "markdown",
   "metadata": {},
   "source": [
    "Команда:\n",
    "```\n",
    "./a.out \"/usr/bin/my awesome app dir\" -a --human-readable --color=always\n",
    "```\n",
    "    \n",
    "Вывод:\n",
    "```\n",
    "command line arguments are:\n",
    "    0 -> ./a.out\n",
    "    1 -> /usr/bin/my awesome app dir\n",
    "    2 -> -a\n",
    "    3 -> --human-readable\n",
    "    4 -> --color=always\n",
    "```"
   ]
  },
  {
   "cell_type": "markdown",
   "metadata": {},
   "source": [
    "<br />"
   ]
  },
  {
   "cell_type": "markdown",
   "metadata": {},
   "source": [
    "Для разбора аргументов командной строки используют готовые решения:\n",
    "* C++, cross-platform [`boost::program_options`](https://www.boost.org/doc/libs/1_58_0/doc/html/program_options.html)\n",
    "* C, unix-only [`getopt`](https://www.gnu.org/software/libc/manual/html_node/Example-of-Getopt.html)\n",
    "* ..."
   ]
  },
  {
   "cell_type": "markdown",
   "metadata": {},
   "source": [
    "<br />"
   ]
  },
  {
   "cell_type": "markdown",
   "metadata": {},
   "source": [
    "<br />"
   ]
  },
  {
   "cell_type": "markdown",
   "metadata": {},
   "source": [
    "### Лекция 2. Функции, пространства имён, заголовочные файлы"
   ]
  },
  {
   "cell_type": "markdown",
   "metadata": {},
   "source": [
    "<br />"
   ]
  },
  {
   "cell_type": "markdown",
   "metadata": {},
   "source": [
    "**Примечание:** ниже в примерах используется тип `std::vector<T>`. Если не встречались с ним раньше, то воспринимайте `std::vector` как динамический массив в куче. Т.е. он при необходимости увеличивает свой размер."
   ]
  },
  {
   "cell_type": "markdown",
   "metadata": {},
   "source": [
    "<br />"
   ]
  },
  {
   "cell_type": "markdown",
   "metadata": {},
   "source": [
    "##### Функции, объявление и определение (declaration / definition)"
   ]
  },
  {
   "cell_type": "markdown",
   "metadata": {},
   "source": [
    "Определение (definition) функции - описание её \"интерфейса\" (сигнатуры, возвращаемого типа и квалификаторов) И реализации."
   ]
  },
  {
   "cell_type": "markdown",
   "metadata": {},
   "source": [
    "```c++\n",
    "float abs(float x)\n",
    "{\n",
    "    if (x >= 0)\n",
    "        return x;\n",
    "    return -x;\n",
    "}\n",
    "\n",
    "float min_value(const std::vector<float>& items)\n",
    "{\n",
    "    float rv = items.front();\n",
    "    for (float x : items)\n",
    "        rv = std::min(rv, x);\n",
    "    return rv;\n",
    "}\n",
    "```"
   ]
  },
  {
   "cell_type": "markdown",
   "metadata": {},
   "source": [
    "Замечание:\n",
    "* для поиска минимума, конечно же, используйте `std::min_element`\n",
    "* а для вычисления абсолютных величин функцию `abs` из `#include <cmath>`"
   ]
  },
  {
   "cell_type": "markdown",
   "metadata": {},
   "source": [
    "Объявление (declaration) функции - описание её \"интерфейса\""
   ]
  },
  {
   "cell_type": "markdown",
   "metadata": {},
   "source": [
    "```c++\n",
    "float abs(float x);\n",
    "\n",
    "float min_value(const std::vector<float>& items);\n",
    "```"
   ]
  },
  {
   "cell_type": "markdown",
   "metadata": {},
   "source": [
    "Если не прописано явно, у функции в программе может быть несколько объявлений, но не больше одного определения."
   ]
  },
  {
   "cell_type": "markdown",
   "metadata": {},
   "source": [
    "__Вопрос__: что помещается в header-файл, что в cpp-файл?"
   ]
  },
  {
   "cell_type": "markdown",
   "metadata": {},
   "source": [
    "<br />"
   ]
  },
  {
   "cell_type": "markdown",
   "metadata": {},
   "source": [
    "##### Передача аргументов в функцию"
   ]
  },
  {
   "cell_type": "markdown",
   "metadata": {},
   "source": [
    "Передача по значению - создание копии аргумента"
   ]
  },
  {
   "cell_type": "markdown",
   "metadata": {},
   "source": [
    "```c++\n",
    "float min_value(std::vector<float> x);\n",
    "```"
   ]
  },
  {
   "cell_type": "markdown",
   "metadata": {},
   "source": [
    "Передача по ссылке - работа с аргументом"
   ]
  },
  {
   "cell_type": "markdown",
   "metadata": {},
   "source": [
    "```c++\n",
    "float min_value(std::vector<float>& x);\n",
    "```"
   ]
  },
  {
   "cell_type": "markdown",
   "metadata": {},
   "source": [
    "Передача по const-ссылке - работа с аргументом и запрет на модификацию"
   ]
  },
  {
   "cell_type": "markdown",
   "metadata": {},
   "source": [
    "```c++\n",
    "float min_value(const std::vector<float>& x);\n",
    "```"
   ]
  },
  {
   "cell_type": "markdown",
   "metadata": {},
   "source": [
    "**Упражнение:** что здесь происходит с аргументами?\n",
    "\n",
    "```c++\n",
    "float sqr(const float x);\n",
    "\n",
    "float min_value(std::vector<float>* x);\n",
    "float min_value(const std::vector<float>* x);\n",
    "float min_value(std::vector<float>* const x);\n",
    "```"
   ]
  },
  {
   "cell_type": "markdown",
   "metadata": {},
   "source": [
    "**Вопрос:** Когда лучше передавать по значению, а когда - по ссылке?"
   ]
  },
  {
   "cell_type": "markdown",
   "metadata": {},
   "source": [
    "<br />"
   ]
  },
  {
   "cell_type": "markdown",
   "metadata": {},
   "source": [
    "##### Возвращаемое значение"
   ]
  },
  {
   "cell_type": "markdown",
   "metadata": {},
   "source": [
    "Функция ничего не возвращает:\n",
    "\n",
    "```c++\n",
    "void say_hello(const std::string& name)\n",
    "{\n",
    "    std::cout << \"hello, \" << name;\n",
    "}\n",
    "```"
   ]
  },
  {
   "cell_type": "markdown",
   "metadata": {},
   "source": [
    "Возврат результата через возвращаемое значение (предпочтительный вариант):\n",
    "\n",
    "```c++\n",
    "std::vector<std::string> make_team()\n",
    "{\n",
    "    return { \"Bifur\", \"Bofur\", \"Bombur\", \"Oin\",\n",
    "             \"Gloin\", \"Fili\", \"Nori\", \"Dori\",\n",
    "             \"Dwalin\", \"Ori\", \"Balin\", \"Kili\" };\n",
    "}\n",
    "```"
   ]
  },
  {
   "cell_type": "markdown",
   "metadata": {},
   "source": [
    "Возврат результата через аргумент (менее предпочтительный вариант в силу меньшей читаемости):\n",
    "\n",
    "```c++\n",
    "bool append_teamlead(Point3D location, std::vector<std::string>& team)\n",
    "{\n",
    "    if (is_shire(location))\n",
    "    {\n",
    "        team.push_back(\"Thorin\");\n",
    "        return true;\n",
    "    }\n",
    "    return false;\n",
    "}\n",
    "```"
   ]
  },
  {
   "cell_type": "markdown",
   "metadata": {},
   "source": [
    "Сравните:\n",
    "    \n",
    "```c++\n",
    "// легко читается, что есть результат функции\n",
    "std::vector<std::string> team = make_team();\n",
    "\n",
    "// не очевидно, что результатом функции является\n",
    "// изменение второго аргумента, нужно лезть в\n",
    "// документацию или реализацию, чтобы понять\n",
    "// замысел автора\n",
    "append_teamlead(get_current_location(), team);\n",
    "\n",
    "```"
   ]
  },
  {
   "cell_type": "markdown",
   "metadata": {},
   "source": [
    "<br />"
   ]
  },
  {
   "cell_type": "markdown",
   "metadata": {},
   "source": [
    "##### Ошибки при работе с аргументами и возвращаемыми значениями"
   ]
  },
  {
   "cell_type": "markdown",
   "metadata": {},
   "source": [
    "```c++\n",
    "std::string* find_dwarf(const std::vector<std::string>& team, const std::string& name)\n",
    "{\n",
    "    for (const std::string& dwarf : team)\n",
    "        if (dwarf == name)\n",
    "            return &dwarf;\n",
    "    return nullptr;\n",
    "}\n",
    "\n",
    "// usage 1\n",
    "std::vector<std::string> team = make_team();\n",
    "if (std::string* balin_ptr = find_dwarf(team, \"Kuzya\"))\n",
    "    std::cout << *balin_ptr;\n",
    "\n",
    "// usage 2\n",
    "if (std::string* balin_ptr = find_dwarf(make_team(), \"Balin\"))\n",
    "    std::cout << *balin_ptr;  // OOOPS\n",
    "\n",
    "// usage 3\n",
    "if (std::string* balin_ptr = find_dwarf({\"Ori\", \"Gloin\", \"Balin\"}, \"Balin\"))\n",
    "    std::cout << *balin_ptr;  // OOOPS\n",
    "```"
   ]
  },
  {
   "cell_type": "markdown",
   "metadata": {},
   "source": [
    "__Вопрос__: что будет напечатано программой ниже?\n",
    "\n",
    "Показать пример на godbolt.org на clang 8.0.0 с разными оптимизациями, чтобы наглядно продемонстрировать ub"
   ]
  },
  {
   "cell_type": "markdown",
   "metadata": {},
   "source": [
    "```c++\n",
    "#include <iostream>\n",
    "#include <string>\n",
    "\n",
    "const std::string& f(const bool x,\n",
    "                     const std::string& s1,\n",
    "                     const std::string& s2)\n",
    "{\n",
    "    return x ? s1 : s2;\n",
    "}\n",
    "\n",
    "int main()\n",
    "{\n",
    "    const std::string& s = f(true, \"123\", \"12345\");\n",
    "    std::cout << s << endl;\n",
    "    return 0;\n",
    "}\n",
    "```"
   ]
  },
  {
   "cell_type": "markdown",
   "metadata": {},
   "source": [
    "<br />"
   ]
  },
  {
   "cell_type": "markdown",
   "metadata": {},
   "source": [
    "##### Значения аргументов по умолчанию"
   ]
  },
  {
   "cell_type": "markdown",
   "metadata": {},
   "source": [
    "Можно задавать значения аргументов по умолчанию:"
   ]
  },
  {
   "cell_type": "markdown",
   "metadata": {},
   "source": [
    "```c++\n",
    "std::string convert_to_string(int value, int base = 10);\n",
    "```"
   ]
  },
  {
   "cell_type": "markdown",
   "metadata": {},
   "source": [
    "```c++\n",
    "std::string join_strings(const std::vector<std::string>& strings,\n",
    "                         const std::string& sep = \"\\n\");\n",
    "```"
   ]
  },
  {
   "cell_type": "markdown",
   "metadata": {},
   "source": [
    "использование:"
   ]
  },
  {
   "cell_type": "markdown",
   "metadata": {},
   "source": [
    "```c++\n",
    "std::string s1 = convert_to_string(42);    // 42\n",
    "std::string s2 = convert_to_string(42, 2); // 101010\n",
    "\n",
    "std::string song = join_strings({\"In the town where I was born\",\n",
    "                                 \"Lived a man who sailed to sea\",\n",
    "                                 \"And he told us of his life\",\n",
    "                                 \"In the land of submarines\"});\n",
    "std::string sentence = join_strings({\"Run\", \"Forest\", \"run\"}, \" \");\n",
    "```"
   ]
  },
  {
   "cell_type": "markdown",
   "metadata": {},
   "source": [
    "Но такие аргументы должны быть последними:"
   ]
  },
  {
   "cell_type": "markdown",
   "metadata": {},
   "source": [
    "```c++\n",
    "std::string join_strings(const std::vector<std::string>& strings,\n",
    "                         const std::string& sep = \"\\n\",\n",
    "                         bool skip_empty_lines);  // compilation ERROR!\n",
    "```"
   ]
  },
  {
   "cell_type": "markdown",
   "metadata": {},
   "source": [
    "```c++\n",
    "std::string join_strings(const std::vector<std::string>& strings,\n",
    "                         const std::string& sep = \"\\n\",\n",
    "                         bool skip_empty_lines = false);  // OK\n",
    "```"
   ]
  },
  {
   "cell_type": "markdown",
   "metadata": {},
   "source": [
    "<br />"
   ]
  },
  {
   "cell_type": "markdown",
   "metadata": {},
   "source": [
    "##### Перегрузка функции"
   ]
  },
  {
   "cell_type": "markdown",
   "metadata": {},
   "source": [
    "https://en.cppreference.com/book/intro/function_overloading"
   ]
  },
  {
   "cell_type": "markdown",
   "metadata": {},
   "source": [
    "Задача - реализовать конвертацию всего в строку. Желательно единообразно и чтобы: есть способ - компилируется и работает, нет способа - не компилируется."
   ]
  },
  {
   "cell_type": "markdown",
   "metadata": {},
   "source": [
    "```c++\n",
    "std::string convert_to_string(int x);       // 1\n",
    "std::string convert_to_string(unsigned x);  // 2\n",
    "std::string convert_to_string(float x);     // 3\n",
    "\n",
    "std::cout << convert_to_string(5);    // 1\n",
    "std::cout << convert_to_string(5u);   // 2\n",
    "std::cout << convert_to_string(5.f);  // 3\n",
    "```"
   ]
  },
  {
   "cell_type": "markdown",
   "metadata": {},
   "source": [
    "<br />"
   ]
  },
  {
   "cell_type": "markdown",
   "metadata": {},
   "source": [
    "##### Назначение header-файлов и cpp-файлов"
   ]
  },
  {
   "cell_type": "markdown",
   "metadata": {},
   "source": [
    "Файлы в С++-программах делятся на 2 типа: компилируемые и включаемые:\n",
    "    \n",
    "* _Компилируемые_ файлы (`file.cpp`) - файлы с текстом на языке С++, подаются на вход компилятору для генерации соответствующего объектного файла с машинными интсрукциями (`file.o`)\n",
    "* _Включаемые_ файлы (`file.h`) - файлы с текстом на языке С++, не являются конечной целью компиляции, их содержимое копируется в `cpp`-файлы при их компиляции через директиву `#include`"
   ]
  },
  {
   "cell_type": "markdown",
   "metadata": {},
   "source": [
    "**Пример:** "
   ]
  },
  {
   "cell_type": "markdown",
   "metadata": {},
   "source": [
    "Напишем программу, по целому числу `n` считающую $(1 + 1/n)^n$.\n",
    "\n",
    "Программа будет состоять из трёх файлов:\n",
    "* `exp.cpp` - дефиниция (реализация) функции расчёта\n",
    "* `exp.h` - декларация функции расчёта\n",
    "* `prg.cpp` - дефиниция `main`\n",
    "\n",
    "_Подробно объяснить программу_"
   ]
  },
  {
   "cell_type": "markdown",
   "metadata": {},
   "source": [
    "Файл `exp.cpp`:\n",
    "\n",
    "```c++\n",
    "#include <cmath>\n",
    "\n",
    "double approximate_exp(const unsigned int n)\n",
    "{\n",
    "    if (n == 0)\n",
    "        return 1.0;\n",
    "    \n",
    "    return std::pow(1.0 + 1.0 / n, n);\n",
    "}\n",
    "```"
   ]
  },
  {
   "cell_type": "markdown",
   "metadata": {},
   "source": [
    "Файл `exp.h`:\n",
    "\n",
    "```c++\n",
    "#pragma once\n",
    "\n",
    "double approximate_exp(const unsigned int n);\n",
    "```"
   ]
  },
  {
   "cell_type": "markdown",
   "metadata": {},
   "source": [
    "Файл `prg.cpp`:\n",
    "\n",
    "```c++\n",
    "#include <iostream>\n",
    "\n",
    "#include \"exp.h\"\n",
    "\n",
    "int main()\n",
    "{\n",
    "    unsigned n = 0;\n",
    "    std::cin >> n;\n",
    "    \n",
    "    std::cout << approximate_exp(n);    \n",
    "    return 0;\n",
    "}\n",
    "```"
   ]
  },
  {
   "cell_type": "markdown",
   "metadata": {},
   "source": [
    "Команды компиляции и линковки:\n",
    "    \n",
    "```bash\n",
    "clang++ -c exp.cpp -o exp.o  # скомпилировать объектный файл exp.o с кодом вычислений\n",
    "clang++ -c prg.cpp -o prg.o  # скомпилировать объектный файл prg.o с кодом запуска\n",
    "clang++ exp.o prg.o -o prg.exe  # слинковать всё вместе в исполняемый файл prg.exe\n",
    "```"
   ]
  },
  {
   "cell_type": "markdown",
   "metadata": {},
   "source": [
    "<br />"
   ]
  },
  {
   "cell_type": "markdown",
   "metadata": {},
   "source": [
    "---"
   ]
  },
  {
   "cell_type": "markdown",
   "metadata": {},
   "source": [
    "Материал ниже ушёл на следующую лекцию"
   ]
  },
  {
   "cell_type": "markdown",
   "metadata": {},
   "source": [
    "---"
   ]
  },
  {
   "cell_type": "markdown",
   "metadata": {},
   "source": [
    "##### Пространства имён и name mangling при компиляции"
   ]
  },
  {
   "cell_type": "markdown",
   "metadata": {},
   "source": [
    "https://en.wikipedia.org/wiki/Name_mangling"
   ]
  },
  {
   "cell_type": "markdown",
   "metadata": {},
   "source": [
    "Пространства времён решают проблему, когда функция с одинаковым именем имеет две реализации в разных билиотеках"
   ]
  },
  {
   "cell_type": "markdown",
   "metadata": {},
   "source": [
    "```c++\n",
    "// library for json parsing\n",
    "\n",
    "// return version of json parsing library\n",
    "std::string get_version();\n",
    "```"
   ]
  },
  {
   "cell_type": "markdown",
   "metadata": {},
   "source": [
    "```c++\n",
    "// library for image manipulation\n",
    "\n",
    "// return version of image manipulation library\n",
    "std::string get_version();\n",
    "```"
   ]
  },
  {
   "cell_type": "markdown",
   "metadata": {},
   "source": [
    "Такой код скомпилируется, но не слинкуется (либо слинкуется в некорректную программу), т.к. для функции `get_version` нарушено ODR-правило (One Definition Rule)"
   ]
  },
  {
   "cell_type": "markdown",
   "metadata": {},
   "source": [
    "```c++\n",
    "// library for json parsing\n",
    "\n",
    "namespace json_parser\n",
    "{\n",
    "    // return version of json parsing library\n",
    "    std::string get_version();\n",
    "}\n",
    "```"
   ]
  },
  {
   "cell_type": "markdown",
   "metadata": {},
   "source": [
    "```c++\n",
    "// library for image manipulation\n",
    "\n",
    "namespace image_processing\n",
    "{\n",
    "   // return version of image manipulation library\n",
    "    std::string get_version(); \n",
    "}\n",
    "```"
   ]
  },
  {
   "cell_type": "markdown",
   "metadata": {},
   "source": [
    "Такой код слинкуется корректно, т.к. работает механизм name mangling во время компиляции"
   ]
  },
  {
   "cell_type": "markdown",
   "metadata": {},
   "source": [
    "Показать пример на godbolt.org, не забыть убрать галочку demangle"
   ]
  },
  {
   "cell_type": "markdown",
   "metadata": {},
   "source": [
    "```c++\n",
    "#include <iostream>\n",
    "#include <string>\n",
    "\n",
    "std::string get_version(int x, int y, long z);\n",
    "\n",
    "namespace json_parser\n",
    "{\n",
    "    std::string get_version(int x, int y, long z);\n",
    "}\n",
    "\n",
    "namespace image_processing\n",
    "{\n",
    "    std::string get_version(int x, int y, long z);\n",
    "}\n",
    "\n",
    "int main()\n",
    "{\n",
    "    std::cout << get_version(0, 0, 0);\n",
    "    std::cout << json_parser::get_version(0, 0, 0);\n",
    "    std::cout << image_processing::get_version(0, 0, 0);\n",
    "    return 0;\n",
    "}\n",
    "```"
   ]
  },
  {
   "cell_type": "markdown",
   "metadata": {},
   "source": [
    "В результате name mangling компилятор clang создаёт символы:\n",
    "* `_Z11get_versionB5cxx11iil`\n",
    "* `_ZN16json_parser11get_versionB5cxx11Eiil`\n",
    "* `_ZN21image_processing11get_versionB5cxx11Eiil`\n",
    "\n",
    "Какой из них к чему относится, догадаться не сложно. "
   ]
  },
  {
   "cell_type": "markdown",
   "metadata": {},
   "source": [
    "<br />"
   ]
  },
  {
   "cell_type": "markdown",
   "metadata": {},
   "source": [
    "##### Поиск функции и `using namespace`"
   ]
  },
  {
   "cell_type": "markdown",
   "metadata": {},
   "source": [
    "Точные правила поиска:\n",
    "\n",
    "https://en.cppreference.com/w/cpp/language/lookup"
   ]
  },
  {
   "cell_type": "markdown",
   "metadata": {},
   "source": [
    "При компиляции куска кода:\n",
    "\n",
    "```c++\n",
    "namespace json_parser {\n",
    "namespace input_processing {\n",
    "\n",
    "int read_int(const std::string& s)\n",
    "{\n",
    "    if (avx_instructions_available())\n",
    "        return read_int_avx(s);\n",
    "    else\n",
    "        return read_int_default(s);\n",
    "}\n",
    "    \n",
    "}\n",
    "}\n",
    "```\n",
    "\n",
    "Компилятору нужно найти кандидатов для вызова `avx_instructions_available`, `read_int_avx` и `read_int_default`. Компилятор осуществляет их поиск в пространствах имён:\n",
    "* глобальное\n",
    "* `json_parser`\n",
    "* `json_parser::input_processing`\n",
    "* пространства имён аргументов функций (ничего для `avx_instructions_available`, `std` для `read_int_avx` и `read_int_default`)\n",
    "\n",
    "Если для какой-нибудь из функций находится либо более одного кандидата для вызова либо ни одного - ошибка компиляции. Кандидат должен быть и быть только один."
   ]
  },
  {
   "cell_type": "markdown",
   "metadata": {},
   "source": [
    "<br />"
   ]
  },
  {
   "cell_type": "markdown",
   "metadata": {},
   "source": [
    "`using namespace X` - заполнить текущее пространство имён до закрываеющей скобки именами из пространства X."
   ]
  },
  {
   "cell_type": "markdown",
   "metadata": {},
   "source": [
    "**Пример 1:**\n",
    "\n",
    "Вызывающая программа:\n",
    "\n",
    "```c++\n",
    "#include \"json_parser.h\"\n",
    "\n",
    "int main()\n",
    "{\n",
    "    // не скомпилируется, т.к. в глобальном пространстве имён нет функции read_int\n",
    "    std::cout << read_int(s);\n",
    "    \n",
    "    // скомпилируется\n",
    "    std::cout << json_parser::input_processing::read_int(s);\n",
    "    \n",
    "    // скомпилируется, т.к. глобальное пространство имён расширено\n",
    "    using namespace json_parser::input_processing;\n",
    "    std::cout << read_int(s);\n",
    "    \n",
    "    return 0;    \n",
    "}\n",
    "```"
   ]
  },
  {
   "cell_type": "markdown",
   "metadata": {},
   "source": [
    "**Пример 2:**\n",
    "\n",
    "```c++\n",
    "int main() {\n",
    "    std::cout << 1 << std::string(\"23\");\n",
    "    return 0;\n",
    "}\n",
    "```\n",
    "\n",
    "или\n",
    "\n",
    "```c++\n",
    "using namespace std; \n",
    "// имена из std доступны в глобальном пространстве имён до конца файла\n",
    "\n",
    "int main() {\n",
    "    cout << 1 << string(\"23\");\n",
    "    return 0;\n",
    "}\n",
    "```\n",
    "\n",
    "или\n",
    "\n",
    "```c++\n",
    "int main()\n",
    "{\n",
    "    using namespace std; \n",
    "    // имена из std доступны в глобальном пространстве имён до конца main\n",
    "\n",
    "    cout << 1 << string(\"23\");\n",
    "    return 0;\n",
    "}\n",
    "```"
   ]
  },
  {
   "cell_type": "markdown",
   "metadata": {},
   "source": [
    "<br />"
   ]
  },
  {
   "cell_type": "markdown",
   "metadata": {},
   "source": [
    "**Рекомендации:**\n",
    "\n",
    "1. Никогда не пишите `using namespace` в `.h` - файлах (почему?)\n",
    "2. Ограничивайте область действия `using namespace` рационально.\n",
    "\n",
    "**Пример рациональности:** функция, считающая время выполнения другой функции (многословность `std::chrono`):\n",
    "\n",
    "```c++\n",
    "// без using namespace\n",
    "std::uint64_t get_execution_time_microseconds(std::function<void> f)\n",
    "{\n",
    "    const std::chrono::high_resolution_clock::time_point start_ts =\n",
    "        std::chrono::high_resolution_clock::now();\n",
    "    f();    \n",
    "    const std::chrono::high_resolution_clock::time_point final_ts =\n",
    "        std::chrono::high_resolution_clock::now();    \n",
    "    return std::chrono::duration_cast<std::chrono::microseconds>(final_ts - start_ts).count();\n",
    "}\n",
    "\n",
    "// с using namespace\n",
    "std::uint64_t get_execution_time_microseconds(std::function<void> f)\n",
    "{\n",
    "    using namespace std::chrono;    \n",
    "    const high_resolution_clock::time_point start_ts = high_resolution_clock::now();\n",
    "    f();    \n",
    "    const high_resolution_clock::time_point final_ts = high_resolution_clock::now();    \n",
    "    return duration_cast<microseconds>(final_ts - start_ts).count();\n",
    "}\n",
    "```"
   ]
  },
  {
   "cell_type": "markdown",
   "metadata": {},
   "source": [
    "<br />"
   ]
  },
  {
   "cell_type": "markdown",
   "metadata": {},
   "source": [
    "**Замечания после лекции:**\n",
    "\n",
    "* не успели поговорить про namespace\n",
    "* т.к. на прошлом семинаре не разобрали пример с `read_n` и потоками, чуть не забыл рассказать про них в домашнем задании\n",
    "* в домашнем задании надо рисовать как считать 32-битную сумму, как правило, этого не поимают\n",
    "* пример про headers вызывает вопросы, т.к. в примере понятно как, но не понятно зачем. Нужно подобрать пример, чтобы без разбиения на h-cpp программа не скомпилировалась\n",
    "* раздел про ошибки при работе с аргументами воспринимается тяжело. Надо его иллюстрировать ярче или переработать.\n",
    "* пример про чтение файла блоками с семинара выкинуть, он скорее отчасти вреден чем полезен\n",
    "* убрать using из примеров юниттестов"
   ]
  }
 ],
 "metadata": {
  "kernelspec": {
   "display_name": "Python 3",
   "language": "python",
   "name": "python3"
  },
  "language_info": {
   "codemirror_mode": {
    "name": "ipython",
    "version": 3
   },
   "file_extension": ".py",
   "mimetype": "text/x-python",
   "name": "python",
   "nbconvert_exporter": "python",
   "pygments_lexer": "ipython3",
   "version": "3.6.9"
  }
 },
 "nbformat": 4,
 "nbformat_minor": 2
}
