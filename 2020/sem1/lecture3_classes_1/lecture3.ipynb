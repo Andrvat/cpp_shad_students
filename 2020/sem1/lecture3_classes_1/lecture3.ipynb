{
 "cells": [
  {
   "cell_type": "markdown",
   "metadata": {},
   "source": [
    "__Вопросы для повторения:__\n",
    "\n",
    "* Что выведет программа?\n",
    "\n",
    "    ```c++\n",
    "    std::string name = \"Ilya\";\n",
    "    std::string surname = \"Muromec\";\n",
    "\n",
    "    std::string& r = name;\n",
    "    r = \"Dobrynia\";\n",
    "    std::cout << name << std::endl;\n",
    "\n",
    "    std::string* p = &surname;\n",
    "    surname = \"Nikitich\";\n",
    "    std::cout << p << std::endl;\n",
    "    ```\n",
    "\n",
    "* Что следует сказать про эту программу?\n",
    "\n",
    "```c++\n",
    "std::vector<int> gen_sequence()\n",
    "{\n",
    "    return {1, 2, 3, 4, 5};\n",
    "}\n",
    "\n",
    "const int * search_value(const std::vector<int>& v, int value)\n",
    "{\n",
    "    for (const int& x : v)\n",
    "        if (x == value)\n",
    "            return &x;\n",
    "    return nullptr;\n",
    "}\n",
    "\n",
    "if (const int* val = search_value(gen_sequence(), 5))\n",
    "    std::cout << *val;\n",
    "```\n",
    "\n",
    "* Каковы контракты функций. Какие юнит-тесты следует написать?\n",
    "\n",
    "```c++\n",
    "void sort(int* arr, int n);\n",
    "\n",
    "void sort(std::vector<int>& v);\n",
    "\n",
    "int to_int(const std::string& s);\n",
    "```"
   ]
  },
  {
   "cell_type": "markdown",
   "metadata": {},
   "source": [
    "<br />"
   ]
  },
  {
   "cell_type": "markdown",
   "metadata": {},
   "source": [
    "##### Эхо прошлой лекции: пространства имён и name mangling при компиляции"
   ]
  },
  {
   "cell_type": "markdown",
   "metadata": {},
   "source": [
    "https://en.wikipedia.org/wiki/Name_mangling"
   ]
  },
  {
   "cell_type": "markdown",
   "metadata": {},
   "source": [
    "Вы уже несколько раз втречались с `std::string`, `std::cout`, `std::vector`. `std` - пространство имён с функциями и классами стандартной билиотеки С++."
   ]
  },
  {
   "cell_type": "markdown",
   "metadata": {},
   "source": [
    "<br />"
   ]
  },
  {
   "cell_type": "markdown",
   "metadata": {},
   "source": [
    "Пространства времён решают проблему, когда функция с одинаковым именем имеет две реализации в разных билиотеках"
   ]
  },
  {
   "cell_type": "markdown",
   "metadata": {},
   "source": [
    "```c++\n",
    "// library for json parsing\n",
    "//\n",
    "// return version of json parsing library\n",
    "std::string get_version();\n",
    "\n",
    "// library for image manipulation\n",
    "//\n",
    "// return version of image manipulation library\n",
    "std::string get_version();\n",
    "```"
   ]
  },
  {
   "cell_type": "markdown",
   "metadata": {},
   "source": [
    "Такой код скомпилируется, но не слинкуется (либо слинкуется в некорректную программу), т.к. для функции `get_version` нарушено ODR-правило (One Definition Rule)"
   ]
  },
  {
   "cell_type": "markdown",
   "metadata": {},
   "source": [
    "```c++\n",
    "namespace json_parser\n",
    "{\n",
    "    // return version of json parsing library\n",
    "    std::string get_version();\n",
    "}\n",
    "\n",
    "namespace image_processing\n",
    "{\n",
    "   // return version of image manipulation library\n",
    "    std::string get_version(); \n",
    "}\n",
    "```"
   ]
  },
  {
   "cell_type": "markdown",
   "metadata": {},
   "source": [
    "Такой код слинкуется корректно, т.к. работает механизм name mangling во время компиляции"
   ]
  },
  {
   "cell_type": "markdown",
   "metadata": {},
   "source": [
    "Показать пример на godbolt.org, не забыть убрать галочку demangle"
   ]
  },
  {
   "cell_type": "markdown",
   "metadata": {},
   "source": [
    "```c++\n",
    "#include <iostream>\n",
    "#include <string>\n",
    "\n",
    "std::string get_version(int x, int y, long z);\n",
    "\n",
    "namespace json_parser\n",
    "{\n",
    "    std::string get_version(int x, int y, long z);\n",
    "}\n",
    "\n",
    "namespace image_processing\n",
    "{\n",
    "    std::string get_version(int x, int y, long z);\n",
    "}\n",
    "\n",
    "int main()\n",
    "{\n",
    "    std::cout << get_version(0, 0, 0);\n",
    "    std::cout << json_parser::get_version(0, 0, 0);\n",
    "    std::cout << image_processing::get_version(0, 0, 0);\n",
    "    return 0;\n",
    "}\n",
    "```"
   ]
  },
  {
   "cell_type": "markdown",
   "metadata": {},
   "source": [
    "В результате name mangling компилятор clang создаёт символы:\n",
    "* `_Z11get_versionB5cxx11iil`\n",
    "* `_ZN16json_parser11get_versionB5cxx11Eiil`\n",
    "* `_ZN21image_processing11get_versionB5cxx11Eiil`\n",
    "\n",
    "Какой из них к чему относится, догадаться не сложно. "
   ]
  },
  {
   "cell_type": "markdown",
   "metadata": {},
   "source": [
    "<br />"
   ]
  },
  {
   "cell_type": "markdown",
   "metadata": {},
   "source": [
    "##### Поиск функции и `using namespace`"
   ]
  },
  {
   "cell_type": "markdown",
   "metadata": {},
   "source": [
    "Точные правила поиска:\n",
    "\n",
    "https://en.cppreference.com/w/cpp/language/lookup"
   ]
  },
  {
   "cell_type": "markdown",
   "metadata": {},
   "source": [
    "При компиляции кода:\n",
    "\n",
    "```c++\n",
    "namespace json_parser {\n",
    "namespace input_processing {\n",
    "\n",
    "int read_int(const std::string& s)\n",
    "{\n",
    "    if (avx_instructions_available())\n",
    "        return read_int_avx(s);\n",
    "    else\n",
    "        return read_int_default(s);\n",
    "}\n",
    "    \n",
    "}\n",
    "}\n",
    "```\n",
    "\n",
    "Компилятору нужно найти кандидатов для вызова `avx_instructions_available`, `read_int_avx` и `read_int_default`. Компилятор осуществляет их поиск в пространствах имён:\n",
    "* глобальное\n",
    "* `json_parser`\n",
    "* `json_parser::input_processing`\n",
    "* пространства имён аргументов функций (ничего для `avx_instructions_available`, `std` для `read_int_avx` и `read_int_default`)\n",
    "\n",
    "Если для какой-нибудь из функций находится либо более одного кандидата для вызова либо ни одного - ошибка компиляции. Кандидат должен быть и быть только один."
   ]
  },
  {
   "cell_type": "markdown",
   "metadata": {},
   "source": [
    "<br />"
   ]
  },
  {
   "cell_type": "markdown",
   "metadata": {},
   "source": [
    "`using namespace X` - заполнить текущее пространство имён до закрываеющей скобки именами из пространства X."
   ]
  },
  {
   "cell_type": "markdown",
   "metadata": {},
   "source": [
    "**Пример 1:**\n",
    "\n",
    "Вызывающая программа:\n",
    "\n",
    "```c++\n",
    "#include \"json_parser.h\"\n",
    "\n",
    "int main()\n",
    "{\n",
    "    // не скомпилируется, т.к. в глобальном пространстве имён нет функции read_int\n",
    "    std::cout << read_int(s);\n",
    "    \n",
    "    // скомпилируется\n",
    "    std::cout << json_parser::input_processing::read_int(s);\n",
    "    \n",
    "    // скомпилируется, т.к. глобальное пространство имён расширено\n",
    "    using namespace json_parser::input_processing;\n",
    "    std::cout << read_int(s);\n",
    "    \n",
    "    return 0;    \n",
    "}\n",
    "```"
   ]
  },
  {
   "cell_type": "markdown",
   "metadata": {},
   "source": [
    "**Пример 2:**\n",
    "\n",
    "```c++\n",
    "int main() {\n",
    "    std::cout << 1 << std::string(\"23\");\n",
    "    return 0;\n",
    "}\n",
    "```\n",
    "\n",
    "или\n",
    "\n",
    "```c++\n",
    "using namespace std; \n",
    "// имена из std доступны в глобальном пространстве имён до конца файла\n",
    "\n",
    "int main() {\n",
    "    cout << 1 << string(\"23\");\n",
    "    return 0;\n",
    "}\n",
    "```\n",
    "\n",
    "или\n",
    "\n",
    "```c++\n",
    "int main() {\n",
    "    using namespace std; \n",
    "    // имена из std доступны в глобальном пространстве имён до конца main\n",
    "    \n",
    "    cout << 1 << string(\"23\");\n",
    "    return 0;\n",
    "}\n",
    "```"
   ]
  },
  {
   "cell_type": "markdown",
   "metadata": {},
   "source": [
    "<br />"
   ]
  },
  {
   "cell_type": "markdown",
   "metadata": {},
   "source": [
    "**Рекомендации:**\n",
    "\n",
    "1. Никогда не пишите `using namespace` в `.h` - файлах (почему?)\n",
    "2. Ограничивайте область действия `using namespace` рационально.\n",
    "\n",
    "**Пример рациональности:** функция, считающая время выполнения другой функции (многословность `std::chrono`):\n",
    "\n",
    "```c++\n",
    "// без using namespace\n",
    "std::uint64_t get_execution_time_microseconds(std::function<void> f)\n",
    "{\n",
    "    const std::chrono::high_resolution_clock::time_point start_ts =\n",
    "        std::chrono::high_resolution_clock::now();\n",
    "    f();    \n",
    "    const std::chrono::high_resolution_clock::time_point final_ts =\n",
    "        std::chrono::high_resolution_clock::now();    \n",
    "    return std::chrono::duration_cast<std::chrono::microseconds>(final_ts - start_ts).count();\n",
    "}\n",
    "\n",
    "// с using namespace\n",
    "std::uint64_t get_execution_time_microseconds(std::function<void> f)\n",
    "{\n",
    "    using namespace std::chrono;    \n",
    "    const high_resolution_clock::time_point start_ts = high_resolution_clock::now();\n",
    "    f();    \n",
    "    const high_resolution_clock::time_point final_ts = high_resolution_clock::now();    \n",
    "    return duration_cast<microseconds>(final_ts - start_ts).count();\n",
    "}\n",
    "```"
   ]
  },
  {
   "cell_type": "markdown",
   "metadata": {},
   "source": [
    "<br />"
   ]
  },
  {
   "cell_type": "markdown",
   "metadata": {},
   "source": [
    "### Лекция 3. Классы. Введение"
   ]
  },
  {
   "cell_type": "markdown",
   "metadata": {},
   "source": [
    "Класс и объект - ключевые термины в ООП - языках"
   ]
  },
  {
   "cell_type": "markdown",
   "metadata": {},
   "source": [
    "![](classes.jpg)"
   ]
  },
  {
   "cell_type": "markdown",
   "metadata": {},
   "source": [
    "* Барсик - объект класса \"Кошка домашняя\"\n",
    "* \"Кошка домашняя\" - класс, наследник класса \"Кошки\"\n",
    "* \"Кошки\" - класс, наследник класса \"Кошачьи\"\n",
    "* \"Кошачьи\" - класс, наследник класса \"Хищные\"\n",
    "\n",
    "\n",
    "Объект класса - конкретный элемент этого типа.\n",
    "\n",
    "Класс-наследник __уточняет__ характеристики базового класса"
   ]
  },
  {
   "cell_type": "markdown",
   "metadata": {},
   "source": [
    "Для описания классов в языке С++ есть два ключевых слова: `class` и `struct`"
   ]
  },
  {
   "cell_type": "markdown",
   "metadata": {},
   "source": [
    "```c++\n",
    "class Animal\n",
    "{\n",
    "    ...\n",
    "};\n",
    "\n",
    "struct Point\n",
    "{\n",
    "    ...\n",
    "};\n",
    "```"
   ]
  },
  {
   "cell_type": "markdown",
   "metadata": {},
   "source": [
    "Класс может иметь данные: члены класса"
   ]
  },
  {
   "cell_type": "markdown",
   "metadata": {},
   "source": [
    "```c++\n",
    "class Animal\n",
    "{\n",
    "    std::string name;\n",
    "    unsigned age;\n",
    "};\n",
    "\n",
    "struct Point\n",
    "{\n",
    "    float x;\n",
    "    float y;\n",
    "};\n",
    "```"
   ]
  },
  {
   "cell_type": "markdown",
   "metadata": {},
   "source": [
    "Как создавать объекты таких классов:"
   ]
  },
  {
   "cell_type": "markdown",
   "metadata": {},
   "source": [
    "```c++\n",
    "Animal a;\n",
    "Point p;\n",
    "```"
   ]
  },
  {
   "cell_type": "markdown",
   "metadata": {},
   "source": [
    "Доступ до полей:"
   ]
  },
  {
   "cell_type": "markdown",
   "metadata": {},
   "source": [
    "```c++\n",
    "p.x = 3.f;\n",
    "p.y = 4.f;\n",
    "```"
   ]
  },
  {
   "cell_type": "markdown",
   "metadata": {},
   "source": [
    "Класс может иметь методы:"
   ]
  },
  {
   "cell_type": "markdown",
   "metadata": {},
   "source": [
    "```c++\n",
    "class Animal\n",
    "{\n",
    "    bool is_too_young() const\n",
    "    {\n",
    "        return age == 0;\n",
    "    }\n",
    "   \n",
    "    std::string name;\n",
    "    unsigned age;\n",
    "};\n",
    "\n",
    "//\n",
    "// или так:\n",
    "//\n",
    "\n",
    "class Animal\n",
    "{\n",
    "    bool is_too_young() const;\n",
    "    \n",
    "    std::string name;\n",
    "    unsigned age;\n",
    "};\n",
    "\n",
    "bool Animal::is_too_young() const\n",
    "{\n",
    "    return age == 0;\n",
    "}\n",
    "```"
   ]
  },
  {
   "cell_type": "markdown",
   "metadata": {},
   "source": [
    "Класс может наследоваться от другого класса:"
   ]
  },
  {
   "cell_type": "markdown",
   "metadata": {},
   "source": [
    "```c++\n",
    "class Cat : Animal\n",
    "{\n",
    "};\n",
    "\n",
    "struct WeightedPoint : Point\n",
    "{\n",
    "    float w;\n",
    "};\n",
    "```"
   ]
  },
  {
   "cell_type": "markdown",
   "metadata": {},
   "source": [
    "<br />"
   ]
  },
  {
   "cell_type": "markdown",
   "metadata": {},
   "source": [
    "У членов и методов классов есть модификаторы видимости:\n",
    "* `private` - доступ только себе самому и друзьям\n",
    "* `protected` - плюс наследники\n",
    "* `public` - кто угодно"
   ]
  },
  {
   "cell_type": "markdown",
   "metadata": {},
   "source": [
    "Отличие `class` от `struct` (с точки зрения компилятора) - модификатор видимости по умолчанию для методов/членов и при наследовании.\n",
    "* `class` -> `private`\n",
    "* `struct` -> `public`"
   ]
  },
  {
   "cell_type": "markdown",
   "metadata": {},
   "source": [
    "```c++\n",
    "class Animal\n",
    "{\n",
    "public:\n",
    "    bool is_too_young() const { return age == 0; }\n",
    "  \n",
    "private:\n",
    "    std::string name;\n",
    "    unsigned age;\n",
    "};\n",
    "\n",
    "class Cat : public Animal\n",
    "{\n",
    "public:\n",
    "    void say_meow() const { std::cout << \"meow\"; }\n",
    "};\n",
    "\n",
    "struct Point\n",
    "{\n",
    "    float x;\n",
    "    float y;\n",
    "};\n",
    "\n",
    "struct WeightedPoint : Point\n",
    "{\n",
    "    float w;\n",
    "};\n",
    "```"
   ]
  },
  {
   "cell_type": "markdown",
   "metadata": {},
   "source": [
    "```c++\n",
    "Cat barsic;\n",
    "barsic.say_meow();      // OK\n",
    "barsic.name = \"Barsic\"; // Compile-time error: name is private member\n",
    "    \n",
    "WeightedPoint p;\n",
    "p.x = 3.f;  // OK\n",
    "p.w = 0.f;  // OK\n",
    "```"
   ]
  },
  {
   "cell_type": "markdown",
   "metadata": {},
   "source": [
    "<br />"
   ]
  },
  {
   "cell_type": "markdown",
   "metadata": {},
   "source": [
    "Иногда приходится создавать объекты классов, копировать и уничтожать их. Для этого существуют конструкторы и деструкторы:"
   ]
  },
  {
   "cell_type": "markdown",
   "metadata": {},
   "source": [
    "```c++\n",
    "class Animal\n",
    "{\n",
    "private:\n",
    "    std::string name;\n",
    "    unsigned age;\n",
    "    \n",
    "public:\n",
    "    // конструктор из двух аргументов\n",
    "    //\n",
    "    // Animal an(\"Murka\", 7);\n",
    "    Animal(const std::string& a_name, const int a_age)\n",
    "        // список инициализации для членов класса\n",
    "        // плюс, возможно, спецификация вызова базового класса\n",
    "        : name(a_name)\n",
    "        , age(a_age)\n",
    "    {\n",
    "        // тело конструктора\n",
    "        std::cout << \"creating animal\" << std::endl;\n",
    "        std::cout << \"animal created\" << std::endl;\n",
    "    }  // когда выполнение доходит до конца конструктора, объект класса Animal считается сконструированным\n",
    "    \n",
    "    // конструктор из одного аргумента\n",
    "    //\n",
    "    // Animal an(\"Murka\");\n",
    "    explicit Animal(const std::string& a_name)\n",
    "        : name(a_name)\n",
    "        , age(0)\n",
    "    {\n",
    "    }\n",
    "    \n",
    "    // конструктор по умолчанию\n",
    "    //\n",
    "    // Animal an;\n",
    "    Animal() : age(0) {}\n",
    "    // что с name?\n",
    "    \n",
    "    // конструктор копирования\n",
    "    //\n",
    "    // Animal a1;  // default\n",
    "    // Animal a2 = a1;\n",
    "    // Animal a3(a2);\n",
    "    Animal(const Animal& rhs)\n",
    "        // имеет доступ к приватным полям rhs, т.к. объект того же класса\n",
    "        : name(rhs.name), age(rhs.age)\n",
    "    {}\n",
    "    \n",
    "    // конструктор перемещения\n",
    "    //\n",
    "    // Animal a1(\"Murka\", 13);\n",
    "    // Animal a2 = std::move(a1);\n",
    "    // a2 - ? a1 - ?\n",
    "    Animal(Animal&& rhs) noexcept : name(std::move(rhs.name)), age(rhs.age) {}\n",
    "    \n",
    "    // деструктор\n",
    "    // TODO: обратить внимание, что в деструкторе происходит больше операций, чем вывод,\n",
    "    //       объяснить, почему.\n",
    "    ~Animal() { std::cout << \"destroying \" << name << std::endl; }\n",
    "    \n",
    "    // копирующее присваивание\n",
    "    //\n",
    "    // Animal a1(\"Murka\", 13), a2;\n",
    "    // a2 = a1;\n",
    "    Animal& operator = (const Animal& rhs) { ...; return *this; }\n",
    "    \n",
    "    // перемещающее присваивание\n",
    "    //\n",
    "    // Animal a1(\"Murka\", 13), a2;\n",
    "    // a2 = std::move(a1);\n",
    "    Animal& operator = (Animal&& rhs) noexcept { ...; return *this; }\n",
    "};\n",
    "```"
   ]
  },
  {
   "cell_type": "markdown",
   "metadata": {},
   "source": [
    "Для каждого класса могут быть определены (или удалены) основные операции:\n",
    "* default c-tor\n",
    "* copy c-tor\n",
    "* move c-tor\n",
    "* copy assign\n",
    "* move assign\n",
    "* d-tor"
   ]
  },
  {
   "cell_type": "markdown",
   "metadata": {},
   "source": [
    "<br />"
   ]
  },
  {
   "cell_type": "markdown",
   "metadata": {},
   "source": [
    "##### Когда вызываются конструкторы и деструкторы"
   ]
  },
  {
   "cell_type": "markdown",
   "metadata": {},
   "source": [
    "Конструктор класса вызывается в момент его создания. Пока конструктор класса не отработает, объектом пользоваться нельзя.\n",
    "\n",
    "Деструктор класса вызывается, когда объект покидает свою область видимости."
   ]
  },
  {
   "cell_type": "markdown",
   "metadata": {},
   "source": [
    "```c++\n",
    "void fun()\n",
    "{\n",
    "    Grasshopper barsic1(\"Barsic\", 1);\n",
    "    \n",
    "    {\n",
    "        Grasshopper barsic2(\"Barsic\", 2);\n",
    "    }\n",
    "    \n",
    "    Grasshopper barsic3(\"Barsic\", 3);\n",
    "}\n",
    "```"
   ]
  },
  {
   "cell_type": "markdown",
   "metadata": {},
   "source": [
    "```c++\n",
    "void fun()\n",
    "{\n",
    "    Grasshopper* barsic = new Grasshopper(\"Barsic\", 1);\n",
    "    \n",
    "    for (int i = 0; i < 10; ++i)\n",
    "    {\n",
    "        Grasshopper barsic2(\"Barsic\", i);\n",
    "    }\n",
    "}\n",
    "// Обсудить:\n",
    "//    1. последовательность конструкторов-деструкторов\n",
    "//    2. какая проблема\n",
    "//    3. как поправить\n",
    "```"
   ]
  },
  {
   "cell_type": "markdown",
   "metadata": {},
   "source": [
    "```c++\n",
    "void fun()\n",
    "{\n",
    "    Grasshopper* barsics = new Grasshopper[3];\n",
    "    \n",
    "    if (Grasshopper h = make_grasshopper(); h.is_alive())\n",
    "    {\n",
    "        std::cout << \"it is alive!\" << std::endl;\n",
    "    }\n",
    "    else\n",
    "    {\n",
    "        std::cout << \"\" << std::endl;\n",
    "    }\n",
    "    \n",
    "    delete barsics;\n",
    "}\n",
    "// Обсудить:\n",
    "//    1. последовательность конструкторов-деструкторов\n",
    "//    2. какая проблема\n",
    "//    3. как поправить\n",
    "```"
   ]
  },
  {
   "cell_type": "markdown",
   "metadata": {},
   "source": [
    "<br />"
   ]
  },
  {
   "cell_type": "markdown",
   "metadata": {},
   "source": [
    "##### RAII (Resource Acqusition is Initialization)"
   ]
  },
  {
   "cell_type": "markdown",
   "metadata": {},
   "source": [
    "RAII - ключевая идиома в С++: захват ресурса должен совпадать с инициализацией объекта, а освобождение ресурса с его разрушением."
   ]
  },
  {
   "cell_type": "markdown",
   "metadata": {},
   "source": [
    "Т.о.:\n",
    "* конструктор объекта захватывает ресурс\n",
    "* деструктор объекта его освобождает"
   ]
  },
  {
   "cell_type": "markdown",
   "metadata": {},
   "source": [
    "**Пример 1**: массив на куче\n",
    "\n",
    "```c++\n",
    "class ArrayD\n",
    "{\n",
    "private:\n",
    "    double* data;\n",
    "    int size;\n",
    "    \n",
    "public:\n",
    "    ArrayD(int n)\n",
    "        : data(new double[n]),\n",
    "        , size(n)\n",
    "    {\n",
    "    }\n",
    "    \n",
    "    ~ArrayD()\n",
    "    {\n",
    "        delete[] data;\n",
    "    }    \n",
    "};\n",
    "\n",
    "void func()\n",
    "{\n",
    "    ArrayD arr(100);    \n",
    "    ...\n",
    "}\n",
    "```"
   ]
  },
  {
   "cell_type": "markdown",
   "metadata": {},
   "source": [
    "Теперь вы можете представить как работает такой код с памятью и почему он корректен:"
   ]
  },
  {
   "cell_type": "markdown",
   "metadata": {},
   "source": [
    "```c++\n",
    "void fun()\n",
    "{\n",
    "    std::vector<std::string> team = {\"Dobrynia\", \"Ilusha\", \"Alesha\"};\n",
    "    \n",
    "    for (const auto& member : team)\n",
    "        std::cout << member << std::end;    \n",
    "}\n",
    "```"
   ]
  },
  {
   "cell_type": "markdown",
   "metadata": {},
   "source": [
    "**Пример 2**: С++-обёртка над С-файлом\n",
    "\n",
    "```c++\n",
    "class File\n",
    "{\n",
    "private:\n",
    "    FILE* file;\n",
    "public:\n",
    "    File(const char* filename) : file(std::fopen(filename, \"w+\"))\n",
    "    {\n",
    "        if(!file)\n",
    "            throw std::runtime_error(\"failed to open file\") ;\n",
    "    }\n",
    "    \n",
    "    ~File()\n",
    "    {\n",
    "        std::fclose(file);\n",
    "    }\n",
    "    ...\n",
    "};\n",
    "\n",
    "\n",
    "void fun()\n",
    "{\n",
    "    File f(\"input.txt\");\n",
    "    ...\n",
    "}\n",
    "```"
   ]
  },
  {
   "cell_type": "markdown",
   "metadata": {},
   "source": [
    "<br />"
   ]
  },
  {
   "cell_type": "markdown",
   "metadata": {},
   "source": [
    "##### Какую часть работы по составлению конструкторов, деструкторов и операторов присваивания можно отдать компилятору?"
   ]
  },
  {
   "cell_type": "markdown",
   "metadata": {},
   "source": [
    "Компилятор может сгенерировать эти операции в дефолтном виде **по полям**, правила такие:\n",
    "\n",
    "Что имеется ввиду под фразой **по полям** :\n",
    "\n",
    "```c++\n",
    "class Animal\n",
    "{\n",
    "    std::string name = \"UNK\";\n",
    "    int age = 0;\n",
    "};\n",
    "\n",
    "Animal an1;           // значение?\n",
    "Animal an2(an1);      // значение?\n",
    "an1 = an2;            // значение?\n",
    "an2 = std::move(an1); // значение?\n",
    "```\n",
    "\n",
    "* автогенерируемый дефолтный конструктор устанавливает полям дефолтные значения\n",
    "* автогенерируемый конструктор копирования копирует значения по полям\n",
    "* автогенерируемый конструктор перемещения перемещает значения по полям\n",
    "* автогенерируемый оператор присваивания ... (вопрос к студентам)\n",
    "* автогенерируемый оператор перемещения ... (вопрос к студентам)\n",
    "* автогенерируемый деструктор ... (вопрос к студентам)"
   ]
  },
  {
   "cell_type": "markdown",
   "metadata": {},
   "source": [
    "__Вопрос__: В каких случаях нужно избежать автогенерированного конструктора копирования? Пример?\n",
    "\n",
    "<details>\n",
    "<summary>Ответ 1</summary>\n",
    "<p>\n",
    "\n",
    "Когда копирование по полям некорректно копирует состояние класса. Пример:\n",
    "\n",
    "```c++\n",
    "class String\n",
    "{\n",
    "    const char* data;\n",
    "    unsigned int len;\n",
    "};\n",
    "```\n",
    "\n",
    "</p>\n",
    "</details>\n",
    "\n",
    "<details>\n",
    "<summary>Ответ 2</summary>\n",
    "<p>\n",
    "\n",
    "Когда копирование запрещено. Пример:\n",
    "\n",
    "```c++\n",
    "class File\n",
    "{\n",
    "    FILE* file;\n",
    "};\n",
    "```\n",
    "\n",
    "</p>\n",
    "</details>"
   ]
  },
  {
   "cell_type": "markdown",
   "metadata": {},
   "source": [
    "__Вопрос для продвинутых__: В каких ещё случаях (кроме ручного deepcopy) нужно избежать автогенерированного конструктора перемещения? Пример?\n",
    "\n",
    "<details>\n",
    "<summary>Ответ</summary>\n",
    "<p>\n",
    "\n",
    "Когда есть зависимость по полям. Пример:\n",
    "\n",
    "\n",
    "```c++\n",
    "class ListWithZerosCount\n",
    "{\n",
    "    std::list<int> list;\n",
    "    int zeros_count;\n",
    "};\n",
    "\n",
    "\n",
    "ListWithZerosCount l1 = ...;\n",
    "\n",
    "ListWithZerosCount l2 = std::move(l1);\n",
    "\n",
    "// можем продолжить работу с l1\n",
    "```\n",
    "\n",
    "Объяснение: перемещение всегда оставляет перемещаемый объект в unspecified valid state (если специально не оговорено иначе). Если по полям есть зависимость, перевод всех полей в unspecified valid state mможет нарушить корректность самого класса.\n",
    "\n",
    "</p>\n",
    "</details>\n"
   ]
  },
  {
   "cell_type": "markdown",
   "metadata": {},
   "source": [
    "<br />"
   ]
  },
  {
   "cell_type": "markdown",
   "metadata": {},
   "source": [
    "Правила автогенерации:"
   ]
  },
  {
   "cell_type": "markdown",
   "metadata": {},
   "source": [
    "![](comp_rules.jpg)"
   ]
  },
  {
   "cell_type": "markdown",
   "metadata": {},
   "source": [
    "Но никто их не помнит наизусть, поэтому работает правило 6:\n",
    "    \n",
    "__Определил одно - определи все шесть__"
   ]
  }
 ],
 "metadata": {
  "kernelspec": {
   "display_name": "Python 3",
   "language": "python",
   "name": "python3"
  },
  "language_info": {
   "codemirror_mode": {
    "name": "ipython",
    "version": 3
   },
   "file_extension": ".py",
   "mimetype": "text/x-python",
   "name": "python",
   "nbconvert_exporter": "python",
   "pygments_lexer": "ipython3",
   "version": "3.6.9"
  }
 },
 "nbformat": 4,
 "nbformat_minor": 2
}
