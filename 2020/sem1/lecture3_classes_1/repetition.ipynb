{
 "cells": [
  {
   "cell_type": "markdown",
   "metadata": {},
   "source": [
    "__Вопросы для повторения:__\n",
    "\n",
    "* Что выведет программа?\n",
    "\n",
    "    ```c++\n",
    "    std::string name = \"Ilya\";\n",
    "    std::string surname = \"Muromec\";\n",
    "\n",
    "    std::string& r = name;\n",
    "    r = \"Dobrynia\";\n",
    "    std::cout << name << std::endl;\n",
    "\n",
    "    std::string* p = &surname;\n",
    "    surname = \"Nikitich\";\n",
    "    std::cout << p << std::endl;\n",
    "    ```\n",
    "\n",
    "* Что следует сказать про эту программу?\n",
    "\n",
    "```c++\n",
    "std::vector<int> gen_sequence()\n",
    "{\n",
    "    return {1, 2, 3, 4, 5};\n",
    "}\n",
    "\n",
    "const int * search_value(const std::vector<int>& v, int value)\n",
    "{\n",
    "    for (const int& x : v)\n",
    "        if (x == value)\n",
    "            return &x;\n",
    "    return nullptr;\n",
    "}\n",
    "\n",
    "if (const int* val = search_value(gen_sequence(), 5))\n",
    "    std::cout << *val;\n",
    "```\n",
    "\n",
    "* Каковы контракты функций. Какие юнит-тесты следует написать?\n",
    "\n",
    "```c++\n",
    "void sort(int* arr, int n);\n",
    "\n",
    "void sort(std::vector<int>& v);\n",
    "\n",
    "int to_int(const std::string& s);\n",
    "```"
   ]
  }
 ],
 "metadata": {
  "kernelspec": {
   "display_name": "Python 3",
   "language": "python",
   "name": "python3"
  },
  "language_info": {
   "codemirror_mode": {
    "name": "ipython",
    "version": 3
   },
   "file_extension": ".py",
   "mimetype": "text/x-python",
   "name": "python",
   "nbconvert_exporter": "python",
   "pygments_lexer": "ipython3",
   "version": "3.6.9"
  }
 },
 "nbformat": 4,
 "nbformat_minor": 2
}
