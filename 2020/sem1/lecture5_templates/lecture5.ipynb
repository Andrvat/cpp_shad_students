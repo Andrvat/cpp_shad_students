{
 "cells": [
  {
   "cell_type": "markdown",
   "metadata": {},
   "source": [
    "__Вопросы для повторения__:"
   ]
  },
  {
   "cell_type": "markdown",
   "metadata": {},
   "source": [
    "<details>\n",
    "<summary>заметка лектору в будущее на 2021 г.</summary>\n",
    "\n",
    "Т.к. предыдущее занятие шло очень медленно, то вместо повторения будет доработка семинара прошлой лекции.\n",
    "Актуальные вопросы для повторения можно подглядеть в лекции от 2019 г.\n",
    "\n",
    "С другой стороны, стоит оценить, насколько такой подход к повторению лучше / хуже. Возможно, для материала \"Классы. Продолжение\" он оправдан.\n",
    "    \n",
    "</details>"
   ]
  },
  {
   "cell_type": "markdown",
   "metadata": {},
   "source": [
    "<br />"
   ]
  },
  {
   "cell_type": "markdown",
   "metadata": {},
   "source": [
    "##### Эхо прошлой лекции: разница между дополнением и переопределением в иерархии"
   ]
  },
  {
   "cell_type": "markdown",
   "metadata": {},
   "source": [
    "**Пример 1**: классический ученический - поведение базового класса переопределено\n",
    "\n",
    "```c++\n",
    "// прямоугольник: высота и ширина\n",
    "struct Rectangle\n",
    "{\n",
    "    double h;\n",
    "    double w;\n",
    "};\n",
    "\n",
    "// ведь квадрат - частный случай прямоугольника?\n",
    "struct Square : Rectangle\n",
    "{\n",
    "    Square(double side) : h(side), w(side) {}\n",
    "};\n",
    "\n",
    "// растягивать / сжимать прямоугольники без сохранения пропорций - это логично\n",
    "void scale(Rectangle& rectangle, double scale_h, double scale_w)\n",
    "{\n",
    "    rectangle.h *= scale_h;\n",
    "    rectangle.w *= scale_w;\n",
    "}\n",
    "\n",
    "// но что произойдёт в случае с квадратом?\n",
    "Square s(5);\n",
    "scale(s, 0.5, 0.7);  // ???\n",
    "```"
   ]
  },
  {
   "cell_type": "markdown",
   "metadata": {},
   "source": [
    "**Пример 2**: организация работы с сетью\n",
    "\n",
    "*Вариант 1: наследник переопределяет поведение базового класса*\n",
    "\n",
    "```c++\n",
    "class Network {\n",
    "public:\n",
    "    virtual HttpResponse http_get(const std::string& url) {\n",
    "        /* делаем честный запрос */ \n",
    "        /* замеряем время выполнения и записываем в |duration_ms| */\n",
    "    }\n",
    "    \n",
    "    int latest_duration_ms() const {\n",
    "        return duration_ms;\n",
    "    }\n",
    "    \n",
    "private:\n",
    "    int duration_ms = 0;\n",
    "};\n",
    "\n",
    "class UnavailableNetwork : public Network {\n",
    "public:\n",
    "    HttpResponse http_get(const std::string& url) override {\n",
    "        return HttpResponse::Error(503);\n",
    "    }\n",
    "};  // код, работающий с Network, будет спрашивать latest_duration_ms(), и мы приплыли\n",
    "```\n",
    "\n",
    "*Вариант 2: наследник уточняет / дополняет поведение базового класса*\n",
    "\n",
    "```c++\n",
    "class INetwork {\n",
    "public:\n",
    "    virtual ~INetwork() = default;\n",
    "\n",
    "    virtual HttpResponse http_get(const std::string& url) = 0;\n",
    "    virtual int latest_duration_ms() const = 0;\n",
    "};\n",
    "\n",
    "class Network : public INetwork {\n",
    "public:\n",
    "    HttpResponse http_get(const std::string& url) override {\n",
    "        /* ... как раньше - честный запрос с замером времени ... */\n",
    "    }\n",
    "    \n",
    "    int latest_duration_ms() const override {\n",
    "        return duration_ms;\n",
    "    }\n",
    "    \n",
    "private:\n",
    "    int duration_ms = 0;\n",
    "};\n",
    "\n",
    "class UnavailableNetwork : public INetwork {\n",
    "public:\n",
    "    HttpResponse http_get(const std::string& url) override {\n",
    "        return HttpResponse::Error(503);\n",
    "    }\n",
    "    \n",
    "    int latest_duration_ms() const override {\n",
    "        return 0;\n",
    "    }\n",
    "};\n",
    "```"
   ]
  },
  {
   "cell_type": "markdown",
   "metadata": {},
   "source": [
    "<br />"
   ]
  },
  {
   "cell_type": "markdown",
   "metadata": {},
   "source": [
    "##### Эхо прошлой лекции: виртуальные функции"
   ]
  },
  {
   "cell_type": "markdown",
   "metadata": {},
   "source": [
    "Какая функция будет вызвана. Нарисовать что будет происходить в памяти"
   ]
  },
  {
   "cell_type": "markdown",
   "metadata": {},
   "source": [
    "```c++\n",
    "class A {\n",
    "\t~A() {}\n",
    "\tvoid f() {}\n",
    "\tvirtual void g() {}\n",
    "\tvoid h() {}\n",
    "};\n",
    "\n",
    "class B : public A {\n",
    "\tvirtual ~B() {}\n",
    "\tvirtual void f() {}\n",
    "\tvoid g() {}\n",
    "\tvoid h() {}\n",
    "};\n",
    "\n",
    "class C : public B {\n",
    "\t~C() {}\n",
    "\tvoid f() {}\n",
    "\tvoid g() {}\n",
    "\tvirtual void h() {}\n",
    "};\n",
    "\n",
    "int main()\n",
    "{\n",
    "\t{\n",
    "\t\tC c;\n",
    "\t\tc.f(); c.g(); C.h();\n",
    "\n",
    "\t\tB b = c;\n",
    "\t\tb.f(); b.g(); b.h();\n",
    "\n",
    "\t\tA& ar = c;\n",
    "\t\tar.f(); ar.g(); ar.h();\n",
    "\t}\n",
    "\n",
    "\t{\n",
    "\t\tC* cp = new C;\n",
    "\t\tA* ap = cp;\n",
    "\t\tap->f(); ap->g(); ap->h();\n",
    "\t\tdelete ap;\n",
    "\t}\n",
    "\n",
    "\t{\n",
    "\t\tC* cp = new C;\n",
    "\t\tB* bp = cp;\n",
    "\t\tdelete bp;\n",
    "\t}\n",
    "\n",
    "\treturn 0;\n",
    "}\n",
    "```"
   ]
  },
  {
   "cell_type": "markdown",
   "metadata": {},
   "source": [
    "<br />"
   ]
  },
  {
   "cell_type": "markdown",
   "metadata": {},
   "source": [
    "Какая функция будет вызвана?"
   ]
  },
  {
   "cell_type": "markdown",
   "metadata": {},
   "source": [
    "```c++\n",
    "class A {\n",
    "public:\n",
    "    A() {\n",
    "        init();\n",
    "    }\n",
    "\n",
    "    ~A() {\n",
    "        deinit();\n",
    "    }\n",
    "\n",
    "    virtual void init();\n",
    "    virtual void deinit();\n",
    "};\n",
    "\n",
    "class B : public A {\n",
    "public:\n",
    "    B() {}\n",
    "    ~B() {}\n",
    "\n",
    "    void init() override { ... }\n",
    "    void deinit() override { ... }\n",
    "};\n",
    "\n",
    "int main() {\n",
    "    B b;\n",
    "    return 0;\n",
    "}\n",
    "```"
   ]
  },
  {
   "cell_type": "markdown",
   "metadata": {},
   "source": [
    "<br />"
   ]
  },
  {
   "cell_type": "markdown",
   "metadata": {},
   "source": [
    "##### Эхо прошлой лекции: const-методы"
   ]
  },
  {
   "cell_type": "markdown",
   "metadata": {},
   "source": [
    "Упражнение: какая функция будет вызвана"
   ]
  },
  {
   "cell_type": "markdown",
   "metadata": {},
   "source": [
    "```c++\n",
    "class A\n",
    "{\n",
    "public:\n",
    "\tvoid f() { std::cout << \"f();\"; }\n",
    "\tvoid f() const { std::cout << \"f() const;\" }\n",
    "};\n",
    "\n",
    "\n",
    "int main()\n",
    "{\n",
    "\tA a;\n",
    "\ta.f();\n",
    "\n",
    "\tconst A ca;\n",
    "\tca.f();\n",
    "\n",
    "\tconst A& car = a;\n",
    "\tcar.f();\n",
    "\n",
    "\tA& ar = a;\n",
    "\tar.f();\n",
    "\n",
    "\tA* const acp = &a;\n",
    "\tacp->f();\n",
    "\n",
    "\tconst A* cap = &a;\n",
    "\tcap->f();\n",
    "\n",
    "\tconst A a2 = a;\n",
    "\ta2.f();\n",
    "\n",
    "\treturn 0;\n",
    "}\n",
    "```"
   ]
  },
  {
   "cell_type": "markdown",
   "metadata": {},
   "source": [
    "<br />"
   ]
  },
  {
   "cell_type": "markdown",
   "metadata": {},
   "source": [
    "##### Эхо прошлой лекции: class vs struct"
   ]
  },
  {
   "cell_type": "markdown",
   "metadata": {},
   "source": [
    "* `class` - если есть инвариант\n",
    "* `struct` - если поля независимы"
   ]
  },
  {
   "cell_type": "markdown",
   "metadata": {},
   "source": [
    "```c++\n",
    "struct Point\n",
    "{\n",
    "\tdouble x;\n",
    "\tdouble y;\n",
    "};\n",
    "\n",
    "struct Color\n",
    "{\n",
    "\tchar r;\n",
    "\tchar g;\n",
    "\tchar b;\n",
    "};\n",
    "\n",
    "// ???\n",
    "struct Size\n",
    "{\n",
    "\tdouble w;\n",
    "\tdouble h;\n",
    "};\n",
    "\n",
    "struct Rectangle\n",
    "{\n",
    "\tPoint origin;\n",
    "\tSize size;\n",
    "};\n",
    "\n",
    "class JuiceBottle\n",
    "{\n",
    "private:\n",
    "\tdouble max_volume_;\n",
    "\tdouble cur_volume_;\n",
    "};\n",
    "\n",
    "class String\n",
    "{\n",
    "private:\n",
    "\tchar *s_;\n",
    "\tsize_t len_;\n",
    "\tsize_t capacity_;\n",
    "};\n",
    "```"
   ]
  },
  {
   "cell_type": "markdown",
   "metadata": {},
   "source": [
    "<br />"
   ]
  },
  {
   "cell_type": "markdown",
   "metadata": {},
   "source": [
    "##### Эхо прошлой лекции: Принципы дизайна класса"
   ]
  },
  {
   "cell_type": "markdown",
   "metadata": {},
   "source": [
    "* RAII\n",
    "* Есть инвариант - `class`, поля независимы - `struct`\n",
    "* Если есть подклассы - делаем `virtual` деструктор\n",
    "* Правило 6\n",
    "    * `=default` где достаточно автогенерённого\n",
    "    * `=delete` где нужно запретить\n",
    "\n",
    "* `noexcept` d-tor, move operators (подробнее на лекции про исключения)\n",
    "* `const` на все методы, которые не меняют состояния класса (значения полей)\n",
    "* `override` на переопределённые `virtual` методы\n",
    "* рекомендовано избегать `protected`-полей\n",
    "* Какой функционал делать методом, а какой - свободной фунцкией? Всопним ADL. Благодаря ему есть философский принцип, что функции, принимающие первым аргументом объект класса (или ссылку), являются частью интерфейса класса:\n",
    "\n",
    "    ```c++\n",
    "    struct Vector3D\n",
    "    {\n",
    "        double x, y, z;\n",
    "    };\n",
    "\n",
    "    // философски часть интерфейса класса Vector3D\n",
    "    double length(const Vector3D v);\n",
    "    ```\n",
    "\n",
    "    Поэтому принцип рационального минмимума в методах:\n",
    "      * struct Vector3D - всё в свободные функции (normalize, length, rotate ...))\n",
    "      * vector<int> (pointer, size, capacity: size() - member; at() - member; sort() - function; empty() - ???; middle element - function; max() - function, mean() - function)\n",
    "      * cache (add, get, del; clear? - в метод, т.к. эффективнее реализовать, обладая доступом до полей)\n",
    "\n",
    "    Нужна __причина__, чтобы что-нибудь сделать методом:\n",
    "        * требуется доступ до приватных полей и нельзя реализовать иначе (vector.size(), vector.at(), vector.push_back())\n",
    "        * реализация через приватные поля проще и быстрее (cache.clear())\n",
    "        * лучше вписывается в сщуествующие методы класса (vector.empty())\n",
    "        * что-нибудь ещё?\n",
    "\n",
    "* Иногда нужно менять поля в `const`-методах, и это не влияет на состояние класса в умозрительном смысле. Используйте `mutable`:\n",
    "    * Кеширование: бинарное дерево, которое запоминает последний запрос\n",
    "    * `mutex`\n",
    "    * отложенная инициализация\n",
    "\n",
    "* SRP - Single Responsibility Principle - Принцип единственной ответственности - класс должен быть экспертом в одной и только одной области. Такие классы проще отлаживать и тестировать. Всегда понятно, ошибка в рамках его области ответственности или нет.\n",
    "* Liskov Substitution Principle - Принцип подстановки Барбары Лисков - наследник класса всегда можно передать в алгоритм вместо базового, при этом поведение алгоритма не изменится. Другими словами: наследники расширяют поведение базовых классов, но не изменяют его."
   ]
  },
  {
   "cell_type": "markdown",
   "metadata": {},
   "source": [
    "<br />"
   ]
  },
  {
   "cell_type": "markdown",
   "metadata": {},
   "source": [
    "### Лекция 5. Шаблоны"
   ]
  },
  {
   "cell_type": "markdown",
   "metadata": {},
   "source": [
    "<br />"
   ]
  },
  {
   "cell_type": "markdown",
   "metadata": {},
   "source": [
    "##### Какая идея стоит за шаблонами"
   ]
  },
  {
   "cell_type": "markdown",
   "metadata": {},
   "source": [
    "Ранее мы познакомились с возможностью перегрузки функций. Давайте вспомним её на примере swap:"
   ]
  },
  {
   "cell_type": "markdown",
   "metadata": {},
   "source": [
    "```c++\n",
    "// поменять местами два int\n",
    "void my_swap(int& a, int& b)\n",
    "{\n",
    "    int tmp = a;\n",
    "    a = b;\n",
    "    b = tmp;    \n",
    "}\n",
    "\n",
    "// поменять местами два short\n",
    "void my_swap(short& a, short& b)\n",
    "{\n",
    "    short tmp = a;\n",
    "    a = b;\n",
    "    b = tmp;\n",
    "}\n",
    "\n",
    "// поменять местами два float\n",
    "void my_swap(float& a, float& b)\n",
    "{\n",
    "    float tmp = a;\n",
    "    a = b;\n",
    "    b = tmp;\n",
    "}\n",
    "\n",
    "...\n",
    "```"
   ]
  },
  {
   "cell_type": "markdown",
   "metadata": {},
   "source": [
    "Вечер начинает быть томным ..."
   ]
  },
  {
   "cell_type": "markdown",
   "metadata": {},
   "source": [
    "Для решения проблем написания одинакового кода придуманы шаблоны:"
   ]
  },
  {
   "cell_type": "markdown",
   "metadata": {},
   "source": [
    "```c++\n",
    "// напишем шаблон - как должна выглядеть функция\n",
    "template<typename T>\n",
    "void my_swap(T& a, T& b)\n",
    "{\n",
    "    T tmp = a;\n",
    "    a = b;\n",
    "    b = tmp;\n",
    "}\n",
    "```"
   ]
  },
  {
   "cell_type": "markdown",
   "metadata": {},
   "source": [
    "Применение шаблона:"
   ]
  },
  {
   "cell_type": "markdown",
   "metadata": {},
   "source": [
    "```c++\n",
    "int a = 3, b = 5;\n",
    "\n",
    "// вызов my_swap(int&, int&), тип T указывается программистом явно\n",
    "my_swap<int>(a, b);\n",
    "\n",
    "// вызов my_swap(int&, int&), тип T выводится компилятором автоматически\n",
    "my_swap(a, b); \n",
    "\n",
    "\n",
    "float x = 3.f, y = 5.f;\n",
    "my_swap(x, y);\n",
    "my_swap<float>(x, y);\n",
    "```"
   ]
  },
  {
   "cell_type": "markdown",
   "metadata": {},
   "source": [
    "Важное свойство шаблонов по сравнению с перегрузкой функций: шаблон компилируется только тогда, когда он вызывается. И компилируется только для тех типов, для которых он вызывается.\n",
    "\n",
    "_но в каждом cpp-файле шаблон компилируется снова и снова_\n",
    "\n",
    "Показать пример на godbolt.org, позакомментировать функции, продемонстрировать разницу в выхлопе компилятора."
   ]
  },
  {
   "cell_type": "markdown",
   "metadata": {},
   "source": [
    "```c++\n",
    "#include <string>\n",
    "\n",
    "template<typename T>\n",
    "void __attribute__ ((noinline)) myswap(T& a, T& b)\n",
    "{\n",
    "    T tmp = a;\n",
    "    a = b;\n",
    "    b = tmp;\n",
    "}\n",
    "\n",
    "int main()\n",
    "{\n",
    "    int i1 = 3, i2 = 5;\n",
    "    myswap(i1, i2);\n",
    "\n",
    "    float f1 = 3.f, f2 = 5.f;\n",
    "    myswap(f1, f2);\n",
    "\n",
    "    double d1 = 3., d2 = 5.;\n",
    "    myswap(d1, d2);\n",
    "\n",
    "    std::string s1 = \"abc\", s2 = \"def\";\n",
    "    myswap(s1, s2);\n",
    "\n",
    "    return 0;\n",
    "}\n",
    "```"
   ]
  },
  {
   "cell_type": "markdown",
   "metadata": {},
   "source": [
    "Особенности шаблонов по сравнению с перегруженными функциями:\n",
    "* компилируется только то, что инстанциируется в коде\n",
    "* компилируется столько раз, в скольки единицах трансляции инстанциируется:\n",
    "    * можно в одном cpp-файле 10 раз позвать myswap(int&, int&) - эта функция скомпилируется единожды\n",
    "    * можно в 10 cpp-файлах один раз позвать myswap(int&, int&) - эта функция скомпилируется 10 раз\n",
    "* накладные расходы во время компиляции на кодогенерацию при истанциации\n",
    "* позволяет компилятору агрессивнее оптимизировать. Раскомментировать `__attribute__((noinline))` из примера и показать какой код сгенерирует компилятор. Объяснить, почему.\n",
    "* позволяет нарушать ODR"
   ]
  },
  {
   "cell_type": "markdown",
   "metadata": {},
   "source": [
    "Коротко:\n",
    "\n",
    "* (+) меньше кода\n",
    "* (+) быстрее\n",
    "* (-) дольше компилируется\n",
    "* (-) сложнее писать"
   ]
  },
  {
   "cell_type": "markdown",
   "metadata": {},
   "source": [
    "__Вопросы__:\n",
    "* Где поместить шаблонную функцию, которую нужно использовать в разных cpp-файлах?\n",
    "* Где поместить её реализацию?\n",
    "* Может ли шаблонная функция содержать некомпилирующийся код?"
   ]
  },
  {
   "cell_type": "markdown",
   "metadata": {},
   "source": [
    "<br />"
   ]
  },
  {
   "cell_type": "markdown",
   "metadata": {},
   "source": [
    "##### Специализация"
   ]
  },
  {
   "cell_type": "markdown",
   "metadata": {},
   "source": [
    "Перегрузка функций позволяла сделать `myswap` у `std::string` более эффективно, без лишнего копирования памяти:"
   ]
  },
  {
   "cell_type": "markdown",
   "metadata": {},
   "source": [
    "```c++\n",
    "void myswap(int& a, int& b) { ... }\n",
    "void myswap(short& a, short& b) { ... }\n",
    "\n",
    "void myswap(std::string& a, std::string& b)\n",
    "{\n",
    "    a.swap(b);\n",
    "}\n",
    "```"
   ]
  },
  {
   "cell_type": "markdown",
   "metadata": {},
   "source": [
    "Шаблоны тоже позволяют специализировать поведение функций, если наложить на шаблонный параметр ограничение, например:\n",
    "\n",
    "(закинуть этот код на godbolt, показать во что компилируется программа)"
   ]
  },
  {
   "cell_type": "markdown",
   "metadata": {},
   "source": [
    "```c++\n",
    "#include <string>\n",
    "\n",
    "template<typename T>\n",
    "void __attribute__ ((noinline)) myswap(T& a, T& b)\n",
    "{\n",
    "    T tmp = a;\n",
    "    a = b;\n",
    "    b = tmp;\n",
    "}\n",
    "\n",
    "template<>\n",
    "void __attribute__ ((noinline)) myswap<std::string>(std::string& a, std::string& b)\n",
    "{\n",
    "    a.swap(b);\n",
    "}\n",
    "\n",
    "int main()\n",
    "{\n",
    "    int i1 = 3, i2 = 5;\n",
    "    myswap(i1, i2);\n",
    "\n",
    "    float f1 = 3.f, f2 = 5.f;\n",
    "    myswap(f1, f2);\n",
    "\n",
    "    double d1 = 3., d2 = 5.;\n",
    "    myswap(d1, d2);\n",
    "\n",
    "    std::string s1 = \"abc\", s2 = \"def\";\n",
    "    myswap(s1, s2);\n",
    "\n",
    "    return 0;\n",
    "}\n",
    "```"
   ]
  },
  {
   "cell_type": "markdown",
   "metadata": {},
   "source": [
    "Во-первых, шаблон может иметь несколько параметров, а во-вторых, параметры не обязаны быть типами. Они могут быть, например, целыми числами:"
   ]
  },
  {
   "cell_type": "markdown",
   "metadata": {},
   "source": [
    "```c++\n",
    "template<int N, typename T>\n",
    "T add_value(T x)\n",
    "{\n",
    "    return x + N;\n",
    "}\n",
    "\n",
    "int a = add_value<5, int>(100);\n",
    "int a = add_value<5>(100);\n",
    "\n",
    "// 1. шаблон специализирован программистом частично, тип Т компилятор определит сам\n",
    "// 2. параметром шаблона выступает целое число.\n",
    "```"
   ]
  },
  {
   "cell_type": "markdown",
   "metadata": {},
   "source": [
    "__Вопрос__: Какую информацию здесь компилятор использует, чтобы вывести тип `T`?"
   ]
  },
  {
   "cell_type": "markdown",
   "metadata": {},
   "source": [
    "<br />"
   ]
  },
  {
   "cell_type": "markdown",
   "metadata": {},
   "source": [
    "##### Шаблонные классы"
   ]
  },
  {
   "cell_type": "markdown",
   "metadata": {},
   "source": [
    "Аналогично функциям, классы тоже могут быть шаблонными:"
   ]
  },
  {
   "cell_type": "markdown",
   "metadata": {},
   "source": [
    "Пример структуры:"
   ]
  },
  {
   "cell_type": "markdown",
   "metadata": {},
   "source": [
    "```c++\n",
    "// N-мерный вектор из курса линейной алгебры типа T\n",
    "template<typename T, int N>\n",
    "struct VectorN\n",
    "{\n",
    "    T data[N];\n",
    "};\n",
    "\n",
    "// в качестве примера запишем операции сложения и умножения для таких векторов\n",
    "\n",
    "template<typename T, int N>\n",
    "VectorN<T, N> operator +(const VectorN<T, N>& l, const VectorN<T, N>& r)\n",
    "{\n",
    "    VectorN<T, N> rv;\n",
    "    for (int i = 0; i < N; ++i)\n",
    "        rv.data[i] = l.data[i] + r.data[i];\n",
    "    return rv;    \n",
    "}\n",
    "\n",
    "template<typename T, int N>\n",
    "T operator * (const VectorN<T, N>& l, const VectorN<T, N>& r)\n",
    "{\n",
    "    T rv = 0;\n",
    "    for (int i = 0; i < N; ++i)\n",
    "        rv += l.data[i] * r.data[i];\n",
    "    return rv;\n",
    "}\n",
    "```"
   ]
  },
  {
   "cell_type": "markdown",
   "metadata": {},
   "source": [
    "Пример класса:"
   ]
  },
  {
   "cell_type": "markdown",
   "metadata": {},
   "source": [
    "```c++\n",
    "template<typename T, int N>\n",
    "class RoundRobinQueue\n",
    "{\n",
    "private:\n",
    "    T arr[N];\n",
    "    int begin_ix = 0;\n",
    "    int end_ix = 0;\n",
    "\n",
    "public:\n",
    "    void push(const T& item)\n",
    "    {\n",
    "        arr[end_ix] = item;\n",
    "        end_ix = next_ix(end_ix);\n",
    "    }\n",
    "    \n",
    "    T pop()\n",
    "    {\n",
    "        T item = arr[begin_ix];\n",
    "        begin_ix = next_ix(begin_ix);\n",
    "        return item;\n",
    "    }\n",
    "\n",
    "    bool empty() const\n",
    "    {\n",
    "        return begin_ix == end_ix;\n",
    "    }\n",
    "    \n",
    "    bool full() const\n",
    "    {\n",
    "        return next_ix(end_ix) == begin_ix;\n",
    "    }\n",
    "    \n",
    "private:\n",
    "    static int next_ix(const int ix)\n",
    "    {\n",
    "        return (ix + 1) % N;\n",
    "    }\n",
    "};\n",
    "```"
   ]
  },
  {
   "cell_type": "markdown",
   "metadata": {},
   "source": [
    "Его использование:"
   ]
  },
  {
   "cell_type": "markdown",
   "metadata": {},
   "source": [
    "```c++\n",
    "RoundRobinQueue<int, 100> queue;\n",
    "queue.push(1);\n",
    "queue.push(2);\n",
    "queue.push(3);\n",
    "queue.pop();  // 1\n",
    "queue.pop();  // 2\n",
    "queue.pop();  // 3\n",
    "```"
   ]
  },
  {
   "cell_type": "markdown",
   "metadata": {},
   "source": [
    "__Вопрос__: Как обходить вопрос, что программист может позвать ещё один `queue.pop` ?"
   ]
  },
  {
   "cell_type": "markdown",
   "metadata": {},
   "source": [
    "А ещё класс может иметь шаблонный метод, почему бы и нет."
   ]
  },
  {
   "cell_type": "markdown",
   "metadata": {},
   "source": [
    "```c++\n",
    "#include <array>\n",
    "#include <string>\n",
    "\n",
    "template<typename T, int N>\n",
    "class RoundRobinQueue\n",
    "{\n",
    "private:\n",
    "    std::array<T, N> arr;\n",
    "    int begin_ix = 0;\n",
    "    int end_ix = 0;\n",
    "\n",
    "public:\n",
    "    static int next_ix(const int ix)\n",
    "    {\n",
    "        return (ix + 1) % N;\n",
    "    }\n",
    "\n",
    "    template<typename U>\n",
    "    void push(const U& item)\n",
    "    {\n",
    "        arr[end_ix] = item;\n",
    "        end_ix = next_ix(end_ix);\n",
    "    }\n",
    "    \n",
    "    T pop()\n",
    "    {\n",
    "        T item = arr[begin_ix];\n",
    "        begin_ix = next_ix(begin_ix);\n",
    "        return item;\n",
    "    }\n",
    "\n",
    "    bool empty() const\n",
    "    {\n",
    "        return begin_ix == end_ix;\n",
    "    }\n",
    "\n",
    "    bool full() const\n",
    "    {\n",
    "        return next_ix(end_ix) == begin_ix;\n",
    "    }\n",
    "};\n",
    "\n",
    "std::string f()\n",
    "{\n",
    "    RoundRobinQueue<std::string, 100> queue;\n",
    "    queue.push(std::string(\"run\"));\n",
    "    queue.push(\"Forest\");\n",
    "    queue.push(\"run\");\n",
    "    return queue.pop();\n",
    "}\n",
    "```"
   ]
  },
  {
   "cell_type": "markdown",
   "metadata": {},
   "source": [
    "Закинуть пример на godbolt, показать, что генерируется 3 метода `push`, не забыть убрать оптимизации"
   ]
  },
  {
   "cell_type": "markdown",
   "metadata": {},
   "source": [
    "Шаблонный конструктор - пожалуйста! Это ведь тоже метод"
   ]
  },
  {
   "cell_type": "markdown",
   "metadata": {},
   "source": [
    "Шаблонный деструктор... пожалуй, нет, хватит."
   ]
  },
  {
   "cell_type": "markdown",
   "metadata": {},
   "source": [
    "<br />"
   ]
  },
  {
   "cell_type": "markdown",
   "metadata": {},
   "source": [
    "##### Частичная специализация шаблонов (для классов)"
   ]
  },
  {
   "cell_type": "markdown",
   "metadata": {},
   "source": [
    "Например, можно прописать alias:"
   ]
  },
  {
   "cell_type": "markdown",
   "metadata": {},
   "source": [
    "```c++\n",
    "template<int N>\n",
    "using RoundRobinStringsQueue = RoundRobinQueue<std::string, N>;\n",
    "\n",
    "\n",
    "RoundRobinStringsQueue<100> queue;\n",
    "```"
   ]
  },
  {
   "cell_type": "markdown",
   "metadata": {},
   "source": [
    "А можно и изменить поведение класса"
   ]
  },
  {
   "cell_type": "markdown",
   "metadata": {},
   "source": [
    "```c++\n",
    "template<int N>\n",
    "class RoundRobinQueue<std::string, N>\n",
    "{\n",
    "private:\n",
    "    std::string arr[N];  // !!! here\n",
    "    int begin_ix = 0;\n",
    "    int end_ix = 0;\n",
    "\n",
    "public:\n",
    "    ...\n",
    "    \n",
    "    template<typename U>\n",
    "    void push(const U& item)\n",
    "    {\n",
    "        std::cout << \"push!\";  // !!! here\n",
    "        arr[end_ix] = item;\n",
    "        end_ix = next_ix(end_ix);\n",
    "    }\n",
    "    \n",
    "    ...\n",
    "};\n",
    "```"
   ]
  },
  {
   "cell_type": "markdown",
   "metadata": {},
   "source": [
    "Такие сложности могут пригодиться для compile-time полиморфизма. С его классическим применением - type traits-ами - познакомимся позже."
   ]
  },
  {
   "cell_type": "markdown",
   "metadata": {},
   "source": [
    "<br />"
   ]
  },
  {
   "cell_type": "markdown",
   "metadata": {},
   "source": [
    "##### just for fun: compile-time факториал"
   ]
  },
  {
   "cell_type": "markdown",
   "metadata": {},
   "source": [
    "Теперь мы разбираемся в шаблонах достаточно чтобы посчитать факториал во время компиляции на шаблонах (разобрать пример, показать результат в godbolt).\n",
    "\n",
    "Примечание: C++ значительно эволюционировал, и больше во время компиляции таким образом вычисления не проводят. Пример исключительно ученический. Compile-time вычисления будут рассмотрены в курсе далее."
   ]
  },
  {
   "cell_type": "markdown",
   "metadata": {},
   "source": [
    "```c++\n",
    "template<unsigned N>\n",
    "struct Factorial\n",
    "{\n",
    "    static const int value = N * Factorial<N - 1>::value;\n",
    "};\n",
    "\n",
    "template<>\n",
    "struct Factorial<0>\n",
    "{\n",
    "    static const int value = 1;\n",
    "};\n",
    "\n",
    "int main()\n",
    "{\n",
    "    return Factorial<10>::value;\n",
    "}\n",
    "```"
   ]
  },
  {
   "cell_type": "markdown",
   "metadata": {},
   "source": [
    "__Вопросы__:\n",
    "* Что делает следующий пример?\n",
    "\n",
    "```c++\n",
    "#include <cstdio>\n",
    "\n",
    "template<unsigned N>\n",
    "struct f\n",
    "{\n",
    "    static const int value = f<N-1>::value + f<N-2>::value;\n",
    "};\n",
    "\n",
    "template<>\n",
    "struct f<0>\n",
    "{\n",
    "    static const int value = 0;\n",
    "};\n",
    "\n",
    "template<>\n",
    "struct f<1>\n",
    "{\n",
    "    static const int value = 1;\n",
    "};\n",
    "\n",
    "int main()\n",
    "{\n",
    "    printf(\"%i\\n\", f<45>::value);\n",
    "}\n",
    "```"
   ]
  },
  {
   "cell_type": "markdown",
   "metadata": {},
   "source": [
    "<br />"
   ]
  },
  {
   "cell_type": "markdown",
   "metadata": {},
   "source": [
    "Во второй части курса про шаблоны:\n",
    "* SFINAE\n",
    "* variadic templates\n",
    "* type traits\n",
    "* tag dispatching"
   ]
  },
  {
   "cell_type": "markdown",
   "metadata": {},
   "source": [
    "<br />"
   ]
  },
  {
   "cell_type": "markdown",
   "metadata": {},
   "source": [
    "**Замечания после лекции**:\n",
    "\n",
    "1. Удалить упоминание принципа Барбары Лисков. Т.к. подобрать хороший пример не получается, то, видимо, лектор сам недостаточно хорошо понимает этот принцип.\n",
    "2. Материала лекции по шаблонам мало. Даже с эхом от предыдущей лекции на занятие не хватило, осталось 30+ минут. Нужно либо дополнять (выдача домашки / разбор ДЗ / зайти поглубже в шаблоны) либо вводить параллельную тему.\n",
    "3. Текст про компиляцию и разделение на файлы нужно иллюстрировать примерами. На слух воспринимается ужасно.\n",
    "4. Из семинара убрать дубликат параграфа про виртуальный деструктор\n",
    "5. Нужен яркий пример для параграфа member types. Сейчас пример искуственный."
   ]
  }
 ],
 "metadata": {
  "kernelspec": {
   "display_name": "Python 3",
   "language": "python",
   "name": "python3"
  },
  "language_info": {
   "codemirror_mode": {
    "name": "ipython",
    "version": 3
   },
   "file_extension": ".py",
   "mimetype": "text/x-python",
   "name": "python",
   "nbconvert_exporter": "python",
   "pygments_lexer": "ipython3",
   "version": "3.6.9"
  }
 },
 "nbformat": 4,
 "nbformat_minor": 2
}
