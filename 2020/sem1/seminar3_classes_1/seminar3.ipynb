{
 "cells": [
  {
   "cell_type": "markdown",
   "metadata": {},
   "source": [
    "### Семинар 3. Классы. Введение"
   ]
  },
  {
   "cell_type": "markdown",
   "metadata": {},
   "source": [
    "<br />"
   ]
  },
  {
   "cell_type": "markdown",
   "metadata": {},
   "source": [
    "**Замечание**: если есть время, нужно рисовать происходящее в памяти."
   ]
  },
  {
   "cell_type": "markdown",
   "metadata": {},
   "source": [
    "<br />"
   ]
  },
  {
   "cell_type": "markdown",
   "metadata": {},
   "source": [
    "##### Мой первый класс"
   ]
  },
  {
   "cell_type": "markdown",
   "metadata": {},
   "source": [
    "Реализуем класс - строку на С++.\n",
    "\n",
    "Важнейший принцип языка, основа его основ - RAII (Resource Acquisition Is Initialization)"
   ]
  },
  {
   "cell_type": "markdown",
   "metadata": {},
   "source": [
    "```c++\n",
    "class String\n",
    "{\n",
    "public:\n",
    "    String();\n",
    "    String(const char *s);\n",
    "    String(const char *s, int size);\n",
    "    ~String();\n",
    "    String(const String& rhs);\n",
    "    String(String&& rhs);\n",
    "\n",
    "    String& operator = (const String& rhs);\n",
    "    String& operator = (String&& rhs);\n",
    "\n",
    "    friend String operator + (const String& lhs, const String& rhs);\n",
    "\n",
    "private:\n",
    "    char* s_;  // pointer to null-terminated characters\n",
    "    size_t l_; // strlen(s_) == l_\n",
    "};\n",
    "```"
   ]
  },
  {
   "cell_type": "markdown",
   "metadata": {},
   "source": [
    "Для начала реализуем оператор сложения двух строк"
   ]
  },
  {
   "cell_type": "markdown",
   "metadata": {},
   "source": [
    "```c++\n",
    "String operator + (const String& lhs, const String& rhs)\n",
    "{\n",
    "    const size_t res_size = lhs.l_ + rhs.l_;\n",
    "    const char* res_s = new char[res_size + 1];\n",
    "    strcpy(res_s, lhs.s_);\n",
    "    strncpy(res_s + lhs.l_, rhs.s_, rhs.l_);\n",
    "    \n",
    "    String s(res_s, res_size);\n",
    "\n",
    "    delete[] res_s;\n",
    "    return s;\n",
    "}\n",
    "```"
   ]
  },
  {
   "cell_type": "markdown",
   "metadata": {},
   "source": [
    "**конструкторы** - код, вызываемый при создании объекта"
   ]
  },
  {
   "cell_type": "markdown",
   "metadata": {},
   "source": [
    "```c++\n",
    "String::String()\n",
    "    : s_(new char[1])\n",
    "    , l_(0)\n",
    "{\n",
    "    s_[0] = 0;\n",
    "}\n",
    "\n",
    "String::String(const char* s)\n",
    "{\n",
    "    l_ = strlen(s);\n",
    "    s_ = new char[l + 1];\n",
    "    strcpy(s_, s);\n",
    "}\n",
    "\n",
    "String::String(const char *s, int size)\n",
    "    : s_(new char[size + 1])\n",
    "    , l_(size + 1)\n",
    "{\n",
    "    strncpy(s_, s, size);\n",
    "    s_[l_] = 0;\n",
    "}\n",
    "```"
   ]
  },
  {
   "cell_type": "markdown",
   "metadata": {},
   "source": [
    "**деструктор** - код, который будет вызываться при уничтожении объекта"
   ]
  },
  {
   "cell_type": "markdown",
   "metadata": {},
   "source": [
    "```c++\n",
    "String::~String()\n",
    "{\n",
    "    delete[] s_;\n",
    "}\n",
    "```"
   ]
  },
  {
   "cell_type": "markdown",
   "metadata": {},
   "source": [
    "Остановимся на секунду и всомним про RAII"
   ]
  },
  {
   "cell_type": "markdown",
   "metadata": {},
   "source": [
    "**конструктор копирования**"
   ]
  },
  {
   "cell_type": "markdown",
   "metadata": {},
   "source": [
    "```c++\n",
    "String::String(const String& rhs)\n",
    "{\n",
    "    s_ = new char[rhs.l_ + 1];\n",
    "    l_ = rhs.l_;\n",
    "    strcpy(s_, rhs.s_);\n",
    "}\n",
    "```"
   ]
  },
  {
   "cell_type": "markdown",
   "metadata": {},
   "source": [
    "**конструктор перемещения**"
   ]
  },
  {
   "cell_type": "markdown",
   "metadata": {},
   "source": [
    "```c++\n",
    "String::String(String&& rhs)\n",
    "    : s_(rhs.s_)\n",
    "    , l_(rhs.l_)\n",
    "{\n",
    "}\n",
    "```"
   ]
  },
  {
   "cell_type": "markdown",
   "metadata": {},
   "source": [
    "Что-то пошло не так. Что именно?"
   ]
  },
  {
   "cell_type": "markdown",
   "metadata": {},
   "source": [
    "Не работает такой код, а должен:"
   ]
  },
  {
   "cell_type": "markdown",
   "metadata": {},
   "source": [
    "```c++\n",
    "{\n",
    "    String s1 = \"run, Forest, run!\";\n",
    "    String s2 = std::move(s1);\n",
    "}\n",
    "```"
   ]
  },
  {
   "cell_type": "markdown",
   "metadata": {},
   "source": [
    "Реализуем правильный конструктор перемещения"
   ]
  },
  {
   "cell_type": "markdown",
   "metadata": {},
   "source": [
    "```c++\n",
    "String::String(String&& rhs)\n",
    "    : s_(rhs.s_)\n",
    "    , l_(rhs.l_)\n",
    "{\n",
    "    rhs.s_ = 0;\n",
    "    rhs.l_ = 0;\n",
    "}\n",
    "```"
   ]
  },
  {
   "cell_type": "markdown",
   "metadata": {},
   "source": [
    "А точно ли он правильный?"
   ]
  },
  {
   "cell_type": "markdown",
   "metadata": {},
   "source": [
    "<details>\n",
    "<summary>Ответ:</summary>\n",
    "\n",
    "rhs сломан\n",
    "\n",
    "</details>"
   ]
  },
  {
   "cell_type": "markdown",
   "metadata": {},
   "source": [
    "Третья попытка реализовать правильный конструктор перемещения"
   ]
  },
  {
   "cell_type": "markdown",
   "metadata": {},
   "source": [
    "```c++\n",
    "String::String(String&& rhs)\n",
    "{\n",
    "    s_ = rhs.s_;\n",
    "    l_ = rhs.l_;\n",
    "\n",
    "    rhs.s_ = new char[1];\n",
    "    rhs.s_[0] = 0;\n",
    "    rhs.l_ = 0;\n",
    "}\n",
    "```"
   ]
  },
  {
   "cell_type": "markdown",
   "metadata": {},
   "source": [
    "**копирующее присваивание**"
   ]
  },
  {
   "cell_type": "markdown",
   "metadata": {},
   "source": [
    "```c++\n",
    "String& String::operator =(const String& rhs)\n",
    "{\n",
    "    s_ = new char[rhs.l_ + 1];\n",
    "    l_ = rhs.l_;\n",
    "    strcpy(s_, rhs.s_);\n",
    "\n",
    "    return *this;\n",
    "}\n",
    "```"
   ]
  },
  {
   "cell_type": "markdown",
   "metadata": {},
   "source": [
    "<details>\n",
    "<summary>Где ошибка?</summary>\n",
    "\n",
    "Утекает предыдущий массив `s_`\n",
    "\n",
    "</details>"
   ]
  },
  {
   "cell_type": "markdown",
   "metadata": {},
   "source": [
    "```c++\n",
    "String& String::operator =(const String& rhs)\n",
    "{\n",
    "    delete[] s_;\n",
    "\n",
    "    s_ = new char[rhs.l_ + 1];\n",
    "    l_ = rhs.l_;\n",
    "    strcpy(s_, rhs.s_);\n",
    "\n",
    "    return *this;\n",
    "}\n",
    "```"
   ]
  },
  {
   "cell_type": "markdown",
   "metadata": {},
   "source": [
    "<details>\n",
    "<summary>Где ошибка?</summary>\n",
    "\n",
    "Самоприсваивание\n",
    "\n",
    "</details>"
   ]
  },
  {
   "cell_type": "markdown",
   "metadata": {},
   "source": [
    "Правильная реализация будет выглядеть так:"
   ]
  },
  {
   "cell_type": "markdown",
   "metadata": {},
   "source": [
    "```c++\n",
    "String& String::operator =(const String& rhs)\n",
    "{\n",
    "    if (this != &rhs)\n",
    "    {\n",
    "        delete[] s_;\n",
    "\n",
    "        s_ = new char[rhs.l_ + 1];\n",
    "        l_ = rhs.l_;\n",
    "        strcpy(s_, rhs.s_);\n",
    "    }\n",
    "    return *this;\n",
    "}\n",
    "```"
   ]
  },
  {
   "cell_type": "markdown",
   "metadata": {},
   "source": [
    "**перемещающее присваивание**:"
   ]
  },
  {
   "cell_type": "markdown",
   "metadata": {},
   "source": [
    "**Вариант 1:** с очисткой `rhs`\n",
    "\n",
    "```c++\n",
    "String& String::operator =(String&& rhs)\n",
    "{\n",
    "    if (this != &rhs)\n",
    "    {\n",
    "        delete[] s_;\n",
    "\n",
    "        s_ = rhs.s_;\n",
    "        l_ = rhs.l_;\n",
    "\n",
    "        rhs.s_ = new char[1];\n",
    "        rhs.s_[0] = 0;\n",
    "        rhs.l_ = 0;\n",
    "    }\n",
    "\n",
    "    return *this;\n",
    "}\n",
    "```\n",
    "\n",
    "**Вариант 2:** обмен с `rhs`\n",
    "\n",
    "```c++\n",
    "String& String::operator =(String&& rhs)\n",
    "{\n",
    "    std::swap(s_, rhs.s_);\n",
    "    std::swap(l_, rhs.l_);\n",
    "    return *this;\n",
    "}\n",
    "```"
   ]
  },
  {
   "cell_type": "markdown",
   "metadata": {},
   "source": [
    "<br />"
   ]
  },
  {
   "cell_type": "markdown",
   "metadata": {},
   "source": [
    "##### Порядок конструирования"
   ]
  },
  {
   "cell_type": "markdown",
   "metadata": {},
   "source": [
    "```c++\n",
    "#include <iostream>\n",
    "\n",
    "class Name {\n",
    "public:\n",
    "    Name() { std::cout << \"Name \"; }\n",
    "    ~Name() { std::cout << \"~Name \"; }\n",
    "};\n",
    "\n",
    "class Leg {\n",
    "public:\n",
    "    Leg() { std::cout << \"Leg \"; }\n",
    "    ~Leg() { std::cout << \"~Leg \"; }\n",
    "};\n",
    "\n",
    "class Hat {\n",
    "public:\n",
    "    Hat() { std::cout << \"Hat \"; }\n",
    "    ~Hat() { std::cout << \"~Hat \"; }\n",
    "};\n",
    "\n",
    "class Animal {\n",
    "public:\n",
    "    Animal() { std::cout << \"Animal \"; }\n",
    "    ~Animal() { std::cout << \"~Animal \"; }\n",
    "\n",
    "private:\n",
    "    Name name_;\n",
    "};\n",
    "\n",
    "class Turtle : public Animal {\n",
    "public:\n",
    "    Turtle() { std::cout << \"Turtle \"; }\n",
    "    ~Turtle() { std::cout << \"~Turtle \"; }\n",
    "\n",
    "private:\n",
    "    Leg l1_, l2_, l3_, l4_;\n",
    "    Hat hat_;\n",
    "};\n",
    "\n",
    "// show this later\n",
    "// Animal animal;\n",
    "\n",
    "int main() {\n",
    "    std::cout << \"hello!\" << std::endl;\n",
    "    Turtle tortilla;\n",
    "    std::cout << std::endl << \"goodbye!\" << std::endl;\n",
    "    return 0;\n",
    "}\n",
    "```"
   ]
  },
  {
   "cell_type": "markdown",
   "metadata": {},
   "source": [
    "Порядок вызова конструкторов:\n",
    "1. сначала базовый класс\n",
    "2. потом члены в порядке их объявления\n",
    "3. потом конструктор самого класса"
   ]
  },
  {
   "cell_type": "markdown",
   "metadata": {},
   "source": [
    "Порядок вызова деструкторов:\n",
    "* обратно порядку вызова конструкторов"
   ]
  },
  {
   "cell_type": "markdown",
   "metadata": {},
   "source": [
    "Ожидаемый вывод:\n",
    "\n",
    "```sh\n",
    "hello!\n",
    "Name Animal Leg Leg Leg Leg Hat Turtle\n",
    "goodbye!\n",
    "~Turtle ~Hat ~Leg ~Leg ~Leg ~Leg ~Animal ~Name\n",
    "```"
   ]
  }
 ],
 "metadata": {
  "kernelspec": {
   "display_name": "Python 3",
   "language": "python",
   "name": "python3"
  },
  "language_info": {
   "codemirror_mode": {
    "name": "ipython",
    "version": 3
   },
   "file_extension": ".py",
   "mimetype": "text/x-python",
   "name": "python",
   "nbconvert_exporter": "python",
   "pygments_lexer": "ipython3",
   "version": "3.6.9"
  }
 },
 "nbformat": 4,
 "nbformat_minor": 2
}
