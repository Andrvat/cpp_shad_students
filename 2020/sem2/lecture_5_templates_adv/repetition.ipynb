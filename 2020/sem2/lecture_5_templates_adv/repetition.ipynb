{
 "cells": [
  {
   "cell_type": "markdown",
   "metadata": {},
   "source": [
    "**Повторение**:\n",
    "\n",
    "* зачем нужна move-семантика?\n",
    "* какие есть категории выражений в С++17?\n",
    "* что здесь позовётся?\n",
    "\n",
    "```c++\n",
    "class T {};\n",
    "\n",
    "T   get_obj();\n",
    "T&  get_ref();\n",
    "T&& get_exp_obj();\n",
    "\n",
    "auto x = get_obj();      // ???\n",
    "auto x = get_ref();      // ???\n",
    "auto x = get_exp_obj();  // ???\n",
    "```\n",
    "\n",
    "* что делает `std::move`?\n",
    "\n",
    "* зачем здесь делать `std::move`, если у типа уже стоит `&&`?\n",
    "\n",
    "```c++\n",
    "std::string capitalize(std::string&& s)\n",
    "{\n",
    "    std::string rv = std::move(s);\n",
    "    for (auto& c : rv)\n",
    "        c = std::to_upper(c);\n",
    "    return rv;\n",
    "}\n",
    "```\n",
    "\n",
    "* какие бывают рекомендации по передаче параметра `s` в функцию `capitalize`?\n",
    "\n",
    "* что здесь позовётся?\n",
    "\n",
    "```c++\n",
    "class T {};\n",
    "\n",
    "T         get_obj();\n",
    "T&        get_ref();\n",
    "T&&       get_exp_obj();\n",
    "const T&  get_cref();\n",
    "const T&& get_exp_cobj();\n",
    "\n",
    "auto x = std::move(get_obj());      // ???\n",
    "auto x = std::move(get_ref());      // ???\n",
    "auto x = std::move(get_exp_obj());  // ???\n",
    "auto x = std::move(get_cref());     // ???\n",
    "auto x = std::move(get_exp_cobj()); // ???\n",
    "```\n",
    "\n",
    "* что такое perfect forwaring и зачем он нужен?\n",
    "* как сделать perfect forwaring для аргумента `s` в функции `capitalize`? (продиктуйте / сбросьте в чат код)"
   ]
  }
 ],
 "metadata": {
  "kernelspec": {
   "display_name": "Python 3",
   "language": "python",
   "name": "python3"
  },
  "language_info": {
   "codemirror_mode": {
    "name": "ipython",
    "version": 3
   },
   "file_extension": ".py",
   "mimetype": "text/x-python",
   "name": "python",
   "nbconvert_exporter": "python",
   "pygments_lexer": "ipython3",
   "version": "3.6.9"
  }
 },
 "nbformat": 4,
 "nbformat_minor": 2
}
