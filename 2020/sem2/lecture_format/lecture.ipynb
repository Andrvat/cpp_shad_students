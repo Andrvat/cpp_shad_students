{
 "cells": [
  {
   "cell_type": "markdown",
   "metadata": {},
   "source": [
    "### Форматирование в С++"
   ]
  },
  {
   "cell_type": "markdown",
   "metadata": {},
   "source": [
    "В лекции:\n",
    "* С-шный форматированный вывод\n",
    "* Потоки в С++\n",
    "* `boost::format`\n",
    "* fmtlib\n",
    "* `std::format` в C++20\n",
    "* сравнение билиотек"
   ]
  },
  {
   "cell_type": "markdown",
   "metadata": {},
   "source": [
    "<br />"
   ]
  },
  {
   "cell_type": "markdown",
   "metadata": {},
   "source": [
    "##### naive C"
   ]
  },
  {
   "cell_type": "markdown",
   "metadata": {},
   "source": [
    "https://en.cppreference.com/w/cpp/io/c\n",
    "\n",
    "https://en.cppreference.com/w/cpp/io/c/fprintf"
   ]
  },
  {
   "cell_type": "markdown",
   "metadata": {},
   "source": [
    "В чистом С для форматирования есть семейство функций `printf`.\n",
    "\n",
    "Они поддерживают набор форматов для встроенных типов:\n",
    "* целые числа\n",
    "* вещественные числа\n",
    "* С-строки\n",
    "* указатели\n",
    "\n",
    "```c++\n",
    "printf(\"%i < %s < %.2f\", 3, \"pi\", 3.15f);\n",
    "```"
   ]
  },
  {
   "cell_type": "markdown",
   "metadata": {},
   "source": [
    "**Вопрос**: какие преимущества и недостатки у этого способа?\n",
    "\n",
    "<details>\n",
    "<summary>преимущества</summary>\n",
    "<p>\n",
    "\n",
    "* быстрое исполнение (сравнительно)\n",
    "* быстрая скорость компиляции\n",
    "* маленький размер бинарного кода\n",
    "* мало зависимостей (требуется только libc)\n",
    "\n",
    "</p>\n",
    "</details>\n",
    "\n",
    "<details>\n",
    "<summary>недостатки</summary>\n",
    "<p>\n",
    "\n",
    "* обязанность программиста следить за соответствием типов и форматов (много ошибок)\n",
    "\n",
    "</p>\n",
    "</details>"
   ]
  },
  {
   "cell_type": "markdown",
   "metadata": {},
   "source": [
    "<br />"
   ]
  },
  {
   "cell_type": "markdown",
   "metadata": {},
   "source": [
    "C-шный вариант позволяет записывать результат не только в `FILE*`, но и в строковый буфер:\n",
    "\n",
    "```c++\n",
    "char buf[256];\n",
    "std::sprintf(buf, \"%i < %s < %.2f\", 3, \"pi\", 3.15f);\n",
    "```\n",
    "\n",
    "Это весьма удобный С-шный способ формировать форматированные строки.\n",
    "\n",
    "**Вопрос**: какой недостаток вы видите в этом способе?\n",
    "\n",
    "<details>\n",
    "<summary>ответ</summary>\n",
    "<p>\n",
    "    \n",
    "Функция `sprintf` не может проконтроллировать выход за границы буфера, программист обязан умозрительно гарантировать, что буфера хватит. Конечно, программисты иногда ошибаются.\n",
    "    \n",
    "</p>\n",
    "</details>"
   ]
  },
  {
   "cell_type": "markdown",
   "metadata": {},
   "source": [
    "<br />"
   ]
  },
  {
   "cell_type": "markdown",
   "metadata": {},
   "source": [
    "Чтобы справиться с проблемой, в С++11 добавили `snprintf` - форматированный вывод в строку с контролем длины:\n",
    "\n",
    "```c++\n",
    "// форматируем строку с указанием размера буфера,\n",
    "// std::snprintf проконтроллирует выход за границы массива\n",
    "char buf[256];\n",
    "int rv = std::snprintf(buf, 256, \"%i < %s < %.2f\", 3, \"pi\", 3.15f);\n",
    "// теперь надо разобрать код возврата\n",
    "\n",
    "// отрицательные значения - индикатор ошибки внутри snprintf\n",
    "if (rv < 0)\n",
    "    std::cout << \"formatting error\" << std::endl;\n",
    "\n",
    "// значения < 256 - значит null-terminated output успешно записано в буфер\n",
    "if (rv < 256)\n",
    "    std::cout << \"succeed, symbols written: \" << rv << std::endl;\n",
    "\n",
    "// значение >= 256 - сколько символов без нуля нужно в буфере,\n",
    "// чтобы полностью записать строку\n",
    "if (rv >= 256)\n",
    "    std::cout << \"buffer is too small, required size is: \" << rv << std::endl;\n",
    "```"
   ]
  },
  {
   "cell_type": "markdown",
   "metadata": {},
   "source": [
    "Трюк с предварительным определением нужного размера:\n",
    "\n",
    "```c++\n",
    "// оценим, сколько символов требуется, чтобы записать форматированную строку\n",
    "const int sz = std::snprintf(nullptr, 0, \"sqrt(2) = %f\", std::sqrt(2));\n",
    "\n",
    "// выделим на куче нужное кол-во символов +1 для нуль-терминатора\n",
    "std::vector<char> buf(sz + 1);\n",
    "\n",
    "// собственно, само форматирование\n",
    "std::snprintf(&buf[0], buf.size(), \"sqrt(2) = %f\", std::sqrt(2));\n",
    "```\n",
    "\n",
    "Такой подход безопаснее, но, увы, требуется дважды выполнить полное форматирование строки:\n",
    "* сначала чтобы узнать размер\n",
    "* затем чтобы записать результат"
   ]
  },
  {
   "cell_type": "markdown",
   "metadata": {},
   "source": [
    "<br />"
   ]
  },
  {
   "cell_type": "markdown",
   "metadata": {},
   "source": [
    "##### C++ streams"
   ]
  },
  {
   "cell_type": "markdown",
   "metadata": {},
   "source": [
    "https://en.cppreference.com/w/cpp/io/manip"
   ]
  },
  {
   "cell_type": "markdown",
   "metadata": {},
   "source": [
    "Стандартные С++ потоки позволяют задавать форматирование:"
   ]
  },
  {
   "cell_type": "markdown",
   "metadata": {},
   "source": [
    "Форматирование `bool`:\n",
    "    \n",
    "```c++\n",
    "std::cout << std::boolalpha \n",
    "          << \"true: \" << true << std::endl\n",
    "          << \"false: \" << false << std::endl;\n",
    "std::cout << std::noboolalpha \n",
    "          << \"true: \" << true << std::endl\n",
    "          << \"false: \" << false << std::endl;\n",
    "```\n",
    "\n",
    "Вывод:\n",
    "\n",
    "```sh\n",
    "true: true\n",
    "false: false\n",
    "true: 1\n",
    "false: 0\n",
    "```"
   ]
  },
  {
   "cell_type": "markdown",
   "metadata": {},
   "source": [
    "Основа системы счисления для `oct/hex` чисел:\n",
    "    \n",
    "```c++\n",
    "std::cout << std::hex\n",
    "          << \"42 = \" << std::showbase << 42 << std::endl\n",
    "          << \"42 = \" << std::noshowbase << 42 << std::endl;\n",
    "```\n",
    "\n",
    "Вывод:\n",
    "\n",
    "```sh\n",
    "42 = 0x2a\n",
    "42 = 2a\n",
    "```"
   ]
  },
  {
   "cell_type": "markdown",
   "metadata": {},
   "source": [
    "Форматирование `float`:\n",
    "\n",
    "```c++\n",
    "const long double pi = std::acos(-1.L);\n",
    "std::cout << \"default precision (6): \" << pi << std::endl\n",
    "          << \"std::setprecision(10): \" << std::setprecision(10) << pi << std::endl;\n",
    "\n",
    "std::cout << \"fixed:      \" << std::fixed        << 0.01 << std::endl\n",
    "          << \"scientific: \" << std::scientific   << 0.01 << std::endl\n",
    "          << \"hexfloat:   \" << std::hexfloat     << 0.01 << std::endl\n",
    "          << \"default:    \" << std::defaultfloat << 0.01 << std::endl;\n",
    "```\n",
    "\n",
    "Вывод:\n",
    "\n",
    "```sh\n",
    "default precision (6): 3.14159\n",
    "std::setprecision(10): 3.141592654\n",
    "\n",
    "fixed:      0.010000\n",
    "scientific: 1.000000e-02\n",
    "hexfloat:   0x1.47ae147ae147bp-7\n",
    "default:    0.01\n",
    "```"
   ]
  },
  {
   "cell_type": "markdown",
   "metadata": {},
   "source": [
    "И некоторые другие способы отформатировать значения, смотрите их в документации по ссылке.\n",
    "\n",
    "А лучше не смотрите, т.к. далее мы рассмотрим более продвинутые способы."
   ]
  },
  {
   "cell_type": "markdown",
   "metadata": {},
   "source": [
    "<br />"
   ]
  },
  {
   "cell_type": "markdown",
   "metadata": {},
   "source": [
    "##### boost::format"
   ]
  },
  {
   "cell_type": "markdown",
   "metadata": {},
   "source": [
    "https://www.boost.org/doc/libs/1_66_0/libs/format/doc/format.html"
   ]
  },
  {
   "cell_type": "markdown",
   "metadata": {},
   "source": [
    "Способы форматирования, поддерживаемые `boost::format`:\n",
    "\n",
    "* `%spec`, spec - [printf specification](https://www.boost.org/doc/libs/1_66_0/libs/format/doc/format.html#printf_directives)\n",
    "\n",
    "boost::format позволяет эмулировать обычный сишный `printf` [за небольшим числом хитрых исключений](https://www.boost.org/doc/libs/1_66_0/libs/format/doc/format.html#printf_differences)\n",
    "\n",
    "```c++\n",
    "std::cout << boost::format(\"%i <= pi <= %f\") % 3 % 3.15 << std::endl;\n",
    "```\n",
    "\n",
    "* `%|spec|`, spec - [printf specification](https://www.boost.org/doc/libs/1_66_0/libs/format/doc/format.html#printf_directives)\n",
    "\n",
    "У этого способа есть две особенности:\n",
    "    * авторы boost утверждают, что он улучшает читабельность (возможно, это так)\n",
    "    * не требуется указание типа:\n",
    "  \n",
    "```c++\n",
    "// все результаты ниже имеют ширину 5 и выровнены влево\n",
    "boost::format(\"%|-5|\") % 3.14;\n",
    "boost::format(\"%|-5|\") % 3;\n",
    "boost::format(\"%|-5|\") % \"3.1\"s;\n",
    "```\n",
    "  \n",
    "* `%N%` - позиционные аргументы\n",
    "\n",
    "```c++\n",
    "boost::format(\"%1% <= pi <= %2%\") % 3 % 3.14;\n",
    "```"
   ]
  },
  {
   "cell_type": "markdown",
   "metadata": {},
   "source": [
    "<br />"
   ]
  },
  {
   "cell_type": "markdown",
   "metadata": {},
   "source": [
    "##### поддержка пользовательских типов"
   ]
  },
  {
   "cell_type": "markdown",
   "metadata": {},
   "source": [
    "Чтобы вывести пользоветальский тип, достаточно определить для него `operator<<`, здесь всё естественно:\n",
    "\n",
    "```c++\n",
    "struct Point\n",
    "{\n",
    "    float x;\n",
    "    float y;\n",
    "};\n",
    "\n",
    "std::ostream& operator << (std::ostream& os, const Point& p)\n",
    "{\n",
    "    return os << '(' << p.x << ',' << p.y << ')';\n",
    "}\n",
    "\n",
    "Point p{3, 4};\n",
    "std::cout << boost::format(\"Point of interest is %1%\") % p;\n",
    "```"
   ]
  },
  {
   "cell_type": "markdown",
   "metadata": {},
   "source": [
    "<br />"
   ]
  },
  {
   "cell_type": "markdown",
   "metadata": {},
   "source": [
    "##### что такое `boost::format`?"
   ]
  },
  {
   "cell_type": "markdown",
   "metadata": {},
   "source": [
    "`boost::format` - это объект-`formatter`:\n",
    "\n",
    "```c++\n",
    "// создали объект-formatter\n",
    "boost::format f(\"%1% %2% %3% %1%\");\n",
    "\n",
    "// скормили объекту аргументы\n",
    "f % 10 % 20 % 30; \n",
    "\n",
    "// после того как formatter насытили аргументами,\n",
    "// можно спрашивать с него результат, например, через <<\n",
    "std::cout << f;  // \"10 20 30 10\"\n",
    "    \n",
    "// можно спрашивать с него результат несколько раз\n",
    "std::cout << f;  // \"10 20 30 10\"\n",
    "std::string s = f.str();\n",
    "\n",
    "// можно начать его насыщать аргументами заново\n",
    "f % 1001;\n",
    "try\n",
    "{\n",
    "    std::cout << f;\n",
    "}\n",
    "catch (const boost::io::too_few_args&)\n",
    "{\n",
    "    std::cout << \"Formatter is not fed\" << std::endl;\n",
    "}\n",
    "\n",
    "// насытив formatter, можно снова спрашивать с него результат\n",
    "std::cout << f % \"abc\" % \"def\";\n",
    "\n",
    "// можно через методы объекта модифицировать спецификацию формата\n",
    "f = boost::format(\"%1% %2% %3% %2% %1%\");\n",
    "f.modify_item(4, boost::io::group(std::setfill('_'),\n",
    "                                  std::hex,\n",
    "                                  std::showbase,\n",
    "                                  std::setw(5)));\n",
    "std::cout << f % 1 % 2 % 3; // \"1 2 3 __0x2 1 \\n\"\n",
    "\n",
    "// задавать нумерованные аргументы по номеру явно\n",
    "f = boost::format(\"%1% %2% %3% %2% %1%\");\n",
    "f.bind_arg(1, \"x\");\n",
    "f.bind_arg(2, \"y\");\n",
    "f.bind_arg(3, \"z\");\n",
    "std::cout << f;\n",
    "\n",
    "// поведение аргументов, заданных через bind и %, различно:\n",
    "//   * через bind - привязанные (bounded) аргументы\n",
    "//   * через %    - регулярные (regular) аргументы\n",
    "f = boost::format(\"%1% %2% %3% %2% %1%\");\n",
    "f.bind_arg(1, \"10\");\n",
    "f.bind_arg(1, \"11\");  // перезадали аргумент по номеру\n",
    "std::cout << f % 2 % 3;  // \"11 2 3 2 11\"\n",
    "\n",
    "try  \n",
    "{\n",
    "    // бросит исключение, потому что аргумент N1 привязанный\n",
    "    // значит через % насыщаются только \"регулярные\" N2 и N3\n",
    "    std::cout << f % 6 % 7 % 8;\n",
    "}\n",
    "catch (const boost::io::too_many_args&) \n",
    "{\n",
    "    std::cout << \"Formatter is fed out\";\n",
    "}\n",
    "\n",
    "// очистка регулярных аргументов\n",
    "f.clear();\n",
    "\n",
    "// очитска и регулярных, и связанных аргументов\n",
    "f.clear_binds();\n",
    "```"
   ]
  },
  {
   "cell_type": "markdown",
   "metadata": {},
   "source": [
    "<br />"
   ]
  },
  {
   "cell_type": "markdown",
   "metadata": {},
   "source": [
    "`boost::format` - богатый и удобный инструмент. Код с его использованием становится короче, понятнее и читабельнее.\n",
    "\n",
    "Сравните:\n",
    "\n",
    "```c++\n",
    "std::cout << \"ERROR: failed to open \" << filename << \" at line \" << line_number << \". OS response: \" << reponse << '\\n';\n",
    "\n",
    "std::cout << boost::format(\"ERROR: failed to open %1% at line %2%. OS response: %3%\\n\")\n",
    "             % filename % line_number % response;\n",
    "```\n",
    "\n",
    "Но `boost::format` обладает двумя сущестенными недостатками:\n",
    "* долгая компиляция\n",
    "* медленный\n",
    "\n",
    "(цифры ниже)"
   ]
  },
  {
   "cell_type": "markdown",
   "metadata": {},
   "source": [
    "<br />"
   ]
  },
  {
   "cell_type": "markdown",
   "metadata": {},
   "source": [
    "##### fmtlib"
   ]
  },
  {
   "cell_type": "markdown",
   "metadata": {},
   "source": [
    "https://fmt.dev/latest/\n",
    "\n",
    "https://github.com/fmtlib/fmt"
   ]
  },
  {
   "cell_type": "markdown",
   "metadata": {},
   "source": [
    "Если вы всегда хотели так же элегантно форматировать строки как это сделано в python через метод str.format, то будущее уже здесь."
   ]
  },
  {
   "cell_type": "markdown",
   "metadata": {},
   "source": [
    "```c++\n",
    "// format to string\n",
    "std::string s = fmt::format(\"{} was {} when he became an epic hero\", \"Ilya\", 33);\n",
    "\n",
    "// format to local buffer\n",
    "char[16] out = \"\";\n",
    "fmt::format_to(out, \"{}\", 42);\n",
    "\n",
    "// format to local buffer with restrictions\n",
    "char[16] out = \"\";\n",
    "fmt::format_to_n(out, 16, \"{}\", 42);\n",
    "\n",
    "// format to output iterator\n",
    "std::vector<char> out;\n",
    "fmt::format_to(std::back_inserter(out), \"{}\", 42);\n",
    "\n",
    "// format to std out\n",
    "fmt::print(\"{} was {} when he became an epic hero\", \"Ilya\", 33);\n",
    "\n",
    "// format to FILE* stream\n",
    "FILE *f = ...;\n",
    "fmt::print(f, \"{} was {} when he became an epic hero\", \"Ilya\", 33);\n",
    "```"
   ]
  },
  {
   "cell_type": "markdown",
   "metadata": {},
   "source": [
    "<br />"
   ]
  },
  {
   "cell_type": "markdown",
   "metadata": {},
   "source": [
    "Аналогично python-овскому `str.format`:\n",
    "\n",
    "* форматирование аргументов\n",
    "\n",
    " ```c++\n",
    "fmt::print('pi is approximately equal to {:.3f}', M_PI);\n",
    "```\n",
    "\n",
    "* нумерация аргументов\n",
    "\n",
    "```c++\n",
    "// заметьте, что в отличие от |boost::format| аргументы нумеруются с 0\n",
    "fmt::print(\"{0} was at war with {1} at least 12 times. {0} has won approximately 7 times.\",\n",
    "           \"Russian Empire\",\n",
    "           \"Ottomans Empire\"s);\n",
    "```\n",
    "\n",
    "* именование аргументов\n",
    "    \n",
    "```c++\n",
    "fmt::print(\"{ru} was at war with {ot} at least 12 times. {ru} has won approximately 7 times.\",\n",
    "           fmt::arg(\"ru\", \"Russian Empire\"),\n",
    "           fmt::arg(\"ot\", \"Ottomans Empire\"s));\n",
    "```"
   ]
  },
  {
   "cell_type": "markdown",
   "metadata": {},
   "source": [
    "<br />"
   ]
  },
  {
   "cell_type": "markdown",
   "metadata": {},
   "source": [
    "##### compile-time проверки формата"
   ]
  },
  {
   "cell_type": "markdown",
   "metadata": {},
   "source": [
    "Но у нас есть С++, и в отличие от python, мы можем проверить корректность строки форматирования на этапе компиляции:\n",
    "\n",
    "```c++\n",
    "// compile-time error: 'd' is an invalid specifier for strings.\n",
    "std::string s = format(FMT_STRING(\"{:d}\"), \"foo\");\n",
    "\n",
    "// compile-time error: argument N2 is not set\n",
    "std::string s = format(FMT_STRING(\"{2}\"), 42);\n",
    "```"
   ]
  },
  {
   "cell_type": "markdown",
   "metadata": {},
   "source": [
    "<br />"
   ]
  },
  {
   "cell_type": "markdown",
   "metadata": {},
   "source": [
    "##### Форматирование пользовательских типов"
   ]
  },
  {
   "cell_type": "markdown",
   "metadata": {},
   "source": [
    "```c++\n",
    "// Пользовательский тип\n",
    "struct Point\n",
    "{\n",
    "    float x;\n",
    "    float y;\n",
    "    float z;\n",
    "};\n",
    "\n",
    "// Специализация шаблона fmt::formatter для пользовательского типа.\n",
    "//\n",
    "// Она определяет:\n",
    "//   * какие опции форматирования доступны\n",
    "//   * как их обрабатывать\n",
    "//\n",
    "// В примере рассмотрим опции:\n",
    "//   {}   - формат по умолчанию\n",
    "//   {:f} - формат с фиксированной точкой\n",
    "//   {:e} - научный формат\n",
    "//\n",
    "// Нужно определить 2 метода:\n",
    "//   |parse| - нужно разобрать строку формата\n",
    "//             и сохранить результат как внутреннее\n",
    "//             состояние структуры\n",
    "//   |format| - имея заполненное внутреннее состояние, выполнить\n",
    "//              форматирование для конкретного аргумента\n",
    "template<>\n",
    "struct fmt::formatter<Point>\n",
    "{\n",
    "  enum class Form\n",
    "  {\n",
    "    def,  // default form for {}\n",
    "    fix,  // fixed format for {:f}\n",
    "    exp   // exponential  for {:e}\n",
    "  };\n",
    "  Form form = Form::def;\n",
    "\n",
    "  // отметьте здесь constexpr\n",
    "  constexpr auto parse(format_parse_context& ctx)\n",
    "  {\n",
    "    // [ctx.begin(), ctx.end()) - подстрока для парсинга.\n",
    "    //\n",
    "    // В таком вызове:\n",
    "    //\n",
    "    //   fmt::format(\"{:f} - point of interest\", point{1, 2});\n",
    "    //\n",
    "    // подстрока равна \"f} - point of interest\".\n",
    "    //\n",
    "    // Обязанность метода - разобрать строку формата до '}' и вернуть,\n",
    "    // итератор, указывающий на '}', если не получилось - кинуть особое исключение.\n",
    "    const char error_message_invalid_format[] =\n",
    "        \"invalid format for Point argument, expected {:f} or {:e} or {}\";\n",
    "\n",
    "    auto it = ctx.begin();\n",
    "    const auto end = ctx.end();\n",
    "\n",
    "    // случай \"{}\"\n",
    "    if (it != end && *it == '}')\n",
    "        // сразу возвращаем итератор на \"}\"\n",
    "        return it;\n",
    "\n",
    "    // считаем f или e из строки формата\n",
    "    if (it != end)\n",
    "    {\n",
    "        if (*it == 'f')\n",
    "            form = Form::fix;\n",
    "        else if (*it == 'e')\n",
    "            form = Form::exp;\n",
    "        else\n",
    "            throw format_error(error_message_invalid_format);\n",
    "\n",
    "        ++it;\n",
    "    }\n",
    "\n",
    "    // убедимся, что в строке формата больше ничего нет,\n",
    "    // и мы остановились именно на \"}\"\n",
    "    if (it == end || *it != '}')\n",
    "        throw format_error(error_message_invalid_format);\n",
    "\n",
    "    // возвращаем итератор на \"}\"\n",
    "    return it;\n",
    "  }\n",
    "\n",
    "  template <typename FormatContext>\n",
    "  auto format(const Point& p, FormatContext& ctx)\n",
    "  {\n",
    "    const char* const fmt = form == Form::fix ? \"({:.1f}, {:.1f}, {:.1f})\" :\n",
    "                            form == Form::exp ? \"({:.1e}, {:.1e}, {:.1e})\" :\n",
    "                                                \"({}, {}, {})\";\n",
    "    return format_to(ctx.out(), fmt, p.x, p.y, p.z);\n",
    "  }\n",
    "};\n",
    "```\n",
    "\n",
    "Использование:\n",
    "\n",
    "```c++\n",
    "int main()\n",
    "{\n",
    "    std::cout << fmt::format(\" {0:f}\\n {0:e}\\n {0}\", Point{3.f, 4.f, 5.f}) << std::endl;\n",
    "}\n",
    "```\n",
    "\n",
    "Вывод:\n",
    "\n",
    "```sh\n",
    " (3.0, 4.0, 5.0)\n",
    " (3.0e+00, 4.0e+00, 5.0e+00)\n",
    " (3.0, 4.0, 5.0)\n",
    "```"
   ]
  },
  {
   "cell_type": "markdown",
   "metadata": {},
   "source": [
    "<br />"
   ]
  },
  {
   "cell_type": "markdown",
   "metadata": {},
   "source": [
    "Трюк для красивого вывода enum-ов:\n",
    "\n",
    "```c++\n",
    "enum class Color {\n",
    "    red,\n",
    "    green,\n",
    "    blue\n",
    "};\n",
    "\n",
    "template <>\n",
    "struct fmt::formatter<Color> : formatter<string_view>\n",
    "{\n",
    "  // метод |parse| отнаследован от форматера строк,\n",
    "  // а значит наш форматер Color уже умеет понимать\n",
    "  // все возможные способы отформатировать строку,\n",
    "  // осталось только эту строку предоставить!\n",
    "  \n",
    "  template <typename FormatContext>\n",
    "  auto format(Color c, FormatContext& ctx)\n",
    "  {\n",
    "    string_view name = \"unknown\";\n",
    "    switch (c) {\n",
    "    case color::red:   name = \"red\";   break;\n",
    "    case color::green: name = \"green\"; break;\n",
    "    case color::blue:  name = \"blue\";  break;\n",
    "    }\n",
    "    return formatter<string_view>::format(name, ctx);\n",
    "  }\n",
    "};\n",
    "\n",
    "// usage:\n",
    "fmt::print(\"{:>20}\", Color::red);\n",
    "```"
   ]
  },
  {
   "cell_type": "markdown",
   "metadata": {},
   "source": [
    "<br />"
   ]
  },
  {
   "cell_type": "markdown",
   "metadata": {},
   "source": [
    "###### несколько приятных утилит из fmtlib"
   ]
  },
  {
   "cell_type": "markdown",
   "metadata": {},
   "source": [
    "shortcut для конвертации в строку через формат по умолчанию (замена для `std::format(\"{}\", x)`):\n",
    "\n",
    "```c++\n",
    "std::string s1 = fmt::to_string(42);\n",
    "std::string s2 = fmt::to_string(3.14);\n",
    "```"
   ]
  },
  {
   "cell_type": "markdown",
   "metadata": {},
   "source": [
    "`fmt::join`. Обратите внимание, что `fmt::join` принимает range произвольных типов:\n",
    "\n",
    "```c++\n",
    "std::vector<int> v = {1, 2, 3};\n",
    "fmt::print(\"{}\", fmt::join(v, \", \"));  // Output: \"1, 2, 3\"\n",
    "```"
   ]
  },
  {
   "cell_type": "markdown",
   "metadata": {},
   "source": [
    "Буфер - аналог small vector"
   ]
  },
  {
   "cell_type": "markdown",
   "metadata": {},
   "source": [
    "```c++\n",
    "// fmt::memory_buffer out;\n",
    "fmt::memory_buffer<char, 256> out;\n",
    "format_to(out, \"The answer is {}.\", 42);\n",
    "```"
   ]
  },
  {
   "cell_type": "markdown",
   "metadata": {},
   "source": [
    "Форматирование дат\n",
    "\n",
    "```c++\n",
    "std::time_t t = std::time(nullptr);\n",
    "fmt::print(\"The date is {:%Y-%m-%d}.\", *std::localtime(&t));  // Prints \"The date is 2016-04-29.\"\n",
    "```"
   ]
  },
  {
   "cell_type": "markdown",
   "metadata": {},
   "source": [
    "<br />"
   ]
  },
  {
   "cell_type": "markdown",
   "metadata": {},
   "source": [
    "##### std::format (since C++20)"
   ]
  },
  {
   "cell_type": "markdown",
   "metadata": {},
   "source": [
    "https://en.cppreference.com/w/cpp/utility/format\n",
    "\n",
    "https://en.cppreference.com/w/cpp/utility/format/formatter"
   ]
  },
  {
   "cell_type": "markdown",
   "metadata": {},
   "source": [
    "`fmtlib` оказался настолько хорош, что его доработали и перенесли в стандартную библиотеку С++, где назвали `std::format`. С С++20 можно пользоваться продвинутыми способами форматирования без сторонних библиотек."
   ]
  },
  {
   "cell_type": "markdown",
   "metadata": {},
   "source": [
    "<br />"
   ]
  },
  {
   "cell_type": "markdown",
   "metadata": {},
   "source": [
    "##### сравнение библиотек"
   ]
  },
  {
   "cell_type": "markdown",
   "metadata": {},
   "source": [
    "Скорость исполнения, [подробности эксперимента](https://github.com/fmtlib/fmt#speed-tests)\n",
    "\n",
    "| Library           | Method        | Run Time, s \n",
    "|:------------------|:--------------|:-----------:\n",
    "| libc              | printf        | 1.04        \n",
    "| libc++            | std::ostream  | 3.05        \n",
    "| {fmt} 6.1.1       | fmt::print    | 0.75        \n",
    "| Boost Format 1.67 | boost::format | 7.24        \n",
    "| Folly Format      | folly::format | 2.23        \n",
    "\n",
    "Время компиляции, [подробности эксперимента](https://github.com/fmtlib/fmt#compile-time-and-code-bloat)\n",
    "\n",
    "| Method        | Compile Time, s |\n",
    "|:--------------|:---------------:|\n",
    "| printf        | 2.6             |\n",
    "| printf+string | 16.4            |\n",
    "| iostreams     | 31.1            |\n",
    "| {fmt}         | 19.0            |\n",
    "| Boost Format  | 91.9            |\n",
    "| Folly Format  | 115.7           |\n",
    "\n",
    "Размер исполняемого файла, [подробности эксперимента](https://github.com/fmtlib/fmt#compile-time-and-code-bloat)\n",
    "\n",
    "| Method        | Executable size, KiB | Stripped size, KiB |\n",
    "|:--------------|:--------------------:|:------------------:|\n",
    "| printf        | 29                   | 26                 |\n",
    "| printf+string | 29                   | 26                 |\n",
    "| iostreams     | 59                   | 55                 |\n",
    "| {fmt}         | 37                   | 34                 |\n",
    "| Boost Format  | 226                  | 203                |\n",
    "| Folly Format  | 101                  | 88                 |"
   ]
  },
  {
   "cell_type": "markdown",
   "metadata": {},
   "source": [
    "<br />"
   ]
  },
  {
   "cell_type": "markdown",
   "metadata": {},
   "source": [
    "##### Резюме\n",
    "\n",
    "* В обычном С++ приложении для форматирования строк используйте `std::format` с 20-го стандарта либо `fmtlib` до С++20."
   ]
  }
 ],
 "metadata": {
  "kernelspec": {
   "display_name": "Python 3",
   "language": "python",
   "name": "python3"
  },
  "language_info": {
   "codemirror_mode": {
    "name": "ipython",
    "version": 3
   },
   "file_extension": ".py",
   "mimetype": "text/x-python",
   "name": "python",
   "nbconvert_exporter": "python",
   "pygments_lexer": "ipython3",
   "version": "3.6.9"
  }
 },
 "nbformat": 4,
 "nbformat_minor": 2
}
