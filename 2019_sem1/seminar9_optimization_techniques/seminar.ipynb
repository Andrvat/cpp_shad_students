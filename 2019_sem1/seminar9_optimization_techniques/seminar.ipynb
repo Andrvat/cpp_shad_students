{
 "cells": [
  {
   "cell_type": "markdown",
   "metadata": {},
   "source": [
    "### Техники оптимизации С++ программ."
   ]
  },
  {
   "cell_type": "markdown",
   "metadata": {},
   "source": [
    "Выдать домашнее задание по оптимизациям"
   ]
  },
  {
   "cell_type": "markdown",
   "metadata": {},
   "source": [
    "<br />"
   ]
  },
  {
   "cell_type": "markdown",
   "metadata": {},
   "source": [
    "##### Уровни оптимизации компилятора"
   ]
  },
  {
   "cell_type": "markdown",
   "metadata": {},
   "source": [
    "gcc / clang:\n",
    "\n",
    "https://gcc.gnu.org/onlinedocs/gcc/Optimize-Options.html"
   ]
  },
  {
   "cell_type": "markdown",
   "metadata": {},
   "source": [
    "* `-O0` - без оптимизаций (для отладки)\n",
    "* `-O1` - набор оптимизаций 1\n",
    "* `-O2` - набор оптимизаций 1 + набор оптимизаций 2\n",
    "* `-O3` - набор оптимизаций 1 + набор оптимизаций 2 + набор оптимизаций 3\n",
    "\n",
    "Чем выше `On`, тем больше время компиляции, но эффективнее код\n",
    "(на самом деле it depends)"
   ]
  },
  {
   "cell_type": "markdown",
   "metadata": {},
   "source": [
    "Дополнительные варианты:\n",
    "* `-Os` - сфокусироваться на оптимизации размера бинарного файла вместо скорости выполнения\n",
    "* `-Ofast` = `-O3` + `-ffast-math` - ослабить требования к математическим вычислениям - не выполнять все требования IEEE (может ускорить вычислительные алгоритмы, но программист должен поклясться на крови полуночных русалок, что урезанных требований и меньшей точности достаточно)"
   ]
  },
  {
   "cell_type": "markdown",
   "metadata": {},
   "source": [
    "Закинуть это код в godbolt, показать какой ассемблер генерирует компилятор для последнего gcc и clang на разных уровнях оптимизаций:"
   ]
  },
  {
   "cell_type": "markdown",
   "metadata": {},
   "source": [
    "```c++\n",
    "#include <vector>\n",
    "\n",
    "int sum(const std::vector<int>& x)\n",
    "{\n",
    "    int rv = 0;\n",
    "    for (int v : x)\n",
    "        rv += v;\n",
    "    return rv;\n",
    "}\n",
    "```"
   ]
  },
  {
   "cell_type": "markdown",
   "metadata": {},
   "source": [
    "<br />"
   ]
  },
  {
   "cell_type": "markdown",
   "metadata": {},
   "source": [
    "msvc:\n",
    "\n",
    "https://docs.microsoft.com/en-us/cpp/build/reference/o-options-optimize-code?view=vs-2019"
   ]
  },
  {
   "cell_type": "markdown",
   "metadata": {},
   "source": [
    "Аналоги: `/Od`, `/O1`, `/O2`, `/Os` + доп. варинты (см. ссылку)"
   ]
  },
  {
   "cell_type": "markdown",
   "metadata": {},
   "source": [
    "<br />"
   ]
  },
  {
   "cell_type": "markdown",
   "metadata": {},
   "source": [
    "##### Профилировка"
   ]
  },
  {
   "cell_type": "markdown",
   "metadata": {},
   "source": [
    "**msvc:** Показать пример профилировки и просмотра результатов на msvc"
   ]
  },
  {
   "cell_type": "markdown",
   "metadata": {},
   "source": [
    "<br />"
   ]
  },
  {
   "cell_type": "markdown",
   "metadata": {},
   "source": [
    "**встроенный профилировщик в clang/gcc:**"
   ]
  },
  {
   "cell_type": "markdown",
   "metadata": {},
   "source": [
    "Скрипт запуска встроенного в clang/gcc профилировщика:"
   ]
  },
  {
   "cell_type": "markdown",
   "metadata": {},
   "source": [
    "```sh\n",
    "echo \"cleanup\"\n",
    "rm -f gmon.out\n",
    "rm -f analysis.txt\n",
    "rm -f a.out\n",
    "\n",
    "echo \"compile\"\n",
    "clang++-8 -pg -O2 reference.cpp -stdlib=libc++ -std=c++17\n",
    "\n",
    "echo \"running\"\n",
    "./a.out\n",
    "\n",
    "echo \"analyze\"\n",
    "gprof a.out gmon.out > analysis.txt\n",
    "```"
   ]
  },
  {
   "cell_type": "markdown",
   "metadata": {},
   "source": [
    "<br />"
   ]
  },
  {
   "cell_type": "markdown",
   "metadata": {},
   "source": [
    "**google perf:**"
   ]
  },
  {
   "cell_type": "markdown",
   "metadata": {},
   "source": [
    "Предустановки для инструмента google perf:"
   ]
  },
  {
   "cell_type": "markdown",
   "metadata": {},
   "source": [
    "```sh\n",
    "sudo apt-get install google-perftools libgoogle-perftools-dev\n",
    "sudo apt-get install kcachegrind\n",
    "```"
   ]
  },
  {
   "cell_type": "markdown",
   "metadata": {},
   "source": [
    "Прогон google perf:"
   ]
  },
  {
   "cell_type": "markdown",
   "metadata": {},
   "source": [
    "```sh\n",
    "echo \"cleanup\"\n",
    "rm -f a.out\n",
    "rm -f cpu_profile\n",
    "rm -f callgrind\n",
    "\n",
    "echo \"compile\"\n",
    "clang++-8 -O2 reference.cpp -std=c++17 -stdlib=libc++\n",
    "\n",
    "echo \"run with profile\"\n",
    "LD_PRELOAD=/usr/lib/x86_64-linux-gnu/libprofiler.so CPUPROFILE=cpu_profile CPUPROFILE_FREQUENCY=5000 ./a.out\n",
    "\n",
    "echo \"analyze\"\n",
    "# google-pprof --gv   a.out cpu_profile  # X\n",
    "# google-pprof --web  a.out cpu_profile  # browser\n",
    "# google-pprof --test a.out cpu_profile  # console\n",
    "google-pprof --callgrind a.out cpu_profile > callgrind && kcachegrind callgrind\n",
    "```"
   ]
  },
  {
   "cell_type": "markdown",
   "metadata": {},
   "source": [
    "<br />"
   ]
  },
  {
   "cell_type": "markdown",
   "metadata": {},
   "source": [
    "##### Правила оптимизации:"
   ]
  },
  {
   "cell_type": "markdown",
   "metadata": {},
   "source": [
    "1. Убедитесь, что оптимизировать действительно надо.\n",
    "2. Напишите performance-тест для измерения производительности\n",
    "3. Одна гипотеза - одно измерение\n",
    "4. Отпрофилировать и найти самое тяжёлое место\n",
    "5. Оптимизация сверху вниз (ни в коем случае не спускаться на ступеньку ниже, пока не поймём, что возможности ступеньки выше исчерпаны)\n",
    "  * Нужны ли эти вычисления? (нет - убираем / кешируем - работает примитивная логика)\n",
    "  * Дело в асимптотике алгоритма? (да - меняем алгоритм - работает теория алгоритмов)\n",
    "  * Можно ли ускорить на уровне абстракций С++? (примитивные примеры: `reserve`, `make_shared`, `std::string::append`, `mutex -> atomic` etc - работает знание основ языка)\n",
    "  * Можно ли ускорить на уровне абстракций ОС? (примитивные примеры: virtual memory organization и разбиение на процессы - работает знание ОС - не в рамках этого курса)\n",
    "  * Welcome to michroarchitecture optimization guide! (примитивные примеры: strict aliasing, loops unrolling, vectorization etc. - вопрос, скорее всего, не будет покрываться в рамках курса)"
   ]
  },
  {
   "cell_type": "markdown",
   "metadata": {},
   "source": [
    "<br />"
   ]
  },
  {
   "cell_type": "markdown",
   "metadata": {},
   "source": [
    "##### Модель памяти"
   ]
  },
  {
   "cell_type": "markdown",
   "metadata": {},
   "source": [
    "![](mem_hierarchy_single_cpu.png)"
   ]
  },
  {
   "cell_type": "markdown",
   "metadata": {},
   "source": [
    "<br />"
   ]
  },
  {
   "cell_type": "markdown",
   "metadata": {},
   "source": [
    "![](mem_hierarchy_multi_cpu.png)"
   ]
  },
  {
   "cell_type": "markdown",
   "metadata": {},
   "source": [
    "Дополнительно рассказать про кешлайны, многопоточность и разреженность"
   ]
  },
  {
   "cell_type": "markdown",
   "metadata": {},
   "source": [
    "<br />"
   ]
  },
  {
   "cell_type": "markdown",
   "metadata": {},
   "source": [
    "**Замечания после семинара**:\n",
    "\n",
    "* На семинаре успели только быстренько пройтись по домашнему заданию и посмотреть на скрипт как профилировать. Нужно ещё додать про профилирование и рассказать про \"модель памяти\", которая про кеши-регистры"
   ]
  }
 ],
 "metadata": {
  "kernelspec": {
   "display_name": "Python 3",
   "language": "python",
   "name": "python3"
  },
  "language_info": {
   "codemirror_mode": {
    "name": "ipython",
    "version": 3
   },
   "file_extension": ".py",
   "mimetype": "text/x-python",
   "name": "python",
   "nbconvert_exporter": "python",
   "pygments_lexer": "ipython3",
   "version": "3.6.8"
  }
 },
 "nbformat": 4,
 "nbformat_minor": 2
}
