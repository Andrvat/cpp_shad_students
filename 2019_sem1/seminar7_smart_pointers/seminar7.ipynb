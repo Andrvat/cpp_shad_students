{
 "cells": [
  {
   "cell_type": "markdown",
   "metadata": {},
   "source": [
    "### Семинар 7. Умные указатели (C++11)"
   ]
  },
  {
   "cell_type": "markdown",
   "metadata": {},
   "source": [
    "https://en.cppreference.com/w/cpp/memory/unique_ptr"
   ]
  },
  {
   "cell_type": "markdown",
   "metadata": {},
   "source": [
    "https://en.cppreference.com/w/cpp/memory/shared_ptr"
   ]
  },
  {
   "cell_type": "markdown",
   "metadata": {},
   "source": [
    "https://en.cppreference.com/w/cpp/memory/weak_ptr"
   ]
  },
  {
   "cell_type": "markdown",
   "metadata": {},
   "source": [
    "https://en.cppreference.com/w/cpp/memory/unique_ptr/make_unique"
   ]
  },
  {
   "cell_type": "markdown",
   "metadata": {},
   "source": [
    "https://en.cppreference.com/w/cpp/memory/shared_ptr/make_shared"
   ]
  },
  {
   "cell_type": "markdown",
   "metadata": {},
   "source": [
    "<br />"
   ]
  },
  {
   "cell_type": "markdown",
   "metadata": {},
   "source": [
    "##### Мотивацонные примеры, зачем нужны умные указатели:"
   ]
  },
  {
   "cell_type": "markdown",
   "metadata": {},
   "source": [
    "Вариант 1. Мы пишем своих angry birds. Нужно уметь подгружать для игрушки ресурсы по сети."
   ]
  },
  {
   "cell_type": "code",
   "execution_count": null,
   "metadata": {},
   "outputs": [],
   "source": [
    "class NetworkSystem\n",
    "{\n",
    "public:\n",
    "    virtual ~NetworkSystem() = default;\n",
    "\n",
    "    virtual std::string load(const std::string& url) = 0;\n",
    "};\n",
    "\n",
    "class GameResourcesLoader\n",
    "{\n",
    "public:\n",
    "    GameResourcesLoader(NetworkSystem* network) {...}\n",
    "\n",
    "private:\n",
    "    NetworkSystem* network_;\n",
    "};\n",
    "\n",
    "class PromoEventsLoader\n",
    "{\n",
    "public:\n",
    "    PromoEventsLoader(NetworkSystem* network) {...}\n",
    "\n",
    "private:\n",
    "    NetworkSystem* network_;\n",
    "};"
   ]
  },
  {
   "cell_type": "markdown",
   "metadata": {},
   "source": [
    "В чём проблема?"
   ]
  },
  {
   "cell_type": "markdown",
   "metadata": {},
   "source": [
    "<br />"
   ]
  },
  {
   "cell_type": "markdown",
   "metadata": {},
   "source": [
    "Вариант 2. Мы реализуем первое домашнее задание и решили повыпендриваться с интерфейсами хешеров:"
   ]
  },
  {
   "cell_type": "code",
   "execution_count": null,
   "metadata": {},
   "outputs": [],
   "source": [
    "class Hasher\n",
    "{\n",
    "public:\n",
    "    virtual ~Hasher() = default;\n",
    "\n",
    "    virtual std::uint32_t calc_hash(std::istream& is) = 0;\n",
    "};\n",
    "\n",
    "Hasher *create_hasher(HasherType type)\n",
    "{\n",
    "    if (type == CRC32)\n",
    "        return new HasherCRC32();\n",
    "    else\n",
    "        return new HasherSUM32();\n",
    "}\n",
    "\n",
    "bool run(const std::string& filename, HasherType type)\n",
    "{\n",
    "    std::ifstream ifs(filename);\n",
    "    if (!ifs)\n",
    "        return false;\n",
    "\n",
    "    Hasher *hasher = create_hasher(type);\n",
    "\n",
    "    std::cout << hasher->calc_hash(ifs);\n",
    "\n",
    "    delete hasher;\n",
    "}"
   ]
  },
  {
   "cell_type": "markdown",
   "metadata": {},
   "source": [
    "В чём проблема?"
   ]
  },
  {
   "cell_type": "markdown",
   "metadata": {},
   "source": [
    "<br />"
   ]
  },
  {
   "cell_type": "markdown",
   "metadata": {},
   "source": [
    "Вариант 3. Посложнее. В чём проблема здесь?"
   ]
  },
  {
   "cell_type": "code",
   "execution_count": null,
   "metadata": {},
   "outputs": [],
   "source": [
    "class VideoDecoder\n",
    "{\n",
    "public:\n",
    "    VideoDecoder()\n",
    "        : codecs_{\n",
    "            new VideoCodecDIVX(),\n",
    "            new VideoCodecX264(),\n",
    "            new VideoCodecXVID()\n",
    "        }\n",
    "    {}\n",
    "\n",
    "    ~VideoDecoder() {\n",
    "        for (auto* codec: codecs_)\n",
    "            delete codec;\n",
    "    }\n",
    "    \n",
    "    ...;\n",
    "\n",
    "private:\n",
    "    std::vector<VideoCodec*> codecs_;\n",
    "};"
   ]
  },
  {
   "cell_type": "markdown",
   "metadata": {},
   "source": [
    "<br />"
   ]
  },
  {
   "cell_type": "markdown",
   "metadata": {},
   "source": [
    "##### Варианты умных (и не очень) указателей"
   ]
  },
  {
   "cell_type": "markdown",
   "metadata": {},
   "source": [
    "Эти правила появились с С++1, и отчасти являются следствием реализации умных указетелей, отчасти - договорённости. Те места, где правила нарушаются, должны быть в коде хорошо откомментированы.\n",
    "\n",
    "* `unique_ptr` - указатель, описывающий уникальное владение объектом\n",
    "* `shared_ptr` - указатель, описывающий множественные владние объектом\n",
    "* `weak_ptr` - указатель для отслеживания времени жизни shared-объектов\n",
    "* `raw pointer` - невладеющий указатель"
   ]
  },
  {
   "cell_type": "markdown",
   "metadata": {},
   "source": [
    "__Замечание__: за исключением задокументированных случаев сырой указатель - невладеющий, код, работающий с сырым указателем, не должен вызывать `free` и `delete`. Т.е.:\n",
    "\n",
    "* метод возвращает невладеющий указатель, ответственность за удаление объекта лежит на классе\n",
    "\n",
    "```\n",
    "class ItemsStorage\n",
    "{\n",
    "    ...\n",
    "    Item* find(int key) const;\n",
    "};\n",
    "```\n",
    "\n",
    "* функция возвращает невладеющий указатель, она знает, что вызывающий код не должен управлять временем жизни объекта\n",
    "\n",
    "```\n",
    "const char* get_name()\n",
    "{\n",
    "    return \"Dobryna Nikitich\";\n",
    "}\n",
    "```\n",
    "\n",
    "* функция принимает невладеющий указатель, она не в праве управлять временем жизни объекта. Семантика указателя: объект может отсутствовать.\n",
    "\n",
    "```\n",
    "Home build_home(const Roof* roof);\n",
    "```\n",
    "\n",
    "* функция принимает невладеющий указатель и возвращает невлащеющий указатель:\n",
    "\n",
    "```\n",
    "const char* find_char(const char* str, char c);\n",
    "```\n",
    "\n",
    "* особый случай - функции `malloc` && `free`:\n",
    "\n",
    "```\n",
    "void* malloc(size_t size);\n",
    "free(void *);\n",
    "```"
   ]
  },
  {
   "cell_type": "markdown",
   "metadata": {},
   "source": [
    "<br />"
   ]
  },
  {
   "cell_type": "markdown",
   "metadata": {},
   "source": [
    "##### std::unique_ptr IR"
   ]
  },
  {
   "cell_type": "markdown",
   "metadata": {},
   "source": [
    "Упрощённый вариант для демонстрации"
   ]
  },
  {
   "cell_type": "code",
   "execution_count": null,
   "metadata": {},
   "outputs": [],
   "source": [
    "template<typename T>\n",
    "class unique_ptr\n",
    "{\n",
    "public:\n",
    "    unique_ptr() : ptr(nullptr) {}\n",
    "    \n",
    "    unique_ptr(T* p) : ptr(p) {}\n",
    "    \n",
    "    ~unique_ptr()\n",
    "    {\n",
    "        delete ptr;\n",
    "    }\n",
    "    \n",
    "    // # указатель уникальный - копировать его нельзя\n",
    "    unique_ptr(const unique_ptr&) = delete;\n",
    "    unique_ptr& operator = (const unique_ptr&) = delete;\n",
    "    \n",
    "    // # а перемещать из одного объекта в другой - можно:\n",
    "    unique_ptr(unique_ptr&& rhs) noexcept\n",
    "    {\n",
    "        ptr = rhs.ptr;\n",
    "        rhs.ptr = nullptr;  // # 1. ~unique_ptr отработает нормально?\n",
    "                            // # 2. nullptr - специфицирован!\n",
    "    }\n",
    "    unique_ptr& operator = (unique_ptr&& rhs) noexcept\n",
    "    {\n",
    "        if (this != &rhs)\n",
    "        {\n",
    "            ptr = rhs.ptr;\n",
    "            rhs.ptr = nullptr;  \n",
    "        }\n",
    "        return *this;\n",
    "    }\n",
    "    \n",
    "    T& operator ->() const noexcept\n",
    "    {\n",
    "        return *ptr;\n",
    "    }    \n",
    "\n",
    "private:\n",
    "    T* ptr;\n",
    "};"
   ]
  },
  {
   "cell_type": "markdown",
   "metadata": {},
   "source": [
    "Чему равен `sizeof` такого `unique_ptr` ?"
   ]
  },
  {
   "cell_type": "markdown",
   "metadata": {},
   "source": [
    "<br />"
   ]
  },
  {
   "cell_type": "markdown",
   "metadata": {},
   "source": [
    "#### std::make_unique (C++14)"
   ]
  },
  {
   "cell_type": "code",
   "execution_count": null,
   "metadata": {},
   "outputs": [],
   "source": [
    "class VideoDecoder\n",
    "{\n",
    "public:\n",
    "    VideoDecoder()\n",
    "        : codecs_{\n",
    "            new VideoCodecDIVX(),\n",
    "            new VideoCodecX264(),\n",
    "            new VideoCodecXVID()\n",
    "        }\n",
    "    {}\n",
    "\n",
    "    ~VideoDecoder() {\n",
    "        for (auto* codec: codecs_)\n",
    "            delete codec;\n",
    "    }\n",
    "    \n",
    "    ...;\n",
    "\n",
    "private:\n",
    "    std::vector<VideoCodec*> codecs_;\n",
    "};"
   ]
  },
  {
   "cell_type": "code",
   "execution_count": null,
   "metadata": {},
   "outputs": [],
   "source": [
    "class VideoDecoder\n",
    "{\n",
    "public:\n",
    "    VideoDecoder()\n",
    "        : codecs_{\n",
    "            std::make_unique<VideoCodecDIVX>(),\n",
    "            std::make_unique<VideoCodecX264>(),\n",
    "            std::make_unique<VideoCodecXVID>()\n",
    "        }\n",
    "    {}\n",
    "\n",
    "    ~VideoDecoder() = default;\n",
    "    \n",
    "    ...;\n",
    "\n",
    "private:\n",
    "    std::vector<std::unique_ptr<VideoCodec>> codecs_;\n",
    "};"
   ]
  },
  {
   "cell_type": "markdown",
   "metadata": {},
   "source": [
    "<br />"
   ]
  },
  {
   "cell_type": "markdown",
   "metadata": {},
   "source": [
    "##### std::shared_ptr IR"
   ]
  },
  {
   "cell_type": "markdown",
   "metadata": {},
   "source": [
    "Перед тем как показать ответ, попробуйте ответить на следующие вопросы:"
   ]
  },
  {
   "cell_type": "markdown",
   "metadata": {},
   "source": [
    "Объект должен умереть, тогда и только тогда когда умрёт __последний__ его владелец. Какую информацию придётся хранить?"
   ]
  },
  {
   "cell_type": "markdown",
   "metadata": {},
   "source": [
    "Где эту информацию хранить? Как насчёт такого примера:\n",
    "\n",
    "```\n",
    "std::shared_ptr<T> a(new T);\n",
    "std::shared_ptr<T> b = a;\n",
    "std::shared_ptr<T> c = b;\n",
    "\n",
    "a.reset();\n",
    "b.reset();\n",
    "\n",
    "// объект должен жить, т.к. им владеют через c\n",
    "\n",
    "```"
   ]
  },
  {
   "cell_type": "markdown",
   "metadata": {},
   "source": [
    "<br />"
   ]
  },
  {
   "cell_type": "markdown",
   "metadata": {},
   "source": [
    "Ответ:"
   ]
  },
  {
   "cell_type": "markdown",
   "metadata": {},
   "source": [
    "![](sp_internals.PNG)"
   ]
  },
  {
   "cell_type": "markdown",
   "metadata": {},
   "source": [
    "<br />"
   ]
  },
  {
   "cell_type": "markdown",
   "metadata": {},
   "source": [
    "##### Как работает shared_ptr"
   ]
  },
  {
   "cell_type": "markdown",
   "metadata": {},
   "source": [
    "Потренируемся на кошках. Эти примеры надо рисовать на доске (что происходит в памяти), так понимают лучше"
   ]
  },
  {
   "cell_type": "code",
   "execution_count": null,
   "metadata": {},
   "outputs": [],
   "source": [
    "{\n",
    "    std::shared_ptr<Cat> cat1(new Cat);\n",
    "\n",
    "    std::shared_ptr<Cat> cat2;\n",
    "\n",
    "    cat2 = cat1;\n",
    "\n",
    "    std::shared_ptr<Cat> cat3 = cat1;\n",
    "\n",
    "    cat1.reset();\n",
    "\n",
    "    std::weak_ptr<Cat> weak_cat = cat2;\n",
    "\n",
    "    std::shared_ptr<Cat> cat4 = weak_cat.lock();\n",
    "    if (cat4)\n",
    "        ...;\n",
    "}"
   ]
  },
  {
   "cell_type": "markdown",
   "metadata": {},
   "source": [
    "<br />"
   ]
  },
  {
   "cell_type": "markdown",
   "metadata": {},
   "source": [
    "##### Специфические ошибки с shared_ptr"
   ]
  },
  {
   "cell_type": "markdown",
   "metadata": {},
   "source": [
    "* Один объект - несколько кластеров `shared_ptr`-ов\n",
    "\n",
    "    ```\n",
    "    Cat* y = new Cat();\n",
    "    std::shared_ptr<Cat> cat1(y);\n",
    "    std::shared_ptr<Cat> cat2(y);\n",
    "    ```\n",
    "\n",
    "* циклы владения\n",
    "\n",
    "```\n",
    "class Cat\n",
    "{\n",
    "public:\n",
    "    void add_frient(std::shared_ptr<Cat> f)\n",
    "    {\n",
    "        friends.push_back(std::move(f));\n",
    "    }\n",
    "\n",
    "private:\n",
    "    std::vetor<std::shared_ptr<Cat>> friends;\n",
    "};\n",
    "\n",
    "{\n",
    "    auto barsic = std::make_shared<Cat>();\n",
    "    auto marsic = std::make_shared<Cat>();\n",
    "    barsic->add_friend(marsic);\n",
    "    marsic->add_friend(barsic);\n",
    "}\n",
    "```"
   ]
  },
  {
   "cell_type": "markdown",
   "metadata": {},
   "source": [
    "<br />"
   ]
  },
  {
   "cell_type": "markdown",
   "metadata": {},
   "source": [
    "##### make_shared - способ быстрее создавать shared_ptr"
   ]
  },
  {
   "cell_type": "markdown",
   "metadata": {},
   "source": [
    "https://arne-mertz.de/2018/09/make_shared-vs-the-normal-shared_ptr-constructor/"
   ]
  },
  {
   "cell_type": "code",
   "execution_count": null,
   "metadata": {},
   "outputs": [],
   "source": [
    "std::vector<std::shared_ptr<Cat>> herd;\n",
    "herd.reserve(100);\n",
    "for (int i = 0; i < 100; ++i)\n",
    "    herd.push_back(std::shared_ptr<Cat>(new Cat()));"
   ]
  },
  {
   "cell_type": "markdown",
   "metadata": {},
   "source": [
    "![](shared_ptr_naive.png)"
   ]
  },
  {
   "cell_type": "markdown",
   "metadata": {},
   "source": [
    "200 аллокаций на объекты + 1 аллокация на вектор"
   ]
  },
  {
   "cell_type": "markdown",
   "metadata": {},
   "source": [
    "<br />"
   ]
  },
  {
   "cell_type": "code",
   "execution_count": null,
   "metadata": {},
   "outputs": [],
   "source": [
    "std::vector<std::shared_ptr<Cat>> herd;\n",
    "herd.reserve(100);\n",
    "for (int i = 0; i < 100; ++i)\n",
    "    herd.push_back(std::make_shared_ptr<Cat>());"
   ]
  },
  {
   "cell_type": "markdown",
   "metadata": {},
   "source": [
    "![](shared_ptr_make_shared.png)"
   ]
  },
  {
   "cell_type": "markdown",
   "metadata": {},
   "source": [
    "100 аллокаций на объекты + 1 аллокация на вектор"
   ]
  },
  {
   "cell_type": "markdown",
   "metadata": {},
   "source": [
    "<br />"
   ]
  },
  {
   "cell_type": "markdown",
   "metadata": {},
   "source": [
    "#### Правила работы с уникальными указателями:"
   ]
  },
  {
   "cell_type": "markdown",
   "metadata": {},
   "source": [
    "* Владение объектом:\n",
    "  * по значению\n",
    "  * через `std::unique_ptr` в случае единоличного владения\n",
    "  * через `std::shared_ptr` в случае множественного владения\n",
    "  \n",
    "  Не надо так!\n",
    "  ```\n",
    "  struct Point\n",
    "  {\n",
    "      std::unique_ptr<float> x;\n",
    "      std::unique_ptr<float> y;\n",
    "  };\n",
    "  ```\n",
    "  \n",
    "  Будьте человечнее:\n",
    "  ```\n",
    "  struct Point\n",
    "  {\n",
    "      float x;\n",
    "      float y;\n",
    "  };\n",
    "  ```\n",
    "  \n",
    "* В нормальном коде почти никогда не нужно явно вызывать `new`/`delete`. Для этого есть `std::make_unique` и `std::make_shared`:\n",
    "  * `std::make_unique` помогает избежать проблем с утечкой при исключениях\n",
    "  * `std::make_shared` дополнительно работает быстрее, т.к. выполняет меньше аллокаций\n",
    "\n",
    "* Для разрыва циклов используйте `std::weak_ptr`\n",
    "\n",
    "* Не надо без нужды передавать в функцию умный указатель - передавайте сам объект. Умный указатель передаётся только в том случае, если функция работает с методом владения объектом:\n",
    "\n",
    "    Случай, когда функции не должны работать со способом владения объектом:\n",
    "    ```\n",
    "    void print_person(const Person& person)\n",
    "    {\n",
    "        std::cout << person.name << ' ' << person.surname << ' ' << person.age;\n",
    "    }\n",
    "\n",
    "    void make_elder(Person& person)\n",
    "    {\n",
    "        ++person.age;\n",
    "\n",
    "        if (person.age == 33)\n",
    "            std::cout << \"time to fight!\" << std::endl;\n",
    "    }\n",
    "\n",
    "    std::shared_ptr<Person> ilya = std::make_shared<Person>(\"Ilya\", \"Muromec\", 32);\n",
    "    print_person(*ilya);\n",
    "    make_elder(*ilya);\n",
    "    ```\n",
    "    \n",
    "    Случай, когда должны:\n",
    "    ```\n",
    "    class Squad\n",
    "    {\n",
    "    public:\n",
    "        void add_warrior(std::shared_ptr<Person> warrior)\n",
    "        {\n",
    "            warriors_.push_back(warrior);\n",
    "            \n",
    "            // лучше: warriors_.push_back(std::move(warrior));\n",
    "            // почему лучше?            \n",
    "        }\n",
    "        \n",
    "    private:\n",
    "        std::vector<std::shared_ptr<Person>> warriors_;\n",
    "    };\n",
    "    \n",
    "    Squad s;\n",
    "    std::shared_ptr<Person> ilya = std::make_shared<Person>(\"Ilya\", \"Muromec\", 32);\n",
    "    s.add_warrior(ilya);\n",
    "    ```"
   ]
  },
  {
   "cell_type": "markdown",
   "metadata": {},
   "source": [
    "<br />"
   ]
  },
  {
   "cell_type": "markdown",
   "metadata": {},
   "source": [
    "За пределами семинара:\n",
    "    \n",
    "* custom deleter\n",
    "* custom allocator\n",
    "* scope exit function implementation with `std::unique_ptr`\n",
    "* `shared_from_this`\n",
    "* `std::shared_ptr` to class member\n",
    "* intrusive pointers"
   ]
  }
 ],
 "metadata": {
  "kernelspec": {
   "display_name": "Python 3",
   "language": "python",
   "name": "python3"
  },
  "language_info": {
   "codemirror_mode": {
    "name": "ipython",
    "version": 3
   },
   "file_extension": ".py",
   "mimetype": "text/x-python",
   "name": "python",
   "nbconvert_exporter": "python",
   "pygments_lexer": "ipython3",
   "version": "3.6.8"
  }
 },
 "nbformat": 4,
 "nbformat_minor": 2
}
