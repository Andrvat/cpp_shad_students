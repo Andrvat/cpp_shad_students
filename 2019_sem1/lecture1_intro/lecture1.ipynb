{
 "cells": [
  {
   "cell_type": "markdown",
   "metadata": {},
   "source": [
    "##### Примерное содержание первого семестра:\n",
    "\n",
    "От исходного кода до исполняемого файла:\n",
    "* что есть программа на С++\n",
    "* процесс сборки \n",
    "* компилятор и некоторые его опции\n",
    "\n",
    "Фичи языка:\n",
    "* функции и операторы\n",
    "* классы\n",
    "* шаблоны\n",
    "* исключения\n",
    "* умные указатели\n",
    "* стандартные контейнеры и алгоритмы\n",
    "* лямбда-функции\n",
    "* мета-программирование\n",
    "\n",
    "Практики разработки:\n",
    "* экосистема С++ проектов\n",
    "* практики производительности\n",
    "* юнит-тестирование: как и чем\n",
    "* анализаторы и санитары\n",
    "* паттерны проектирования"
   ]
  },
  {
   "cell_type": "markdown",
   "metadata": {},
   "source": [
    "<br />"
   ]
  },
  {
   "cell_type": "markdown",
   "metadata": {},
   "source": [
    "## Лекция 1. Введение"
   ]
  },
  {
   "cell_type": "markdown",
   "metadata": {},
   "source": [
    "Обзор места языка на рынке\n",
    "* Зачем С++? Почему не язык X?\n",
    "* Какова ниша С++?\n",
    "* Альтернативы?"
   ]
  },
  {
   "cell_type": "markdown",
   "metadata": {},
   "source": [
    "<br />"
   ]
  },
  {
   "cell_type": "markdown",
   "metadata": {},
   "source": [
    "Hello world на С++ и что есть что"
   ]
  },
  {
   "cell_type": "code",
   "execution_count": null,
   "metadata": {},
   "outputs": [],
   "source": [
    "#include <cstdio>\n",
    "\n",
    "int main()\n",
    "{\n",
    "    std::puts(\"Hello world\");\n",
    "    return 0;\n",
    "}"
   ]
  },
  {
   "cell_type": "markdown",
   "metadata": {},
   "source": [
    "<br />"
   ]
  },
  {
   "cell_type": "markdown",
   "metadata": {},
   "source": [
    "От текста программы к исполняемому файлу. Зачем нужен компилятор."
   ]
  },
  {
   "cell_type": "code",
   "execution_count": 8,
   "metadata": {},
   "outputs": [
    {
     "name": "stdout",
     "output_type": "stream",
     "text": [
      "#include <cstdio>\r\n",
      "\r\n",
      "int main()\r\n",
      "{\r\n",
      "    std::puts(\"Hello world\");\r\n",
      "    return 0;\r\n",
      "}\r\n",
      "\r\n"
     ]
    }
   ],
   "source": [
    "!cat hello_world.cpp"
   ]
  },
  {
   "cell_type": "markdown",
   "metadata": {},
   "source": [
    "Шаг 1: компилятор преобразует файл программы на С++ в объектный файл - скомпилированный набор функций файла в виде инструкций ассемблера и констант"
   ]
  },
  {
   "cell_type": "code",
   "execution_count": 17,
   "metadata": {},
   "outputs": [],
   "source": [
    "!clang++ -c -O3 hello_world.cpp -o hello_world.o"
   ]
  },
  {
   "cell_type": "markdown",
   "metadata": {},
   "source": [
    "Посмотрим на содержимое `hello_world.o`. Для этого воспользуемся утилитой `objdump`."
   ]
  },
  {
   "cell_type": "code",
   "execution_count": 18,
   "metadata": {},
   "outputs": [
    {
     "name": "stdout",
     "output_type": "stream",
     "text": [
      "\r\n",
      "hello_world.o:     file format elf64-x86-64\r\n",
      "\r\n",
      "Contents of section .text:\r\n",
      " 0000 50bf0000 0000e800 00000031 c059c3    P..........1.Y. \r\n",
      "Contents of section .rodata.str1.1:\r\n",
      " 0000 48656c6c 6f20776f 726c6400           Hello world.    \r\n",
      "Contents of section .comment:\r\n",
      " 0000 00636c61 6e672076 65727369 6f6e2036  .clang version 6\r\n",
      " 0010 2e302e30 2d317562 756e7475 32202874  .0.0-1ubuntu2 (t\r\n",
      " 0020 6167732f 52454c45 4153455f 3630302f  ags/RELEASE_600/\r\n",
      " 0030 66696e61 6c2900                      final).         \r\n",
      "Contents of section .eh_frame:\r\n",
      " 0000 14000000 00000000 017a5200 01781001  .........zR..x..\r\n",
      " 0010 1b0c0708 90010000 14000000 1c000000  ................\r\n",
      " 0020 00000000 0f000000 00410e10 00000000  .........A......\r\n"
     ]
    }
   ],
   "source": [
    "!objdump -s hello_world.o"
   ]
  },
  {
   "cell_type": "markdown",
   "metadata": {},
   "source": [
    "Попросим `objdump` показать ассемблер секции с исполняемым кодом:"
   ]
  },
  {
   "cell_type": "code",
   "execution_count": 21,
   "metadata": {},
   "outputs": [
    {
     "name": "stdout",
     "output_type": "stream",
     "text": [
      "\r\n",
      "hello_world.o:     file format elf64-x86-64\r\n",
      "\r\n",
      "\r\n",
      "Disassembly of section .text:\r\n",
      "\r\n",
      "0000000000000000 <main>:\r\n",
      "   0:\t50                   \tpush   %rax\r\n",
      "   1:\tbf 00 00 00 00       \tmov    $0x0,%edi\r\n",
      "   6:\te8 00 00 00 00       \tcallq  b <main+0xb>\r\n",
      "   b:\t31 c0                \txor    %eax,%eax\r\n",
      "   d:\t59                   \tpop    %rcx\r\n",
      "   e:\tc3                   \tretq   \r\n"
     ]
    }
   ],
   "source": [
    "!objdump -d hello_world.o"
   ]
  },
  {
   "cell_type": "markdown",
   "metadata": {},
   "source": [
    "Шаг 2: линковщик собирает несколько объектных файлов в один исполняемый"
   ]
  },
  {
   "cell_type": "code",
   "execution_count": 26,
   "metadata": {},
   "outputs": [],
   "source": [
    "!clang++ -O3 hello_world.o -o hello_world.exe"
   ]
  },
  {
   "cell_type": "markdown",
   "metadata": {},
   "source": [
    "Запустим:"
   ]
  },
  {
   "cell_type": "code",
   "execution_count": 23,
   "metadata": {},
   "outputs": [
    {
     "name": "stdout",
     "output_type": "stream",
     "text": [
      "Hello world\r\n"
     ]
    }
   ],
   "source": [
    "!./hello_world.exe"
   ]
  },
  {
   "cell_type": "markdown",
   "metadata": {},
   "source": [
    "Подчистим"
   ]
  },
  {
   "cell_type": "code",
   "execution_count": 27,
   "metadata": {},
   "outputs": [],
   "source": [
    "!rm -f *.o *.exe"
   ]
  },
  {
   "cell_type": "markdown",
   "metadata": {},
   "source": [
    "Как это сделано в Java? В python?"
   ]
  },
  {
   "cell_type": "markdown",
   "metadata": {},
   "source": [
    "<br />"
   ]
  },
  {
   "cell_type": "markdown",
   "metadata": {},
   "source": [
    "Базовые типы данных"
   ]
  },
  {
   "cell_type": "code",
   "execution_count": null,
   "metadata": {},
   "outputs": [],
   "source": [
    "// https://en.cppreference.com/w/cpp/language/types\n",
    "\n",
    "int main()\n",
    "{\n",
    "    # boolean\n",
    "    bool b = true;\n",
    "    \n",
    "    # integer\n",
    "    {\n",
    "        # >= 16 byte\n",
    "        short s = 0;\n",
    "        unsigned short us = 0;\n",
    "        \n",
    "        # >= 16 byte\n",
    "        int x = 0;\n",
    "        unsigned int ux = 0;\n",
    "        \n",
    "        # >= 32 byte\n",
    "        long l = 0;\n",
    "        unsinged long ul = 0;\n",
    "        \n",
    "        # >= 64 byte\n",
    "        long long ll = 0;\n",
    "        unsigned long long ull = 0;\n",
    "        \n",
    "        std::int32_t i32 = 0;\n",
    "        std::int64_t i64 = 0;\n",
    "        std::uint32_t u32 = 0;\n",
    "        std::uint64_t u64 = 0;\n",
    "    }\n",
    "    \n",
    "    # chars\n",
    "    {\n",
    "        char c = 0;\n",
    "        unsinged uc = 0;\n",
    "        \n",
    "        std::char16_t c16 = 0;\n",
    "        std::char32_t c32 = 0;\n",
    "    }\n",
    "    \n",
    "    # 1 == sizeof(char) <= sizeof(short) <= sizeof(int) <= sizeof(long) <= sizeof(long long)\n",
    "    \n",
    "    \n",
    "    # floats\n",
    "    {\n",
    "        float f = 0.f;        # usually 32-bit IEEE-754 type\n",
    "        double d = 0.;        # usually 64-bit IEEE-754 type\n",
    "        long double ld = 0.;  # usually 80-bit\n",
    "    }\n",
    "}"
   ]
  },
  {
   "cell_type": "markdown",
   "metadata": {},
   "source": [
    "Пределы представления чисел:"
   ]
  },
  {
   "cell_type": "code",
   "execution_count": null,
   "metadata": {},
   "outputs": [],
   "source": [
    "// https://en.cppreference.com/w/cpp/types/numeric_limits\n",
    "    \n",
    "#include <numeric_limits>\n",
    "    \n",
    "std::numeric_limits<std::int32_t>::max()\n",
    "std::numeric_limits<std::int64_t>::min()\n",
    "    \n",
    "std::numeric_limits<float>::max()\n",
    "std::numeric_limits<float>::min()\n",
    "std::numeric_limits<float>::lowest()"
   ]
  },
  {
   "cell_type": "markdown",
   "metadata": {},
   "source": [
    "<br />"
   ]
  },
  {
   "cell_type": "markdown",
   "metadata": {},
   "source": [
    "Управляющие конструкции языка"
   ]
  },
  {
   "cell_type": "code",
   "execution_count": null,
   "metadata": {},
   "outputs": [],
   "source": [
    "if (boolean expression)\n",
    "{\n",
    "    ...\n",
    "}\n",
    "else\n",
    "{\n",
    "    ...\n",
    "}\n",
    "\n",
    "\n",
    "if (boolean expression)\n",
    "{\n",
    "    ...\n",
    "}\n",
    "\n",
    "\n",
    "if (boolean expression)\n",
    "    operation;\n",
    "\n",
    "\n",
    "    \n",
    "if (int x = calculate_some_number())\n",
    "{\n",
    "    ... // do something with x != 0\n",
    "}\n",
    "\n",
    "\n",
    "if (int x = calculate_some_number(); x >= 5)\n",
    "{\n",
    "    ... // do something with x >= 5\n",
    "}"
   ]
  },
  {
   "cell_type": "code",
   "execution_count": null,
   "metadata": {},
   "outputs": [],
   "source": [
    "# for loop\n",
    "for (int i = 0; i < 100; ++i)\n",
    "{\n",
    "    ...\n",
    "}\n",
    "\n",
    "\n",
    "# range for\n",
    "std::vector v = {10, 20, 30, 40, 50};\n",
    "for (int i : v)\n",
    "{\n",
    "    ...\n",
    "}\n",
    "\n",
    "\n",
    "# while\n",
    "while (exression)\n",
    "{\n",
    "    ...\n",
    "}\n",
    "\n",
    "\n",
    "# do-while\n",
    "do\n",
    "{\n",
    "    ...\n",
    "}\n",
    "while (expression);"
   ]
  },
  {
   "cell_type": "markdown",
   "metadata": {},
   "source": [
    "<br />"
   ]
  },
  {
   "cell_type": "markdown",
   "metadata": {},
   "source": [
    "Стек и куча"
   ]
  },
  {
   "cell_type": "markdown",
   "metadata": {},
   "source": [
    "![img](stack_and_heap.png \"Стек и куча\")\n"
   ]
  },
  {
   "cell_type": "code",
   "execution_count": null,
   "metadata": {},
   "outputs": [],
   "source": [
    "void my_function()\n",
    "{\n",
    "    int x = 500;  // value on stack\n",
    "    int *p = &x;  // pointer to value\n",
    "    \n",
    "    *p = 42;\n",
    "    std::cout << x;  // ??\n",
    "}"
   ]
  },
  {
   "cell_type": "code",
   "execution_count": null,
   "metadata": {},
   "outputs": [],
   "source": [
    "void my_function()\n",
    "{\n",
    "    int *p = (int *)malloc(sizeof(int));  // pointer to value on heap\n",
    "    *p = 500;\n",
    "    int x = *p;                    // value on stack\n",
    "\n",
    "    *p = 42;\n",
    "    std::cout << x;  // ??\n",
    "    \n",
    "    free(p);\n",
    "}"
   ]
  },
  {
   "cell_type": "markdown",
   "metadata": {},
   "source": [
    "<br />"
   ]
  },
  {
   "cell_type": "markdown",
   "metadata": {},
   "source": [
    "Указатели и строки"
   ]
  },
  {
   "cell_type": "code",
   "execution_count": null,
   "metadata": {},
   "outputs": [],
   "source": [
    "#\n",
    "# С-строки\n",
    "#\n",
    "# функции стандартной библиотеки для работы со строками в стиле С\n",
    "# https://en.cppreference.com/w/cpp/string/byte\n",
    "\n",
    "const char* cname = \"cpushkin\";  // where? len?\n",
    "std::cout << cname << std::endl;\n",
    "\n",
    "char* pcname = (char*)malloc(sizeof(char) * (strlen(cname) + 1));  // where? +1?\n",
    "strcpy(pcname, cname);\n",
    "std::cout << pcname << std::endl;\n",
    "free(pcname);\n",
    "\n",
    "const char* greeting = \"Ai da \" + cname; // ! ERROR\n",
    "\n",
    "char s[100];\n",
    "sprintf(s, \"%i\", 42);\n",
    "\n",
    "\n",
    "#\n",
    "# C++ - строки\n",
    "#\n",
    "# класс стандартной строки:\n",
    "# https://en.cppreference.com/w/cpp/string/basic_string\n",
    "#\n",
    "# функции конвертации строк:\n",
    "# https://en.cppreference.com/w/cpp/string/basic_string/to_string\n",
    "\n",
    "std::string cppname = \"cpppushkin\";\n",
    "std::cout << cppname << std::endl;\n",
    "                \n",
    "std::string prep = \"Ai da\";\n",
    "std::string greeting = prep + \" \" + cppname; // OK\n",
    "        \n",
    "std::string s = std::to_string(42);\n",
    "\n",
    "std::string* pcppname = &cppname; // what is it?"
   ]
  },
  {
   "cell_type": "markdown",
   "metadata": {},
   "source": [
    "<br />"
   ]
  },
  {
   "cell_type": "markdown",
   "metadata": {},
   "source": [
    "Опционально:\n",
    "* функции и аргументы\n",
    "* ввод-вывод"
   ]
  }
 ],
 "metadata": {
  "kernelspec": {
   "display_name": "Python 3",
   "language": "python",
   "name": "python3"
  },
  "language_info": {
   "codemirror_mode": {
    "name": "ipython",
    "version": 3
   },
   "file_extension": ".py",
   "mimetype": "text/x-python",
   "name": "python",
   "nbconvert_exporter": "python",
   "pygments_lexer": "ipython3",
   "version": "3.6.8"
  }
 },
 "nbformat": 4,
 "nbformat_minor": 2
}
