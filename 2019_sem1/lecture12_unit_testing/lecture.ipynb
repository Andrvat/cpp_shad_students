{
 "cells": [
  {
   "cell_type": "markdown",
   "metadata": {},
   "source": [
    "### Лекция и семинар 11. Юнит-тестирование"
   ]
  },
  {
   "cell_type": "markdown",
   "metadata": {},
   "source": [
    "<br />"
   ]
  },
  {
   "cell_type": "markdown",
   "metadata": {},
   "source": [
    "##### Основы"
   ]
  },
  {
   "cell_type": "markdown",
   "metadata": {},
   "source": [
    "Тестирование по целям:\n",
    "* functional\n",
    "* performance\n",
    "* usability\n",
    "* ...\n",
    "\n",
    "functional-тесты:\n",
    "* юнит-тесты\n",
    "* интеграционные тесты"
   ]
  },
  {
   "cell_type": "markdown",
   "metadata": {},
   "source": [
    "__Вопросы-набросы__:\n",
    "\n",
    "<details>\n",
    "<summary>Зачем нужны юнит-тесты?</summary>\n",
    "<p>\n",
    "\n",
    "* Порверка корректности на этапе написания\n",
    "* Предотвращение поломки после рефакторинга\n",
    "\n",
    "</p>\n",
    "</details>\n",
    "\n",
    "<details>\n",
    "<summary>Что тестировать?</summary>\n",
    "<p>\n",
    "\n",
    "* success path\n",
    "* failure path\n",
    "* граничные значения\n",
    "* различные пути выполнения (см. [цикломатическая сложность](https://en.wikipedia.org/wiki/Cyclomatic_complexity))\n",
    "\n",
    "</p>\n",
    "</details>"
   ]
  },
  {
   "cell_type": "markdown",
   "metadata": {},
   "source": [
    "Чем тестировать:\n",
    "\n",
    "Наиболее популярной библиотекой для юнит-тестирования является [google test](https://github.com/google/googletest) и набор вспомогательных утилит для неё [google mock](https://github.com/google/googletest/tree/master/googlemock)."
   ]
  },
  {
   "cell_type": "markdown",
   "metadata": {},
   "source": [
    "Правила именования:\n",
    "\n",
    "```c++\n",
    "TEST(TestSuiteName, TestName)\n",
    "```"
   ]
  },
  {
   "cell_type": "markdown",
   "metadata": {},
   "source": [
    "Примеры:"
   ]
  },
  {
   "cell_type": "markdown",
   "metadata": {},
   "source": [
    "```c++\n",
    "// sqrt_unittest.cpp\n",
    "\n",
    "double sqrt(double x);\n",
    "\n",
    "TEST(sqrt, zero)\n",
    "{\n",
    "    double v = sqrt(0.);\n",
    "    EXPECT_NEAR(v, 0., 1e-6);\n",
    "}\n",
    "\n",
    "TEST(sqrt, nine)\n",
    "{\n",
    "    EXPECT_NEAR(sqrt(9.), 3., 1e-6);\n",
    "}\n",
    "```"
   ]
  },
  {
   "cell_type": "markdown",
   "metadata": {},
   "source": [
    "```c++\n",
    "// fabs_unittest.cpp\n",
    "\n",
    "double fabs(double x);\n",
    "\n",
    "TEST(fabs, zero)\n",
    "{\n",
    "    EXPECT_EQ(fabs(0.), 0.);\n",
    "}\n",
    "\n",
    "TEST(fabs, positive)\n",
    "{\n",
    "    EXPECT_EQ(fabs(3.), 3.);\n",
    "}\n",
    "\n",
    "TEST(fabs, negative)\n",
    "{\n",
    "    EXPECT_EQ(fabs(-3.), 3.);\n",
    "}\n",
    "```"
   ]
  },
  {
   "cell_type": "markdown",
   "metadata": {},
   "source": [
    "Библиотека gtest генерирует имена тестов по правилу:\n",
    "\n",
    "полное имя теста = `TestSuiteName.TestName`\n",
    "\n",
    "В примере будут сгенерированы тесты:\n",
    "\n",
    "* `sqrt.zero`\n",
    "* `sqrt.nine`\n",
    "* `fabs.zero`\n",
    "* `fabs.positive`\n",
    "* `fabs.negative`"
   ]
  },
  {
   "cell_type": "markdown",
   "metadata": {},
   "source": [
    "Макрос `TEST` помимо генерации тела теста ещё регистрирует тело теста и его имя в глобальном контейнере тестов. Затем запускалка перебирает глобальный контейнер и запускает тесты один за другим."
   ]
  },
  {
   "cell_type": "markdown",
   "metadata": {},
   "source": [
    "В файле `sqrt_unittest.o` после компиляции будет сгенерирован код регистрации тестов в глобальном контейнере:\n",
    "* `sqrt.zero`\n",
    "* `sqrt.nine`\n",
    "\n",
    "В файле `fabs_unittest.o` после компиляции будет сгенерирован код регистрации тестов в глобальном контейнере:\n",
    "* `fabs.zero`\n",
    "* `fabs.positive`\n",
    "* `fabs.negative`"
   ]
  },
  {
   "cell_type": "markdown",
   "metadata": {},
   "source": [
    "Далее линковщик скомпонует `sqrt_unittest.o` и `fabs_unittest.o` вместе в один исполняемый файл, в котором будет код регистрации для каждого теста."
   ]
  },
  {
   "cell_type": "markdown",
   "metadata": {},
   "source": [
    "__Замечание__: Чтобы добавить тесты на функцию `pow` нужно...\n",
    "\n",
    "<details>\n",
    "<summary>...?</summary>\n",
    "<p>\n",
    "\n",
    "создать аналогичный файлик `pow_unittest.cpp` и добавить его в компиляцию и линковку.\n",
    "\n",
    "</p>\n",
    "</details>\n"
   ]
  },
  {
   "cell_type": "markdown",
   "metadata": {},
   "source": [
    "<br />"
   ]
  },
  {
   "cell_type": "markdown",
   "metadata": {},
   "source": [
    "Запуск:"
   ]
  },
  {
   "cell_type": "markdown",
   "metadata": {},
   "source": [
    "`./project_unittest`"
   ]
  },
  {
   "cell_type": "markdown",
   "metadata": {},
   "source": [
    "Можно пофильтровать по именам:"
   ]
  },
  {
   "cell_type": "markdown",
   "metadata": {},
   "source": [
    "`./project_unittest --gtest_filter=sqrt.*`"
   ]
  },
  {
   "cell_type": "markdown",
   "metadata": {},
   "source": [
    "__Вопрос__:\n",
    "\n",
    "<details>\n",
    "<summary>как прогнать тесты sqrt.zero и fabs.zero?</summary>\n",
    "<p>\n",
    "    \n",
    "`./project_unittest --gtest_filter=*.zero`\n",
    "    \n",
    "</p>\n",
    "</details>"
   ]
  },
  {
   "cell_type": "markdown",
   "metadata": {},
   "source": [
    "<br />"
   ]
  },
  {
   "cell_type": "markdown",
   "metadata": {},
   "source": [
    "##### Идеалистическая организация теста"
   ]
  },
  {
   "cell_type": "markdown",
   "metadata": {},
   "source": [
    "```c++\n",
    "TEST(function, scenario)\n",
    "{\n",
    "    // настройка окружения\n",
    "    ...\n",
    "\n",
    "    // выполнение действия, результат которого надо протестировать\n",
    "    ...\n",
    "    \n",
    "    // проверка условий (в идеале - одного-единственного условия)\n",
    "    ...\n",
    "}\n",
    "```"
   ]
  },
  {
   "cell_type": "markdown",
   "metadata": {},
   "source": [
    "Пример:"
   ]
  },
  {
   "cell_type": "markdown",
   "metadata": {},
   "source": [
    "```c++\n",
    "TEST(read_n, reads_correct_value)\n",
    "{\n",
    "    // prepare\n",
    "    std::stringstream ss(\"42\");\n",
    "    \n",
    "    // run action\n",
    "    const unsigned n = read_n(ss);\n",
    "    \n",
    "    // check assertion\n",
    "    EXPECT_EQ(n, 42);\n",
    "}\n",
    "```"
   ]
  },
  {
   "cell_type": "markdown",
   "metadata": {},
   "source": [
    "Для функционала сложнее калькулятора бывает трудно организовать тесты идеальным образом. И это естественно."
   ]
  },
  {
   "cell_type": "markdown",
   "metadata": {},
   "source": [
    "<br />"
   ]
  },
  {
   "cell_type": "markdown",
   "metadata": {},
   "source": [
    "##### EXPECT_* / ASSERT_*"
   ]
  },
  {
   "cell_type": "markdown",
   "metadata": {},
   "source": [
    "__Вопрос__:\n",
    "\n",
    "<details>\n",
    "<summary>Чем EXPECT_EQ отличается от ASSERT_EQ?</summary>\n",
    "<p>\n",
    "\n",
    "В случае несовпадения значений\n",
    "* `EXPECT_EQ` генерирует нефатальную ошибку и продолжает выполнение теста\n",
    "* `ASSERT_EQ` генерирует фатальную ошибку - останавливает выполнение теста\n",
    "\n",
    "</p> \n",
    "</details>"
   ]
  },
  {
   "cell_type": "markdown",
   "metadata": {},
   "source": [
    "Для чистоты кода и более адекватных сообщениях об ошибке существуют разные варианты `EXPECT_*` и `ASSERT_*`:\n",
    "    \n",
    "* булевы выражения\n",
    "    ```c++\n",
    "    EXPECT_TRUE(v.empty());\n",
    "    EXPECT_FALSE(v.empty());\n",
    "    ```\n",
    "* равенство (для вещ. чисел см. [статью](https://randomascii.wordpress.com/2012/02/25/comparing-floating-point-numbers-2012-edition/))\n",
    "    ```c++\n",
    "    EXPECT_EQ(x, y);\n",
    "    EXPECT_NE(x, y);\n",
    "    EXPECT_FLOAT_EQ(x, y);\n",
    "    EXPECT_DOUBLE_EQ(x, y);\n",
    "    EXPECT_NEAR(x, y, abs_error);  // <-- use this for float/double values\n",
    "    ```\n",
    "* порядок\n",
    "    ```c++\n",
    "    EXPECT_LT(x, y);\n",
    "    EXPECT_LE(x, y);\n",
    "    EXPECT_GT(x, y);\n",
    "    EXPECT_GE(x, y);\n",
    "    ```\n",
    "* C-строки\n",
    "    ```c++\n",
    "    const char* s = \"Get the rack!\";\n",
    "    EXPECT_STREQ(s, \"Nobody expects for Spanish Inquisition!\");\n",
    "    EXPECT_STRNE(s, \"Nobody expects for Spanish Inquisition!\");\n",
    "    EXPECT_CASEEQ(s, \"Nobody expects for Spanish Inquisition!\");\n",
    "    EXPECT_CASENE(s, \"Nobody expects for Spanish Inquisition!\");\n",
    "    ```\n",
    "* исключения\n",
    "    ```c++\n",
    "    EXPECT_THROW(my_function(3., 4.), std::runtime_error);\n",
    "    EXPECT_ANY_THROW(my_function(3., 4.));\n",
    "    EXPECT_NO_THROW(my_function(3., 4.));\n",
    "    EXPECT_NO_THROW({\n",
    "        const double x = get_number();\n",
    "        my_function(x);\n",
    "    });\n",
    "    ```\n",
    "* кастомные условия (можно через `EXPECT_TRUE`, но эти варианты выведут аргументы в значения об ошибке)\n",
    "    ```c++\n",
    "    bool isPrime(int n) { ... }\n",
    "    bool isMutuallyPrime(int m, int n) { ... }\n",
    "\n",
    "    EXPECT_PRED1(isPrime, 5);\n",
    "    EXPECT_PRED2(isMutuallyPrime, 9, 10);\n",
    "    ```\n",
    "* матчеры из gmock ... (о них в продвинутой части)"
   ]
  },
  {
   "cell_type": "markdown",
   "metadata": {},
   "source": [
    "<br />"
   ]
  },
  {
   "cell_type": "markdown",
   "metadata": {},
   "source": [
    "##### ASSERT_NO_FATAL_FAILURE"
   ]
  },
  {
   "cell_type": "markdown",
   "metadata": {},
   "source": [
    "`ASSERT_*` - проверки на фатальную ошибку. Делает 3 вещи:\n",
    "* печатают сообщение об ошибке\n",
    "* добваляют информацию о фатальной ошибке (например, в глобальную (или `thead_local`) переменную)\n",
    "* `return` из текущей функции (функция должна быть `void`)"
   ]
  },
  {
   "cell_type": "markdown",
   "metadata": {},
   "source": [
    "`ASSERT_NO_FATAL_FAILURE(statement)` - проверка, что `statement` не добавил новых фатальных ошибок, если добавил - `return` из текущей функции (д.б. `void`)"
   ]
  },
  {
   "cell_type": "markdown",
   "metadata": {},
   "source": [
    "Зачем?"
   ]
  },
  {
   "cell_type": "markdown",
   "metadata": {},
   "source": [
    "```c++\n",
    "void setup_testing_environment()\n",
    "{\n",
    "    const bool network_ok = setup_testing_network();\n",
    "    ASSERT_TRUE(network_ok);\n",
    "    \n",
    "    const bool database_ok = setup_testing_database();\n",
    "    ASSERT_TRUE(database_ok);\n",
    "}\n",
    "\n",
    "TEST(suite, scenario)\n",
    "{\n",
    "    ASSERT_NO_FATAL_FAILURE(setup_testing_environment());\n",
    "    \n",
    "    ...\n",
    "}\n",
    "```"
   ]
  },
  {
   "cell_type": "markdown",
   "metadata": {},
   "source": [
    "<br />"
   ]
  },
  {
   "cell_type": "markdown",
   "metadata": {},
   "source": [
    "##### Fixtures"
   ]
  },
  {
   "cell_type": "markdown",
   "metadata": {},
   "source": [
    "Пример:"
   ]
  },
  {
   "cell_type": "markdown",
   "metadata": {},
   "source": [
    "Пишем тесты для функции поиска кратчайшего пути в графе\n",
    "\n",
    "`Way dijkstra(const Graph& g, const Vertex& v_start, const Vertex& v_final);`\n",
    "\n",
    "Для серии тестов на `dijkstra` нужно создавать один и тот же граф `G` через вызовы:\n",
    "\n",
    "```c++\n",
    "auto V = make_special_vertices();\n",
    "auto E = make_special_edges(V);\n",
    "auto G = make_graph(V, E);\n",
    "```"
   ]
  },
  {
   "cell_type": "markdown",
   "metadata": {},
   "source": [
    "Как могли бы выглядеть тесты:\n",
    "    \n",
    "```c++\n",
    "TEST(dijkstra, same_vertex)\n",
    "{\n",
    "    // setup special graph\n",
    "    const auto V = make_special_vertices();\n",
    "    const auto E = make_special_edges(V);\n",
    "    const auto G = make_graph(V, E);\n",
    "    \n",
    "    // way v1 -> v1 should have zero len\n",
    "    const auto v1 = find_vertex(V, \"v1\");\n",
    "    const auto way = dijkstra(G, v1, v1);\n",
    "    EXPECT_EQ(way.length(), 0);\n",
    "}\n",
    "\n",
    "TEST(dijkstra, unreachable_vertex)\n",
    "{\n",
    "    // setup special graph\n",
    "    const auto V = make_special_vertices();\n",
    "    const auto E = make_special_edges(V);\n",
    "    const auto G = make_graph(V, E);\n",
    "    \n",
    "    // way between unreachable vertices shouldn't exist\n",
    "    const auto v1 = find_vertex(V, \"v1\");\n",
    "    const auto v9 = find_vertex(V, \"v9\");    \n",
    "    const auto way = dijkstra(G, v1, v9);\n",
    "    EXPECT_FALSE(way.is_finite());\n",
    "}\n",
    "\n",
    "TEST(dijkstra, normal_way)\n",
    "{\n",
    "    // setup special graph\n",
    "    const auto V = make_special_vertices();\n",
    "    const auto E = make_special_edges(V);\n",
    "    const auto G = make_graph(V, E);\n",
    "    \n",
    "    // normal way should be ok\n",
    "    const auto v1 = find_vertex(V, \"v1\");\n",
    "    const auto v2 = find_vertex(V, \"v2\");\n",
    "    const auto way = dijkstra(G, v1, v2);\n",
    "    EXPECT_TRUE(way.is_finite());\n",
    "}\n",
    "```"
   ]
  },
  {
   "cell_type": "markdown",
   "metadata": {},
   "source": [
    "__Вопрос__:\n",
    "\n",
    "<details>\n",
    "<summary>В чём проблема? Что должно моментально вызывать аллергическую реакцию программиста?</summary>\n",
    "<p>\n",
    "\n",
    "copy-paste\n",
    "\n",
    "</p>\n",
    "</details>"
   ]
  },
  {
   "cell_type": "markdown",
   "metadata": {},
   "source": [
    "Вариант починить проблему - fixtures.\n",
    "\n",
    "Fixtures позволяют единообразно и разово задать:\n",
    "* необходимые действия для инициализации теста\n",
    "* необходимые действия для очистки теста\n",
    "\n",
    "Пример:"
   ]
  },
  {
   "cell_type": "markdown",
   "metadata": {},
   "source": [
    "```c++\n",
    "class DijstraSpecialGraph : public Test\n",
    "{\n",
    "protected:\n",
    "    void SetUp() override\n",
    "    {\n",
    "        V_ = make_special_vertices();\n",
    "        E_ = make_special_edges(V_);\n",
    "        G_ = make_graph(V_, E_);    \n",
    "    }\n",
    "    \n",
    "    const Vertices& vertices() const noexcept { return V_; }\n",
    "    const Edges& edges() const noexcept { return E_; }\n",
    "    const Graph& graph() const noexcept { return G_; }\n",
    "    \n",
    "private:\n",
    "    Vertices V_;\n",
    "    Edges E_;\n",
    "    Graph G_;\n",
    "};\n",
    "\n",
    "TEST_F(DijstraSpecialGraph, same_vertex)\n",
    "{\n",
    "    const auto v1 = find_vertex(vertices(), \"v1\");\n",
    "    const auto way = dijkstra(graph(), v1, v1);\n",
    "    EXPECT_EQ(way.length(), 0);\n",
    "}\n",
    "\n",
    "TEST_F(DijstraSpecialGraph, unreachable_vertex)\n",
    "{\n",
    "    const auto v1 = find_vertex(vertices(), \"v1\");\n",
    "    const auto v9 = find_vertex(vertices(), \"v9\");\n",
    "    const auto way = dijkstra(graph(), v1, v9);\n",
    "    EXPECT_FALSE(way.is_finite());\n",
    "}\n",
    "\n",
    "TEST_F(DijstraSpecialGraph, normal_way)\n",
    "{\n",
    "    const auto v1 = find_vertex(vertices(), \"v1\");\n",
    "    const auto v2 = find_vertex(vertices(), \"v2\");\n",
    "    const auto way = dijkstra(graph(), v1, v2);\n",
    "    EXPECT_TRUE(way.is_finite());\n",
    "}\n",
    "```"
   ]
  },
  {
   "cell_type": "markdown",
   "metadata": {},
   "source": [
    "Обратите внимание на:\n",
    "* fixture определяется как класс\n",
    "* используется макрос `TEST_F`\n",
    "* В fixture можно определить методы `void SetUp()` и `void TearDown()`\n",
    "    * `SetUp` - действия до запуска теста\n",
    "    * `TearDown` - действия после прогона теста"
   ]
  },
  {
   "cell_type": "markdown",
   "metadata": {},
   "source": [
    "__Вопрос__:\n",
    "\n",
    "<details>\n",
    "<summary>Что делать, если нужно 10 тестов на специальный граф и 10 тестов на специальный граф чуть-чуть другого вида, например, с добавлением одного ребра для создания цикла?</summary>\n",
    "<p>\n",
    "    \n",
    "Варианты:\n",
    "* иерархия классов `DijstraSpecialGraph`: `DijstraSpecialGraphBase` + `DijstraSpecialGraphAcyclic` + `DijstraSpecialGraphCyclic`:\n",
    "\n",
    "    ```c++\n",
    "    class DijstraSpecialGraphBase : public ::testing::Test\n",
    "    {\n",
    "    protected:\n",
    "        DijstraSpecialGraphBase(bool isCycled) { ... }\n",
    "        ...\n",
    "    };\n",
    "\n",
    "    class DijstraSpecialGraphAcyclic : public DijstraSpecialGraphBase\n",
    "    {\n",
    "    protected:\n",
    "        DijstraSpecialGraphAcyclic() : DijstraSpecialGraphBase(false) {}\n",
    "    };\n",
    "\n",
    "    class DijstraSpecialGraphCyclic : public DijstraSpecialGraphBase\n",
    "    {\n",
    "    protected:\n",
    "        DijstraSpecialGraphCyclic() : DijstraSpecialGraphBase(true) {}\n",
    "    };\n",
    "    ```\n",
    "    \n",
    "* шаблонный fixture (почему бы и нет?):\n",
    "\n",
    "    ```c++\n",
    "    template<bool IsCyclic>\n",
    "    class DijstraSpecialGraph : public ::testing::Test\n",
    "    {\n",
    "        ...\n",
    "    };\n",
    "\n",
    "    using DijstraSpecialGraphAcyclic = DijstraSpecialGraph<false>;\n",
    "    using DijstraSpecialGraphCyclic = DijstraSpecialGraph<true>;\n",
    "    ```\n",
    "\n",
    "* value-parametrized tests (позже и посложнее)\n",
    "\n",
    "</p>\n",
    "</details>"
   ]
  },
  {
   "cell_type": "markdown",
   "metadata": {},
   "source": [
    "__Замечания__:\n",
    "* Из-за организации gtest внутри тела теста можно доступаться только до protected данных fixture, т.к. gtest генерирует неявного наследника.\n",
    "* В случае иерархии fixture protected поля - сомнительная идея, возможно, лучше защитить их через protected - аксессоры, ещё лучше - const-аксессоры"
   ]
  },
  {
   "cell_type": "markdown",
   "metadata": {},
   "source": [
    "<br />"
   ]
  },
  {
   "cell_type": "markdown",
   "metadata": {},
   "source": [
    "Как это работает для каждого теста:\n",
    "* Сохранить состояния флагов googletest\n",
    "* Создать объект fixture\n",
    "* Позвать метод `SetUp` у fixture\n",
    "* Прогнать тест\n",
    "* Позвать `TearDown` у fixture\n",
    "* Удалить объект fixture.\n",
    "* Восстановить состояния флагов.\n",
    "\n",
    "```c++\n",
    "    save_gtest_flags();\n",
    "    {\n",
    "        Fixture f;\n",
    "        f.SetUp();\n",
    "        f.RunTest();\n",
    "        f.TearDown();\n",
    "    }    \n",
    "    restore_gtest_flags();\n",
    "```"
   ]
  },
  {
   "cell_type": "markdown",
   "metadata": {},
   "source": [
    "__Вопрос__: Сколько объектов fixture здесь будет создано?\n",
    "    \n",
    "```c++\n",
    "TEST_F(DijstraSpecialGraph, same_vertex)\n",
    "{\n",
    "}\n",
    "\n",
    "TEST_F(DijstraSpecialGraph, unreachable_vertex)\n",
    "{\n",
    "}\n",
    "\n",
    "TEST_F(DijstraSpecialGraph, normal_way)\n",
    "{\n",
    "}\n",
    "```"
   ]
  },
  {
   "cell_type": "markdown",
   "metadata": {},
   "source": [
    "<br />"
   ]
  },
  {
   "cell_type": "markdown",
   "metadata": {},
   "source": [
    "##### Отключение тестов"
   ]
  },
  {
   "cell_type": "markdown",
   "metadata": {},
   "source": [
    "Если тест падает, но чинить прямо сейчас его некогда (в больших проектах бывает), его можно отключить:"
   ]
  },
  {
   "cell_type": "markdown",
   "metadata": {},
   "source": [
    "```c++\n",
    "TEST(DijstraSpecialGraph, DISABLED_unreachable_vertex) { ... }\n",
    "```"
   ]
  },
  {
   "cell_type": "markdown",
   "metadata": {},
   "source": [
    "Или отключить всю fixture:"
   ]
  },
  {
   "cell_type": "markdown",
   "metadata": {},
   "source": [
    "```c++\n",
    "class DISABLED_DijstraSpecialGraph : public Test { ... };\n",
    "\n",
    "TEST_F(DISABLED_DijstraSpecialGraph, same_vertex)\n",
    "{\n",
    "}\n",
    "\n",
    "TEST_F(DISABLED_DijstraSpecialGraph, unreachable_vertex)\n",
    "{\n",
    "}\n",
    "\n",
    "TEST_F(DISABLED_DijstraSpecialGraph, normal_way)\n",
    "{\n",
    "}\n",
    "```"
   ]
  },
  {
   "cell_type": "markdown",
   "metadata": {},
   "source": [
    "__Вопрос__: Вариант решения проблемы - закомментировать тест, но лучше применять DISABLED, почему?"
   ]
  },
  {
   "cell_type": "markdown",
   "metadata": {},
   "source": [
    "Как отключить тест для платформы?"
   ]
  },
  {
   "cell_type": "markdown",
   "metadata": {},
   "source": [
    "```c++\n",
    "#ifdef __WINDOWS__\n",
    "#define MAYBE_normal_way DISABLED_normal_way\n",
    "#else\n",
    "#define MAYBE_normal_way normal_way\n",
    "#endif\n",
    "\n",
    "TEST_F(DijstraSpecialGraph, MAYBE_normal_way)\n",
    "{\n",
    "}\n",
    "```"
   ]
  },
  {
   "cell_type": "markdown",
   "metadata": {},
   "source": [
    "<br />"
   ]
  },
  {
   "cell_type": "markdown",
   "metadata": {},
   "source": [
    "##### Запуск тестов, доп. опции"
   ]
  },
  {
   "cell_type": "markdown",
   "metadata": {},
   "source": [
    "Фильтрация тестов:\n",
    "\n",
    "* запустить только сюиту `sqrt`:\n",
    "\n",
    "    `./unittests --gtest_filter=sqrt.*`\n",
    "\n",
    "* запустить `sqrt` && `fabs`:\n",
    "\n",
    "    `./unittests --gtest_filter=*sqrt*:*fabs*`\n",
    "\n",
    "* запустить `sqrt`, но не `sqrt.zero`:\n",
    "\n",
    "    `./unittests --gtest_filter=sqrt.*-sqrt.zero`\n",
    "\n",
    "* `sqrt` и `fabs`, но не `zero`:\n",
    "\n",
    "    `./unittests --gtest_filter=sqrt.*:fabs.*-sqrt.zero:fabs.zero`"
   ]
  },
  {
   "cell_type": "markdown",
   "metadata": {},
   "source": [
    "Многократный запуск тестов:\n",
    "\n",
    "`./unittests --gtest_repeat=1000`\n",
    "\n",
    "__Вопрос__: зачем?"
   ]
  },
  {
   "cell_type": "markdown",
   "metadata": {},
   "source": [
    "Остановиться на первом падении:\n",
    "\n",
    "`./unittests --gtest_break_on_failure`\n",
    "\n",
    "__Вопрос__: зачем?"
   ]
  },
  {
   "cell_type": "markdown",
   "metadata": {},
   "source": [
    "Перемешать порядок тестов:\n",
    "\n",
    "`./unittest --gtest_shuffle --gtest_random_seed=100500`\n",
    "\n",
    "__Вопрос__: зачем?"
   ]
  },
  {
   "cell_type": "markdown",
   "metadata": {},
   "source": [
    "Изменение формата вывода:\n",
    "    \n",
    "`./unittest --gtest_output=json|xml`\n",
    "\n",
    "__Вопрос__: зачем?"
   ]
  },
  {
   "cell_type": "markdown",
   "metadata": {},
   "source": [
    "<br />"
   ]
  },
  {
   "cell_type": "markdown",
   "metadata": {},
   "source": [
    "##### Что делать, если нужно протестировать состояние приватного поля класса?"
   ]
  },
  {
   "cell_type": "markdown",
   "metadata": {},
   "source": [
    "```c++\n",
    "class TriangleShape\n",
    "{\n",
    "public:\n",
    "    TriangleShape();\n",
    "    void draw();\n",
    "\n",
    "private:\n",
    "    Color color_;      // <-- need to test this value\n",
    "    Point v1, v2, v3;  // <-- need to test this value\n",
    "};\n",
    "```"
   ]
  },
  {
   "cell_type": "markdown",
   "metadata": {},
   "source": [
    "<details>\n",
    "<summary>Ответ</summary>\n",
    "<p>\n",
    "\n",
    "страдать\n",
    "\n",
    "</p>\n",
    "</details>"
   ]
  },
  {
   "cell_type": "markdown",
   "metadata": {},
   "source": [
    "Вариант 0: выводить в public всё нужное (совсем плохо)"
   ]
  },
  {
   "cell_type": "markdown",
   "metadata": {},
   "source": [
    "Вариант 1: `_for_testing` - методы"
   ]
  },
  {
   "cell_type": "markdown",
   "metadata": {},
   "source": [
    "```c++\n",
    "class TriangleShape\n",
    "{\n",
    "public: // usual interface\n",
    "    TriangleShape();\n",
    "\n",
    "    void draw();\n",
    "    \n",
    "public: // testing-only methods\n",
    "    const Color& get_color_for_testing() const { return color_; }\n",
    "    const Point& get_vertex_1_for_testing() const { return v1; }\n",
    "    const Point& get_vertex_2_for_testing() const { return v2; }\n",
    "    const Point& get_vertex_3_for_testing() const { return v3; }\n",
    "\n",
    "private:\n",
    "    Color color_;\n",
    "    Point v1, v2, v3;\n",
    "};\n",
    "// проще отследить использование \"неправильных\" методов в боевом коде, но:\n",
    "//   а) много лишнего шума в классе (читабельность, вреся компиляции)\n",
    "//   б) лишние методы компилируются в исполняемый файл\n",
    "```"
   ]
  },
  {
   "cell_type": "markdown",
   "metadata": {},
   "source": [
    "Вариант 2: `FRIEND_TEST`"
   ]
  },
  {
   "cell_type": "markdown",
   "metadata": {},
   "source": [
    "```c++\n",
    "class TriangleShape\n",
    "{\n",
    "public: // usual interface\n",
    "    TriangleShape();\n",
    "\n",
    "    void draw();\n",
    "\n",
    "private:\n",
    "    // перечислим тесты, которым можно залезать в private:\n",
    "    FRIEND_TEST(TriangleShape, TestName1);\n",
    "    FRIEND_TEST(TriangleShape, TestName2);\n",
    "    FRIEND_TEST(TriangleShape, TestName3);\n",
    "    FRIEND_TEST(AnotherSuite, AnotherTestName1);\n",
    "    FRIEND_TEST(AnotherSuite, AnotherTestName2);\n",
    "    \n",
    "    Color color_;\n",
    "    Point v1, v2, v3;\n",
    "};\n",
    "// в боевом коде лишние методы не компилируется, но:\n",
    "//   а) много лишнего шума в классе (больше тестов - длиннее текст класса)\n",
    "//   б) в итоговой программе нужен инклуд из тестовой библиотеки\n",
    "```"
   ]
  },
  {
   "cell_type": "markdown",
   "metadata": {},
   "source": [
    "Вариант 3: friend-обёртка над классом для тестов"
   ]
  },
  {
   "cell_type": "markdown",
   "metadata": {},
   "source": [
    "```c++\n",
    "\n",
    "// production-код:\n",
    "\n",
    "class TriangleShape\n",
    "{\n",
    "public: // usual interface\n",
    "    TriangleShape();\n",
    "\n",
    "    void draw();\n",
    "\n",
    "private:\n",
    "    friend class TriangleShapeTestingAccessor;\n",
    "\n",
    "    Color color_;\n",
    "    Point v1, v2, v3;\n",
    "};\n",
    "\n",
    "// код, компилирующийся только в рамках юнит-тестов:\n",
    "\n",
    "class TriangleShapeTestingAccessor\n",
    "{\n",
    "public:\n",
    "    static const Color& get_color(const TriangleShape& shape) { return shape.color_; }    \n",
    "};\n",
    "\n",
    "// сами тесты:\n",
    "\n",
    "TEST(Suite, Name)\n",
    "{\n",
    "    TriangleShape tri = make_triangle();\n",
    "    const auto color = TriangleShapeTestingAccessor::get_color(tri);\n",
    "}\n",
    "\n",
    "// в боевом коде почти нет артефактов от тестирования, но:\n",
    "//     а) приходится писать отдельный TestingAccessor на каждый сложно тестируемый класс\n",
    "```"
   ]
  },
  {
   "cell_type": "markdown",
   "metadata": {},
   "source": [
    "<br />"
   ]
  },
  {
   "cell_type": "markdown",
   "metadata": {},
   "source": [
    "##### Матчеры (gmock)"
   ]
  },
  {
   "cell_type": "markdown",
   "metadata": {},
   "source": [
    "Матчеры - расширение набора проверок `EXPECT_*`"
   ]
  },
  {
   "cell_type": "markdown",
   "metadata": {},
   "source": [
    "https://github.com/google/googletest/blob/master/googlemock/docs/cheat_sheet.md#matchers-matcherlist"
   ]
  },
  {
   "cell_type": "markdown",
   "metadata": {},
   "source": [
    "Вызов:\n",
    "    \n",
    "```c++\n",
    "EXPECT_THAT(actual_value, matcher)\n",
    "ASSERT_THAT(actual_value, matcher)\n",
    "```"
   ]
  },
  {
   "cell_type": "markdown",
   "metadata": {},
   "source": [
    "Пример:\n",
    "\n",
    "```c++\n",
    "TEST(...)\n",
    "{\n",
    "    std::vector<int> numbers = make_numbers();\n",
    "    EXPECT_THAT(numbers, IsEmpty());\n",
    "}\n",
    "```"
   ]
  },
  {
   "cell_type": "markdown",
   "metadata": {},
   "source": [
    "Какие матчеры бывают:"
   ]
  },
  {
   "cell_type": "markdown",
   "metadata": {},
   "source": [
    "* аналоги обычных `EXPECT_*/ASSERT_*`\n",
    "    * `EXPECT_THAT(value, Eq(42));`\n",
    "    * `EXPECT_THAT(value, Ne(42));`\n",
    "    * `EXPECT_THAT(value, Ge(42));`\n",
    "    * `EXPECT_THAT(value, Gt(42));`\n",
    "    * `EXPECT_THAT(value, Le(42));`\n",
    "    * `EXPECT_THAT(value, Lt(42));`\n",
    "    * `EXPECT_THAT(value, IsTrue());`\n",
    "    * `EXPECT_THAT(value, IsFalse());`\n",
    "    * `EXPECT_THAT(value, DoubleEq(42.0));`\n",
    "    * `EXPECT_THAT(value, FloatEq(42.0));`\n",
    "    * `EXPECT_THAT(value, DoubleNear(42.0, 1e-3));`\n",
    "    * `EXPECT_THAT(value, FloatNear(42.0, 1e-3));`\n",
    "* указатели\n",
    "    * `EXPECT_THAT(pointer, IsNull());`\n",
    "    * `EXPECT_THAT(pointer, NotNull());`\n",
    "* строки\n",
    "    * `EXPECT_THAT(s, EndsWith(\"abc\"));`\n",
    "    * `EXPECT_THAT(s, StartsWith(\"abc\"));`\n",
    "    * `EXPECT_THAT(s, HasSubstr(\"abc\"));`\n",
    "    * `EXPECT_THAT(s, StrEq(\"abc\"));`\n",
    "    * `EXPECT_THAT(s, StrNe(\"abc\"));`\n",
    "    * `EXPECT_THAT(s, StrCaseEq(\"abc\"));`\n",
    "    * `EXPECT_THAT(s, StrCaseNe(\"abc\"));`\n",
    "    * `EXPECT_THAT(s, ContainsRegex(\"abc*\"));`\n",
    "* контейнеры\n",
    "    * `EXPECT_THAT(numbers, IsEmpty());`\n",
    "    * `EXPECT_THAT(numbers, SizeIs(5));`\n",
    "    * `EXPECT_THAT(numbers, ContainerEq(another_numbers));`\n",
    "    * `EXPECT_THAT(numbers, Contains(42));`\n",
    "    * `EXPECT_THAT(strings, Each(IsEmpty()));`\n",
    "    * `EXPECT_THAT(numbers, ElementsAre(1, 2, 3, 4, 5));`\n",
    "    * `EXPECT_THAT(numbers, ElementsAreArray(another_numbers));`\n",
    "    * `EXPECT_THAT(numbers, UnorderedElementsAre(1, 2, 3, 4, 5));`\n",
    "    * `EXPECT_THAT(numbers, UnorderedElementsAreArray(another_numbers));`\n",
    "    * `EXPECT_THAT(numbers, IsSubsetOf({1, 2, 3, 4, 5}));`\n",
    "    * `EXPECT_THAT(numbers, WhenSorted(ElementsAre(1, 2, 3)));`\n",
    "* композиции\n",
    "    * `AllOf`:\n",
    "    ```c++\n",
    "    EXPECT_THAT(string,\n",
    "                AllOf(EndsWith(\".txt\"),\n",
    "                      SizeIs(10)));\n",
    "    ```\n",
    "    * `AnyOf`:\n",
    "    ```c++\n",
    "    EXPECT_THAT(string,\n",
    "                AnyOf(EndsWith(\".txt\"),\n",
    "                      SizeIs(10)));\n",
    "\n",
    "    ```\n",
    "    * `Not`:\n",
    "    ```c++\n",
    "    EXPECT_THAT(numbers, Not(IsSubsetOf({1, 2, 3, 4, 5})));\n",
    "    ```\n",
    "* создание собственных матчеров:\n",
    "\n",
    "    ```c++\n",
    "    MATCHER(IsEven, \"\") { return (arg % 2) == 0; }\n",
    "\n",
    "    EXPECT_THAT(value, IsEven());\n",
    "    ```"
   ]
  },
  {
   "cell_type": "markdown",
   "metadata": {},
   "source": [
    "__Упражение__:\n",
    "\n",
    "<details>\n",
    "<summary>С помощью матчеров проверить, что в списке имён файлов нет текстовых (.txt)</summary>\n",
    "<p>\n",
    "\n",
    "`EXPECT_THAT(filenames, Each(Not(EnsWith(\".txt\"))));`\n",
    "    \n",
    "</p>    \n",
    "</details>"
   ]
  },
  {
   "cell_type": "markdown",
   "metadata": {},
   "source": [
    "<br />"
   ]
  },
  {
   "cell_type": "markdown",
   "metadata": {},
   "source": [
    "##### Dependency inversion"
   ]
  },
  {
   "cell_type": "markdown",
   "metadata": {},
   "source": [
    "Инверсия зависимостей - техника, позволяющая \"развязать\" зависимости между компонентами программы через интерфейсы."
   ]
  },
  {
   "cell_type": "markdown",
   "metadata": {},
   "source": [
    "https://en.wikipedia.org/wiki/Dependency_injection\n",
    "\n",
    "https://en.wikipedia.org/wiki/Dependency_inversion_principle"
   ]
  },
  {
   "cell_type": "markdown",
   "metadata": {},
   "source": [
    "Рассмотрим на примере 2 реализации поиска самого молодого студента в БД:"
   ]
  },
  {
   "cell_type": "markdown",
   "metadata": {},
   "source": [
    "Вариант 1:\n",
    "\n",
    "```c++\n",
    "std::optional<Student> find_youngest_student(const Database& db)\n",
    "{\n",
    "    std::optional<Student> rv;\n",
    "    \n",
    "    const auto students = db.get_students();\n",
    "    if (!students.empty())\n",
    "    {\n",
    "        rv.emplace(*min_element(begin(students), end(students),\n",
    "                                [](const Student& lhs, const Student& rhs){\n",
    "                                    return lhs.age < rhs.age;\n",
    "                                }));\n",
    "    }\n",
    "     \n",
    "    return rv;\n",
    "}\n",
    "```"
   ]
  },
  {
   "cell_type": "markdown",
   "metadata": {},
   "source": [
    "Вариант 2:\n",
    "    \n",
    "```c++\n",
    "\n",
    "// IDatabase.h\n",
    "// где-то в районе определения кода БД:\n",
    "struct IDatabase\n",
    "{\n",
    "    virtual ~IDatabase() = default;\n",
    "    \n",
    "    virtual std::vector<Student> get_students() const = 0;\n",
    "};\n",
    "\n",
    "// Database.h\n",
    "// где-то в районе определения кода БД:\n",
    "class Database : public IDatabase\n",
    "{\n",
    "public:\n",
    "    std::vector<Student> get_students() const override;\n",
    "    ...\n",
    "};\n",
    "\n",
    "// функция поиска самого молодого студента\n",
    "// Обратите внимание на тип принимаемого аргумента\n",
    "\n",
    "std::optional<Student> find_youngest_student(const IDatabase& db)\n",
    "{\n",
    "    std::optional<Student> rv;\n",
    "\n",
    "    const auto students = db.get_students();\n",
    "    if (!students.empty())\n",
    "    {\n",
    "        auto it = min_element(begin(students), end(students),\n",
    "                              [](const Student& lhs, const Student& rhs){\n",
    "                                  return lhs.age < rhs.age;\n",
    "                              });\n",
    "        rv.emplace(*it);\n",
    "    }\n",
    "\n",
    "    return rv;\n",
    "}\n",
    "```"
   ]
  },
  {
   "cell_type": "markdown",
   "metadata": {},
   "source": [
    "__Особенности__:\n",
    "* Сложность реализации:\n",
    "\n",
    "    Вариант с интерфейсом посложнее (нужно писать интерфейсы и наследование)\n",
    "    \n",
    "    \n",
    "* Время выполнения:\n",
    "\n",
    "    Вариант с интерфейсом содежрит доп. расходы на вызов виртуальной функции\n",
    "    \n",
    "    \n",
    "* Время компиляции:\n",
    "\n",
    "    В среднем по больнице, вариант с интерфейсом компилируется быстрее\n",
    "    \n",
    "<details>\n",
    "<summary>Почему? что увеличивает, а что уменьшает время компиляции?</summary>\n",
    "<p>\n",
    "    \n",
    "увеличивает время компиляции:\n",
    "* парсинг самого интерфейса при компиляции кода БД\n",
    "* парсинг с наследованием и накладные расходы на него\n",
    "* генерация доп. кода прыжков по вирутальным функциям\n",
    "    \n",
    "уменьшает время компиляции (т.к. внешний код к БД инклудит только IDatabase.h):\n",
    "* не нужно парсить и компилировать \"...\" в классе `Database`\n",
    "* из-за этого `IDatabase.h` (как правило) тянет много меньше зависимостей по инклудам\n",
    "* не нужно перекомпилировать при изменении `Database.h`\n",
    "    \n",
    "</p>\n",
    "</details>\n",
    "    \n",
    "* Тестируемость:\n",
    "\n",
    "    Вариант 1 тестировать нетривиально, вариант 2 - очень легко:"
   ]
  },
  {
   "cell_type": "markdown",
   "metadata": {},
   "source": [
    "```c++\n",
    "class EmptyTestingDatabase : public IDatabase\n",
    "{\n",
    "public:\n",
    "    std::vector<Student> get_students() const override\n",
    "    {\n",
    "        return {};\n",
    "    }\n",
    "};\n",
    "\n",
    "TEST(find_youngest_student, no_students)\n",
    "{\n",
    "    EmptyTestingDatabase db;\n",
    "    \n",
    "    const auto maybe_student = find_youngest_student(db);\n",
    "    \n",
    "    EXPECT_FALSE(maybe_student.has_value());\n",
    "}\n",
    "\n",
    "class SingleEinsteinDatabase : public IDatabase\n",
    "{\n",
    "public:\n",
    "    std::vector<Students> get_students() const override\n",
    "    {\n",
    "        return {Student{\"Einstein\", 38}};\n",
    "    }        \n",
    "};\n",
    "\n",
    "TEST(find_youngest_student, those_boy_einstein)\n",
    "{\n",
    "    SingleEinsteinDatabase db;\n",
    "    \n",
    "    const auto maybe_student = find_youngest_student(db);\n",
    "    ASSERT_TRUE(maybe_student.has_value());\n",
    "    \n",
    "    EXPECT_EQ(maybe_student.value().name == \"Einstein\");\n",
    "}\n",
    "```"
   ]
  },
  {
   "cell_type": "markdown",
   "metadata": {},
   "source": [
    "<br />"
   ]
  },
  {
   "cell_type": "markdown",
   "metadata": {},
   "source": [
    "##### Mocks"
   ]
  },
  {
   "cell_type": "markdown",
   "metadata": {},
   "source": [
    "Мокирование - механизм, который помогает на лету генерировать вспомогательные тестовые объекты типа `EmptyTestingDatabase`, `SingleEinsteinDatabase`."
   ]
  },
  {
   "cell_type": "markdown",
   "metadata": {},
   "source": [
    "Пример:"
   ]
  },
  {
   "cell_type": "markdown",
   "metadata": {},
   "source": [
    "```c++\n",
    "class MockDatabase : public IDatabase\n",
    "{\n",
    "public:\n",
    "    MOCK_METHOD(std::vector<Student>, get_students, (), (const, override));        \n",
    "};\n",
    "\n",
    "\n",
    "TEST(find_youngest_student, no_students)\n",
    "{\n",
    "    MockDatabase db;\n",
    "    ON_CALL(db, get_students())\n",
    "        .WillByDefault(Return(std::vector<Student>()));\n",
    "\n",
    "    const auto maybe_student = find_youngest_student(db);\n",
    "\n",
    "    EXPECT_FALSE(maybe_student.has_value());\n",
    "}\n",
    "\n",
    "TEST(find_youngest_student, those_boy_einstein)\n",
    "{\n",
    "    MockDatabase db;\n",
    "    ON_CALL(db, get_students())\n",
    "        .WillByDefault(Return(std::vector<Student>{Student{\"Einstein\", 38}}));\n",
    "\n",
    "    const auto maybe_student = find_youngest_student(db);\n",
    "    ASSERT_TRUE(maybe_student.has_value());\n",
    "\n",
    "    EXPECT_EQ(maybe_student.value().name == \"Einstein\");\n",
    "}\n",
    "```"
   ]
  },
  {
   "cell_type": "markdown",
   "metadata": {},
   "source": [
    "<br />"
   ]
  },
  {
   "cell_type": "markdown",
   "metadata": {},
   "source": [
    "2 варианта работы с mock-объектами:\n",
    "* `ON_CALL` - указать, что будет происходить при вызове метода\n",
    "* `EXPECT_CALL` - указать ожидания к вызову (expectations) и что   "
   ]
  },
  {
   "cell_type": "markdown",
   "metadata": {},
   "source": [
    "Примеры с `EXPECT_CALL` от gtest-a:\n",
    "\n",
    "```c++\n",
    "EXPECT_CALL(turtle, GetX())\n",
    "    .Times(5)\n",
    "    .WillOnce(Return(100))\n",
    "    .WillOnce(Return(150))\n",
    "    .WillRepeatedly(Return(200));\n",
    "// TODO: что произойдёт, если в тесте GetX позвался 4 раза?\n",
    "    \n",
    "// что здесь?\n",
    "EXPECT_CALL(turtle, GoTo(50, _))\n",
    "    .Times(AtLeast(3));\n",
    "\n",
    "// что здесь?\n",
    "EXPECT_CALL(turtle, Forward(Ge(100)))\n",
    "    .Times(Between(2, 5));\n",
    "\n",
    "// что ожидается здесь?\n",
    "EXPECT_CALL(turtle, GetY())\n",
    "    .Times(4)\n",
    "    .WillOnce(Return(100));\n",
    "```\n",
    "\n",
    "<details>\n",
    "<summary>Ответ</summary>\n",
    "100, 0, 0, 0\n",
    "</details>"
   ]
  },
  {
   "cell_type": "markdown",
   "metadata": {},
   "source": [
    "Mock-объектам можно задать действия, что делать при срабатывании вызова:"
   ]
  },
  {
   "cell_type": "markdown",
   "metadata": {},
   "source": [
    "```c++\n",
    "TEST(find_youngest_student, those_boy)\n",
    "{\n",
    "    MockDatabase db;\n",
    "    ON_CALL(db, get_students())\n",
    "        .WillOnce(Invoke([]() -> std::vector<Student> {\n",
    "            std::cout << \"get_students() called\" << std::endl;\n",
    "            return {Student{\"Einstein\", 38}};\n",
    "        }));\n",
    "    ...\n",
    "}\n",
    "```"
   ]
  },
  {
   "cell_type": "markdown",
   "metadata": {},
   "source": [
    "Ещё больше способов задать хитрых действий:\n",
    "https://github.com/google/googletest/blob/master/googlemock/docs/cheat_sheet.md#actions-actionlist"
   ]
  },
  {
   "cell_type": "markdown",
   "metadata": {},
   "source": [
    "Гайд от gtest-а по работе с mock-объектами:\n",
    "1. создать mock-объект\n",
    "2. если требуется, задать дефолтные actions\n",
    "3. задать expectations\n",
    "4. выполнить код теста\n",
    "5. при уничтожении mock-объекта автоматически проверяется, что все его expectations выполнены"
   ]
  },
  {
   "cell_type": "markdown",
   "metadata": {},
   "source": [
    "<br />"
   ]
  },
  {
   "cell_type": "markdown",
   "metadata": {},
   "source": [
    "##### Тестирование последовательности вызовов методов mock-объекта"
   ]
  },
  {
   "cell_type": "markdown",
   "metadata": {},
   "source": [
    "Mock-объектам можно указывать, в каком порядке должны вызываться методы.\n",
    "\n",
    "Для этого используется объект класса `InSequence`.\n",
    "\n",
    "Пример от gtest-а:\n",
    "\n",
    "```c++\n",
    "TEST(FooTest, MoveTurtle)\n",
    "{\n",
    "  MockTurtle turtle;\n",
    "\n",
    "  InSequence seq;\n",
    "  EXPECT_CALL(turtle, PenDown());\n",
    "  EXPECT_CALL(turtle, Forward(100));\n",
    "  EXPECT_CALL(turtle, PenUp());\n",
    "\n",
    "  RunScenario(turtle);\n",
    "}\n",
    "```"
   ]
  },
  {
   "cell_type": "markdown",
   "metadata": {},
   "source": [
    "Пример на псевдокоде, где такое требование может быть логичным:\n",
    "\n",
    "```c++\n",
    "TEST(LocationService, LocationIsRequested)\n",
    "{\n",
    "    MockLocationService location_service;\n",
    "    \n",
    "    InSequence seq;\n",
    "    EXPECT_CALL(location_service, Initialize());\n",
    "    EXPECT_CALL(location_service, RequestLocation())\n",
    "        .WillByDefault( \n",
    "            Return(\n",
    "                Location(55, 83)));\n",
    "    EXPECT_CALL(location_service, Shutdown());\n",
    "    \n",
    "    const auto app = LaunchApp();    \n",
    "    DisplayCurrentLocation(app);\n",
    "    CheckLocationDisplayed(app);\n",
    "}\n",
    "```"
   ]
  },
  {
   "cell_type": "markdown",
   "metadata": {},
   "source": [
    "Более сложный пример с графом зависимостей:"
   ]
  },
  {
   "cell_type": "markdown",
   "metadata": {},
   "source": [
    "```c++\n",
    "Expectation init_x = EXPECT_CALL(obj, InitX());\n",
    "Expectation init_y = EXPECT_CALL(obj, InitY());\n",
    "EXPECT_CALL(obj, some_method())\n",
    "     .After(init_x, init_y);\n",
    "```"
   ]
  },
  {
   "cell_type": "markdown",
   "metadata": {},
   "source": [
    "Больше примеров в документации:\n",
    "    \n",
    "https://github.com/google/googletest/blob/master/googlemock/docs/cheat_sheet.md#expectation-order"
   ]
  },
  {
   "cell_type": "markdown",
   "metadata": {},
   "source": [
    "<br />"
   ]
  },
  {
   "cell_type": "markdown",
   "metadata": {},
   "source": [
    "##### Тесты, параметризированные значениями"
   ]
  },
  {
   "cell_type": "markdown",
   "metadata": {},
   "source": [
    "Пример, найденный на просторах сети, на мой субъективный взгляд, исключительно демонстрационный и сверх меры усложняющий альтернативное \"тупое\" решение:"
   ]
  },
  {
   "cell_type": "markdown",
   "metadata": {},
   "source": [
    "Вариант 1:"
   ]
  },
  {
   "cell_type": "markdown",
   "metadata": {},
   "source": [
    "```c++\n",
    "class LeapYearTest : public TestWithParam<int> {};\n",
    "\n",
    "TEST_P(LeapYearTest, LeapYear) {\n",
    "    const int year = GetParam();  // <-- notice GetParam() call\n",
    "    EXPECT_TRUE(isLeapYear(year));\n",
    "}\n",
    "\n",
    "INSTANTIATE_TEST_CASE_P(\n",
    "        LeapYearTestsP,\n",
    "        LeapYearTest,\n",
    "        Values(104, 1996, 1960, 2012));\n",
    "\n",
    "\n",
    "class NotLeapYearTest : public TestWithParam<int> {};\n",
    "\n",
    "TEST_P(NotLeapYearTest, NotLeapYear) {\n",
    "    const int year = GetParam();  // <-- notice GetParam() call\n",
    "    EXPECT_FALSE(isLeapYear(year));\n",
    "}\n",
    "\n",
    "INSTANTIATE_TEST_CASE_P(\n",
    "        NotLeapYearTestsP,\n",
    "        NotLeapYearTest,\n",
    "        Values(103, 1995, 1961, 1900));\n",
    "```"
   ]
  },
  {
   "cell_type": "markdown",
   "metadata": {},
   "source": [
    "Вариант 2:"
   ]
  },
  {
   "cell_type": "markdown",
   "metadata": {},
   "source": [
    "```c++\n",
    "struct LeapYearTestParam\n",
    "{\n",
    "    int year;\n",
    "    bool leap;\n",
    "};\n",
    "\n",
    "class LeapYearTest : public TestWithParam<LeapYearTestParam> {};\n",
    "\n",
    "TEST_P(LeapYearTest, ChecksIfLeapYear) {\n",
    "    EXPECT_EQ(GetParam().leap, isLeapYear(GetParam().year));\n",
    "}\n",
    "\n",
    "INSTANTIATE_TEST_CASE_P(\n",
    "        LeapYearTests,\n",
    "        LeapYearTest,\n",
    "        Values(LeapYearTestParam{7, false},\n",
    "               LeapYearTestParam{2001, false},\n",
    "               LeapYearTestParam{1996, true},\n",
    "               LeapYearTestParam{1700, false},\n",
    "               LeapYearTestParam{1600, true}));\n",
    "```"
   ]
  },
  {
   "cell_type": "markdown",
   "metadata": {},
   "source": [
    "__Замечание__: ещё есть тесты, параметризованные типами (на шаблонах)\n",
    "https://github.com/google/googletest/blob/master/googletest/samples/sample6_unittest.cc"
   ]
  },
  {
   "cell_type": "markdown",
   "metadata": {},
   "source": [
    "<br />"
   ]
  },
  {
   "cell_type": "markdown",
   "metadata": {},
   "source": [
    "##### шаринг данных в fixture, глобальный шаринг данных"
   ]
  },
  {
   "cell_type": "markdown",
   "metadata": {},
   "source": [
    "__Вопрос:__ сколько будет создано объектов класса `DijstraSpecialGraph` при прогоне таких тестов?\n",
    "\n",
    "```c++\n",
    "class DijstraSpecialGraph : public Test\n",
    "{\n",
    "    ...\n",
    "};\n",
    "\n",
    "TEST_F(DijstraSpecialGraph, same_vertex) { ... }\n",
    "TEST_F(DijstraSpecialGraph, unreachable_vertex) { ... }\n",
    "TEST_F(DijstraSpecialGraph, normal_way) { ... }\n",
    "```"
   ]
  },
  {
   "cell_type": "markdown",
   "metadata": {},
   "source": [
    "Это принцип дизайна gtest-а, который (наиболее вероятно) сэкономил море человекочасов, избежав ненужных зависимостей между соседними тестами."
   ]
  },
  {
   "cell_type": "markdown",
   "metadata": {},
   "source": [
    "В случае, если заполнение данных для fixture слишком дорого чтобы делать это на каждый тест, можно шарить данные между fixture:"
   ]
  },
  {
   "cell_type": "markdown",
   "metadata": {},
   "source": [
    "```c++\n",
    "class DijstraSpecialGraphTest : public Test\n",
    "{\n",
    "protected:\n",
    "    static void SetUpTestSuite()\n",
    "    {\n",
    "        shared_graph_.emplace(...);  // setup shared resource\n",
    "    }\n",
    "\n",
    "    static void TearDownTestSuite()\n",
    "    {\n",
    "        shared_graph_.reset();  // cleanup shared resource\n",
    "    }\n",
    "\n",
    "    void SetUp() override { ... }\n",
    "    void TearDown() override { ... }\n",
    "\n",
    "    static std::optional<T> shared_graph_;\n",
    "};\n",
    "```"
   ]
  },
  {
   "cell_type": "markdown",
   "metadata": {},
   "source": [
    "<br />"
   ]
  },
  {
   "cell_type": "markdown",
   "metadata": {},
   "source": [
    "Ещё можно делать глобальный setup-teardown:\n",
    "\n",
    "https://github.com/google/googletest/blob/master/googletest/docs/advanced.md#global-set-up-and-tear-down\n",
    "\n",
    "Но при более-менее прямой организации тестов не могу представить зачем это может понадобиться."
   ]
  },
  {
   "cell_type": "markdown",
   "metadata": {},
   "source": [
    "<br />"
   ]
  },
  {
   "cell_type": "markdown",
   "metadata": {},
   "source": [
    "##### Ускорение компиляции mock-объектов"
   ]
  },
  {
   "cell_type": "markdown",
   "metadata": {},
   "source": [
    "https://github.com/google/googletest/blob/master/googlemock/docs/cook_book.md#making-the-compilation-faster"
   ]
  },
  {
   "cell_type": "markdown",
   "metadata": {},
   "source": [
    "Mock-объекты компилируются не быстро.\n",
    "\n",
    "По утвереждению авторов gtest-а основное время компиляции уходит на автогенерированные конструкторы и деструкторы из-за того, что в них нужно генерировать код инициализации и проверки expectations.\n",
    "\n",
    "Решение для переиспользуемых mock-объектов - компилировать конструкторы и деструкторы отдельно в cpp-файле."
   ]
  },
  {
   "cell_type": "markdown",
   "metadata": {},
   "source": [
    "Было:"
   ]
  },
  {
   "cell_type": "markdown",
   "metadata": {},
   "source": [
    "```c++\n",
    "// MockNetworkService.h\n",
    "\n",
    "class MockNetworkService : public INetworkService\n",
    "{\n",
    "public:\n",
    "    MOCK_METHOD(void, initialize, (), (override));\n",
    "    MOCK_METHOD(std::string, request, (std::string_view), (override));\n",
    "    MOCK_METHOD(void, shutdown, (), (override));\n",
    "};\n",
    "```"
   ]
  },
  {
   "cell_type": "markdown",
   "metadata": {},
   "source": [
    "Стало:"
   ]
  },
  {
   "cell_type": "markdown",
   "metadata": {},
   "source": [
    "```c++\n",
    "// MockNetworkService.h\n",
    "\n",
    "class MockNetworkService : public INetworkService\n",
    "{\n",
    "public:\n",
    "    MockNetworkService();\n",
    "    ~MockNetworkService();\n",
    "    \n",
    "    MOCK_METHOD(void, initialize, (), (override));\n",
    "    MOCK_METHOD(std::string, request, (std::string_view), (override));\n",
    "    MOCK_METHOD(void, shutdown, (), (override));\n",
    "};\n",
    "\n",
    "// MockNetworkService.cpp\n",
    "\n",
    "MockNetworkService::MockNetworkService() = default;\n",
    "MockNetworkService::~MockNetworkService() = default;\n",
    "```"
   ]
  },
  {
   "cell_type": "markdown",
   "metadata": {},
   "source": [
    "__Вопрос:__ сколько раз будет скомпилирован конструктор и деструктор во втором варианте? Почему? А в первом?"
   ]
  },
  {
   "cell_type": "markdown",
   "metadata": {},
   "source": [
    "<br />"
   ]
  },
  {
   "cell_type": "markdown",
   "metadata": {},
   "source": [
    "Полезный доп.материал для самостоятельного изучения:\n",
    "* default actions на вызов мокированного метода\n",
    "* nice/strict mocks\n",
    "* зачем нужен RetiresOnSaturation\n",
    "* тесты, параметризированные типами\n",
    "* Death tests\n",
    "* gtest listener API"
   ]
  }
 ],
 "metadata": {
  "kernelspec": {
   "display_name": "Python 3",
   "language": "python",
   "name": "python3"
  },
  "language_info": {
   "codemirror_mode": {
    "name": "ipython",
    "version": 3
   },
   "file_extension": ".py",
   "mimetype": "text/x-python",
   "name": "python",
   "nbconvert_exporter": "python",
   "pygments_lexer": "ipython3",
   "version": "3.6.8"
  }
 },
 "nbformat": 4,
 "nbformat_minor": 2
}
