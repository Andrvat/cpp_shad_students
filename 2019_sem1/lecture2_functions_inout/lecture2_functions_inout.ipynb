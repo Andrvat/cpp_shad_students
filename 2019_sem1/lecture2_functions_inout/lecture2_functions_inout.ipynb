{
 "cells": [
  {
   "cell_type": "markdown",
   "metadata": {},
   "source": [
    "### Лекция 2. Пространства имён, функции и ввод-вывод"
   ]
  },
  {
   "cell_type": "markdown",
   "metadata": {},
   "source": [
    "<br />"
   ]
  },
  {
   "cell_type": "markdown",
   "metadata": {},
   "source": [
    "##### Функции, объявление и определение (declaration / definition)"
   ]
  },
  {
   "cell_type": "markdown",
   "metadata": {},
   "source": [
    "Определение (definition) функции - описание её \"интерфейса\" (сигнатуры, возвращаемого типа и квалификаторов) И реализации."
   ]
  },
  {
   "cell_type": "code",
   "execution_count": null,
   "metadata": {},
   "outputs": [],
   "source": [
    "float abs(float x)\n",
    "{\n",
    "    if (x >= 0)\n",
    "        return x;\n",
    "    return -x;\n",
    "}\n",
    "\n",
    "[[nodiscard]] float min_value(const std::vector<float>& items) noexcept\n",
    "{\n",
    "    float rv = items.front();\n",
    "    for (const float item : items)\n",
    "        rv = std::min(rv, item);\n",
    "    return rv;\n",
    "}"
   ]
  },
  {
   "cell_type": "markdown",
   "metadata": {},
   "source": [
    "Замечание:\n",
    "* для поиска минимума, конечно же, используйте `std::min_element`\n",
    "* а для вычисления абсолютных величин функцию `abs` из `#include <cmath>`"
   ]
  },
  {
   "cell_type": "markdown",
   "metadata": {},
   "source": [
    "Объявление (declaration) функции - описание её \"интерфейса\""
   ]
  },
  {
   "cell_type": "code",
   "execution_count": null,
   "metadata": {},
   "outputs": [],
   "source": [
    "float abs(float x);\n",
    "\n",
    "[[nodiscard]] float min_value(const std::vector<float>& items) noexcept;"
   ]
  },
  {
   "cell_type": "markdown",
   "metadata": {},
   "source": [
    "Если не прописано явно, у функции в программе может быть несколько объявлений, но не больше одного определения."
   ]
  },
  {
   "cell_type": "markdown",
   "metadata": {},
   "source": [
    "<br />"
   ]
  },
  {
   "cell_type": "markdown",
   "metadata": {},
   "source": [
    "##### Передача аргументов в функцию и возвращаемое значение"
   ]
  },
  {
   "cell_type": "markdown",
   "metadata": {},
   "source": [
    "Передача по значению и по ссылке\n",
    "(нарисовать происходящее в памяти)"
   ]
  },
  {
   "cell_type": "code",
   "execution_count": null,
   "metadata": {},
   "outputs": [],
   "source": [
    "std::vector<float> v = {1.f, 2.f, 3.f};"
   ]
  },
  {
   "cell_type": "markdown",
   "metadata": {},
   "source": [
    "Передача по значению - создание копии аргумента"
   ]
  },
  {
   "cell_type": "code",
   "execution_count": null,
   "metadata": {},
   "outputs": [],
   "source": [
    "float min_value_1(std::vector<float> items);\n",
    "\n",
    "float m = min_value_1(v);"
   ]
  },
  {
   "cell_type": "markdown",
   "metadata": {},
   "source": [
    "Передача по ссылке - работа с аргументом"
   ]
  },
  {
   "cell_type": "code",
   "execution_count": null,
   "metadata": {},
   "outputs": [],
   "source": [
    "float min_value_2(std::vector<float>& items);\n",
    "\n",
    "float m = min_value_2(v);"
   ]
  },
  {
   "cell_type": "markdown",
   "metadata": {},
   "source": [
    "Запрет на модификацию"
   ]
  },
  {
   "cell_type": "code",
   "execution_count": null,
   "metadata": {},
   "outputs": [],
   "source": [
    "float min_value_3(const std::vector<float>& items);\n",
    "\n",
    "float m = min_value_3(v);"
   ]
  },
  {
   "cell_type": "markdown",
   "metadata": {},
   "source": [
    "Что здесь происходит?"
   ]
  },
  {
   "cell_type": "code",
   "execution_count": null,
   "metadata": {},
   "outputs": [],
   "source": [
    "float f(std::vector<float>* items);\n",
    "float f(const std::vector<float>* items);\n",
    "float f(std::vector<float>* const items);"
   ]
  },
  {
   "cell_type": "markdown",
   "metadata": {},
   "source": [
    "<br />"
   ]
  },
  {
   "cell_type": "markdown",
   "metadata": {},
   "source": [
    "Возращаемое значение"
   ]
  },
  {
   "cell_type": "code",
   "execution_count": null,
   "metadata": {},
   "outputs": [],
   "source": [
    "void say_hello(const std::string& name)\n",
    "{\n",
    "    std::cout << \"hello, \" << name;\n",
    "}"
   ]
  },
  {
   "cell_type": "code",
   "execution_count": null,
   "metadata": {},
   "outputs": [],
   "source": [
    "std::vector<std::string> make_team()\n",
    "{\n",
    "    return { \"Bifur\", \"Bofur\", \"Bombur\", \"Oin\",\n",
    "             \"Gloin\", \"Fili\", \"Nori\", \"Dori\",\n",
    "             \"Dwalin\", \"Ori\", \"Balin\", \"Kili\" };\n",
    "}"
   ]
  },
  {
   "cell_type": "code",
   "execution_count": null,
   "metadata": {},
   "outputs": [],
   "source": [
    "bool append_teamlead(std::vector<std::string>& team)\n",
    "{\n",
    "    team.push_back(\"Thorin\");\n",
    "    return true;\n",
    "}"
   ]
  },
  {
   "cell_type": "markdown",
   "metadata": {},
   "source": [
    "Немного примеров посложнее"
   ]
  },
  {
   "cell_type": "code",
   "execution_count": null,
   "metadata": {},
   "outputs": [],
   "source": [
    "std::string* find_balin(const std::vector<std::string>& team)\n",
    "{\n",
    "    for (const auto& member : team)\n",
    "        if (member == \"Balin\")\n",
    "            return &member;\n",
    "\n",
    "    return nullptr;\n",
    "}\n",
    "\n",
    "\n",
    "// usage 1\n",
    "std::vector<std::string> team = make_team();\n",
    "if (std::string* maybe_balin = find_balin(team))\n",
    "    std::cout << *maybe_balin;\n",
    "\n",
    "\n",
    "// usage 2\n",
    "if (std::string* maybe_balin = find_balin({\"Ori\", \"Gloin\", \"Balin\"}))\n",
    "    std::cout << *maybe_balin;  // OOOPS"
   ]
  },
  {
   "cell_type": "code",
   "execution_count": null,
   "metadata": {},
   "outputs": [],
   "source": [
    "const std::string& get_value_from_cache(Cache c, int key, const std::string& default_value)\n",
    "{\n",
    "    if (c.contains(key))\n",
    "        return c[key];\n",
    "\n",
    "    return default_value;    \n",
    "}\n",
    "\n",
    "\n",
    "// usage 1\n",
    "const std::string default_value = \"Bilbo\";\n",
    "std::cout << get_value_from_cache(cache, missing_key, default_value);  // OK\n",
    "\n",
    "        \n",
    "// usage 2\n",
    "std::cout << get_value_from_cache(cache, missing_key, \"Bilbo\");  // OK\n",
    "\n",
    "        \n",
    "// usage 3\n",
    "std::string value = get_value_from_cache(cache, missing_key, \"Bilbo\");  // OK\n",
    "std::cout << value;\n",
    "\n",
    "        \n",
    "// usage 4\n",
    "const std::string& value = get_value_from_cache(cache, missing_key, \"Bilbo\");\n",
    "std::cout << value;  // OOOOPS"
   ]
  },
  {
   "cell_type": "markdown",
   "metadata": {},
   "source": [
    "Показать пример на godbolt.org на clang 8.0.0 с разными оптимизациями, чтобы наглядно продемонстрировать ub"
   ]
  },
  {
   "cell_type": "code",
   "execution_count": null,
   "metadata": {},
   "outputs": [],
   "source": [
    "#include <iostream>\n",
    "#include <string>\n",
    "\n",
    "\n",
    "const std::string& f(bool x, const std::string& default_value1, const std::string& default_value2)\n",
    "{\n",
    "    return x ? default_value1 : default_value2;\n",
    "}\n",
    "\n",
    "int main()\n",
    "{\n",
    "    std::cout << \"hello, world\" << std::endl;\n",
    "\n",
    "    const std::string& s = f(true, \"123\", \"12345\");\n",
    "    std::cout << s << std::endl;\n",
    "    return 0;\n",
    "}"
   ]
  },
  {
   "cell_type": "markdown",
   "metadata": {},
   "source": [
    "<br />"
   ]
  },
  {
   "cell_type": "markdown",
   "metadata": {},
   "source": [
    "##### Перегрузка функции"
   ]
  },
  {
   "cell_type": "markdown",
   "metadata": {},
   "source": [
    "https://en.cppreference.com/book/intro/function_overloading"
   ]
  },
  {
   "cell_type": "markdown",
   "metadata": {},
   "source": [
    "Задача - реализовать конвертацию всего в строку. Желательно единообразно и чтобы: есть способ - компилируется и работает, нет способа - не компилируется."
   ]
  },
  {
   "cell_type": "code",
   "execution_count": null,
   "metadata": {},
   "outputs": [],
   "source": [
    "std::string convert_to_string(int x);       // 1\n",
    "std::string convert_to_string(unsigned x);  // 2\n",
    "std::string convert_to_string(float x);     // 3\n",
    "\n",
    "\n",
    "std::cout << convert_to_string(5);    // 1\n",
    "std::cout << convert_to_string(5u);   // 2\n",
    "std::cout << convert_to_string(5.f);  // 3"
   ]
  },
  {
   "cell_type": "markdown",
   "metadata": {},
   "source": [
    "<br />"
   ]
  },
  {
   "cell_type": "markdown",
   "metadata": {},
   "source": [
    "##### Пространства имён и name mangling при компиляции"
   ]
  },
  {
   "cell_type": "markdown",
   "metadata": {},
   "source": [
    "https://en.wikipedia.org/wiki/Name_mangling"
   ]
  },
  {
   "cell_type": "markdown",
   "metadata": {},
   "source": [
    "Пространства времён решают проблему, когда функция с одинаковым именем имеет две реализации в разных билиотеках"
   ]
  },
  {
   "cell_type": "code",
   "execution_count": null,
   "metadata": {},
   "outputs": [],
   "source": [
    "# library for json parsing\n",
    "\n",
    "// return version of json parsing library\n",
    "std::string get_version();"
   ]
  },
  {
   "cell_type": "code",
   "execution_count": null,
   "metadata": {},
   "outputs": [],
   "source": [
    "# library for image manipulation\n",
    "\n",
    "// return version of image manipulation library\n",
    "std::string get_version();"
   ]
  },
  {
   "cell_type": "markdown",
   "metadata": {},
   "source": [
    "Такой код скомпилируется, но не слинкуется, т.к. для функции `get_version` нарушено ODR-правило (One Definition Rule)"
   ]
  },
  {
   "cell_type": "code",
   "execution_count": null,
   "metadata": {},
   "outputs": [],
   "source": [
    "# library for json parsing\n",
    "\n",
    "namespace cool_json_parser\n",
    "{\n",
    "    // return version of json parsing library\n",
    "    std::string get_version();\n",
    "}"
   ]
  },
  {
   "cell_type": "code",
   "execution_count": null,
   "metadata": {},
   "outputs": [],
   "source": [
    "# library for image manipulation\n",
    "\n",
    "namespace cool_image_processing\n",
    "{\n",
    "   // return version of image manipulation library\n",
    "    std::string get_version(); \n",
    "}"
   ]
  },
  {
   "cell_type": "markdown",
   "metadata": {},
   "source": [
    "Такой код слинкуется, т.к. работает механизм name mangling во время компиляции"
   ]
  },
  {
   "cell_type": "markdown",
   "metadata": {},
   "source": [
    "Показать пример на godbolt.org, не забыть убрать галочку demangle"
   ]
  },
  {
   "cell_type": "code",
   "execution_count": null,
   "metadata": {},
   "outputs": [],
   "source": [
    "#include <iostream>\n",
    "#include <string>\n",
    "\n",
    "std::string get_version(int x, int y, long z);\n",
    "\n",
    "namespace cool_json_parser\n",
    "{\n",
    "    std::string get_version(int x, int y, long z);\n",
    "}\n",
    "\n",
    "namespace cool_image_processing\n",
    "{\n",
    "    std::string get_version(int x, int y, long z);\n",
    "}\n",
    "\n",
    "int main()\n",
    "{\n",
    "    std::cout << get_version(0, 0, 0);\n",
    "    std::cout << cool_json_parser::get_version(0, 0, 0);\n",
    "    std::cout << cool_image_processing::get_version(0, 0, 0);\n",
    "    return 0;\n",
    "}"
   ]
  },
  {
   "cell_type": "markdown",
   "metadata": {},
   "source": [
    "В результате name mangling компилятор clang создаёт символы:\n",
    "* `_Z11get_versionB5cxx11iil`\n",
    "* `_ZN16cool_json_parser11get_versionB5cxx11Eiil`\n",
    "* `_ZN21cool_image_processing11get_versionB5cxx11Eiil`\n",
    "\n",
    "Какой из них к чему относится, догадаться не сложно. "
   ]
  },
  {
   "cell_type": "markdown",
   "metadata": {},
   "source": [
    "<br />"
   ]
  },
  {
   "cell_type": "markdown",
   "metadata": {},
   "source": [
    "##### ADL (Argument Dependent Lookup)"
   ]
  },
  {
   "cell_type": "markdown",
   "metadata": {},
   "source": [
    "https://en.cppreference.com/w/cpp/language/adl"
   ]
  },
  {
   "cell_type": "markdown",
   "metadata": {},
   "source": [
    "Теперь мы реализовали свой класс `Point` в нашем `namespace math` и хотим, чтобы его объекты тоже можно было конвертировать в строку. Желательно единообразно."
   ]
  },
  {
   "cell_type": "code",
   "execution_count": null,
   "metadata": {},
   "outputs": [],
   "source": [
    "namespace mymath\n",
    "{\n",
    "    struct Point\n",
    "    {\n",
    "        float x;\n",
    "        float y;\n",
    "    }\n",
    "    \n",
    "    std::string convert_to_string(Point p)\n",
    "    {\n",
    "        return convert_to_string(p.x) + \" \" + convert_to_string(p.y);\n",
    "    }\n",
    "}\n",
    "\n",
    "int main()\n",
    "{\n",
    "    mymath::Point p{3.f, 4.f};\n",
    "    \n",
    "    // явно не указано пространство имён mymath у функции\n",
    "    // convert_to_string, но ADL нужную функцию найдёт \n",
    "    std::cout << convert_to_string(p) << std::endl;\n",
    "    \n",
    "    return 0;\n",
    "}"
   ]
  },
  {
   "cell_type": "markdown",
   "metadata": {},
   "source": [
    "ADL - набор правил, который добавляет к области поиска функции пространства имён, содержащих её аргументы"
   ]
  },
  {
   "cell_type": "markdown",
   "metadata": {},
   "source": [
    "<br />"
   ]
  },
  {
   "cell_type": "markdown",
   "metadata": {},
   "source": [
    "##### Функции (операторы) ввода-вывода"
   ]
  },
  {
   "cell_type": "markdown",
   "metadata": {},
   "source": [
    "Операторы - те же функции, но в альтернативной записи:"
   ]
  },
  {
   "cell_type": "code",
   "execution_count": null,
   "metadata": {},
   "outputs": [],
   "source": [
    "namespace std\n",
    "{\n",
    "    // есть в стандартной библиотеке\n",
    "    string operator + (const string& l, const string& r);\n",
    "}\n",
    "\n",
    "namespace mymath\n",
    "{\n",
    "    // личный оператор сложения для точек\n",
    "    Point operator + (const Point& l, const Point& r);\n",
    "}\n",
    "\n",
    "\n",
    "int main()\n",
    "{\n",
    "    std::string s1 = \"s1\", s2 = \"s2\";\n",
    "    mymath::Point p1{0, 1}, p2{1, 0};\n",
    "    \n",
    "    std::string s = s1 + s2;\n",
    "    mymath::Point p = p1 + p2;\n",
    "    \n",
    "    return 0;\n",
    "}"
   ]
  },
  {
   "cell_type": "markdown",
   "metadata": {},
   "source": [
    "Можно доопределить свои операторы для стандартных типов"
   ]
  },
  {
   "cell_type": "code",
   "execution_count": null,
   "metadata": {},
   "outputs": [],
   "source": [
    "namespace std\n",
    "{\n",
    "    string operator * (const string& l, unsigned count)\n",
    "    {\n",
    "        string rv;\n",
    "        for (unsigned i = 0; i < count; ++i)\n",
    "            rv += l;\n",
    "        return rv;\n",
    "    }\n",
    "}\n",
    "\n",
    "\n",
    "std::cout << std::string(\"nom \") * 3;  // \"nom nom nom \""
   ]
  },
  {
   "cell_type": "markdown",
   "metadata": {},
   "source": [
    "И их использование строится на тех же правилах: перегрузка + ADL"
   ]
  },
  {
   "cell_type": "markdown",
   "metadata": {},
   "source": [
    "Пример для операторов вывода:"
   ]
  },
  {
   "cell_type": "code",
   "execution_count": null,
   "metadata": {},
   "outputs": [],
   "source": [
    "// from standard lib\n",
    "namespace std\n",
    "{\n",
    "    std::ostream& operator << (std::ostream& os, int x);\n",
    "    std::ostream& operator << (std::ostream& os, float x);\n",
    "    std::ostream& operator << (std::ostream& os, const char* x);\n",
    "    std::ostream& operator << (std::ostream& os, const std::string& x);\n",
    "}\n",
    "\n",
    "// your own\n",
    "namespace mymath\n",
    "{\n",
    "    std::ostream& operator << (std::ostream& os, Point p)\n",
    "    {\n",
    "        return os << p.x << \" \" << p.y;\n",
    "    }\n",
    "}"
   ]
  }
 ],
 "metadata": {
  "kernelspec": {
   "display_name": "Python 3",
   "language": "python",
   "name": "python3"
  },
  "language_info": {
   "codemirror_mode": {
    "name": "ipython",
    "version": 3
   },
   "file_extension": ".py",
   "mimetype": "text/x-python",
   "name": "python",
   "nbconvert_exporter": "python",
   "pygments_lexer": "ipython3",
   "version": "3.6.8"
  }
 },
 "nbformat": 4,
 "nbformat_minor": 2
}
