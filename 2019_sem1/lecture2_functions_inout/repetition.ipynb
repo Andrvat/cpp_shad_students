{
 "cells": [
  {
   "cell_type": "markdown",
   "metadata": {},
   "source": [
    "**Вопросы для повторения:**\n",
    "* Что такое стэк и куча?\n",
    "* Что такое указатель?\n",
    "* Чему равен `sizeof(int *)`?\n",
    "* Чему равен `sizeof(int)`?\n",
    "* Чему равно `p`?\n",
    "\n",
    "    ```\n",
    "    std::uint64_t *p = 1000;\n",
    "    p = p + 4;\n",
    "    ```\n",
    "\n",
    "* Где хранятся данные \"hello world\" при исполнении программы?\n",
    "* В чём разница в вводе-выводе в стиле С и С++?\n",
    "* В чём идея forward declaration и для чего используется?"
   ]
  }
 ],
 "metadata": {
  "kernelspec": {
   "display_name": "Python 3",
   "language": "python",
   "name": "python3"
  },
  "language_info": {
   "codemirror_mode": {
    "name": "ipython",
    "version": 3
   },
   "file_extension": ".py",
   "mimetype": "text/x-python",
   "name": "python",
   "nbconvert_exporter": "python",
   "pygments_lexer": "ipython3",
   "version": "3.6.9"
  }
 },
 "nbformat": 4,
 "nbformat_minor": 2
}
