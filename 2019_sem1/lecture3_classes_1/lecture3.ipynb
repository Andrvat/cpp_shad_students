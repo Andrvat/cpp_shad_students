{
 "cells": [
  {
   "cell_type": "markdown",
   "metadata": {},
   "source": [
    "### Лекция 3. Классы. Введение"
   ]
  },
  {
   "cell_type": "markdown",
   "metadata": {},
   "source": [
    "Класс и объект - ключевые термины в ООП - языках"
   ]
  },
  {
   "cell_type": "markdown",
   "metadata": {},
   "source": [
    "![](classes.jpg)"
   ]
  },
  {
   "cell_type": "markdown",
   "metadata": {},
   "source": [
    "* Барсик - объект класса \"Кошка домашняя\"\n",
    "* \"Кошка домашняя\" - класс, наследник класса \"Кошки\"\n",
    "* \"Кошки\" - класс, наследник класса \"Кошачьи\"\n",
    "* \"Кошачьи\" - класс, наследник класса \"Хищные\"\n",
    "\n",
    "\n",
    "Объект класса - конкретный элемент этого типа.\n",
    "\n",
    "Класс-наследник __уточняет__ характеристики базового класса"
   ]
  },
  {
   "cell_type": "markdown",
   "metadata": {},
   "source": [
    "Для описания классов в языке С++ есть два ключевых слова: `class` и `struct`"
   ]
  },
  {
   "cell_type": "markdown",
   "metadata": {},
   "source": [
    "```c++\n",
    "class Animal\n",
    "{\n",
    "    ...\n",
    "};\n",
    "\n",
    "struct Point\n",
    "{\n",
    "    ...\n",
    "};\n",
    "```"
   ]
  },
  {
   "cell_type": "markdown",
   "metadata": {},
   "source": [
    "Класс может иметь данные: члены класса"
   ]
  },
  {
   "cell_type": "markdown",
   "metadata": {},
   "source": [
    "```c++\n",
    "class Animal\n",
    "{\n",
    "    std::string name;\n",
    "    usigned age;\n",
    "};\n",
    "\n",
    "struct Point\n",
    "{\n",
    "    float x;\n",
    "    float y;\n",
    "};\n",
    "```"
   ]
  },
  {
   "cell_type": "markdown",
   "metadata": {},
   "source": [
    "Как создавать объекты таких классов:"
   ]
  },
  {
   "cell_type": "markdown",
   "metadata": {},
   "source": [
    "```c++\n",
    "Animal a;\n",
    "Point p;\n",
    "```"
   ]
  },
  {
   "cell_type": "markdown",
   "metadata": {},
   "source": [
    "Доступ до полей:"
   ]
  },
  {
   "cell_type": "markdown",
   "metadata": {},
   "source": [
    "```c++\n",
    "p.x = 3.f;\n",
    "p.y = 4.f;\n",
    "```"
   ]
  },
  {
   "cell_type": "markdown",
   "metadata": {},
   "source": [
    "Класс может иметь методы:"
   ]
  },
  {
   "cell_type": "markdown",
   "metadata": {},
   "source": [
    "```c++\n",
    "class Animal\n",
    "{\n",
    "    bool is_too_young() const\n",
    "    {\n",
    "        return age == 0;\n",
    "    }\n",
    "   \n",
    "    std::string name;\n",
    "    unsigned age;\n",
    "};\n",
    "\n",
    "//\n",
    "// или так:\n",
    "//\n",
    "\n",
    "class Animal\n",
    "{\n",
    "    bool is_too_young() const;\n",
    "    \n",
    "    std::string name;\n",
    "    unsigned age;\n",
    "};\n",
    "\n",
    "bool Animal::is_too_young() const\n",
    "{\n",
    "    return age == 0;\n",
    "}\n",
    "```"
   ]
  },
  {
   "cell_type": "markdown",
   "metadata": {},
   "source": [
    "Класс может наследоваться от другого класса:"
   ]
  },
  {
   "cell_type": "markdown",
   "metadata": {},
   "source": [
    "```c++\n",
    "class Cat : Animal\n",
    "{\n",
    "};\n",
    "\n",
    "struct WeightedPoint : Point\n",
    "{\n",
    "    float w;\n",
    "};\n",
    "```"
   ]
  },
  {
   "cell_type": "markdown",
   "metadata": {},
   "source": [
    "<br />"
   ]
  },
  {
   "cell_type": "markdown",
   "metadata": {},
   "source": [
    "У членов и методов классов есть модификаторы видимости:\n",
    "* `private` - доступ только себе самому и друзьям\n",
    "* `protected` - плюс наследники\n",
    "* `public` - кто угодно"
   ]
  },
  {
   "cell_type": "markdown",
   "metadata": {},
   "source": [
    "Отличие `class` от `struct` (с точки зрения компилятора) - модификатор видимости по умолчанию для методов/членов и при наследовании.\n",
    "* `class` -> `private`\n",
    "* `struct` -> `public`"
   ]
  },
  {
   "cell_type": "markdown",
   "metadata": {},
   "source": [
    "```c++\n",
    "class Animal\n",
    "{\n",
    "public:\n",
    "    bool is_too_young() const { return age == 0; }\n",
    "  \n",
    "private:\n",
    "    std::string name;\n",
    "    unsigned age;\n",
    "};\n",
    "\n",
    "class Cat : public Animal\n",
    "{\n",
    "public:\n",
    "    void say_meow() const { std::cout << \"meow\"; }\n",
    "};\n",
    "\n",
    "struct Point\n",
    "{\n",
    "    float x;\n",
    "    float y;\n",
    "};\n",
    "\n",
    "struct WeightedPoint : Point\n",
    "{\n",
    "    float w;\n",
    "};\n",
    "```"
   ]
  },
  {
   "cell_type": "markdown",
   "metadata": {},
   "source": [
    "```c++\n",
    "Cat barsic;\n",
    "barsic.say_meow();      // OK\n",
    "barsic.name = \"Barsic\"; // Compile-time error: name is private member\n",
    "    \n",
    "WeightedPoint p;\n",
    "p.x = 3.f;  // OK\n",
    "p.w = 0.f;  // OK\n",
    "```"
   ]
  },
  {
   "cell_type": "markdown",
   "metadata": {},
   "source": [
    "<br />"
   ]
  },
  {
   "cell_type": "markdown",
   "metadata": {},
   "source": [
    "Иногда приходится создавать объекты классов, копировать и уничтожать их. Для этого существуют конструкторы и деструкторы:"
   ]
  },
  {
   "cell_type": "markdown",
   "metadata": {},
   "source": [
    "```c++\n",
    "class Animal\n",
    "{\n",
    "private:\n",
    "    std::string name;\n",
    "    unsigned age;\n",
    "    \n",
    "public:\n",
    "    // конструктор из двух аргументов\n",
    "    //\n",
    "    // Animal an(\"Murka\", 7);\n",
    "    Animal(const std::string& a_name, const int a_age)\n",
    "        // список инициализации для членов класса\n",
    "        // плюс, возможно, спецификация вызова базового класса\n",
    "        : name(a_name)\n",
    "        , age(a_age)\n",
    "    {\n",
    "        // тело конструктора\n",
    "        std::cout << \"creating animal\" << std::endl;\n",
    "        std::cout << \"animal created\" << std::endl;\n",
    "    }  // когда выполнение доходит до конца конструктора, объект класса Animal считается сконструированным\n",
    "    \n",
    "    // конструктор из одного аргумента\n",
    "    //\n",
    "    // Animal an(\"Murka\");\n",
    "    explicit Animal(const std::string& a_name)\n",
    "        : name(a_name)\n",
    "        , age(0)\n",
    "    {\n",
    "    }\n",
    "    \n",
    "    // конструктор по умолчанию\n",
    "    //\n",
    "    // Animal an;\n",
    "    Animal() : age(0) {}\n",
    "    // что с name?\n",
    "    \n",
    "    // конструктор копирования\n",
    "    //\n",
    "    // Animal a1;  // default\n",
    "    // Animal a2 = a1;\n",
    "    // Animal a3(a2);\n",
    "    Animal(const Animal& rhs)\n",
    "        // имеет доступ к приватным полям rhs, т.к. объект того же класса\n",
    "        : name(rhs.name), age(rhs.age)\n",
    "    {}\n",
    "    \n",
    "    // конструктор перемещения\n",
    "    //\n",
    "    // Animal a1(\"Murka\", 13);\n",
    "    // Animal a2 = std::move(a1);\n",
    "    // a2 - ? a1 - ?\n",
    "    Animal(Animal&& rhs) noexcept : name(std::move(rhs.name)), age(rhs.age) {}\n",
    "    \n",
    "    // деструктор\n",
    "    ~Animal() { std::cout << \"destroying \" << name << std::endl; }\n",
    "    \n",
    "    // копирующее присваивание\n",
    "    //\n",
    "    // Animal a1(\"Murka\", 13), a2;\n",
    "    // a2 = a1;\n",
    "    Animal& operator = (const Animal& rhs) { ...; return *this; }\n",
    "    \n",
    "    // перемещающее присваивание\n",
    "    //\n",
    "    // Animal a1(\"Murka\", 13), a2;\n",
    "    // a2 = std::move(a1);\n",
    "    Animal& operator = (Animal&& rhs) noexcept { ...; return *this; }\n",
    "};\n",
    "```"
   ]
  },
  {
   "cell_type": "markdown",
   "metadata": {},
   "source": [
    "Для каждого класса определены (или удалены) основные операции:\n",
    "* default c-tor\n",
    "* copy c-tor\n",
    "* move c-tor\n",
    "* copy assign\n",
    "* move assign\n",
    "* d-tor"
   ]
  },
  {
   "cell_type": "markdown",
   "metadata": {},
   "source": [
    "Компилятор иногда может сгенерить эти операции в дефолтном виде по членам, правила такие:"
   ]
  },
  {
   "cell_type": "markdown",
   "metadata": {},
   "source": [
    "![](comp_rules.jpg)"
   ]
  },
  {
   "cell_type": "markdown",
   "metadata": {},
   "source": [
    "Но никто их не помнит наизусть, поэтому работает правило 6:\n",
    "    \n",
    "__Определил одно - определи все шесть__"
   ]
  },
  {
   "cell_type": "markdown",
   "metadata": {},
   "source": [
    "<br />"
   ]
  }
 ],
 "metadata": {
  "kernelspec": {
   "display_name": "Python 3",
   "language": "python",
   "name": "python3"
  },
  "language_info": {
   "codemirror_mode": {
    "name": "ipython",
    "version": 3
   },
   "file_extension": ".py",
   "mimetype": "text/x-python",
   "name": "python",
   "nbconvert_exporter": "python",
   "pygments_lexer": "ipython3",
   "version": "3.6.8"
  }
 },
 "nbformat": 4,
 "nbformat_minor": 2
}
