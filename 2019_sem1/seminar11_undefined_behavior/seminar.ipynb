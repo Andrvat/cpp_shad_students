{
 "cells": [
  {
   "cell_type": "markdown",
   "metadata": {},
   "source": [
    "__Вопросы для повторения:__\n",
    "* ...\n",
    "* ...\n",
    "* ..."
   ]
  },
  {
   "cell_type": "markdown",
   "metadata": {},
   "source": [
    "<br />"
   ]
  },
  {
   "cell_type": "markdown",
   "metadata": {},
   "source": [
    "### Лекция 12. Undefined behavior"
   ]
  },
  {
   "cell_type": "markdown",
   "metadata": {},
   "source": [
    "https://en.cppreference.com/w/cpp/language/ub\n",
    "\n",
    "http://blog.llvm.org/2011/05/what-every-c-programmer-should-know.html\n",
    "\n",
    "http://blog.llvm.org/2011/05/what-every-c-programmer-should-know_14.html\n",
    "\n",
    "http://blog.llvm.org/2011/05/what-every-c-programmer-should-know_21.html"
   ]
  },
  {
   "cell_type": "markdown",
   "metadata": {},
   "source": [
    "<br />"
   ]
  },
  {
   "cell_type": "markdown",
   "metadata": {},
   "source": [
    "##### ill-formed / well-formed program"
   ]
  },
  {
   "cell_type": "markdown",
   "metadata": {},
   "source": [
    "* __ill-formed__ программа - содержит синтаксические или диагностируемые семантические ошибки. Компилятор должен выдать на такие программу сообщение (error или warning).\n",
    "\n",
    "\n",
    "* __ill-formed no diagnostic required__ программа - содержит недиагностируемые семантические ошибки (либо их вычислительно дорого диагностировать). Пример: ODR violation нельзя определить во время компиляции.\n",
    "\n",
    "\n",
    "__Важный момент__: на уровне стандарта закреплено, что компилятор имеет false-positive ошибки при ответе на вопрос \"это программа?\".\n",
    "\n",
    "Т.е. стандарт в некоторых случаях разрешает компилятору компилировать тексты, не являющиеся программами с точки зрения стандарта.\n",
    "\n",
    "(Потому что не все ошибки диагностируемы)  "
   ]
  },
  {
   "cell_type": "markdown",
   "metadata": {},
   "source": [
    "<br />"
   ]
  },
  {
   "cell_type": "markdown",
   "metadata": {},
   "source": [
    "##### Разлные степени ответственности компиляторов"
   ]
  },
  {
   "cell_type": "markdown",
   "metadata": {},
   "source": [
    "* __implementation-defined behavior__ - разрешается различное поведение стандартом. Конкретное поведение строго документируется реализацией (компилятор + его опции, архитектура, стандартная библиотека), и в одних реализациях всегда одинакого. Примеры:\n",
    "    * тип `std::size_t`\n",
    "    * размер `int`\n",
    "    * какую строку возвращает `std::bad_alloc::what`\n",
    "    \n",
    "    \n",
    "* __unspecified behavior__ - разрешается различное поведение стандартом. Поведение может отличаться даже в рамках одной и той же реализации. Классический пример:\n",
    "    * порядок вычисления аргументов функции (при повторном вызове порядок уже может быть иной)\n",
    "\n",
    "\n",
    "* __undefined behavior__ - компилятор / программа не несёт никакой ответственности за то, что будет происходить дальше. Компиляторы не обязаны диагностировать undefined behavior. Примеры:\n",
    "    * доступ за границы массива\n",
    "    * арифметика указателей за границами массива\n",
    "    * операции над указателем на удалённый объект\n",
    "    * переполнение знаковых целых\n",
    "    * разыменование нулевого указателя\n",
    "    * доступ до объекта через указатель другого типа\n",
    "    * использование неинициализированной переменной (`int x; std::cout << x;`)\n",
    "    * побитовый сдвиг больше чем размер типа (`uint32_t x = 1; x << 32;`). Почему так:\n",
    "        * X86 truncates 32-bit shift amount to 5 bits (so a shift by 32-bits is the same as a shift by 0-bits)\n",
    "        * but PowerPC truncates 32-bit shift amounts to 6 bits (so a shift by 32 produces zero)\n",
    "    * ..."
   ]
  },
  {
   "cell_type": "markdown",
   "metadata": {},
   "source": [
    "Древняя пасхалка в gcc: если компилятор встречал определённого типа конструкцию в коде (то ли undefined, то ли implementation defined), то он запускал игрушку\n",
    "\n",
    "https://feross.org/gcc-ownage/"
   ]
  },
  {
   "cell_type": "markdown",
   "metadata": {},
   "source": [
    "<br />"
   ]
  },
  {
   "cell_type": "markdown",
   "metadata": {},
   "source": [
    "* implementation defined - иди читай документацию\n",
    "* unspecified - иди читай код, убеждайся, что всё нормально\n",
    "* undefined - срочно править"
   ]
  },
  {
   "cell_type": "markdown",
   "metadata": {},
   "source": [
    "<br />"
   ]
  },
  {
   "cell_type": "markdown",
   "metadata": {},
   "source": [
    "__Вопросы для обсуждения__:\n",
    "\n",
    "* зачем нужен undefined behavior?\n",
    "\n",
    "<details>\n",
    "<summary>Подсказка</summary>\n",
    "<p>\n",
    "\n",
    "1. иногда без него нельзя. Пример: ODR во время компиляции.\n",
    "2. для скорости программы. Пример: `vector::operator[]` - без проверок на выход за границы\n",
    "3. для генерации более быстрого кода компилятором. Компилятор делает вид, что программист умный, \"ub\"-сценариев быть не может, и на базе этого применяет некоторые оптимизации. Примеры - далее.\n",
    "\n",
    "Ответственность за проверку корректности перекладывается с инструмента на программиста\n",
    "\n",
    "</p>\n",
    "</details>\n",
    "\n",
    "* Основная критика UB:\n",
    "\n",
    "    * Ответственность на человеке\n",
    "    * Люди... далеки от идеала\n",
    "    \n",
    "\n",
    "* Почему критика оправдана?\n",
    "\n",
    "<details>\n",
    "<summary>Подсказка</summary>\n",
    "<p>\n",
    "\n",
    "     * потому что работает принцип Парето: 10% кода съедают 90% времени\n",
    "     * \"выжимать\" performance нужно только в 10% кода\n",
    "     * в остальных 90% можно иметь медленный код без граблей\n",
    "     * проблемы undefined behavior распространяются на 100% кода\n",
    "     \n",
    "Замечание: Rust и его unsafe-секции - попытка реализовать этот баланс. В 10% кода пишем unsafe-секции, где страх и ужас, в 90% кода пишем безопасный код.\n",
    "\n",
    "</p>\n",
    "</details>"
   ]
  },
  {
   "cell_type": "markdown",
   "metadata": {},
   "source": [
    "<br />"
   ]
  },
  {
   "cell_type": "markdown",
   "metadata": {},
   "source": [
    "##### Пример как UB помогает компилятору генерировать более эффективный код"
   ]
  },
  {
   "cell_type": "markdown",
   "metadata": {},
   "source": [
    "Нарушение __Type Rules__ - undefined behavior. Type Rules (за хитрыми исключениями типа `char/void/union`) запрещает обращаться к объектам одного типа через другой тип.\n",
    "\n",
    "Т.е. запрещено взять массив `float`-ов как `float*`, перекастить его через `int*` и дальше работать как с `int`.\n",
    "\n",
    "Это даёт компилятору такой код:\n",
    "\n",
    "```c++\n",
    "float *P;\n",
    "void zero_array() {\n",
    "    for (int i = 0; i < 10000; ++i)\n",
    "        p[i] = 0.0f;\n",
    "}\n",
    "```\n",
    "\n",
    "Оптимизировать в такой (в разы быстрее):\n",
    "\n",
    "```c++\n",
    "float *p;\n",
    "void zero_array() {\n",
    "    memset(p, 0, 40'000);\n",
    "}\n",
    "```\n",
    "\n",
    "У компилятора есть гарантии через ub, что в выражении `p[i] = 0.f;` не будет перезаписан сам `p`, т.к. типы `float` и `float*` разные.\n",
    "\n",
    "Если какой-то программист решить нарушить Type Tules:\n",
    "\n",
    "```c++\n",
    "p = (float*)&p;\n",
    "zero_array();\n",
    "```\n",
    "\n",
    "то изначальный и оптимизированный варианты неэквивалентны, но понятие UB позволяет компилятору с честными голубыми глазами применять оптимизации, программист сам виноват."
   ]
  },
  {
   "cell_type": "markdown",
   "metadata": {},
   "source": [
    "<br />"
   ]
  },
  {
   "cell_type": "markdown",
   "metadata": {},
   "source": [
    "##### В случае UB разный порядок оптимизаций может дать разный результат"
   ]
  },
  {
   "cell_type": "markdown",
   "metadata": {},
   "source": [
    "Рассмотрим пример (упрощённая версия одного бага из linux kernel):\n",
    "    \n",
    "```c++\n",
    "void f(int *p) {\n",
    "    int dead = *p;  // unused variable\n",
    "    if (p == 0)     // check against nullptr after derefence\n",
    "        return;\n",
    "    *p = 4;\n",
    "}\n",
    "```"
   ]
  },
  {
   "cell_type": "markdown",
   "metadata": {},
   "source": [
    "Рассмотрим 2 оптимизации компилятора:\n",
    "* Dead Code Elimination\n",
    "* Redundant Null Check Elimination"
   ]
  },
  {
   "cell_type": "markdown",
   "metadata": {},
   "source": [
    "__Вариант 1__:\n",
    "        \n",
    "* шаг 1: применили dead code elimination\n",
    "\n",
    "```c++\n",
    "void f(int *p) {\n",
    "    // int dead = *p;  // deleted by the optimizer.\n",
    "    if (p == 0)\n",
    "        return;\n",
    "    *p = 4;\n",
    "}\n",
    "```\n",
    "\n",
    "* шаг 2: применили redundant null check elimination\n",
    "\n",
    "```c++\n",
    "void f(int *p) {\n",
    "    if (p == 0)   // Null check is not redundant, and is kept.\n",
    "        return;\n",
    "    *p = 4;\n",
    "}\n",
    "```"
   ]
  },
  {
   "cell_type": "markdown",
   "metadata": {},
   "source": [
    "__Вариант 2:__\n",
    "\n",
    "* шаг 1: применили redundant null check elimination\n",
    "\n",
    "```c++\n",
    "void f(int *p) {\n",
    "    int dead = *p;\n",
    "    if (false)  // p was dereferenced by this point, so it can't be null \n",
    "        return;\n",
    "    *p = 4;\n",
    "}\n",
    "```\n",
    "\n",
    "* шаг 2: применили dead code elimination\n",
    "\n",
    "```c++\n",
    "void f(int *p) {\n",
    "    *p = 4;\n",
    "}\n",
    "```"
   ]
  },
  {
   "cell_type": "markdown",
   "metadata": {},
   "source": [
    "<br />"
   ]
  },
  {
   "cell_type": "markdown",
   "metadata": {},
   "source": [
    "##### Пример про удаление содержимого диска"
   ]
  },
  {
   "cell_type": "markdown",
   "metadata": {},
   "source": [
    "```c++\n",
    "static void (*FP)() = 0;\n",
    "\n",
    "static void impl() {\n",
    "    system(\"rm -rf /\");\n",
    "}\n",
    "\n",
    "void set() {\n",
    "  FP = impl;\n",
    "}\n",
    "\n",
    "void call() {\n",
    "    FP();\n",
    "}\n",
    "```"
   ]
  },
  {
   "cell_type": "markdown",
   "metadata": {},
   "source": [
    "Т.к. использование непроинициализированной переменной - UB, по-другому `FP` проинициализировать нельзя, то clang оптимизирует такой код в:"
   ]
  },
  {
   "cell_type": "markdown",
   "metadata": {},
   "source": [
    "```c++\n",
    "void set() {}\n",
    "\n",
    "void call() {\n",
    "    system(\"rm -rf /\");\n",
    "}\n",
    "```"
   ]
  },
  {
   "cell_type": "markdown",
   "metadata": {},
   "source": [
    "<br />"
   ]
  },
  {
   "cell_type": "markdown",
   "metadata": {},
   "source": [
    "##### Примеры, в что может компилироваться ub"
   ]
  },
  {
   "cell_type": "markdown",
   "metadata": {},
   "source": [
    "Объяснить каждый пример, почему компилятор генерит такой выхлоп"
   ]
  },
  {
   "cell_type": "markdown",
   "metadata": {},
   "source": [
    "Пример:\n",
    "\n",
    "\n",
    "```c++\n",
    "int foo(int x) {\n",
    "    return x + 1 > x; // int overflow\n",
    "}\n",
    "```\n",
    "\n",
    "`-->` (gcc 9.2)\n",
    "\n",
    "```asm\n",
    "# always returns true\n",
    "foo(int):\n",
    "        movl    $1, %eax\n",
    "        ret\n",
    "```"
   ]
  },
  {
   "cell_type": "markdown",
   "metadata": {},
   "source": [
    "<br />"
   ]
  },
  {
   "cell_type": "markdown",
   "metadata": {},
   "source": [
    "Пример:\n",
    "\n",
    "```c++\n",
    "int f(int x, int y)\n",
    "{\n",
    "    if (x > 500000 && y > 500000)\n",
    "        return x * y;\n",
    "    return 42;\n",
    "}\n",
    "```\n",
    "\n",
    "`-->` (gcc 9.2)\n",
    "\n",
    "```c++\n",
    "f(int, int):\n",
    "        cmp     edi, 500000\n",
    "        jle     .L3\n",
    "        cmp     esi, 500000\n",
    "        jle     .L3\n",
    "        mov     eax, 2147483647\n",
    "        ret\n",
    ".L3:\n",
    "        mov     eax, 42\n",
    "        ret\n",
    "```"
   ]
  },
  {
   "cell_type": "markdown",
   "metadata": {},
   "source": [
    "<br />"
   ]
  },
  {
   "cell_type": "markdown",
   "metadata": {},
   "source": [
    "Пример:\n",
    "\n",
    "```c++\n",
    "int table[4] = {};\n",
    "bool exists_in_table(int v)\n",
    "{\n",
    "    for (int i = 0; i <= 4; i++)  // out-of-boundary access\n",
    "        if (table[i] == v)\n",
    "            return true;\n",
    "    return false;\n",
    "}\n",
    "```\n",
    "\n",
    "`-->`\n",
    "\n",
    "```asm\n",
    "# always returns true\n",
    "exists_in_table(int):\n",
    "        movl    $1, %eax\n",
    "        ret\n",
    "```"
   ]
  },
  {
   "cell_type": "markdown",
   "metadata": {},
   "source": [
    "<br />"
   ]
  },
  {
   "cell_type": "markdown",
   "metadata": {},
   "source": [
    "Пример:\n",
    "\n",
    "```c++\n",
    "std::size_t f(int x)\n",
    "{\n",
    "    std::size_t a;  // uninitialized\n",
    "    if (x)  // either x nonzero or UB\n",
    "        a = 42;\n",
    "    return a;  // might be an access to uninitialized\n",
    "}\n",
    "```\n",
    "\n",
    "`-->`\n",
    "\n",
    "```asm\n",
    "# always returns 42\n",
    "f(int):\n",
    "        mov     eax, 42\n",
    "        ret\n",
    "```"
   ]
  },
  {
   "cell_type": "markdown",
   "metadata": {},
   "source": [
    "<br />"
   ]
  },
  {
   "cell_type": "markdown",
   "metadata": {},
   "source": [
    "Пример:\n",
    "\n",
    "```c++\n",
    "bool p;\n",
    "\n",
    "// access to uninitialized\n",
    "if (p)\n",
    "    std::puts(\"p is true\");\n",
    "\n",
    "// access to uninitialized\n",
    "if (!p)\n",
    "    std::puts(\"p is false\");\n",
    "```\n",
    "\n",
    "output:\n",
    "\n",
    "```\n",
    "p is true\n",
    "p is false\n",
    "```"
   ]
  },
  {
   "cell_type": "markdown",
   "metadata": {},
   "source": [
    "<br />"
   ]
  },
  {
   "cell_type": "markdown",
   "metadata": {},
   "source": [
    "Пример - опровержение теоремы Ферма:\n",
    "    \n",
    "```c++\n",
    "#include <iostream>\n",
    " \n",
    "int fermat() {\n",
    "  const int MAX = 1000;\n",
    "  int a = 1, b = 1, c = 1;\n",
    "  // Endless loop with no side effects is UB\n",
    "  while (1)\n",
    "  {\n",
    "    if (a*a*a == b*b*b + с*c*c)\n",
    "        return 1;\n",
    "    a++;\n",
    "    if (a > MAX) { a = 1; b++; }\n",
    "    if (b > MAX) { b = 1; c++; }\n",
    "    if (c > MAX) { c = 1; }\n",
    "  }\n",
    "  return 0;\n",
    "}\n",
    " \n",
    "int main() {\n",
    "  if (fermat())\n",
    "    std::cout << \"Fermat's Last Theorem has been disproved.\\n\";\n",
    "  else\n",
    "    std::cout << \"Fermat's Last Theorem has not been disproved.\\n\";\n",
    "}\n",
    "```\n",
    "\n",
    "`-->`\n",
    "\n",
    "```\n",
    "Fermat's Last Theorem has been disproved.\n",
    "```"
   ]
  },
  {
   "cell_type": "markdown",
   "metadata": {},
   "source": [
    "<br />"
   ]
  },
  {
   "cell_type": "markdown",
   "metadata": {},
   "source": [
    "##### Как избежать проблем с UB?\n",
    "* поменять язык\n",
    "* статические анализаторы кода\n",
    "* санитары (asan, msan, tsan, ubsan ...), valgrind, drmemory ... - динамические анализаторы кода\n",
    "* различные встроенные отладочные механизмы. Примеры:\n",
    "    * проверки корректности [внутри имплементаций STL](https://gcc.gnu.org/onlinedocs/libstdc++/manual/debug_mode.html)\n",
    "    * проверки кучи на целостность после операций с аллокаторами в windows [CrtSetDbgFlag](https://docs.microsoft.com/ru-ru/cpp/c-runtime-library/reference/crtsetdbgflag?view=vs-2019)\n",
    "    * windows-specific [debugging tools](https://docs.microsoft.com/en-us/windows-hardware/drivers/debugger/gflags)\n",
    "* повышать свой уровень грамотности С++"
   ]
  },
  {
   "cell_type": "markdown",
   "metadata": {},
   "source": [
    "<br />"
   ]
  },
  {
   "cell_type": "markdown",
   "metadata": {},
   "source": [
    "__Резюме:__\n",
    "* implementation defined - иди читай документацию\n",
    "* unspecified - иди читай код, убеждайся, что всё нормально\n",
    "* undefined - срочно править\n",
    "* регулярно гонять статические анализаторы по коду (и читать их отчёты)\n",
    "* регулярно гонять тесты и основные сценарии под санитарами (и читать их отчёты)\n",
    "* `constexpr` to the rescue! (как `constexpr` ловит ub - поговорим в продолжении курса)"
   ]
  }
 ],
 "metadata": {
  "kernelspec": {
   "display_name": "Python 3",
   "language": "python",
   "name": "python3"
  },
  "language_info": {
   "codemirror_mode": {
    "name": "ipython",
    "version": 3
   },
   "file_extension": ".py",
   "mimetype": "text/x-python",
   "name": "python",
   "nbconvert_exporter": "python",
   "pygments_lexer": "ipython3",
   "version": "3.6.8"
  }
 },
 "nbformat": 4,
 "nbformat_minor": 2
}
