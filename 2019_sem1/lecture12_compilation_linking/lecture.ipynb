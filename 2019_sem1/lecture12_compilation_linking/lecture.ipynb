{
 "cells": [
  {
   "cell_type": "markdown",
   "metadata": {},
   "source": [
    "### Компиляция и линковка."
   ]
  },
  {
   "cell_type": "markdown",
   "metadata": {},
   "source": [
    "<br />"
   ]
  },
  {
   "cell_type": "markdown",
   "metadata": {},
   "source": [
    "##### Этапы сборки программ"
   ]
  },
  {
   "cell_type": "markdown",
   "metadata": {},
   "source": [
    "https://en.cppreference.com/w/cpp/language/translation_phases"
   ]
  },
  {
   "cell_type": "markdown",
   "metadata": {},
   "source": [
    "Упрощённая схема:"
   ]
  },
  {
   "cell_type": "markdown",
   "metadata": {},
   "source": [
    "![](program_stages_2.jpg)"
   ]
  },
  {
   "cell_type": "markdown",
   "metadata": {},
   "source": [
    "Вопросы:\n",
    "* где в этом процессе header-файлы?\n",
    "* как собирать не исполняемый файл, а статическую билиотеку?\n",
    "* как в этой схеме обрабатываются шаблоны? (вопрос с двойным подвохом)\n",
    "* на каких уровнях возможна параллелизация процесса?\n",
    "* как сюда вписываются precompiled headers?"
   ]
  },
  {
   "cell_type": "markdown",
   "metadata": {},
   "source": [
    "<br />"
   ]
  },
  {
   "cell_type": "markdown",
   "metadata": {},
   "source": [
    "##### Препроцессор - зачем и как"
   ]
  },
  {
   "cell_type": "markdown",
   "metadata": {},
   "source": [
    "Заголовочные файлы"
   ]
  },
  {
   "cell_type": "markdown",
   "metadata": {},
   "source": [
    "```c++\n",
    "#include <string>\n",
    "\n",
    "#include \"utils.h\"\n",
    "```"
   ]
  },
  {
   "cell_type": "markdown",
   "metadata": {},
   "source": [
    "Макросы автоподстановки - постарайтесь по возможности избегать их, предпочитать С++ - аналоги"
   ]
  },
  {
   "cell_type": "markdown",
   "metadata": {},
   "source": [
    "```c++\n",
    "#define SQR(x)  x * x\n",
    "```"
   ]
  },
  {
   "cell_type": "markdown",
   "metadata": {},
   "source": [
    "<details>\n",
    "<summary>Объяснение ошибки</summary>\n",
    "<p>\n",
    "\n",
    "```c++\n",
    "// error:\n",
    "//     SQR(2 + 3)  --> 2 + 3 * 2 + 3 == 11  // OOOOOPS!\n",
    "//\n",
    "// corrected version:\n",
    "#define SQR(x) (x)*(x)\n",
    "```\n",
    "\n",
    "</p>\n",
    "</details>"
   ]
  },
  {
   "cell_type": "markdown",
   "metadata": {},
   "source": [
    "<br />\n",
    "Другой пример:"
   ]
  },
  {
   "cell_type": "markdown",
   "metadata": {},
   "source": [
    "```c++\n",
    "#define LOG(msg) \\\n",
    "    if (is_logging_enabled) \\\n",
    "        std::clog << (msg) << std::endl;\n",
    "```"
   ]
  },
  {
   "cell_type": "markdown",
   "metadata": {},
   "source": [
    "<details>\n",
    "<summary>Объяснение ошибки</summary>\n",
    "<p>\n",
    "\n",
    "```c++\n",
    "// error: \n",
    "//     if (something_bad_happened)\n",
    "//         LOG(\"something bad happened!\");\n",
    "//     else\n",
    "//         run_task();  // OOOOPS!\n",
    "//\n",
    "// corrected version (linux kernel programming guides):\n",
    "#define LOG(msg) \\\n",
    "    do { \\\n",
    "        if (is_logging_enabled) \\\n",
    "            std::clog << (msg) << std::endl; \\\n",
    "    } while(0)\n",
    "```\n",
    "\n",
    "</p>\n",
    "</details>"
   ]
  },
  {
   "cell_type": "markdown",
   "metadata": {},
   "source": [
    "Генерация ошибок и предупреждений в compile-time"
   ]
  },
  {
   "cell_type": "markdown",
   "metadata": {},
   "source": [
    "```c++\n",
    "#error This file must not be included into compilation!\n",
    "```"
   ]
  },
  {
   "cell_type": "markdown",
   "metadata": {},
   "source": [
    "```c++\n",
    "void f()\n",
    "{\n",
    "    #warning Function f() must be fixed for case when there is no network connection\n",
    "    ...\n",
    "}\n",
    "```"
   ]
  },
  {
   "cell_type": "markdown",
   "metadata": {},
   "source": [
    "Условная компиляция"
   ]
  },
  {
   "cell_type": "markdown",
   "metadata": {},
   "source": [
    "```c++\n",
    "// условная компиляция под разные ОС\n",
    "void remove_file(const std::string& filename)\n",
    "{\n",
    "    #if defined(__LINUX__)\n",
    "        ...\n",
    "    #elif defined(__WINDOWS__)\n",
    "        ...\n",
    "    #elif defined(__MACOSX__)\n",
    "        ...\n",
    "    #elif defined(__ANDROID__)\n",
    "        ...\n",
    "    #elif defined(__IOS__)\n",
    "        ...\n",
    "    #else\n",
    "        #error Unsupported target OS\n",
    "    #endif\n",
    "}\n",
    "\n",
    "// условная компиляция для переключения фичей через пользовательские флаги\n",
    "// (например, -DENABLE_LOGGING для gcc/clang)\n",
    "#ifdef ENABLE_LOGGING\n",
    "    #define LOG(msg) \\\n",
    "            std::clog << (msg) << std::endl;\n",
    "#else\n",
    "    #define LOG(msg) ;\n",
    "#endif\n",
    "\n",
    "// условная компиляция на разных компиляторах для поддержки расширений:\n",
    "#if defined(__GNUC__) || defined(__clang__)\n",
    "    #define ALWAYS_INLINE __attribute__((noinline))\n",
    "#elif defined(_MSC_VER)\n",
    "    #define ALWAYS_INLINE __declspec(noinline)\n",
    "#else\n",
    "    #define ALWAYS_INLINE\n",
    "    #warning ALWAYS_INLINE macro is not supported for this compiler\n",
    "#endif\n",
    "\n",
    "ALWAYS_INLINE void f() {\n",
    "    ...\n",
    "}\n",
    "\n",
    "ALWAYS_INLINE int g() {\n",
    "    ...\n",
    "}\n",
    "```"
   ]
  },
  {
   "cell_type": "markdown",
   "metadata": {},
   "source": [
    "https://en.cppreference.com/w/cpp/preprocessor/replace\n",
    "\n",
    "https://en.cppreference.com/w/cpp/preprocessor/impl\n",
    "\n",
    "А также:\n",
    "* информация о поддерживаемых фичах компилятором (`__cpp_generic_lambdas`, `__cpp_range_based_for` и др.)\n",
    "* дополнительная информация для точной отладки/трассировки/профилировки (`__LINE__`, `__FILE__` и нестандартный `__function__`)\n",
    "* `#pragma` - команды либо подсказки компилятору (`#pragma once`, `#pragma unroll` ...)"
   ]
  },
  {
   "cell_type": "markdown",
   "metadata": {},
   "source": [
    "<br />"
   ]
  },
  {
   "cell_type": "markdown",
   "metadata": {},
   "source": [
    "##### Компиляция. Содержимое объектных файлов. Область видимости символов."
   ]
  },
  {
   "cell_type": "markdown",
   "metadata": {},
   "source": [
    "Стадии компиляции (упрощённо):\n",
    "* Лексический анализ. Разбивает код программы на последовательность лексем.\n",
    "* Синтаксический анализ. Определение порядка выполнения команд, построение AST/DAG из лексем.\n",
    "* Семантический анализ. Применение семантических правил языка к AST/DAG.\n",
    "* Оптимизация и кодогенерация. На выходе - объектный файл."
   ]
  },
  {
   "cell_type": "markdown",
   "metadata": {},
   "source": [
    "__Вопрос-наброс__: какая из стадий самая дорогая по времени?"
   ]
  },
  {
   "cell_type": "markdown",
   "metadata": {},
   "source": [
    "<br />"
   ]
  },
  {
   "cell_type": "markdown",
   "metadata": {},
   "source": [
    "Давайте набросаем простенькую программку из нескольких файлов и посмотрим на содержимое объектных файлов"
   ]
  },
  {
   "cell_type": "code",
   "execution_count": null,
   "metadata": {},
   "outputs": [],
   "source": [
    "# %load ex1_objfiles/main.cpp\n",
    "#include \"math_utils.h\"\n",
    "#include \"string_utils.h\"\n",
    "\n",
    "#include <cstdio>\n",
    "#include <cstring>\n",
    "\n",
    "void print_help() noexcept\n",
    "{\n",
    "    std::puts(\"USAGE:\");\n",
    "    std::puts(\"    exmaple.bin msum 3 4\");\n",
    "    std::puts(\"        7\");\n",
    "    std::puts(\"    exmaple.bin mmul 3 4\");\n",
    "    std::puts(\"        12\");\n",
    "    std::puts(\"    exmaple.bin ssum 3 4\");\n",
    "    std::puts(\"        34\");\n",
    "    std::puts(\"    exmaple.bin smul 3 4\");\n",
    "    std::puts(\"        3333\");\n",
    "    std::puts(\"\");\n",
    "    std::puts(\"Errors processing is not implemented in order to simplify example\");\n",
    "}\n",
    "\n",
    "int main(int argc, char** argv)\n",
    "{\n",
    "    if (argc != 4)\n",
    "    {\n",
    "        print_help();\n",
    "        return 1;\n",
    "    }\n",
    "\n",
    "    const char* const op = argv[1];\n",
    "    const char* const a1 = argv[2];\n",
    "    const char* const a2 = argv[3];\n",
    "    if (!std::strcmp(op, \"msum\"))\n",
    "        math_utils::sum(a1, a2);\n",
    "    else if (!std::strcmp(op, \"mmul\"))\n",
    "        math_utils::mul(a1, a2);\n",
    "    else if (!std::strcmp(op, \"ssum\"))\n",
    "        string_utils::sum(a1, a2);\n",
    "    else if (!std::strcmp(op, \"smul\"))\n",
    "        string_utils::mul(a1, a2);\n",
    "    return 0;\n",
    "}"
   ]
  },
  {
   "cell_type": "code",
   "execution_count": null,
   "metadata": {},
   "outputs": [],
   "source": [
    "# %load ex1_objfiles/math_utils.h\n",
    "#pragma once\n",
    "\n",
    "namespace math_utils\n",
    "{\n",
    "    void sum(const char* a1, const char* a2) noexcept;\n",
    "    void mul(const char* a1, const char* a2) noexcept;\n",
    "}  // namespace math_utils"
   ]
  },
  {
   "cell_type": "code",
   "execution_count": null,
   "metadata": {},
   "outputs": [],
   "source": [
    "# %load ex1_objfiles/string_utils.h\n",
    "#pragma once\n",
    "\n",
    "namespace string_utils\n",
    "{\n",
    "    void sum(const char* a1, const char* a2) noexcept;\n",
    "    void mul(const char* a1, const char* a2) noexcept;\n",
    "}  // namespace string_utils"
   ]
  },
  {
   "cell_type": "code",
   "execution_count": null,
   "metadata": {},
   "outputs": [],
   "source": [
    "# %load ex1_objfiles/math_utils.cpp\n",
    "#include \"math_utils.h\"\n",
    "\n",
    "#include <cstdio>\n",
    "#include <cstdlib>\n",
    "\n",
    "int convert_to_int(const char* const s) noexcept\n",
    "{\n",
    "    return std::atoi(s);\n",
    "}\n",
    "\n",
    "namespace math_utils\n",
    "{\n",
    "    void sum(const char* const a1, const char* const a2) noexcept\n",
    "    {\n",
    "        const int x1 = convert_to_int(a1);\n",
    "        const int x2 = convert_to_int(a2);\n",
    "        std::printf(\"%d\\n\", x1 + x2);\n",
    "    }\n",
    "\n",
    "    void mul(const char* const a1, const char* const a2) noexcept\n",
    "    {\n",
    "        const int x1 = convert_to_int(a1);\n",
    "        const int x2 = convert_to_int(a2);\n",
    "        std::printf(\"%d\\n\", x1 * x2);\n",
    "    }\n",
    "}  // namespace math_utils"
   ]
  },
  {
   "cell_type": "code",
   "execution_count": null,
   "metadata": {},
   "outputs": [],
   "source": [
    "# %load ex1_objfiles/string_utils.cpp\n",
    "#include \"string_utils.h\"\n",
    "\n",
    "#include <cstdio>\n",
    "#include <cstdlib>\n",
    "\n",
    "int convert_to_int(const char* const s) noexcept\n",
    "{\n",
    "    return std::atoi(s);\n",
    "}\n",
    "\n",
    "namespace string_utils\n",
    "{\n",
    "    void sum(const char* const a1, const char* const a2) noexcept\n",
    "    {\n",
    "        std::puts(a1);\n",
    "        std::puts(a2);\n",
    "    }\n",
    "\n",
    "    void mul(const char* const a1, const char* const a2) noexcept\n",
    "    {\n",
    "        const int x2 = convert_to_int(a2);\n",
    "        for (int i = 0; i < x2; ++i)\n",
    "            std::puts(a1);\n",
    "    }\n",
    "}  // namespace string_utils"
   ]
  },
  {
   "cell_type": "markdown",
   "metadata": {},
   "source": [
    "Скомпилируем объектные файлы:"
   ]
  },
  {
   "cell_type": "code",
   "execution_count": 16,
   "metadata": {},
   "outputs": [],
   "source": [
    "!clang++ -c -Os ex1_objfiles/main.cpp\n",
    "!clang++ -c -Os ex1_objfiles/math_utils.cpp\n",
    "!clang++ -c -Os ex1_objfiles/string_utils.cpp"
   ]
  },
  {
   "cell_type": "code",
   "execution_count": 17,
   "metadata": {},
   "outputs": [
    {
     "name": "stdout",
     "output_type": "stream",
     "text": [
      "-rw-rw-r-- 1 ivafanas ivafanas 2,7K сен  5 00:51 main.o\r\n",
      "-rw-rw-r-- 1 ivafanas ivafanas 1,7K сен  5 00:51 math_utils.o\r\n",
      "-rw-rw-r-- 1 ivafanas ivafanas 1,4K сен  5 00:51 string_utils.o\r\n"
     ]
    }
   ],
   "source": [
    "!ls *.o -lh"
   ]
  },
  {
   "cell_type": "markdown",
   "metadata": {},
   "source": [
    "Посмотрим на символы в main.o:"
   ]
  },
  {
   "cell_type": "code",
   "execution_count": 18,
   "metadata": {},
   "outputs": [
    {
     "name": "stdout",
     "output_type": "stream",
     "text": [
      "\r\n",
      "main.o:     file format elf64-x86-64\r\n",
      "\r\n",
      "SYMBOL TABLE:\r\n",
      "0000000000000000 l    df *ABS*\t0000000000000000 main.cpp\r\n",
      "0000000000000000 l    d  .text\t0000000000000000 .text\r\n",
      "0000000000000000 l    d  .rodata.str1.1\t0000000000000000 .rodata.str1.1\r\n",
      "0000000000000000 g     F .text\t0000000000000070 _Z10print_helpv\r\n",
      "0000000000000000         *UND*\t0000000000000000 _ZN10math_utils3mulEPKcS1_\r\n",
      "0000000000000000         *UND*\t0000000000000000 _ZN10math_utils3sumEPKcS1_\r\n",
      "0000000000000000         *UND*\t0000000000000000 _ZN12string_utils3mulEPKcS1_\r\n",
      "0000000000000000         *UND*\t0000000000000000 _ZN12string_utils3sumEPKcS1_\r\n",
      "0000000000000070 g     F .text\t00000000000000a4 main\r\n",
      "0000000000000000         *UND*\t0000000000000000 putchar\r\n",
      "0000000000000000         *UND*\t0000000000000000 puts\r\n",
      "0000000000000000         *UND*\t0000000000000000 strcmp\r\n",
      "\r\n",
      "\r\n"
     ]
    }
   ],
   "source": [
    "!objdump -t main.o"
   ]
  },
  {
   "cell_type": "markdown",
   "metadata": {},
   "source": [
    "Таблица символов показывает, что:\n",
    "* в этом файле определены и видны наружу `print_help` и `main`\n",
    "* файл ссылается на символы `math_utils::mul`, `math_utils::sum`, `string_utils::mul`, `string_utils::sum`, `putchar`, `puts`, `strcmp`, которые реализованы где-то извне"
   ]
  },
  {
   "cell_type": "markdown",
   "metadata": {},
   "source": [
    "https://en.cppreference.com/w/cpp/language/storage_duration (раздел Linkage)"
   ]
  },
  {
   "cell_type": "markdown",
   "metadata": {},
   "source": [
    "А вот, кстати, и наши строчки:"
   ]
  },
  {
   "cell_type": "code",
   "execution_count": 28,
   "metadata": {},
   "outputs": [
    {
     "name": "stdout",
     "output_type": "stream",
     "text": [
      "\r\n",
      "main.o:     file format elf64-x86-64\r\n",
      "\r\n",
      "Contents of section .rodata.str1.1:\r\n",
      " 0000 55534147 453a0020 20202065 786d6170  USAGE:.    exmap\r\n",
      " 0010 6c652e62 696e206d 73756d20 33203400  le.bin msum 3 4.\r\n",
      " 0020 20202020 20202020 37002020 20206578          7.    ex\r\n",
      " 0030 6d61706c 652e6269 6e206d6d 756c2033  maple.bin mmul 3\r\n",
      " 0040 20340020 20202020 20202031 32002020   4.        12.  \r\n",
      " 0050 20206578 6d61706c 652e6269 6e207373    exmaple.bin ss\r\n",
      " 0060 756d2033 20340020 20202020 20202033  um 3 4.        3\r\n",
      " 0070 34002020 20206578 6d61706c 652e6269  4.    exmaple.bi\r\n",
      " 0080 6e20736d 756c2033 20340020 20202020  n smul 3 4.     \r\n",
      " 0090 20202033 33333300 4572726f 72732070     3333.Errors p\r\n",
      " 00a0 726f6365 7373696e 67206973 206e6f74  rocessing is not\r\n",
      " 00b0 20696d70 6c656d65 6e746564 20696e20   implemented in \r\n",
      " 00c0 6f726465 7220746f 2073696d 706c6966  order to simplif\r\n",
      " 00d0 79206578 616d706c 65006d73 756d006d  y example.msum.m\r\n",
      " 00e0 6d756c00 7373756d 00736d75 6c00      mul.ssum.smul.  \r\n"
     ]
    }
   ],
   "source": [
    "!objdump -s --section=.rodata.str1.1 main.o"
   ]
  },
  {
   "cell_type": "markdown",
   "metadata": {},
   "source": [
    "Посмотрим на символы `math_utils`:"
   ]
  },
  {
   "cell_type": "code",
   "execution_count": 19,
   "metadata": {},
   "outputs": [
    {
     "name": "stdout",
     "output_type": "stream",
     "text": [
      "\r\n",
      "math_utils.o:     file format elf64-x86-64\r\n",
      "\r\n",
      "SYMBOL TABLE:\r\n",
      "0000000000000000 l    df *ABS*\t0000000000000000 math_utils.cpp\r\n",
      "0000000000000000 l    d  .text\t0000000000000000 .text\r\n",
      "0000000000000000 l    d  .rodata.str1.1\t0000000000000000 .rodata.str1.1\r\n",
      "0000000000000000 g     F .text\t0000000000000005 _Z14convert_to_intPKc\r\n",
      "0000000000000033 g     F .text\t000000000000002e _ZN10math_utils3mulEPKcS1_\r\n",
      "0000000000000005 g     F .text\t000000000000002e _ZN10math_utils3sumEPKcS1_\r\n",
      "0000000000000000         *UND*\t0000000000000000 atoi\r\n",
      "0000000000000000         *UND*\t0000000000000000 printf\r\n",
      "\r\n",
      "\r\n"
     ]
    }
   ],
   "source": [
    "!objdump -t math_utils.o"
   ]
  },
  {
   "cell_type": "markdown",
   "metadata": {},
   "source": [
    "Посмотрим на символы `string_utils`:"
   ]
  },
  {
   "cell_type": "code",
   "execution_count": 20,
   "metadata": {},
   "outputs": [
    {
     "name": "stdout",
     "output_type": "stream",
     "text": [
      "\r\n",
      "string_utils.o:     file format elf64-x86-64\r\n",
      "\r\n",
      "SYMBOL TABLE:\r\n",
      "0000000000000000 l    df *ABS*\t0000000000000000 string_utils.cpp\r\n",
      "0000000000000000 l    d  .text\t0000000000000000 .text\r\n",
      "0000000000000000 g     F .text\t0000000000000005 _Z14convert_to_intPKc\r\n",
      "0000000000000017 g     F .text\t0000000000000027 _ZN12string_utils3mulEPKcS1_\r\n",
      "0000000000000005 g     F .text\t0000000000000012 _ZN12string_utils3sumEPKcS1_\r\n",
      "0000000000000000         *UND*\t0000000000000000 atoi\r\n",
      "0000000000000000         *UND*\t0000000000000000 puts\r\n",
      "\r\n",
      "\r\n"
     ]
    }
   ],
   "source": [
    "!objdump -t string_utils.o"
   ]
  },
  {
   "cell_type": "markdown",
   "metadata": {},
   "source": [
    "__Вопросы__:\n",
    "* Программа не слинкуется. Почему? Как починить?\n",
    "* Почему компилятору бы не перенести `print_help` и `convert_to_int` из видимых наружу символов в локальные, ведь они никем не используются?"
   ]
  },
  {
   "cell_type": "markdown",
   "metadata": {},
   "source": [
    "И немного ассемблера что творится в этих файлах:"
   ]
  },
  {
   "cell_type": "code",
   "execution_count": 21,
   "metadata": {},
   "outputs": [
    {
     "name": "stdout",
     "output_type": "stream",
     "text": [
      "\r\n",
      "math_utils.o:     file format elf64-x86-64\r\n",
      "\r\n",
      "\r\n",
      "Disassembly of section .text:\r\n",
      "\r\n",
      "0000000000000000 <_Z14convert_to_intPKc>:\r\n",
      "   0:\te9 00 00 00 00       \tjmpq   5 <_ZN10math_utils3sumEPKcS1_>\r\n",
      "\r\n",
      "0000000000000005 <_ZN10math_utils3sumEPKcS1_>:\r\n",
      "   5:\t41 56                \tpush   %r14\r\n",
      "   7:\t53                   \tpush   %rbx\r\n",
      "   8:\t50                   \tpush   %rax\r\n",
      "   9:\t48 89 f3             \tmov    %rsi,%rbx\r\n",
      "   c:\te8 00 00 00 00       \tcallq  11 <_ZN10math_utils3sumEPKcS1_+0xc>\r\n",
      "  11:\t41 89 c6             \tmov    %eax,%r14d\r\n",
      "  14:\t48 89 df             \tmov    %rbx,%rdi\r\n",
      "  17:\te8 00 00 00 00       \tcallq  1c <_ZN10math_utils3sumEPKcS1_+0x17>\r\n",
      "  1c:\t42 8d 34 30          \tlea    (%rax,%r14,1),%esi\r\n",
      "  20:\tbf 00 00 00 00       \tmov    $0x0,%edi\r\n",
      "  25:\t31 c0                \txor    %eax,%eax\r\n",
      "  27:\t48 83 c4 08          \tadd    $0x8,%rsp\r\n",
      "  2b:\t5b                   \tpop    %rbx\r\n",
      "  2c:\t41 5e                \tpop    %r14\r\n",
      "  2e:\te9 00 00 00 00       \tjmpq   33 <_ZN10math_utils3mulEPKcS1_>\r\n",
      "\r\n",
      "0000000000000033 <_ZN10math_utils3mulEPKcS1_>:\r\n",
      "  33:\t55                   \tpush   %rbp\r\n",
      "  34:\t53                   \tpush   %rbx\r\n",
      "  35:\t50                   \tpush   %rax\r\n",
      "  36:\t48 89 f3             \tmov    %rsi,%rbx\r\n",
      "  39:\te8 00 00 00 00       \tcallq  3e <_ZN10math_utils3mulEPKcS1_+0xb>\r\n",
      "  3e:\t89 c5                \tmov    %eax,%ebp\r\n",
      "  40:\t48 89 df             \tmov    %rbx,%rdi\r\n",
      "  43:\te8 00 00 00 00       \tcallq  48 <_ZN10math_utils3mulEPKcS1_+0x15>\r\n",
      "  48:\t89 c1                \tmov    %eax,%ecx\r\n",
      "  4a:\t0f af cd             \timul   %ebp,%ecx\r\n",
      "  4d:\tbf 00 00 00 00       \tmov    $0x0,%edi\r\n",
      "  52:\t31 c0                \txor    %eax,%eax\r\n",
      "  54:\t89 ce                \tmov    %ecx,%esi\r\n",
      "  56:\t48 83 c4 08          \tadd    $0x8,%rsp\r\n",
      "  5a:\t5b                   \tpop    %rbx\r\n",
      "  5b:\t5d                   \tpop    %rbp\r\n",
      "  5c:\te9 00 00 00 00       \tjmpq   61 <_ZN10math_utils3mulEPKcS1_+0x2e>\r\n"
     ]
    }
   ],
   "source": [
    "!objdump -d math_utils.o"
   ]
  },
  {
   "cell_type": "code",
   "execution_count": 22,
   "metadata": {},
   "outputs": [
    {
     "name": "stdout",
     "output_type": "stream",
     "text": [
      "\r\n",
      "string_utils.o:     file format elf64-x86-64\r\n",
      "\r\n",
      "\r\n",
      "Disassembly of section .text:\r\n",
      "\r\n",
      "0000000000000000 <_Z14convert_to_intPKc>:\r\n",
      "   0:\te9 00 00 00 00       \tjmpq   5 <_ZN12string_utils3sumEPKcS1_>\r\n",
      "\r\n",
      "0000000000000005 <_ZN12string_utils3sumEPKcS1_>:\r\n",
      "   5:\t53                   \tpush   %rbx\r\n",
      "   6:\t48 89 f3             \tmov    %rsi,%rbx\r\n",
      "   9:\te8 00 00 00 00       \tcallq  e <_ZN12string_utils3sumEPKcS1_+0x9>\r\n",
      "   e:\t48 89 df             \tmov    %rbx,%rdi\r\n",
      "  11:\t5b                   \tpop    %rbx\r\n",
      "  12:\te9 00 00 00 00       \tjmpq   17 <_ZN12string_utils3mulEPKcS1_>\r\n",
      "\r\n",
      "0000000000000017 <_ZN12string_utils3mulEPKcS1_>:\r\n",
      "  17:\t55                   \tpush   %rbp\r\n",
      "  18:\t53                   \tpush   %rbx\r\n",
      "  19:\t50                   \tpush   %rax\r\n",
      "  1a:\t48 89 fb             \tmov    %rdi,%rbx\r\n",
      "  1d:\t48 89 f7             \tmov    %rsi,%rdi\r\n",
      "  20:\te8 00 00 00 00       \tcallq  25 <_ZN12string_utils3mulEPKcS1_+0xe>\r\n",
      "  25:\t89 c5                \tmov    %eax,%ebp\r\n",
      "  27:\t85 ed                \ttest   %ebp,%ebp\r\n",
      "  29:\t7e 0c                \tjle    37 <_ZN12string_utils3mulEPKcS1_+0x20>\r\n",
      "  2b:\t48 89 df             \tmov    %rbx,%rdi\r\n",
      "  2e:\te8 00 00 00 00       \tcallq  33 <_ZN12string_utils3mulEPKcS1_+0x1c>\r\n",
      "  33:\tff cd                \tdec    %ebp\r\n",
      "  35:\t75 f4                \tjne    2b <_ZN12string_utils3mulEPKcS1_+0x14>\r\n",
      "  37:\t48 83 c4 08          \tadd    $0x8,%rsp\r\n",
      "  3b:\t5b                   \tpop    %rbx\r\n",
      "  3c:\t5d                   \tpop    %rbp\r\n",
      "  3d:\tc3                   \tretq   \r\n"
     ]
    }
   ],
   "source": [
    "!objdump -d string_utils.o"
   ]
  },
  {
   "cell_type": "markdown",
   "metadata": {},
   "source": [
    "Подчистим за собой:"
   ]
  },
  {
   "cell_type": "code",
   "execution_count": null,
   "metadata": {},
   "outputs": [],
   "source": [
    "rm -f *.o"
   ]
  },
  {
   "cell_type": "markdown",
   "metadata": {},
   "source": [
    "<br />"
   ]
  },
  {
   "cell_type": "markdown",
   "metadata": {},
   "source": [
    "Теперь подправим math_utils.cpp, скажем компилятору, что функция `covnert_to_int` снаружи никому не нужна:"
   ]
  },
  {
   "cell_type": "code",
   "execution_count": null,
   "metadata": {},
   "outputs": [],
   "source": [
    "# %load ex1_objfiles/math_utils_w_static.cpp\n",
    "#include \"math_utils.h\"\n",
    "\n",
    "#include <cstdio>\n",
    "#include <cstdlib>\n",
    "\n",
    "static int convert_to_int(const char* const s) noexcept\n",
    "{\n",
    "    return std::atoi(s);\n",
    "}\n",
    "\n",
    "namespace math_utils\n",
    "{\n",
    "    void sum(const char* const a1, const char* const a2) noexcept\n",
    "    {\n",
    "        const int x1 = convert_to_int(a1);\n",
    "        const int x2 = convert_to_int(a2);\n",
    "        std::printf(\"%d\\n\", x1 + x2);\n",
    "    }\n",
    "\n",
    "    void mul(const char* const a1, const char* const a2) noexcept\n",
    "    {\n",
    "        const int x1 = convert_to_int(a1);\n",
    "        const int x2 = convert_to_int(a2);\n",
    "        std::printf(\"%d\\n\", x1 * x2);\n",
    "    }\n",
    "}  // namespace math_utils"
   ]
  },
  {
   "cell_type": "code",
   "execution_count": 37,
   "metadata": {},
   "outputs": [],
   "source": [
    "!clang++ -Os -c ex1_objfiles/math_utils_w_static.cpp"
   ]
  },
  {
   "cell_type": "code",
   "execution_count": 38,
   "metadata": {},
   "outputs": [
    {
     "name": "stdout",
     "output_type": "stream",
     "text": [
      "\r\n",
      "math_utils_w_static.o:     file format elf64-x86-64\r\n",
      "\r\n",
      "SYMBOL TABLE:\r\n",
      "0000000000000000 l    df *ABS*\t0000000000000000 math_utils_w_static.cpp\r\n",
      "0000000000000000 l    d  .text\t0000000000000000 .text\r\n",
      "0000000000000000 l    d  .rodata.str1.1\t0000000000000000 .rodata.str1.1\r\n",
      "000000000000002e g     F .text\t000000000000002e _ZN10math_utils3mulEPKcS1_\r\n",
      "0000000000000000 g     F .text\t000000000000002e _ZN10math_utils3sumEPKcS1_\r\n",
      "0000000000000000         *UND*\t0000000000000000 atoi\r\n",
      "0000000000000000         *UND*\t0000000000000000 printf\r\n",
      "\r\n",
      "\r\n"
     ]
    }
   ],
   "source": [
    "!objdump -t math_utils_w_static.o"
   ]
  },
  {
   "cell_type": "code",
   "execution_count": 39,
   "metadata": {},
   "outputs": [
    {
     "name": "stdout",
     "output_type": "stream",
     "text": [
      "\r\n",
      "math_utils_w_static.o:     file format elf64-x86-64\r\n",
      "\r\n",
      "\r\n",
      "Disassembly of section .text:\r\n",
      "\r\n",
      "0000000000000000 <_ZN10math_utils3sumEPKcS1_>:\r\n",
      "   0:\t41 56                \tpush   %r14\r\n",
      "   2:\t53                   \tpush   %rbx\r\n",
      "   3:\t50                   \tpush   %rax\r\n",
      "   4:\t48 89 f3             \tmov    %rsi,%rbx\r\n",
      "   7:\te8 00 00 00 00       \tcallq  c <_ZN10math_utils3sumEPKcS1_+0xc>\r\n",
      "   c:\t41 89 c6             \tmov    %eax,%r14d\r\n",
      "   f:\t48 89 df             \tmov    %rbx,%rdi\r\n",
      "  12:\te8 00 00 00 00       \tcallq  17 <_ZN10math_utils3sumEPKcS1_+0x17>\r\n",
      "  17:\t42 8d 34 30          \tlea    (%rax,%r14,1),%esi\r\n",
      "  1b:\tbf 00 00 00 00       \tmov    $0x0,%edi\r\n",
      "  20:\t31 c0                \txor    %eax,%eax\r\n",
      "  22:\t48 83 c4 08          \tadd    $0x8,%rsp\r\n",
      "  26:\t5b                   \tpop    %rbx\r\n",
      "  27:\t41 5e                \tpop    %r14\r\n",
      "  29:\te9 00 00 00 00       \tjmpq   2e <_ZN10math_utils3mulEPKcS1_>\r\n",
      "\r\n",
      "000000000000002e <_ZN10math_utils3mulEPKcS1_>:\r\n",
      "  2e:\t55                   \tpush   %rbp\r\n",
      "  2f:\t53                   \tpush   %rbx\r\n",
      "  30:\t50                   \tpush   %rax\r\n",
      "  31:\t48 89 f3             \tmov    %rsi,%rbx\r\n",
      "  34:\te8 00 00 00 00       \tcallq  39 <_ZN10math_utils3mulEPKcS1_+0xb>\r\n",
      "  39:\t89 c5                \tmov    %eax,%ebp\r\n",
      "  3b:\t48 89 df             \tmov    %rbx,%rdi\r\n",
      "  3e:\te8 00 00 00 00       \tcallq  43 <_ZN10math_utils3mulEPKcS1_+0x15>\r\n",
      "  43:\t89 c1                \tmov    %eax,%ecx\r\n",
      "  45:\t0f af cd             \timul   %ebp,%ecx\r\n",
      "  48:\tbf 00 00 00 00       \tmov    $0x0,%edi\r\n",
      "  4d:\t31 c0                \txor    %eax,%eax\r\n",
      "  4f:\t89 ce                \tmov    %ecx,%esi\r\n",
      "  51:\t48 83 c4 08          \tadd    $0x8,%rsp\r\n",
      "  55:\t5b                   \tpop    %rbx\r\n",
      "  56:\t5d                   \tpop    %rbp\r\n",
      "  57:\te9 00 00 00 00       \tjmpq   5c <_ZN10math_utils3mulEPKcS1_+0x2e>\r\n"
     ]
    }
   ],
   "source": [
    "!objdump -d math_utils_w_static.o"
   ]
  },
  {
   "cell_type": "markdown",
   "metadata": {},
   "source": [
    "В данном случае компилятор не просто перенёс символ `convert_to_int` в локальные (можно это продемонстрировать, убрав оптимизации), но и принял решение полностью удалить функцию, заинлайнив её.\n",
    "\n",
    "Аналогичным образом желательно спрятать функцию `convert_to_int` в `string_utils.cpp` и `print_help` в `main.cpp`.\n",
    "\n",
    "__Вопрос__: Что делать, если хотим избавиться от копипасты `convert_to_int`? В отдельный `cpp`? В хедер? Как себя поведёт компилятор?"
   ]
  },
  {
   "cell_type": "markdown",
   "metadata": {},
   "source": [
    "<br />"
   ]
  },
  {
   "cell_type": "markdown",
   "metadata": {},
   "source": [
    "##### static vs inline vs compiler inline"
   ]
  },
  {
   "cell_type": "markdown",
   "metadata": {},
   "source": [
    "Попробуем избавиться от copy-paste с `convert_to_int` разными вариантами."
   ]
  },
  {
   "cell_type": "markdown",
   "metadata": {},
   "source": [
    "__Вариант 1__: вынесем `convert_to_int` в header и объявим его `static`"
   ]
  },
  {
   "cell_type": "markdown",
   "metadata": {},
   "source": [
    "`static` перед функцией означает, что символ не нужно экспортировать наружу, он должен быть локальным."
   ]
  },
  {
   "cell_type": "code",
   "execution_count": null,
   "metadata": {},
   "outputs": [],
   "source": [
    "# %load ex2_objfiles/convert.h\n",
    "#pragma once\n",
    "\n",
    "#include <cstdlib>\n",
    "\n",
    "static int convert_to_int(const char* const s) noexcept\n",
    "{\n",
    "    return std::atoi(s);\n",
    "}"
   ]
  },
  {
   "cell_type": "code",
   "execution_count": null,
   "metadata": {},
   "outputs": [],
   "source": [
    "# %load ex2_objfiles/math_utils.cpp\n",
    "#include \"math_utils.h\"\n",
    "\n",
    "#include \"convert.h\"\n",
    "\n",
    "#include <cstdio>\n",
    "\n",
    "namespace math_utils\n",
    "{\n",
    "    void sum(const char* const a1, const char* const a2) noexcept\n",
    "    {\n",
    "        const int x1 = convert_to_int(a1);\n",
    "        const int x2 = convert_to_int(a2);\n",
    "        std::printf(\"%d\\n\", x1 + x2);\n",
    "    }\n",
    "\n",
    "    void mul(const char* const a1, const char* const a2) noexcept\n",
    "    {\n",
    "        const int x1 = convert_to_int(a1);\n",
    "        const int x2 = convert_to_int(a2);\n",
    "        std::printf(\"%d\\n\", x1 * x2);\n",
    "    }\n",
    "}  // namespace math_utils"
   ]
  },
  {
   "cell_type": "code",
   "execution_count": null,
   "metadata": {},
   "outputs": [],
   "source": [
    "# %load ex2_objfiles/string_utils.cpp\n",
    "#include \"string_utils.h\"\n",
    "\n",
    "#include \"convert.h\"\n",
    "\n",
    "#include <cstdio>\n",
    "\n",
    "namespace string_utils\n",
    "{\n",
    "    void sum(const char* const a1, const char* const a2) noexcept\n",
    "    {\n",
    "        std::puts(a1);\n",
    "        std::puts(a2);\n",
    "    }\n",
    "\n",
    "    void mul(const char* const a1, const char* const a2) noexcept\n",
    "    {\n",
    "        const int x2 = convert_to_int(a2);\n",
    "        for (int i = 0; i < x2; ++i)\n",
    "            std::puts(a1);\n",
    "    }\n",
    "}  // namespace string_utils"
   ]
  },
  {
   "cell_type": "markdown",
   "metadata": {},
   "source": [
    "Скомпилируем, обратим особое внимание на символ `convert_to_int`"
   ]
  },
  {
   "cell_type": "code",
   "execution_count": 49,
   "metadata": {},
   "outputs": [],
   "source": [
    "!clang++ -O0 -c ex2_objfiles/main.cpp\n",
    "!clang++ -O0 -c ex2_objfiles/math_utils.cpp\n",
    "!clang++ -O0 -c ex2_objfiles/string_utils.cpp\n",
    "!clang++ -O0 main.o math_utils.o string_utils.o -o a.out"
   ]
  },
  {
   "cell_type": "code",
   "execution_count": 64,
   "metadata": {},
   "outputs": [
    {
     "name": "stdout",
     "output_type": "stream",
     "text": [
      "0000000000000060 l     F .text\t000000000000001b _ZL14convert_to_intPKc\r\n"
     ]
    }
   ],
   "source": [
    "!objdump -t math_utils.o | grep convert_to_int"
   ]
  },
  {
   "cell_type": "code",
   "execution_count": 66,
   "metadata": {},
   "outputs": [
    {
     "name": "stdout",
     "output_type": "stream",
     "text": [
      "00000000000000c0 l     F .text\t000000000000001b _ZL14convert_to_intPKc\r\n"
     ]
    }
   ],
   "source": [
    "!objdump -t string_utils.o | grep convert_to_int"
   ]
  },
  {
   "cell_type": "code",
   "execution_count": 65,
   "metadata": {},
   "outputs": [
    {
     "name": "stdout",
     "output_type": "stream",
     "text": [
      "00000000004009b0 l     F .text\t000000000000001b              _ZL14convert_to_intPKc\r\n",
      "0000000000400af0 l     F .text\t000000000000001b              _ZL14convert_to_intPKc\r\n"
     ]
    }
   ],
   "source": [
    "!objdump -t a.out | grep convert_to_int"
   ]
  },
  {
   "cell_type": "markdown",
   "metadata": {},
   "source": [
    "То же самое с оптимизациями:"
   ]
  },
  {
   "cell_type": "code",
   "execution_count": 67,
   "metadata": {},
   "outputs": [],
   "source": [
    "!clang++ -Os -c ex2_objfiles/main.cpp\n",
    "!clang++ -Os -c ex2_objfiles/math_utils.cpp\n",
    "!clang++ -Os -c ex2_objfiles/string_utils.cpp\n",
    "!clang++ -Os main.o math_utils.o string_utils.o -o a.out\n",
    "!objdump -t a.out | grep convert_to_int"
   ]
  },
  {
   "cell_type": "markdown",
   "metadata": {},
   "source": [
    "__Итого__: \n",
    "* в случае без оптимизаций происходит то, что и должно быть: каждый объектный файл содержит свою собственную реализацию `convert_to_int`, и **функция в исполняемом файле встречается столько раз, сколько объектных файлов слинковано**\n",
    "* в случае оптимизаций компилятор здесь принимает решение выкинуть функцию, заинлайнив её код. Но такое поведение зависит от размера функции и работает не всегда."
   ]
  },
  {
   "cell_type": "markdown",
   "metadata": {},
   "source": [
    "Подчистим за собой:"
   ]
  },
  {
   "cell_type": "code",
   "execution_count": 68,
   "metadata": {},
   "outputs": [],
   "source": [
    "rm -f *.o a.out"
   ]
  },
  {
   "cell_type": "markdown",
   "metadata": {},
   "source": [
    "<br />"
   ]
  },
  {
   "cell_type": "markdown",
   "metadata": {},
   "source": [
    "__Вариант 2:__ вынесем `convert_to_int` в header и объявим его `inline`"
   ]
  },
  {
   "cell_type": "markdown",
   "metadata": {},
   "source": [
    "`inline` перед функцией имеет два значения:\n",
    "* позволяет нарушать ODR\n",
    "* рекомендация компилятору заинлайнить код функции (показать как это работает в godbolt на clang)"
   ]
  },
  {
   "cell_type": "markdown",
   "metadata": {},
   "source": [
    "Отступление: показать сообщения clang об оптимизациях на примере (потом добавить std::puts в sqr2, потом убрать static-и):"
   ]
  },
  {
   "cell_type": "markdown",
   "metadata": {},
   "source": [
    "```c++\n",
    "static double sqr1(double x) {\n",
    "    return x * x;\n",
    "}\n",
    "\n",
    "static inline double sqr2(double x) {\n",
    "    return x * x;\n",
    "}\n",
    "\n",
    "double f(double x, double y) {\n",
    "    return sqr1(x) + sqr2(y);\n",
    "}\n",
    "```"
   ]
  },
  {
   "cell_type": "markdown",
   "metadata": {},
   "source": [
    "Вернёмся к `inline` и ODR"
   ]
  },
  {
   "cell_type": "code",
   "execution_count": null,
   "metadata": {},
   "outputs": [],
   "source": [
    "# %load ex3_objfiles/convert.h\n",
    "#pragma once\n",
    "\n",
    "#include <cstdlib>\n",
    "\n",
    "inline int convert_to_int(const char* const s) noexcept\n",
    "{\n",
    "    return std::atoi(s);\n",
    "}"
   ]
  },
  {
   "cell_type": "markdown",
   "metadata": {},
   "source": [
    "Скомпилируем программу без оптимизаций:"
   ]
  },
  {
   "cell_type": "code",
   "execution_count": 71,
   "metadata": {},
   "outputs": [],
   "source": [
    "!clang++ -O0 -c ex3_objfiles/main.cpp\n",
    "!clang++ -O0 -c ex3_objfiles/math_utils.cpp\n",
    "!clang++ -O0 -c ex3_objfiles/string_utils.cpp\n",
    "!clang++ main.o math_utils.o string_utils.o"
   ]
  },
  {
   "cell_type": "code",
   "execution_count": 73,
   "metadata": {},
   "outputs": [
    {
     "name": "stdout",
     "output_type": "stream",
     "text": [
      "0000000000000000 l    d  .text._Z14convert_to_intPKc\t0000000000000000 .text._Z14convert_to_intPKc\r\n",
      "0000000000000000  w    F .text._Z14convert_to_intPKc\t000000000000001b _Z14convert_to_intPKc\r\n"
     ]
    }
   ],
   "source": [
    "!objdump -t math_utils.o | grep convert_to_int"
   ]
  },
  {
   "cell_type": "code",
   "execution_count": 74,
   "metadata": {},
   "outputs": [
    {
     "name": "stdout",
     "output_type": "stream",
     "text": [
      "0000000000000000 l    d  .text._Z14convert_to_intPKc\t0000000000000000 .text._Z14convert_to_intPKc\r\n",
      "0000000000000000  w    F .text._Z14convert_to_intPKc\t000000000000001b _Z14convert_to_intPKc\r\n"
     ]
    }
   ],
   "source": [
    "!objdump -t string_utils.o | grep convert_to_int"
   ]
  },
  {
   "cell_type": "code",
   "execution_count": 72,
   "metadata": {},
   "outputs": [
    {
     "name": "stdout",
     "output_type": "stream",
     "text": [
      "0000000000400a10  w    F .text\t000000000000001b              _Z14convert_to_intPKc\r\n"
     ]
    }
   ],
   "source": [
    "!objdump -t a.out | grep convert_to_int"
   ]
  },
  {
   "cell_type": "markdown",
   "metadata": {},
   "source": [
    "То же самое с опитизациями:"
   ]
  },
  {
   "cell_type": "code",
   "execution_count": 75,
   "metadata": {},
   "outputs": [],
   "source": [
    "!clang++ -Os -c ex3_objfiles/main.cpp\n",
    "!clang++ -Os -c ex3_objfiles/math_utils.cpp\n",
    "!clang++ -Os -c ex3_objfiles/string_utils.cpp\n",
    "!clang++ main.o math_utils.o string_utils.o"
   ]
  },
  {
   "cell_type": "code",
   "execution_count": 77,
   "metadata": {},
   "outputs": [],
   "source": [
    "!objdump -t math_utils.o | grep convert_to_int"
   ]
  },
  {
   "cell_type": "code",
   "execution_count": 76,
   "metadata": {},
   "outputs": [],
   "source": [
    "!objdump -t a.out | grep convert_to_int"
   ]
  },
  {
   "cell_type": "markdown",
   "metadata": {},
   "source": [
    "__Итого:__\n",
    "* в случае без оптимизаций происходит то, что и должно быть: каждый объектный файл может содержать свою собственную реализацию `convert_to_int`, а функция в исполняемом файле встречается один раз.\n",
    "* в случае оптимизаций компилятор здесь принимает решение выкинуть функцию, заинлайнив её код. Но такое поведение зависит от размера функции и работает не всегда."
   ]
  },
  {
   "cell_type": "markdown",
   "metadata": {},
   "source": [
    "Подчистим за собой:"
   ]
  },
  {
   "cell_type": "code",
   "execution_count": 78,
   "metadata": {},
   "outputs": [],
   "source": [
    "rm -f *.o a.out"
   ]
  },
  {
   "cell_type": "markdown",
   "metadata": {},
   "source": [
    "<br />"
   ]
  },
  {
   "cell_type": "markdown",
   "metadata": {},
   "source": [
    "##### Классы и анонимный namespace. Местонахождение методов класса."
   ]
  },
  {
   "cell_type": "markdown",
   "metadata": {},
   "source": [
    "Пару слов на примерах как компилятор работает с символами на примере классов"
   ]
  },
  {
   "cell_type": "markdown",
   "metadata": {},
   "source": [
    "__Вариант 1__: класс с методами, определёнными в рамках класса"
   ]
  },
  {
   "cell_type": "code",
   "execution_count": null,
   "metadata": {},
   "outputs": [],
   "source": [
    "# %load ex4_class/example_class_1.cpp\n",
    "#include <cstdio>\n",
    "\n",
    "class HTMLPrinter {\n",
    "public:\n",
    "    HTMLPrinter() = default;\n",
    "    ~HTMLPrinter() = default;\n",
    "\n",
    "    void p() {\n",
    "        print(\"<p>\");\n",
    "    }\n",
    "\n",
    "    void div() {\n",
    "        print(\"<div>\");\n",
    "    }\n",
    "\n",
    "private:\n",
    "    void print(const char* s) {\n",
    "        std::puts(s);\n",
    "    }\n",
    "};\n",
    "\n",
    "void f() {\n",
    "    HTMLPrinter printer;\n",
    "    printer.p();\n",
    "}"
   ]
  },
  {
   "cell_type": "code",
   "execution_count": 91,
   "metadata": {},
   "outputs": [
    {
     "name": "stdout",
     "output_type": "stream",
     "text": [
      "\r\n",
      "example_class_1.o:     file format elf64-x86-64\r\n",
      "\r\n",
      "SYMBOL TABLE:\r\n",
      "0000000000000000 l    df *ABS*\t0000000000000000 example_class_1.cpp\r\n",
      "0000000000000000 l    d  .text\t0000000000000000 .text\r\n",
      "0000000000000000 l    d  .text._ZN11HTMLPrinter1pEv\t0000000000000000 .text._ZN11HTMLPrinter1pEv\r\n",
      "0000000000000000 l    d  .text._ZN11HTMLPrinter5printEPKc\t0000000000000000 .text._ZN11HTMLPrinter5printEPKc\r\n",
      "0000000000000000 l    d  .rodata.str1.1\t0000000000000000 .rodata.str1.1\r\n",
      "0000000000000000 g     F .text\t0000000000000017 _Z1fv\r\n",
      "0000000000000000  w    F .text._ZN11HTMLPrinter1pEv\t0000000000000025 _ZN11HTMLPrinter1pEv\r\n",
      "0000000000000000  w    F .text._ZN11HTMLPrinter5printEPKc\t0000000000000022 _ZN11HTMLPrinter5printEPKc\r\n",
      "0000000000000000         *UND*\t0000000000000000 puts\r\n",
      "\r\n",
      "\r\n"
     ]
    }
   ],
   "source": [
    "!clang++ -O0 -c ex4_class/example_class_1.cpp\n",
    "!objdump -t example_class_1.o"
   ]
  },
  {
   "cell_type": "code",
   "execution_count": null,
   "metadata": {},
   "outputs": [],
   "source": [
    "# %load ex4_class/example_class_2.cpp\n",
    "#include <cstdio>\n",
    "\n",
    "class HTMLPrinter {\n",
    "public:\n",
    "    HTMLPrinter();\n",
    "    ~HTMLPrinter();\n",
    "\n",
    "    void p();\n",
    "    void div();\n",
    "\n",
    "private:\n",
    "    void print(const char* s);\n",
    "};\n",
    "\n",
    "HTMLPrinter::HTMLPrinter() = default;\n",
    "HTMLPrinter::~HTMLPrinter() = default;\n",
    "\n",
    "void HTMLPrinter::p() {\n",
    "    print(\"<p>\");\n",
    "}\n",
    "\n",
    "void HTMLPrinter::div() {\n",
    "    print(\"<div>\");\n",
    "}\n",
    "\n",
    "void HTMLPrinter::print(const char* const s) {\n",
    "    std::puts(s);\n",
    "}\n",
    "\n",
    "void f() {\n",
    "    HTMLPrinter printer;\n",
    "    printer.p();\n",
    "}"
   ]
  },
  {
   "cell_type": "code",
   "execution_count": 93,
   "metadata": {},
   "outputs": [
    {
     "name": "stdout",
     "output_type": "stream",
     "text": [
      "\r\n",
      "example_class_2.o:     file format elf64-x86-64\r\n",
      "\r\n",
      "SYMBOL TABLE:\r\n",
      "0000000000000000 l    df *ABS*\t0000000000000000 example_class_2.cpp\r\n",
      "0000000000000000 l       .gcc_except_table\t0000000000000000 GCC_except_table5\r\n",
      "0000000000000000 l    d  .text\t0000000000000000 .text\r\n",
      "0000000000000000 l    d  .gcc_except_table\t0000000000000000 .gcc_except_table\r\n",
      "0000000000000000 l    d  .rodata.str1.1\t0000000000000000 .rodata.str1.1\r\n",
      "0000000000000000         *UND*\t0000000000000000 _Unwind_Resume\r\n",
      "00000000000000b0 g     F .text\t0000000000000050 _Z1fv\r\n",
      "0000000000000020 g     F .text\t0000000000000025 _ZN11HTMLPrinter1pEv\r\n",
      "0000000000000080 g     F .text\t0000000000000025 _ZN11HTMLPrinter3divEv\r\n",
      "0000000000000050 g     F .text\t0000000000000022 _ZN11HTMLPrinter5printEPKc\r\n",
      "0000000000000000 g     F .text\t000000000000000a _ZN11HTMLPrinterC1Ev\r\n",
      "0000000000000000 g     F .text\t000000000000000a _ZN11HTMLPrinterC2Ev\r\n",
      "0000000000000010 g     F .text\t000000000000000a _ZN11HTMLPrinterD1Ev\r\n",
      "0000000000000010 g     F .text\t000000000000000a _ZN11HTMLPrinterD2Ev\r\n",
      "0000000000000000         *UND*\t0000000000000000 __gxx_personality_v0\r\n",
      "0000000000000000         *UND*\t0000000000000000 puts\r\n",
      "\r\n",
      "\r\n"
     ]
    }
   ],
   "source": [
    "!clang++ -O0 -c ex4_class/example_class_2.cpp\n",
    "!objdump -t example_class_2.o"
   ]
  },
  {
   "cell_type": "markdown",
   "metadata": {},
   "source": [
    "Объяснить разницу"
   ]
  },
  {
   "cell_type": "markdown",
   "metadata": {},
   "source": [
    "Способ сделать класс с локальным связыванием:"
   ]
  },
  {
   "cell_type": "code",
   "execution_count": null,
   "metadata": {},
   "outputs": [],
   "source": [
    "# %load ex4_class/example_class_3.cpp\n",
    "#include <cstdio>\n",
    "\n",
    "namespace {\n",
    "  class HTMLPrinter {\n",
    "  public:\n",
    "      HTMLPrinter();\n",
    "      ~HTMLPrinter();\n",
    "\n",
    "      void p();\n",
    "      void div();\n",
    "\n",
    "  private:\n",
    "      void print(const char* s);\n",
    "  };\n",
    "\n",
    "  HTMLPrinter::HTMLPrinter() = default;\n",
    "  HTMLPrinter::~HTMLPrinter() = default;\n",
    "\n",
    "  void HTMLPrinter::p() {\n",
    "      print(\"<p>\");\n",
    "  }\n",
    "\n",
    "  void HTMLPrinter::div() {\n",
    "      print(\"<div>\");\n",
    "  }\n",
    "\n",
    "  void HTMLPrinter::print(const char* const s) {\n",
    "      std::puts(s);\n",
    "  }\n",
    "}  // namespace\n",
    "\n",
    "void f() {\n",
    "    HTMLPrinter printer;\n",
    "    printer.p();\n",
    "}"
   ]
  },
  {
   "cell_type": "code",
   "execution_count": 95,
   "metadata": {},
   "outputs": [
    {
     "name": "stdout",
     "output_type": "stream",
     "text": [
      "\r\n",
      "example_class_3.o:     file format elf64-x86-64\r\n",
      "\r\n",
      "SYMBOL TABLE:\r\n",
      "0000000000000000 l    df *ABS*\t0000000000000000 example_class_3.cpp\r\n",
      "0000000000000000 l       .gcc_except_table\t0000000000000000 GCC_except_table0\r\n",
      "0000000000000060 l     F .text\t0000000000000025 _ZN12_GLOBAL__N_111HTMLPrinter1pEv\r\n",
      "00000000000000a0 l     F .text\t0000000000000022 _ZN12_GLOBAL__N_111HTMLPrinter5printEPKc\r\n",
      "0000000000000050 l     F .text\t000000000000000a _ZN12_GLOBAL__N_111HTMLPrinterC2Ev\r\n",
      "0000000000000090 l     F .text\t000000000000000a _ZN12_GLOBAL__N_111HTMLPrinterD2Ev\r\n",
      "0000000000000000 l    d  .text\t0000000000000000 .text\r\n",
      "0000000000000000 l    d  .gcc_except_table\t0000000000000000 .gcc_except_table\r\n",
      "0000000000000000 l    d  .rodata.str1.1\t0000000000000000 .rodata.str1.1\r\n",
      "0000000000000000         *UND*\t0000000000000000 _Unwind_Resume\r\n",
      "0000000000000000 g     F .text\t0000000000000050 _Z1fv\r\n",
      "0000000000000000         *UND*\t0000000000000000 __gxx_personality_v0\r\n",
      "0000000000000000         *UND*\t0000000000000000 puts\r\n",
      "\r\n",
      "\r\n"
     ]
    }
   ],
   "source": [
    "!clang++ -O0 -c ex4_class/example_class_3.cpp\n",
    "!objdump -t example_class_3.o"
   ]
  },
  {
   "cell_type": "markdown",
   "metadata": {},
   "source": [
    "Подчистим за собой:"
   ]
  },
  {
   "cell_type": "code",
   "execution_count": 96,
   "metadata": {},
   "outputs": [],
   "source": [
    "!rm -f *.o"
   ]
  },
  {
   "cell_type": "markdown",
   "metadata": {},
   "source": [
    "<br />"
   ]
  },
  {
   "cell_type": "markdown",
   "metadata": {},
   "source": [
    "##### Шаблоны и символы"
   ]
  },
  {
   "cell_type": "markdown",
   "metadata": {},
   "source": [
    "Рассмотрим пример с `std::vector`"
   ]
  },
  {
   "cell_type": "code",
   "execution_count": null,
   "metadata": {},
   "outputs": [],
   "source": [
    "# %load ex5_templates/util.h\n",
    "#pragma once\n",
    "\n",
    "#include <vector>\n",
    "\n",
    "int sum(const std::vector<int>& v);"
   ]
  },
  {
   "cell_type": "code",
   "execution_count": null,
   "metadata": {},
   "outputs": [],
   "source": [
    "# %load ex5_templates/util.cpp\n",
    "#include \"util.h\"\n",
    "\n",
    "int sum(const std::vector<int>& v)\n",
    "{\n",
    "    auto v_copy = v;\n",
    "    int rv = 0;\n",
    "    for (int x : v_copy)\n",
    "        rv += x;\n",
    "    return rv;\n",
    "}"
   ]
  },
  {
   "cell_type": "code",
   "execution_count": null,
   "metadata": {},
   "outputs": [],
   "source": [
    "# %load ex5_templates/main.cpp\n",
    "#include \"util.h\"\n",
    "\n",
    "#include <cstdio>\n",
    "#include <vector>\n",
    "\n",
    "int mul(const std::vector<int>& v)\n",
    "{\n",
    "    auto v_copy = v;\n",
    "    int rv = 1;\n",
    "    for (int x : v_copy)\n",
    "        rv *= x;\n",
    "    return rv;\n",
    "}\n",
    "\n",
    "int main(int argc, char** argv)\n",
    "{\n",
    "    std::vector<int> v = {1, 2, 3};\n",
    "    std::printf(\"%d\", mul(v));\n",
    "    std::printf(\"%d\", sum(v));\n",
    "    return 0;\n",
    "}"
   ]
  },
  {
   "cell_type": "markdown",
   "metadata": {},
   "source": [
    "Скомпилируем, обратим внимание на `vector`"
   ]
  },
  {
   "cell_type": "code",
   "execution_count": 101,
   "metadata": {},
   "outputs": [],
   "source": [
    "!clang++ -Os -c ex5_templates/main.cpp\n",
    "!clang++ -Os -c ex5_templates/util.cpp\n",
    "!clang++ -Os main.o util.o"
   ]
  },
  {
   "cell_type": "code",
   "execution_count": 110,
   "metadata": {},
   "outputs": [
    {
     "name": "stdout",
     "output_type": "stream",
     "text": [
      "0000000000000000 l    d  .text._ZNSt6vectorIiSaIiEEC2ERKS1_\t0000000000000000 .text._ZNSt6vectorIiSaIiEEC2ERKS1_\r\n",
      "0000000000000000 l    d  .text._ZNSt12_Vector_baseIiSaIiEE11_M_allocateEm\t0000000000000000 .text._ZNSt12_Vector_baseIiSaIiEE11_M_allocateEm\r\n",
      "0000000000000000 g     F .text\t0000000000000046 _Z3sumRKSt6vectorIiSaIiEE\r\n",
      "0000000000000000  w    F .text._ZNSt12_Vector_baseIiSaIiEE11_M_allocateEm\t0000000000000026 _ZNSt12_Vector_baseIiSaIiEE11_M_allocateEm\r\n",
      "0000000000000000  w    F .text._ZNSt6vectorIiSaIiEEC2ERKS1_\t0000000000000079 _ZNSt6vectorIiSaIiEEC2ERKS1_\r\n"
     ]
    }
   ],
   "source": [
    "!objdump -t util.o | grep -i vector"
   ]
  },
  {
   "cell_type": "code",
   "execution_count": 108,
   "metadata": {},
   "outputs": [
    {
     "name": "stdout",
     "output_type": "stream",
     "text": [
      "0000000000000000 l    d  .text._ZNSt6vectorIiSaIiEEC2ERKS1_\t0000000000000000 .text._ZNSt6vectorIiSaIiEEC2ERKS1_\r\n",
      "0000000000000000 l    d  .text._ZNSt6vectorIiSaIiEEC2ESt16initializer_listIiERKS0_\t0000000000000000 .text._ZNSt6vectorIiSaIiEEC2ESt16initializer_listIiERKS0_\r\n",
      "0000000000000000 l    d  .text._ZNSt12_Vector_baseIiSaIiEE11_M_allocateEm\t0000000000000000 .text._ZNSt12_Vector_baseIiSaIiEE11_M_allocateEm\r\n",
      "0000000000000000 g     F .text\t000000000000004a _Z3mulRKSt6vectorIiSaIiEE\r\n",
      "0000000000000000         *UND*\t0000000000000000 _Z3sumRKSt6vectorIiSaIiEE\r\n",
      "0000000000000000  w    F .text._ZNSt12_Vector_baseIiSaIiEE11_M_allocateEm\t0000000000000026 _ZNSt12_Vector_baseIiSaIiEE11_M_allocateEm\r\n",
      "0000000000000000  w    F .text._ZNSt6vectorIiSaIiEEC2ERKS1_\t0000000000000079 _ZNSt6vectorIiSaIiEEC2ERKS1_\r\n",
      "0000000000000000  w    F .text._ZNSt6vectorIiSaIiEEC2ESt16initializer_listIiERKS0_\t000000000000007f _ZNSt6vectorIiSaIiEEC2ESt16initializer_listIiERKS0_\r\n"
     ]
    }
   ],
   "source": [
    "!objdump -t main.o | grep -i vector"
   ]
  },
  {
   "cell_type": "code",
   "execution_count": 109,
   "metadata": {},
   "outputs": [
    {
     "name": "stdout",
     "output_type": "stream",
     "text": [
      "0000000000400912  w    F .text\t0000000000000026              _ZNSt12_Vector_baseIiSaIiEE11_M_allocateEm\r\n",
      "0000000000400818  w    F .text\t0000000000000079              _ZNSt6vectorIiSaIiEEC2ERKS1_\r\n",
      "0000000000400938 g     F .text\t0000000000000046              _Z3sumRKSt6vectorIiSaIiEE\r\n",
      "0000000000400748 g     F .text\t000000000000004a              _Z3mulRKSt6vectorIiSaIiEE\r\n",
      "0000000000400892  w    F .text\t000000000000007f              _ZNSt6vectorIiSaIiEEC2ESt16initializer_listIiERKS0_\r\n"
     ]
    }
   ],
   "source": [
    "!objdump -t a.out | grep -i vector"
   ]
  },
  {
   "cell_type": "markdown",
   "metadata": {},
   "source": [
    "Подчистим за собой:"
   ]
  },
  {
   "cell_type": "code",
   "execution_count": null,
   "metadata": {},
   "outputs": [],
   "source": [
    "!rm -f *.o"
   ]
  },
  {
   "cell_type": "markdown",
   "metadata": {},
   "source": [
    "<br />"
   ]
  },
  {
   "cell_type": "markdown",
   "metadata": {},
   "source": [
    "##### External templates"
   ]
  },
  {
   "cell_type": "markdown",
   "metadata": {},
   "source": [
    "Возможность сэкономить на времени компиляции, указав компилятору, что \"где-то в другом месте этот шаблон уже скомпилирован, компилировать не надо, просто сделай внешнюю ссылку\".\n",
    "\n",
    "Подробно разбирать не будем из-за редкости использования."
   ]
  },
  {
   "cell_type": "markdown",
   "metadata": {},
   "source": [
    "https://stackoverflow.com/questions/8130602/using-extern-template-c11"
   ]
  },
  {
   "cell_type": "markdown",
   "metadata": {},
   "source": [
    "<br />"
   ]
  },
  {
   "cell_type": "markdown",
   "metadata": {},
   "source": [
    "##### Как определить константу в хедере"
   ]
  },
  {
   "cell_type": "markdown",
   "metadata": {},
   "source": [
    "Объяснить варианты и разницу:\n",
    "\n",
    "* `static`\n",
    "    ```c++\n",
    "    // in header / single cpp\n",
    "    static const std::string s = \"123\";\n",
    "    ```\n",
    "* `inline`\n",
    "    ```c++\n",
    "    // in header / single cpp\n",
    "    inline const std::string s = \"123\";\n",
    "    ```\n",
    "* `extern`\n",
    "    ```c++\n",
    "    // in header\n",
    "    extern const std::string;\n",
    "    \n",
    "    // in a single cpp\n",
    "    const std::string s = \"123\";\n",
    "    ```\n",
    "* `constexpr`\n",
    "    ```c++\n",
    "    // in header / single cpp\n",
    "    constexpr std::array<const char*, 3> names = {\"Dobrynia\", \"Alesha\", \"Ilya\"};\n",
    "    ```\n",
    "    https://en.cppreference.com/w/cpp/language/constexpr Замечание: `constexpr` implies `inline`"
   ]
  },
  {
   "cell_type": "markdown",
   "metadata": {},
   "source": [
    "<br />"
   ]
  },
  {
   "cell_type": "markdown",
   "metadata": {},
   "source": [
    "##### Линковка, Link-Time-Optimization"
   ]
  },
  {
   "cell_type": "markdown",
   "metadata": {},
   "source": [
    "Задача линковщика - собрать объектные файлы (.o/.obj) в исполняемый файл.\n",
    "\n",
    "Линковщик должен:\n",
    "1. Разрешить зависимости и построить связи\n",
    "2. Смёржить символы, которым разрешено нарушать ODR"
   ]
  },
  {
   "cell_type": "code",
   "execution_count": 119,
   "metadata": {},
   "outputs": [],
   "source": [
    "# compilation\n",
    "!clang++ -Os -c ex5_templates/main.cpp\n",
    "!clang++ -Os -c ex5_templates/util.cpp\n",
    "\n",
    "# linking\n",
    "!clang++ -Os main.o util.o -o a.out\n",
    "\n",
    "# cleanup\n",
    "!rm -f *.o a.out"
   ]
  },
  {
   "cell_type": "markdown",
   "metadata": {},
   "source": [
    "https://docs.microsoft.com/en-us/cpp/build/reference/linking?view=vs-2019"
   ]
  },
  {
   "cell_type": "markdown",
   "metadata": {},
   "source": [
    "https://gcc.gnu.org/onlinedocs/gcc/Link-Options.html"
   ]
  },
  {
   "cell_type": "markdown",
   "metadata": {},
   "source": [
    "<br />"
   ]
  },
  {
   "cell_type": "markdown",
   "metadata": {},
   "source": [
    "Пример LTO (разобрать чуть подробнее):\n",
    "\n",
    "https://llvm.org/docs/LinkTimeOptimization.html#example-of-link-time-optimization"
   ]
  },
  {
   "cell_type": "markdown",
   "metadata": {},
   "source": [
    "https://clang.llvm.org/docs/ThinLTO.html"
   ]
  },
  {
   "cell_type": "markdown",
   "metadata": {},
   "source": [
    "<br />"
   ]
  },
  {
   "cell_type": "markdown",
   "metadata": {},
   "source": [
    "##### Загрузка и запуск программы"
   ]
  },
  {
   "cell_type": "markdown",
   "metadata": {},
   "source": [
    "https://en.cppreference.com/w/cpp/language/main_function"
   ]
  },
  {
   "cell_type": "markdown",
   "metadata": {},
   "source": [
    "Что происходит, когда вы вызываете из командной строки `my_program.exe`? Или когда щёлкаете мышкой по exe-файлу в проводнике?"
   ]
  },
  {
   "cell_type": "markdown",
   "metadata": {},
   "source": [
    "Простой вариант:\n",
    "1. Загрузка кода программы с диска в ОП (возможны варианты)\n",
    "2. Инициализация глобальных переменных и констант\n",
    "    * в рамках одной единицы трансляции порядок гарантирован\n",
    "    * между единицами трансляции порядок не определён\n",
    "3. Выполнение `main`"
   ]
  },
  {
   "cell_type": "markdown",
   "metadata": {},
   "source": [
    "Здесь баг:"
   ]
  },
  {
   "cell_type": "markdown",
   "metadata": {},
   "source": [
    "```c++\n",
    "// --- f1.h ---\n",
    "#pragma once\n",
    "extern const std::string s1;\n",
    "        \n",
    "// --- f1.cpp ---\n",
    "#include \"f1.h\"\n",
    "const std::string s1 = \"123\";\n",
    "        \n",
    "// --- f2.h ---\n",
    "#pragma once\n",
    "extern const std::string s2;\n",
    "        \n",
    "// --- f2.cpp ---\n",
    "#include \"f2.h\"\n",
    "#include \"f1.h\"\n",
    "const std::string s2 = s1 + \"456\";\n",
    "\n",
    "// --- main.cpp ---\n",
    "#include \"f2.h\"\n",
    "\n",
    "int main() {\n",
    "    std::cout << s2 << std::endl;  // ???\n",
    "    return 0;\n",
    "}\n",
    "```"
   ]
  },
  {
   "cell_type": "markdown",
   "metadata": {},
   "source": [
    "__Вопрос__: Почему? Как это можно починить?\n",
    "\n",
    "\n",
    "<details>\n",
    "<summary>Вариант:</summary>\n",
    "<p>\n",
    "\n",
    "```c++\n",
    "// --- f.h ---\n",
    "#pragma once\n",
    "extern const std::string s1;\n",
    "extern const std::string s2;\n",
    "        \n",
    "// --- f.cpp ---\n",
    "#include \"f.h\"\n",
    "const std::string s1 = \"123\";\n",
    "const std::string s2 = s1 + \"456\";\n",
    "\n",
    "// --- main.cpp ---\n",
    "#include \"f.h\"\n",
    "\n",
    "int main() {\n",
    "    std::cout << s2 << std::endl;\n",
    "    return 0;\n",
    "}\n",
    "```\n",
    "\n",
    "</p>\n",
    "</details>"
   ]
  },
  {
   "cell_type": "markdown",
   "metadata": {},
   "source": [
    "<br />"
   ]
  },
  {
   "cell_type": "markdown",
   "metadata": {},
   "source": [
    "##### Запуск программы и shared libs"
   ]
  },
  {
   "cell_type": "markdown",
   "metadata": {},
   "source": [
    "Код может линковаться не только со статическими билиотеками, но и с динамическими. Динамическая билиотека - набор функций, которые не вкопилируются в исполняемый файл, а хранятся отдельным файлом. В исполняемом файле прописывается специальная информация для функций, лежащих в динамических билиотеках."
   ]
  },
  {
   "cell_type": "markdown",
   "metadata": {},
   "source": [
    "Плюсы:\n",
    "* Можно сэкономить место на диске и использовать одну динамическую библиотеку (например, libc) для нескольких программ\n",
    "* Аналогичным образом экономится место в ОП под код\n",
    "* Можно внести исправления в динамическую библиотеку, перекомпилировать саму программу при этом не нужно"
   ]
  },
  {
   "cell_type": "markdown",
   "metadata": {},
   "source": [
    "Минусы:\n",
    "* Нужно размечать экспортируемые функции вручную\n",
    "* Невозможен ряд оптимизаций (inlining(!!!), LTO, constant propagation etc ...)\n",
    "* Невозможен анализ компилятором неиспользуемого кода в динамической библиотеке (если функция помечена на экспорт, выкидывать её нельзя, и она тянет за собой всё по графу зависимостей)\n",
    "* Нужно загружать динамическую библиотеку в память:\n",
    "    * либо лениво при первом вызове функции\n",
    "    * либо сразу при старте приложения (настраиваемо)\n",
    "* Нужно проводить доп. работу по инициализации адресов функций\n",
    "* Дороже вызов импортированной функции (особенно первый)"
   ]
  },
  {
   "cell_type": "markdown",
   "metadata": {},
   "source": [
    "<br />"
   ]
  }
 ],
 "metadata": {
  "kernelspec": {
   "display_name": "Python 3",
   "language": "python",
   "name": "python3"
  },
  "language_info": {
   "codemirror_mode": {
    "name": "ipython",
    "version": 3
   },
   "file_extension": ".py",
   "mimetype": "text/x-python",
   "name": "python",
   "nbconvert_exporter": "python",
   "pygments_lexer": "ipython3",
   "version": "3.6.9"
  }
 },
 "nbformat": 4,
 "nbformat_minor": 2
}
