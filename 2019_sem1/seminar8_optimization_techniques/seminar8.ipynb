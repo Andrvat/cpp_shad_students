{
 "cells": [
  {
   "cell_type": "markdown",
   "metadata": {},
   "source": [
    "### Семинар 8. Техники оптимизации С++ программ."
   ]
  },
  {
   "cell_type": "markdown",
   "metadata": {},
   "source": [
    "<br />"
   ]
  },
  {
   "cell_type": "markdown",
   "metadata": {},
   "source": [
    "##### Уровни оптимизации компилятора"
   ]
  },
  {
   "cell_type": "markdown",
   "metadata": {},
   "source": [
    "gcc / clang:\n",
    "\n",
    "https://gcc.gnu.org/onlinedocs/gcc/Optimize-Options.html"
   ]
  },
  {
   "cell_type": "markdown",
   "metadata": {},
   "source": [
    "* `-O0` - без оптимизаций (для отладки)\n",
    "* `-O1` - набор оптимизаций 1\n",
    "* `-O2` - набор оптимизаций 1 + набор оптимизаций 2\n",
    "* `-O3` - набор оптимизаций 1 + набор оптимизаций 2 + набор оптимизаций 3\n",
    "\n",
    "Чем выше `On`, тем больше время компиляции, но эффективнее код\n",
    "(на самом деле it depends)"
   ]
  },
  {
   "cell_type": "markdown",
   "metadata": {},
   "source": [
    "Дополнительные варианты:\n",
    "* `-Os` - сфокусироваться на оптимизации размера бинарного файла вместо скорости выполнения\n",
    "* `-Ofast` = `-O3` + `-ffast-math` - ослабить требования к математическим вычислениям - не выполнять все требования IEEE (может ускорить вычислительные алгоритмы, но программист должен поклясться на крови полуночных русалок, что урезанных требований и меньшей точности достаточно)"
   ]
  },
  {
   "cell_type": "markdown",
   "metadata": {},
   "source": [
    "Закинуть это код в godbolt, показать какой ассемблер генерирует компилятор для последнего gcc и clang на разных уровнях оптимизаций:"
   ]
  },
  {
   "cell_type": "code",
   "execution_count": null,
   "metadata": {},
   "outputs": [],
   "source": [
    "#include <vector>\n",
    "\n",
    "int sum(const std::vector<int>& x)\n",
    "{\n",
    "    int rv = 0;\n",
    "    for (int v : x)\n",
    "        rv += v;\n",
    "    return rv;\n",
    "}"
   ]
  },
  {
   "cell_type": "markdown",
   "metadata": {},
   "source": [
    "<br />"
   ]
  },
  {
   "cell_type": "markdown",
   "metadata": {},
   "source": [
    "msvc:\n",
    "\n",
    "https://docs.microsoft.com/en-us/cpp/build/reference/o-options-optimize-code?view=vs-2019"
   ]
  },
  {
   "cell_type": "markdown",
   "metadata": {},
   "source": [
    "Аналоги: `/Od`, `/O1`, `/O2`, `/Os` + доп. варинты (см. ссылку)"
   ]
  },
  {
   "cell_type": "markdown",
   "metadata": {},
   "source": [
    "<br />"
   ]
  },
  {
   "cell_type": "markdown",
   "metadata": {},
   "source": [
    "##### Профилировка"
   ]
  },
  {
   "cell_type": "markdown",
   "metadata": {},
   "source": [
    "Показать пример профилировки и просмотра результатов на msvc или gcc/clang"
   ]
  },
  {
   "cell_type": "markdown",
   "metadata": {},
   "source": [
    "<br />"
   ]
  },
  {
   "cell_type": "markdown",
   "metadata": {},
   "source": [
    "##### Правила оптимизации:"
   ]
  },
  {
   "cell_type": "markdown",
   "metadata": {},
   "source": [
    "1. Убедитесь, что оптимизировать действительно надо.\n",
    "2. Напишите performance-тест для измерения производительности\n",
    "3. Одна гипотеза - одно измерение\n",
    "4. Отпрофилировать и найти самое тяжёлое место\n",
    "5. Оптимизация сверху вниз (ни в коем случае не спускаться на ступеньку ниже, пока не поймём, что возможности ступеньки выше исчерпаны)\n",
    "  * Нужны ли эти вычисления? (нет - убираем / кешируем - работает примитивная логика)\n",
    "  * Дело в асимптотике алгоритма? (да - меняем алгоритм - работает теория алгоритмов)\n",
    "  * Можно ли ускорить на уровне абстракций С++? (примитивные примеры: `reserve`, `make_shared`, `std::string::append`, `mutex -> atomic` etc - работает знание основ языка)\n",
    "  * Можно ли ускорить на уровне абстракций ОС? (примитивные примеры: virtual memory organization и разбиение на процессы - работает знание ОС - не в рамках этого курса)\n",
    "  * Welcome to michroarchitecture optimization guide! (примитивные примеры: strict aliasing, loops unrolling, vectorization etc. - вопрос, скорее всего, не будет покрываться в рамках курса)"
   ]
  },
  {
   "cell_type": "markdown",
   "metadata": {},
   "source": [
    "<br />"
   ]
  },
  {
   "cell_type": "markdown",
   "metadata": {},
   "source": [
    "##### Модель памяти"
   ]
  },
  {
   "cell_type": "markdown",
   "metadata": {},
   "source": [
    "![](mem_hierarchy_single_cpu.png)"
   ]
  },
  {
   "cell_type": "markdown",
   "metadata": {},
   "source": [
    "<br />"
   ]
  },
  {
   "cell_type": "markdown",
   "metadata": {},
   "source": [
    "![](mem_hierarchy_multi_cpu.png)"
   ]
  },
  {
   "cell_type": "markdown",
   "metadata": {},
   "source": [
    "Дополнительно рассказать про кешлайны, многопоточность и разреженность"
   ]
  }
 ],
 "metadata": {
  "kernelspec": {
   "display_name": "Python 3",
   "language": "python",
   "name": "python3"
  },
  "language_info": {
   "codemirror_mode": {
    "name": "ipython",
    "version": 3
   },
   "file_extension": ".py",
   "mimetype": "text/x-python",
   "name": "python",
   "nbconvert_exporter": "python",
   "pygments_lexer": "ipython3",
   "version": "3.6.8"
  }
 },
 "nbformat": 4,
 "nbformat_minor": 2
}
