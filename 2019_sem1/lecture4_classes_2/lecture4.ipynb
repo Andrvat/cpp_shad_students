{
 "cells": [
  {
   "cell_type": "markdown",
   "metadata": {},
   "source": [
    "### Лекция 4. Классы продолжение"
   ]
  },
  {
   "cell_type": "markdown",
   "metadata": {},
   "source": [
    "<br />"
   ]
  },
  {
   "cell_type": "markdown",
   "metadata": {},
   "source": [
    "##### Спецификация вызова конструктора базового класса"
   ]
  },
  {
   "cell_type": "markdown",
   "metadata": {},
   "source": [
    "Базовый класс может иметь несколько конструкторов, а наследник может выбирать, какой именно из конструкторов он хочет вызвать. Это определяется в списке инициализации конструктора"
   ]
  },
  {
   "cell_type": "code",
   "execution_count": null,
   "metadata": {},
   "outputs": [],
   "source": [
    "class Animal\n",
    "{\n",
    "public:\n",
    "    Animal();\n",
    "    Animal(const std::string& a_name);\n",
    "    Animal(const std::string& a_name, unsigned a_age);\n",
    "\n",
    "private:\n",
    "    std::string name;\n",
    "    unsigned age;\n",
    "};\n",
    "\n",
    "\n",
    "class Cat : public Animal\n",
    "{\n",
    "public:\n",
    "    // # неявно вызывает Animal()\n",
    "    Cat() {}    \n",
    "    // # эквивалентно записи:\n",
    "    // # Cat() : Animal() {}\n",
    "    \n",
    "    // # явный вызов конкретного конструктора Animal\n",
    "    Cat(const std::string& name)\n",
    "        : Animal(name)  // # сначала вызываем конструктор базового класса\n",
    "        , color(White)  // # затем конструкторы членов в порядке их определения\n",
    "    {\n",
    "    }\n",
    "    \n",
    "private:\n",
    "    Color color = Black;  // # значение для инициализации по умолчанию\n",
    "};"
   ]
  },
  {
   "cell_type": "markdown",
   "metadata": {},
   "source": [
    "<br />"
   ]
  },
  {
   "cell_type": "markdown",
   "metadata": {},
   "source": [
    "##### Множественное наследование, ромбовидное наследование"
   ]
  },
  {
   "cell_type": "markdown",
   "metadata": {},
   "source": [
    "Обратить внимание на порядок конструирования, вызова деструкторов и способа разрешения конфликтов по именам"
   ]
  },
  {
   "cell_type": "code",
   "execution_count": null,
   "metadata": {},
   "outputs": [],
   "source": [
    "class Animal\n",
    "{\n",
    "    ...\n",
    "};\n",
    "\n",
    "class JumpingCreature\n",
    "{\n",
    "public:\n",
    "    void jump();\n",
    "};\n",
    "\n",
    "class CryingCreature\n",
    "{\n",
    "public:\n",
    "    void cry();    \n",
    "};\n",
    "\n",
    "\n",
    "class Cat : public Animal\n",
    "          , public JumpingCreature\n",
    "          , public CryingCreature\n",
    "{\n",
    "public:\n",
    "    void play()\n",
    "    {\n",
    "        jump();\n",
    "        jump();\n",
    "        cry();\n",
    "        jump();\n",
    "        \n",
    "        // # явное указание метода,\n",
    "        // #\n",
    "        // # потребуется, если метод jump()\n",
    "        // # есть и у JumpingCreature, и у Animal\n",
    "        JumpingCreature::jump();\n",
    "        CryingCreature::cry();\n",
    "    }\n",
    "};"
   ]
  },
  {
   "cell_type": "markdown",
   "metadata": {},
   "source": [
    "<img src=\"classes_diagram_cat.png\" height=500px width=500px />"
   ]
  },
  {
   "cell_type": "markdown",
   "metadata": {},
   "source": [
    "<br />"
   ]
  },
  {
   "cell_type": "markdown",
   "metadata": {},
   "source": [
    "Граф наследования ацикличен и однонаправлен... но ничто не мешает сделать в нём ромб. Такая конструкция выглядит необычной, но, тем не менее, используется даже в стандартной библиотеке:"
   ]
  },
  {
   "cell_type": "markdown",
   "metadata": {},
   "source": [
    "![](std-basic_iostream-inheritance.png)"
   ]
  },
  {
   "cell_type": "markdown",
   "metadata": {},
   "source": [
    "https://en.cppreference.com/w/cpp/io/basic_iostream"
   ]
  },
  {
   "cell_type": "markdown",
   "metadata": {},
   "source": [
    "<br />"
   ]
  },
  {
   "cell_type": "markdown",
   "metadata": {},
   "source": [
    "##### Layout класса"
   ]
  },
  {
   "cell_type": "markdown",
   "metadata": {},
   "source": [
    "Рассмотрим как устроено расположение класса в памяти. Пойдём от простого к сложному."
   ]
  },
  {
   "cell_type": "code",
   "execution_count": null,
   "metadata": {},
   "outputs": [],
   "source": [
    "struct Point\n",
    "{\n",
    "    float x;  // # size = 4, alignment = 4\n",
    "    float y;  // # size = 4, alignment = 4\n",
    "};  // # size = 8, alignment = 4"
   ]
  },
  {
   "cell_type": "markdown",
   "metadata": {},
   "source": [
    "![](layout_point.jpg)"
   ]
  },
  {
   "cell_type": "code",
   "execution_count": null,
   "metadata": {},
   "outputs": [],
   "source": [
    "class A\n",
    "{\n",
    "    float x;          // # size = 4, alignment = 4\n",
    "    std::uint64_t y;  // # size = 8, alignment = 8  \n",
    "};  // # size = ???, alignment = ???"
   ]
  },
  {
   "cell_type": "markdown",
   "metadata": {},
   "source": [
    "![](layout_padding.jpg)"
   ]
  },
  {
   "cell_type": "markdown",
   "metadata": {},
   "source": [
    "Более подробно про alignment:\n",
    "https://en.cppreference.com/w/c/language/object"
   ]
  },
  {
   "cell_type": "code",
   "execution_count": null,
   "metadata": {},
   "outputs": [],
   "source": [
    "class A\n",
    "{\n",
    "    float x;          // # size = 4, alignment = 4\n",
    "    std::uint64_t y;  // # size = 8, alignment = 8\n",
    "    float z;          // # size = 4, alignment = 4\n",
    "};  // # size = ???, alignment = ???"
   ]
  },
  {
   "cell_type": "markdown",
   "metadata": {},
   "source": [
    "![](layout_padding_2.jpg)"
   ]
  },
  {
   "cell_type": "code",
   "execution_count": null,
   "metadata": {},
   "outputs": [],
   "source": [
    "class A\n",
    "{\n",
    "    std::uint64_t y;  // # size = 8, alignment = 8\n",
    "    float x;          // # size = 4, alignment = 4\n",
    "    float z;          // # size = 4, alignment = 4\n",
    "};  // # size = ???, alignment = ???"
   ]
  },
  {
   "cell_type": "markdown",
   "metadata": {},
   "source": [
    "![](layout_padding_3.jpg)"
   ]
  },
  {
   "cell_type": "markdown",
   "metadata": {},
   "source": [
    "<br />"
   ]
  },
  {
   "cell_type": "markdown",
   "metadata": {},
   "source": [
    "Рассмотрим layout класса в памяти в случае наследования:"
   ]
  },
  {
   "cell_type": "code",
   "execution_count": null,
   "metadata": {},
   "outputs": [],
   "source": [
    "struct P\n",
    "{\n",
    "    float x;  // # size = 4, alignment = 4\n",
    "    float y;  // # size = 4, alignment = 4\n",
    "};  // # size = 8, alignment = 4\n",
    "\n",
    "struct WP : P\n",
    "{\n",
    "    float w;  // # size = 4, alignment = 4\n",
    "};  // # size = ???, alignment = ???"
   ]
  },
  {
   "cell_type": "markdown",
   "metadata": {},
   "source": [
    "![](layout_inheritance.jpg)"
   ]
  },
  {
   "cell_type": "markdown",
   "metadata": {},
   "source": [
    "Рассмотрим layout класса в памяти в случае множественного наследования:"
   ]
  },
  {
   "cell_type": "code",
   "execution_count": null,
   "metadata": {},
   "outputs": [],
   "source": [
    "class CBase1 { ... };\n",
    "class CBase2 { ... };\n",
    "\n",
    "class CDerived : public CBase1\n",
    "               , public CBase2\n",
    "{ ... };"
   ]
  },
  {
   "cell_type": "markdown",
   "metadata": {},
   "source": [
    "![](layout_multiple_inheritance.jpg)"
   ]
  },
  {
   "cell_type": "markdown",
   "metadata": {},
   "source": [
    "<br />"
   ]
  },
  {
   "cell_type": "markdown",
   "metadata": {},
   "source": [
    "Как быть с виртуальными методами и функциями:"
   ]
  },
  {
   "cell_type": "code",
   "execution_count": null,
   "metadata": {},
   "outputs": [],
   "source": [
    "class Base\n",
    "{\n",
    "public:\n",
    "    virtual void say_hello();\n",
    "    virtual void say_goodbye();\n",
    "    \n",
    "private:\n",
    "    ...\n",
    "};\n",
    "\n",
    "class Dervied : public Base\n",
    "{\n",
    "public:\n",
    "    void say_hello() override;\n",
    "    void say_goodbye() override;\n",
    "    \n",
    "private:\n",
    "    ...\n",
    "};"
   ]
  },
  {
   "cell_type": "markdown",
   "metadata": {},
   "source": [
    "![](layout_vtable_2.jpg)"
   ]
  },
  {
   "cell_type": "markdown",
   "metadata": {},
   "source": [
    "Показать как ведёт себя преобразование указателей для такого лаяута (и почему с reinterpert_cast лучше не переборщить).\n",
    "\n",
    "Открыть на godbolt.org пример и показать как происходит сравнение указателей, закомментировать виртуальные функции - посмотреть что происходит."
   ]
  },
  {
   "cell_type": "code",
   "execution_count": null,
   "metadata": {},
   "outputs": [],
   "source": [
    "struct Base1\n",
    "{\n",
    "    // virtual void say_hello() = 0;\n",
    "    float x;\n",
    "};\n",
    "\n",
    "struct Base2\n",
    "{\n",
    "    float x;\n",
    "};\n",
    "\n",
    "struct Derived : public Base1\n",
    "               , public Base2\n",
    "{\n",
    "    // virtual void say_hello() = 0;\n",
    "    float y;\n",
    "};\n",
    "\n",
    "bool equal1(Base1* lhs, Derived *rhs)\n",
    "{\n",
    "    return lhs == rhs;\n",
    "}\n",
    "\n",
    "bool equal2(Base2* lhs, Derived *rhs)\n",
    "{\n",
    "    return lhs == rhs;\n",
    "}"
   ]
  },
  {
   "cell_type": "markdown",
   "metadata": {},
   "source": [
    "<br />"
   ]
  },
  {
   "cell_type": "markdown",
   "metadata": {},
   "source": [
    "##### Состояние класса, const + mutable"
   ]
  },
  {
   "cell_type": "markdown",
   "metadata": {},
   "source": [
    "Что считать состоянием класса?\n",
    "* значения всех его полей\n",
    "* логическое состояние класса (набор элементов в векторе, а не детали типа `capacity`)"
   ]
  },
  {
   "cell_type": "markdown",
   "metadata": {},
   "source": [
    "С точки зрения компилятора - набор всех его полей, не помеченных словом `mutable`"
   ]
  },
  {
   "cell_type": "code",
   "execution_count": null,
   "metadata": {},
   "outputs": [],
   "source": [
    "class Animal\n",
    "{\n",
    "private:\n",
    "    std::string name;\n",
    "    unsigned age;\n",
    "    \n",
    "public:\n",
    "    // # аттрибут const означает, что метод не будет\n",
    "    // # менять полей класса (и компилятор это проверит!)\n",
    "    // #\n",
    "    // # внутри const-методов поля имеют тип:\n",
    "    // # const std::string name;\n",
    "    // # const unsigned age;\n",
    "    bool is_too_young() const\n",
    "    {\n",
    "        return age <= 3;\n",
    "    }\n",
    "    \n",
    "    // # метод не меняет полей класса, но программист\n",
    "    // # забыл поставить const\n",
    "    void say_hello()\n",
    "    {\n",
    "        std::cout << \"hello\";\n",
    "    }\n",
    "    \n",
    "    // # метод не меняет полей класса\n",
    "    void say_hello_twice() const\n",
    "    {\n",
    "        say_hello();  // # COMPILE-TIME ERROR\n",
    "        say_hello();\n",
    "        \n",
    "        name = \"unk\";  // # COMPILE-TIME ERROR\n",
    "    }\n",
    "    \n",
    "    // # отсутствие const - метод МОЖЕТ менять поля\n",
    "    void happy_birthday()\n",
    "    {\n",
    "        age += 1; // # OK\n",
    "    }   \n",
    "};"
   ]
  },
  {
   "cell_type": "markdown",
   "metadata": {},
   "source": [
    "Рассмотрим учебный пример - отображение, которое хранит ответ на последний запрос как кеширование."
   ]
  },
  {
   "cell_type": "code",
   "execution_count": null,
   "metadata": {},
   "outputs": [],
   "source": [
    "class Resources\n",
    "{\n",
    "public:\n",
    "    void add(int id, const std::string& resource);\n",
    "    \n",
    "    const std::string& get(int id) const;\n",
    "    \n",
    "private:\n",
    "    // # хранилище ресурсов\n",
    "    std::map<int, std::string> id_to_resource;\n",
    "    \n",
    "    // # закешированный последний запрошенный ресурс\n",
    "    mutable int last_id = -1;\n",
    "    mutable std::string last_resource;\n",
    "};\n",
    "\n",
    "void Resources::add(const int id, const std::string& resource)\n",
    "{\n",
    "    id_to_resource[id] = resource;\n",
    "}\n",
    "\n",
    "const std::string& Resources::get(const int id) const\n",
    "{\n",
    "    if (id == last_id)\n",
    "        return last_resource;\n",
    "    \n",
    "    auto it = id_to_resource.find(id);  // # |find| - const-метод\n",
    "    \n",
    "    last_resource = it->second;  // # OK, т.к. mutable\n",
    "    last_id = id;                // # OK, т.к. mutable\n",
    "    \n",
    "    return last_resource;\n",
    "}"
   ]
  },
  {
   "cell_type": "markdown",
   "metadata": {},
   "source": [
    "Примечание: это исключительно ученический пример кеширования для демонстрации понятий `mutable` и состояния объекта, никогда так не реализуйте кеширование."
   ]
  },
  {
   "cell_type": "markdown",
   "metadata": {},
   "source": [
    "<br />"
   ]
  },
  {
   "cell_type": "markdown",
   "metadata": {},
   "source": [
    "##### Операторы"
   ]
  },
  {
   "cell_type": "markdown",
   "metadata": {},
   "source": [
    "https://en.cppreference.com/w/cpp/language/operators"
   ]
  },
  {
   "cell_type": "markdown",
   "metadata": {},
   "source": [
    "В виде свободных функций"
   ]
  },
  {
   "cell_type": "code",
   "execution_count": null,
   "metadata": {},
   "outputs": [],
   "source": [
    "struct Vector3D\n",
    "{\n",
    "    double x;\n",
    "    double y;\n",
    "    double z;\n",
    "};\n",
    "\n",
    "// # v1 + v2\n",
    "Vector3D operator + (const Vector3D& l, const Vector3D& r)\n",
    "{\n",
    "    return {l.x + r.x, l.y + r.y, l.z + r.z};\n",
    "}\n",
    "\n",
    "// # v1 * v2\n",
    "double operator * (const Vector3D& l, const Vector3D& r)\n",
    "{\n",
    "    return l.x * r.x + l.y * r.y + l.z * r.z;\n",
    "}\n",
    "\n",
    "// # v1 * a\n",
    "Vector3D operator *(const Vector3D& v, const double a)\n",
    "{\n",
    "    return {v.x * a, v.y * a, v.z * a};\n",
    "}\n",
    "\n",
    "// # a * v1\n",
    "Vector3D operator *(const double a, const Vector3D& v)\n",
    "{\n",
    "    return v * a;\n",
    "}\n",
    "\n",
    "// # v1 / a\n",
    "Vector3D operator *(const Vector3D& v, const double a)\n",
    "{\n",
    "    return v * (1. / a);\n",
    "}"
   ]
  },
  {
   "cell_type": "markdown",
   "metadata": {},
   "source": [
    "В виде членов класса и свободных функций-друзей:"
   ]
  },
  {
   "cell_type": "code",
   "execution_count": null,
   "metadata": {},
   "outputs": [],
   "source": [
    "class Animal\n",
    "{\n",
    "private:\n",
    "    std::string name;\n",
    "    unsigned age;\n",
    "    \n",
    "public:\n",
    "    // # Animal a;\n",
    "    // # ++a;\n",
    "    Animal& operator++()\n",
    "    {\n",
    "        ++age;\n",
    "        return *this;\n",
    "    }\n",
    "    \n",
    "    // # Animal a;\n",
    "    // # a++;\n",
    "    Animal operator++(int)\n",
    "    {\n",
    "        Animal tmp = *this;\n",
    "        operator++();\n",
    "        return tmp;\n",
    "    }\n",
    "\n",
    "    // # Animal a;\n",
    "    // # std::cout << a;\n",
    "    friend std::ostream& operator <<(std::ostream& os, const Animal& animal);\n",
    "};\n",
    "\n",
    "std::ostream& operator <<(std::ostream& os, const Animal& animal)\n",
    "{\n",
    "    return os << animal.name << \",\" << animal.age;\n",
    "}"
   ]
  }
 ],
 "metadata": {
  "kernelspec": {
   "display_name": "Python 3",
   "language": "python",
   "name": "python3"
  },
  "language_info": {
   "codemirror_mode": {
    "name": "ipython",
    "version": 3
   },
   "file_extension": ".py",
   "mimetype": "text/x-python",
   "name": "python",
   "nbconvert_exporter": "python",
   "pygments_lexer": "ipython3",
   "version": "3.6.8"
  }
 },
 "nbformat": 4,
 "nbformat_minor": 2
}
