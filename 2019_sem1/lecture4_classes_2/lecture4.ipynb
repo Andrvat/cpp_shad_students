{
 "cells": [
  {
   "cell_type": "markdown",
   "metadata": {},
   "source": [
    " __Вопросы для повторения:__"
   ]
  },
  {
   "cell_type": "markdown",
   "metadata": {},
   "source": [
    "* Что такое RAII? Примеры?\n",
    "* Какие конструкторы / операторы мы рассматривали на прошлой лекции?\n",
    "* Что здесь будет вызвано?\n",
    "\n",
    "```c++\n",
    "class Animal { ...; }\n",
    "\n",
    "void func()\n",
    "{\n",
    "    Animal an;\n",
    "}\n",
    "```\n",
    "\n",
    "* Что здесь происходит?\n",
    "\n",
    "```c++\n",
    "void func()\n",
    "{\n",
    "    std::vector<std::string*>  names = {\n",
    "        new std::string(\"Dobrynia\"),\n",
    "        new std::string(\"Ilusha\"),\n",
    "        new std::string(\"Alesha\")\n",
    "    };\n",
    "    \n",
    "    std::cout << *names[0];\n",
    "}\n",
    "```\n",
    "\n",
    "* Что здесь происходит?\n",
    "\n",
    "```c++\n",
    "void func()\n",
    "{\n",
    "    Animal* animals = new Animal[10];\n",
    "    delete animals;    \n",
    "}\n",
    "```\n",
    "\n",
    "* В чём здесь проблема?\n",
    "\n",
    "```c++\n",
    "class Animal\n",
    "{\n",
    "public:\n",
    "    Animal();\n",
    "    Animal(const std::string& name);\n",
    "    Animal(const std::string& name, const unsigned age);\n",
    "    ...;\n",
    "};\n",
    "```\n",
    "\n",
    "<details>\n",
    "<summary>Подсказка</summary>\n",
    "<p>\n",
    "    \n",
    "`bool is_young(const Animal& an);`\n",
    "\n",
    "</p>\n",
    "</details>\n",
    "\n",
    "* Что с этим кодом?\n",
    "\n",
    "```c++\n",
    "class CSVWriter\n",
    "{\n",
    "private:\n",
    "    std::ofstream ofs_;\n",
    "    \n",
    "public:\n",
    "    CSVWriter(const char* filename) \n",
    "        : ofs_(filename)\n",
    "    {}\n",
    "    \n",
    "    ~CSVWriter() {}\n",
    "\n",
    "    ...\n",
    "};\n",
    "```\n",
    "\n",
    "* Какие операции здесь вызываются?\n",
    "\n",
    "```c++\n",
    "Animal a1;\n",
    "Animal a2(\"Kesha\");\n",
    "const Animal a3 = a2;\n",
    "Animal a4(a3);\n",
    "Animal a5(std::move(a4));\n",
    "const Animal& a6 = a2;\n",
    "a1 = a2;\n",
    "a1 = std::move(a4);\n",
    "a1 = std::move(a3);\n",
    "a1 = std::move(a6);\n",
    "```\n",
    "\n",
    "* Что такое \"правило шести\"?\n",
    "* Как работают автогенерированные операции?\n",
    "* Когда следует избежать автогенерированных операций?"
   ]
  },
  {
   "cell_type": "markdown",
   "metadata": {},
   "source": [
    "<br />"
   ]
  },
  {
   "cell_type": "markdown",
   "metadata": {},
   "source": [
    "### Лекция 4. Классы продолжение"
   ]
  },
  {
   "cell_type": "markdown",
   "metadata": {},
   "source": [
    "<br />"
   ]
  },
  {
   "cell_type": "markdown",
   "metadata": {},
   "source": [
    "##### Спецификация вызова конструктора базового класса"
   ]
  },
  {
   "cell_type": "markdown",
   "metadata": {},
   "source": [
    "Базовый класс может иметь несколько конструкторов, а наследник может выбирать, какой именно из конструкторов он хочет вызвать. Это определяется в списке инициализации конструктора"
   ]
  },
  {
   "cell_type": "markdown",
   "metadata": {},
   "source": [
    "```c++\n",
    "class Animal\n",
    "{\n",
    "public:\n",
    "    Animal();\n",
    "    Animal(const std::string& a_name);\n",
    "    Animal(const std::string& a_name, unsigned a_age);\n",
    "\n",
    "private:\n",
    "    std::string name;\n",
    "    unsigned age;\n",
    "};\n",
    "\n",
    "class Turtle : public Animal\n",
    "{\n",
    "public:\n",
    "    // неявно вызывает Animal()\n",
    "    Turtle() {}    \n",
    "    // эквивалентно записи:\n",
    "    // Turtle() : Animal() {}\n",
    "    \n",
    "    // явный вызов конкретного конструктора Animal\n",
    "    Turtle(const std::string& name)\n",
    "        : Animal(name)  // сначала вызываем конструктор базового класса\n",
    "        , color(White)  // затем конструкторы членов в порядке их определения\n",
    "    {\n",
    "    }\n",
    "    \n",
    "private:\n",
    "    Color color = Black;  // значение для инициализации по умолчанию\n",
    "};\n",
    "```"
   ]
  },
  {
   "cell_type": "markdown",
   "metadata": {},
   "source": [
    "<br />"
   ]
  },
  {
   "cell_type": "markdown",
   "metadata": {},
   "source": [
    "##### Виртуальные функции"
   ]
  },
  {
   "cell_type": "markdown",
   "metadata": {},
   "source": [
    "Задача, которую решает мезанизм виртуальных функций: класс-наследник может доопеределять / уточнять поведение базового класса"
   ]
  },
  {
   "cell_type": "markdown",
   "metadata": {},
   "source": [
    "Примеры:"
   ]
  },
  {
   "cell_type": "markdown",
   "metadata": {},
   "source": [
    "```c++\n",
    "class Animal\n",
    "{\n",
    "public:\n",
    "    virtual void cry() {}\n",
    "};\n",
    "\n",
    "class Dog : public Animal\n",
    "{\n",
    "public:\n",
    "    virtual void cry() {\n",
    "        std::cout << \"augh!\" << std::endl;\n",
    "    }\n",
    "};\n",
    "\n",
    "class Cat : public Animal\n",
    "{\n",
    "public:\n",
    "    virtual void cry() {\n",
    "        std::cout << \"meow!\" << std::endl;\n",
    "    }\n",
    "};\n",
    "```\n",
    "\n",
    "__Вопрос знатокам__:\n",
    "\n",
    "<details>\n",
    "<summary>Какая ошибка здесь допущена?</summary>\n",
    "<p>\n",
    "    \n",
    "Нет виртуального деструктора у `Animal`. Объяснение на семинаре.\n",
    "    \n",
    "</p>    \n",
    "</details>\n",
    "\n",
    "<details>\n",
    "<summary>Почему это не страшно? (но поправить ошибку всё равно желательно)</summary>\n",
    "<p>\n",
    "    \n",
    "Деструкторы Cat && Dog ничего не делает.\n",
    "    \n",
    "</p>    \n",
    "</details>"
   ]
  },
  {
   "cell_type": "markdown",
   "metadata": {},
   "source": [
    "```c++\n",
    "void make_it_cry(Animal& animal)\n",
    "{\n",
    "    animal.cry();\n",
    "    animal.cry();\n",
    "    animal.cry();\n",
    "}\n",
    "\n",
    "Animal animal;\n",
    "make_it_cry(animal);\n",
    "\n",
    "Dog dog;\n",
    "make_it_cry(dog);\n",
    "```"
   ]
  },
  {
   "cell_type": "markdown",
   "metadata": {},
   "source": [
    "```c++\n",
    "void make_it_cry_more(Animal animal)\n",
    "{\n",
    "    for (int i = 0; i < 100; ++i)\n",
    "        animal.cry();\n",
    "}\n",
    "\n",
    "Animal animal;\n",
    "make_it_cry_more(animal);\n",
    "\n",
    "Dog dog;\n",
    "make_it_cry_more(dog);\n",
    "```\n",
    "\n",
    "А что здесь?"
   ]
  },
  {
   "cell_type": "markdown",
   "metadata": {},
   "source": [
    "<br />"
   ]
  },
  {
   "cell_type": "markdown",
   "metadata": {},
   "source": [
    "##### Чисто виртуальные функции"
   ]
  },
  {
   "cell_type": "markdown",
   "metadata": {},
   "source": [
    "По большому счёту, метод `cry()` не имеет смысла для класса `Animal`, т.к. с философской точки зрения непонятно какая реализация у него должна быть. Можно указать, что у виртуальной функции `Animal::cry()` нет реализации. Такие функции называются **чисто виртуальными**."
   ]
  },
  {
   "cell_type": "markdown",
   "metadata": {},
   "source": [
    "```c++\n",
    "class Animal\n",
    "{\n",
    "public:\n",
    "    virtual void cry() = 0;\n",
    "};\n",
    "\n",
    "// далее аналогично ...\n",
    "class Dog : public Animal { ... };\n",
    "class Cat : public Animal { ... };\n",
    "```"
   ]
  },
  {
   "cell_type": "markdown",
   "metadata": {},
   "source": [
    "__Вопрос:__\n",
    "\n",
    "<details>\n",
    "<summary>Что ещё принципиально поменялось для класса Animal?</summary>\n",
    "<p>\n",
    "\n",
    "Объекты типа `Animal` нельзя создавать.\n",
    "\n",
    "</p>\n",
    "</details>"
   ]
  },
  {
   "cell_type": "markdown",
   "metadata": {},
   "source": [
    "Ещё пример:"
   ]
  },
  {
   "cell_type": "markdown",
   "metadata": {},
   "source": [
    "```c++\n",
    "class BridgeBuilder\n",
    "{\n",
    "public:\n",
    "    virtual Bridge make_bridge() = 0;    \n",
    "};\n",
    "\n",
    "class StoneBridgeBuilder : public BridgeBuilder\n",
    "{\n",
    "public:\n",
    "    virtual Bridge make_bridge() { return StoneBridge(); }    \n",
    "};\n",
    "\n",
    "class WoodBridgeBuilder : public BridgeBuilder\n",
    "{\n",
    "public:\n",
    "    virtual Bridge make_bridge() { return WoodBridge(); }    \n",
    "};\n",
    "\n",
    "Landscape make_landscape(BridgeBuilder& bridge_builder)\n",
    "{\n",
    "    const auto bridge1 = bridge_builder.make_bridge();\n",
    "    const auto bridge2 = bridge_builder.make_bridge();\n",
    "    ...;\n",
    "}\n",
    "```\n",
    "\n",
    "__Вопрос знатокам:__\n",
    "\n",
    "<details>\n",
    "<summary>Что-нибудь напоминает?</summary>\n",
    "<p>\n",
    "\n",
    "Abstract Factory pattern.\n",
    "\n",
    "</p>\n",
    "</details>"
   ]
  },
  {
   "cell_type": "markdown",
   "metadata": {},
   "source": [
    "С философской точки зрения ООП чисто виртуальные функции лучше отражают ООП-модель программы. Но и обычные виртуальные функции применимы.\n",
    "\n",
    "__Вопрос:__ можете ли привести пример?"
   ]
  },
  {
   "cell_type": "markdown",
   "metadata": {},
   "source": [
    "Пример:"
   ]
  },
  {
   "cell_type": "markdown",
   "metadata": {},
   "source": [
    "```c++\n",
    "class NetworkSubsystem\n",
    "{\n",
    "public:\n",
    "    virtual void initFromConfig() {\n",
    "        // initialization code\n",
    "    }\n",
    "};\n",
    "\n",
    "// for special testing\n",
    "class NetworkSubsystemWithPeriodicDisconnects : public NetworkSubsystem\n",
    "{\n",
    "public:\n",
    "    virtual void initFromConfig() {\n",
    "        // init core network subsystem\n",
    "        NetworkSubsystem::initFromConfig();  // TODO: надо не забыть вызвать метод базового класса!\n",
    "        \n",
    "        // initialize disconnect settings below\n",
    "        ...\n",
    "    }\n",
    "};\n",
    "```"
   ]
  },
  {
   "cell_type": "markdown",
   "metadata": {},
   "source": [
    "<br />"
   ]
  },
  {
   "cell_type": "markdown",
   "metadata": {},
   "source": [
    "##### virtual / override / final"
   ]
  },
  {
   "cell_type": "markdown",
   "metadata": {},
   "source": [
    "* `virtual` - сделать метод виртуальным, чтобы наследники могли его переопределять\n",
    "* `override` - указание компилятору убедиться, что метод виртуальный, если нет - ошибка компиляции\n",
    "* `final` - запретить наследникам переопределять виртуальный метод"
   ]
  },
  {
   "cell_type": "markdown",
   "metadata": {},
   "source": [
    "Зачем нужен `override`:"
   ]
  },
  {
   "cell_type": "markdown",
   "metadata": {},
   "source": [
    "Иерархия сегодня:"
   ]
  },
  {
   "cell_type": "markdown",
   "metadata": {},
   "source": [
    "```c++\n",
    "class Animal\n",
    "{\n",
    "public:\n",
    "    virtual void cry() {}\n",
    "};\n",
    "\n",
    "class Dog : public Animal\n",
    "{\n",
    "public:\n",
    "    void cry() { std::cout << \"augh!\"; }\n",
    "};\n",
    "```"
   ]
  },
  {
   "cell_type": "markdown",
   "metadata": {},
   "source": [
    "Иерархия через пару месяцев:"
   ]
  },
  {
   "cell_type": "markdown",
   "metadata": {},
   "source": [
    "```c++\n",
    "class Animal\n",
    "{\n",
    "public:\n",
    "    virtual void cry(bool loud) {}\n",
    "};\n",
    "\n",
    "class Dog : public Animal\n",
    "{\n",
    "public:\n",
    "    void cry() { std::cout << \"augh!\"; } // OOOPS, it comiles but is not working as expected anymore\n",
    "};\n",
    "```"
   ]
  },
  {
   "cell_type": "markdown",
   "metadata": {},
   "source": [
    "Как надо было делать иерархию \"сегодня\":"
   ]
  },
  {
   "cell_type": "markdown",
   "metadata": {},
   "source": [
    "```c++\n",
    "class Animal\n",
    "{\n",
    "public:\n",
    "    virtual ~Animal() {}\n",
    "    virtual void cry() {}    \n",
    "};\n",
    "\n",
    "class Dog : public Animal\n",
    "{\n",
    "public:\n",
    "    void cry() override { std::cout << \"augh!\"; }\n",
    "};\n",
    "```"
   ]
  },
  {
   "cell_type": "markdown",
   "metadata": {},
   "source": [
    "Тогда ошибку поймал бы компилятор, а не пользователь."
   ]
  },
  {
   "cell_type": "markdown",
   "metadata": {},
   "source": [
    "<br />"
   ]
  },
  {
   "cell_type": "markdown",
   "metadata": {},
   "source": [
    "##### vftable"
   ]
  },
  {
   "cell_type": "markdown",
   "metadata": {},
   "source": [
    "Один из способов реализации механизмов виртуальных функций - компилятор может вписать в класс дополнительное поле - указатель на таблицу виртуальных функций:"
   ]
  },
  {
   "cell_type": "markdown",
   "metadata": {},
   "source": [
    "```c++\n",
    "class Animal\n",
    "{\n",
    "    std::uint64_t age;\n",
    "public:\n",
    "    virtual void cry();\n",
    "    virtual void jump();\n",
    "};\n",
    "\n",
    "class Dog : public Animal\n",
    "{\n",
    "    std::uint64_t color;\n",
    "public:\n",
    "    void cry() override;\n",
    "    void jump() override;\n",
    "};\n",
    "```"
   ]
  },
  {
   "cell_type": "markdown",
   "metadata": {},
   "source": [
    "![](vftable.jpg)"
   ]
  },
  {
   "cell_type": "markdown",
   "metadata": {},
   "source": [
    "Вопросы:\n",
    "\n",
    "<details>\n",
    "<summary>sizeof(Animal)</summary>\n",
    "16\n",
    "</details>\n",
    "    \n",
    "<details>\n",
    "<summary>sizeof(Dog)</summary>\n",
    "24\n",
    "</details>"
   ]
  },
  {
   "cell_type": "markdown",
   "metadata": {},
   "source": [
    "<br />"
   ]
  },
  {
   "cell_type": "markdown",
   "metadata": {},
   "source": [
    "##### Множественное наследование, ромбовидное наследование"
   ]
  },
  {
   "cell_type": "markdown",
   "metadata": {},
   "source": [
    "Обратить внимание на порядок конструирования, вызова деструкторов и способа разрешения конфликтов по именам"
   ]
  },
  {
   "cell_type": "markdown",
   "metadata": {},
   "source": [
    "```c++\n",
    "class Animal\n",
    "{\n",
    "    ...\n",
    "};\n",
    "\n",
    "class JumpingCreature\n",
    "{\n",
    "public:\n",
    "    void jump();\n",
    "};\n",
    "\n",
    "class CryingCreature\n",
    "{\n",
    "public:\n",
    "    void cry();    \n",
    "};\n",
    "\n",
    "\n",
    "class Cat : public Animal\n",
    "          , public JumpingCreature\n",
    "          , public CryingCreature\n",
    "{\n",
    "public:\n",
    "    void play()\n",
    "    {\n",
    "        jump();\n",
    "        jump();\n",
    "        cry();\n",
    "        jump();\n",
    "        \n",
    "        // явное указание метода,\n",
    "        //\n",
    "        // потребуется, если метод jump()\n",
    "        // есть и у JumpingCreature, и у Animal\n",
    "        JumpingCreature::jump();\n",
    "        CryingCreature::cry();\n",
    "    }\n",
    "};\n",
    "```"
   ]
  },
  {
   "cell_type": "markdown",
   "metadata": {},
   "source": [
    "<img src=\"classes_diagram_cat.png\" height=500px width=500px />"
   ]
  },
  {
   "cell_type": "markdown",
   "metadata": {},
   "source": [
    "<br />"
   ]
  },
  {
   "cell_type": "markdown",
   "metadata": {},
   "source": [
    "Граф наследования ацикличен и однонаправлен... но ничто не мешает сделать в нём ромб. Такая конструкция выглядит необычной, но, тем не менее, используется даже в стандартной библиотеке:"
   ]
  },
  {
   "cell_type": "markdown",
   "metadata": {},
   "source": [
    "![](std-basic_iostream-inheritance.png)"
   ]
  },
  {
   "cell_type": "markdown",
   "metadata": {},
   "source": [
    "https://en.cppreference.com/w/cpp/io/basic_iostream"
   ]
  },
  {
   "cell_type": "markdown",
   "metadata": {},
   "source": [
    "<br />"
   ]
  },
  {
   "cell_type": "markdown",
   "metadata": {},
   "source": [
    "##### Layout класса"
   ]
  },
  {
   "cell_type": "markdown",
   "metadata": {},
   "source": [
    "Рассмотрим как устроено расположение класса в памяти. Пойдём от простого к сложному."
   ]
  },
  {
   "cell_type": "markdown",
   "metadata": {},
   "source": [
    "```c++\n",
    "struct Point\n",
    "{\n",
    "    float x;  // size = 4, alignment = 4\n",
    "    float y;  // size = 4, alignment = 4\n",
    "};  // size = 8, alignment = 4\n",
    "```"
   ]
  },
  {
   "cell_type": "markdown",
   "metadata": {},
   "source": [
    "![](layout_point.jpg)"
   ]
  },
  {
   "cell_type": "markdown",
   "metadata": {},
   "source": [
    "```c++\n",
    "class A\n",
    "{\n",
    "    float x;          // size = 4, alignment = 4\n",
    "    std::uint64_t y;  // size = 8, alignment = 8  \n",
    "};  // size = ???, alignment = ???\n",
    "```"
   ]
  },
  {
   "cell_type": "markdown",
   "metadata": {},
   "source": [
    "![](layout_padding.jpg)"
   ]
  },
  {
   "cell_type": "markdown",
   "metadata": {},
   "source": [
    "Более подробно про alignment:\n",
    "https://en.cppreference.com/w/c/language/object"
   ]
  },
  {
   "cell_type": "markdown",
   "metadata": {},
   "source": [
    "```c++\n",
    "class A\n",
    "{\n",
    "    float x;          // size = 4, alignment = 4\n",
    "    std::uint64_t y;  // size = 8, alignment = 8\n",
    "    float z;          // size = 4, alignment = 4\n",
    "};  // size = ???, alignment = ???\n",
    "```"
   ]
  },
  {
   "cell_type": "markdown",
   "metadata": {},
   "source": [
    "![](layout_padding_2.jpg)"
   ]
  },
  {
   "cell_type": "markdown",
   "metadata": {},
   "source": [
    "```c++\n",
    "class A\n",
    "{\n",
    "    std::uint64_t y;  // size = 8, alignment = 8\n",
    "    float x;          // size = 4, alignment = 4\n",
    "    float z;          // size = 4, alignment = 4\n",
    "};  // size = ???, alignment = ???\n",
    "```"
   ]
  },
  {
   "cell_type": "markdown",
   "metadata": {},
   "source": [
    "![](layout_padding_3.jpg)"
   ]
  },
  {
   "cell_type": "markdown",
   "metadata": {},
   "source": [
    "<br />"
   ]
  },
  {
   "cell_type": "markdown",
   "metadata": {},
   "source": [
    "Рассмотрим layout класса в памяти в случае наследования:"
   ]
  },
  {
   "cell_type": "markdown",
   "metadata": {},
   "source": [
    "```c++\n",
    "struct P\n",
    "{\n",
    "    float x;  // size = 4, alignment = 4\n",
    "    float y;  // size = 4, alignment = 4\n",
    "};  // size = 8, alignment = 4\n",
    "\n",
    "struct WP : P\n",
    "{\n",
    "    float w;  // size = 4, alignment = 4\n",
    "};  // size = ???, alignment = ???\n",
    "```"
   ]
  },
  {
   "cell_type": "markdown",
   "metadata": {},
   "source": [
    "![](layout_inheritance.jpg)"
   ]
  },
  {
   "cell_type": "markdown",
   "metadata": {},
   "source": [
    "Рассмотрим layout класса в памяти в случае множественного наследования:"
   ]
  },
  {
   "cell_type": "markdown",
   "metadata": {},
   "source": [
    "```c++\n",
    "class CBase1 { ... };\n",
    "class CBase2 { ... };\n",
    "\n",
    "class CDerived : public CBase1\n",
    "               , public CBase2\n",
    "{ ... };\n",
    "```"
   ]
  },
  {
   "cell_type": "markdown",
   "metadata": {},
   "source": [
    "![](layout_multiple_inheritance.jpg)"
   ]
  },
  {
   "cell_type": "markdown",
   "metadata": {},
   "source": [
    "<br />"
   ]
  },
  {
   "cell_type": "markdown",
   "metadata": {},
   "source": [
    "Как быть с виртуальными методами и функциями:"
   ]
  },
  {
   "cell_type": "markdown",
   "metadata": {},
   "source": [
    "```c++\n",
    "class Base\n",
    "{\n",
    "public:\n",
    "    virtual void say_hello();\n",
    "    virtual void say_goodbye();\n",
    "    \n",
    "private:\n",
    "    ...\n",
    "};\n",
    "\n",
    "class Dervied : public Base\n",
    "{\n",
    "public:\n",
    "    void say_hello() override;\n",
    "    void say_goodbye() override;\n",
    "    \n",
    "private:\n",
    "    ...\n",
    "};\n",
    "```"
   ]
  },
  {
   "cell_type": "markdown",
   "metadata": {},
   "source": [
    "![](layout_vtable_3.jpg)"
   ]
  },
  {
   "cell_type": "markdown",
   "metadata": {},
   "source": [
    "Показать как ведёт себя преобразование указателей для такого лаяута (и почему с reinterpert_cast лучше не переборщить).\n",
    "\n",
    "Открыть на godbolt.org пример и показать как происходит сравнение указателей, закомментировать виртуальные функции - посмотреть что происходит."
   ]
  },
  {
   "cell_type": "markdown",
   "metadata": {},
   "source": [
    "```c++\n",
    "struct Base1\n",
    "{\n",
    "    // virtual void say_hello() = 0;\n",
    "    float x;\n",
    "};\n",
    "\n",
    "struct Base2\n",
    "{\n",
    "    float x;\n",
    "};\n",
    "\n",
    "struct Derived : public Base1\n",
    "               , public Base2\n",
    "{\n",
    "    // virtual void say_hello() = 0;\n",
    "    float y;\n",
    "};\n",
    "\n",
    "bool equal1(Base1* lhs, Derived *rhs)\n",
    "{\n",
    "    return lhs == rhs;\n",
    "}\n",
    "\n",
    "bool equal2(Base2* lhs, Derived *rhs)\n",
    "{\n",
    "    return lhs == rhs;\n",
    "}\n",
    "```"
   ]
  },
  {
   "cell_type": "markdown",
   "metadata": {},
   "source": [
    "__Вопрос на понимание:__ каков layout класса при ромбовидном наследовании?\n",
    "\n",
    "__Вопрос для продвинутых:__ как его оптимизировать?"
   ]
  },
  {
   "cell_type": "markdown",
   "metadata": {},
   "source": [
    "<br />"
   ]
  },
  {
   "cell_type": "markdown",
   "metadata": {},
   "source": [
    "##### Состояние класса, const + mutable"
   ]
  },
  {
   "cell_type": "markdown",
   "metadata": {},
   "source": [
    "Что считать состоянием класса?\n",
    "* значения всех его полей\n",
    "* логическое состояние класса (набор элементов в векторе, а не детали типа `capacity`)"
   ]
  },
  {
   "cell_type": "markdown",
   "metadata": {},
   "source": [
    "С точки зрения компилятора - набор всех его полей, не помеченных словом `mutable`"
   ]
  },
  {
   "cell_type": "markdown",
   "metadata": {},
   "source": [
    "```c++\n",
    "class Animal\n",
    "{\n",
    "private:\n",
    "    std::string name;\n",
    "    unsigned age;\n",
    "    \n",
    "public:\n",
    "    // аттрибут const означает, что метод не будет\n",
    "    // менять полей класса (и компилятор это проверит!)\n",
    "    //\n",
    "    // внутри const-методов поля имеют тип:\n",
    "    // const std::string name;\n",
    "    // const unsigned age;\n",
    "    bool is_too_young() const\n",
    "    {\n",
    "        return age <= 3;\n",
    "    }\n",
    "    \n",
    "    // метод не меняет полей класса, но программист\n",
    "    // забыл поставить const\n",
    "    void say_hello()\n",
    "    {\n",
    "        std::cout << \"hello\";\n",
    "    }\n",
    "    \n",
    "    // метод не меняет полей класса\n",
    "    void say_hello_twice() const\n",
    "    {\n",
    "        say_hello();  // COMPILE-TIME ERROR\n",
    "        say_hello();\n",
    "        \n",
    "        name = \"unk\";  // COMPILE-TIME ERROR\n",
    "    }\n",
    "    \n",
    "    // отсутствие const - метод МОЖЕТ менять поля\n",
    "    void happy_birthday()\n",
    "    {\n",
    "        age += 1; // OK\n",
    "    }   \n",
    "};\n",
    "```"
   ]
  },
  {
   "cell_type": "markdown",
   "metadata": {},
   "source": [
    "Рассмотрим учебный пример - отображение, которое хранит ответ на последний запрос как кеширование."
   ]
  },
  {
   "cell_type": "markdown",
   "metadata": {},
   "source": [
    "```c++\n",
    "class Resources\n",
    "{\n",
    "public:\n",
    "    void add(int id, const std::string& resource);\n",
    "    \n",
    "    const std::string& get(int id) const;\n",
    "    \n",
    "private:\n",
    "    // хранилище ресурсов\n",
    "    std::map<int, std::string> id_to_resource;\n",
    "    \n",
    "    // закешированный последний запрошенный ресурс\n",
    "    mutable int last_id = -1;\n",
    "    mutable std::string last_resource;\n",
    "};\n",
    "\n",
    "void Resources::add(const int id, const std::string& resource)\n",
    "{\n",
    "    id_to_resource[id] = resource;\n",
    "}\n",
    "\n",
    "const std::string& Resources::get(const int id) const\n",
    "{\n",
    "    if (id == last_id)\n",
    "        return last_resource;\n",
    "    \n",
    "    auto it = id_to_resource.find(id);  // |find| - const-метод\n",
    "    \n",
    "    last_resource = it->second;  // OK, т.к. mutable\n",
    "    last_id = id;                // OK, т.к. mutable\n",
    "    \n",
    "    return last_resource;\n",
    "}\n",
    "```"
   ]
  },
  {
   "cell_type": "markdown",
   "metadata": {},
   "source": [
    "Примечание: это исключительно ученический пример кеширования для демонстрации понятий `mutable` и состояния объекта, никогда так не реализуйте кеширование."
   ]
  },
  {
   "cell_type": "markdown",
   "metadata": {},
   "source": [
    "<br />"
   ]
  },
  {
   "cell_type": "markdown",
   "metadata": {},
   "source": [
    "##### Операторы"
   ]
  },
  {
   "cell_type": "markdown",
   "metadata": {},
   "source": [
    "https://en.cppreference.com/w/cpp/language/operators"
   ]
  },
  {
   "cell_type": "markdown",
   "metadata": {},
   "source": [
    "В виде свободных функций"
   ]
  },
  {
   "cell_type": "markdown",
   "metadata": {},
   "source": [
    "```c++\n",
    "struct Vector3D\n",
    "{\n",
    "    double x;\n",
    "    double y;\n",
    "    double z;\n",
    "};\n",
    "\n",
    "// v1 + v2\n",
    "Vector3D operator + (const Vector3D& l, const Vector3D& r)\n",
    "{\n",
    "    return {l.x + r.x, l.y + r.y, l.z + r.z};\n",
    "}\n",
    "\n",
    "// v1 * v2\n",
    "double operator * (const Vector3D& l, const Vector3D& r)\n",
    "{\n",
    "    return l.x * r.x + l.y * r.y + l.z * r.z;\n",
    "}\n",
    "\n",
    "// v1 * a\n",
    "Vector3D operator *(const Vector3D& v, const double a)\n",
    "{\n",
    "    return {v.x * a, v.y * a, v.z * a};\n",
    "}\n",
    "\n",
    "// a * v1\n",
    "Vector3D operator *(const double a, const Vector3D& v)\n",
    "{\n",
    "    return v * a;\n",
    "}\n",
    "\n",
    "// v1 / a\n",
    "Vector3D operator *(const Vector3D& v, const double a)\n",
    "{\n",
    "    return v * (1. / a);\n",
    "}\n",
    "```"
   ]
  },
  {
   "cell_type": "markdown",
   "metadata": {},
   "source": [
    "В виде членов класса и свободных функций-друзей:"
   ]
  },
  {
   "cell_type": "markdown",
   "metadata": {},
   "source": [
    "```c++\n",
    "class Animal\n",
    "{\n",
    "private:\n",
    "    std::string name;\n",
    "    unsigned age;\n",
    "    \n",
    "public:\n",
    "    // Animal a;\n",
    "    // ++a;\n",
    "    Animal& operator++()\n",
    "    {\n",
    "        ++age;\n",
    "        return *this;\n",
    "    }\n",
    "    \n",
    "    // Animal a;\n",
    "    // a++;\n",
    "    Animal operator++(int)\n",
    "    {\n",
    "        Animal tmp = *this;\n",
    "        operator++();\n",
    "        return tmp;\n",
    "    }\n",
    "\n",
    "    // Animal a;\n",
    "    // std::cout << a;\n",
    "    friend std::ostream& operator <<(std::ostream& os, const Animal& animal);\n",
    "};\n",
    "\n",
    "std::ostream& operator <<(std::ostream& os, const Animal& animal)\n",
    "{\n",
    "    return os << animal.name << \",\" << animal.age;\n",
    "}\n",
    "```"
   ]
  },
  {
   "cell_type": "markdown",
   "metadata": {},
   "source": [
    "Разница:\n",
    "https://www.quora.com/What-is-the-difference-between-defining-an-overloaded-operator-outside-the-class-and-defining-it-inside-the-class/answer/Sergey-Zubkov-1"
   ]
  },
  {
   "cell_type": "markdown",
   "metadata": {},
   "source": [
    "<br />"
   ]
  },
  {
   "cell_type": "markdown",
   "metadata": {},
   "source": [
    "__Замечания по лекции:__\n",
    "* Расширить материал по операторам, добавить примеры, добавить более адекватные примеры, сейчас материал скомкан"
   ]
  }
 ],
 "metadata": {
  "kernelspec": {
   "display_name": "Python 3",
   "language": "python",
   "name": "python3"
  },
  "language_info": {
   "codemirror_mode": {
    "name": "ipython",
    "version": 3
   },
   "file_extension": ".py",
   "mimetype": "text/x-python",
   "name": "python",
   "nbconvert_exporter": "python",
   "pygments_lexer": "ipython3",
   "version": "3.6.8"
  }
 },
 "nbformat": 4,
 "nbformat_minor": 2
}
