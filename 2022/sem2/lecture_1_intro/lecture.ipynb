{
 "cells": [
  {
   "cell_type": "markdown",
   "metadata": {},
   "source": [
    "### Организационная лекция"
   ]
  },
  {
   "cell_type": "markdown",
   "metadata": {},
   "source": [
    "<br />"
   ]
  },
  {
   "cell_type": "markdown",
   "metadata": {},
   "source": [
    "##### Тематика первого (базового) курса по С++"
   ]
  },
  {
   "cell_type": "markdown",
   "metadata": {},
   "source": [
    "* Что такое программа на С++\n",
    "    * Понимание задач компилятора и некоторых его этапов\n",
    "    * Layout данных и кода в памяти\n",
    "    * Куча / стек\n",
    "    * Lifetime объекта\n",
    "\n",
    "\n",
    "* Функции и операторы\n",
    "    * Корректная передача входных аргументов и возвращаемых значений\n",
    "    * Контракты: предусловия и постусловия\n",
    "\n",
    "\n",
    "* Классы\n",
    "    * Конструктор / деструктор\n",
    "    * RAII\n",
    "    * class vs struct\n",
    "    * Наследование\n",
    "    * Layout класса в памяти    \n",
    "    * Динамический полиморфизм (virtual)\n",
    "\n",
    "\n",
    "* Шаблоны\n",
    "\n",
    "\n",
    "* Исключения\n",
    "\n",
    "\n",
    "* Умные указатели\n",
    "\n",
    "\n",
    "* Лямбда-функции\n",
    "\n",
    "\n",
    "* Стандартные контейнеры и алгоритмы\n",
    "    * Внутреннее устройство контейнеров\n",
    "    * Стоимость по времени и по памяти\n",
    "    * Подводные камни в библиотеке алгоритмов С++\n",
    "\n",
    "\n",
    "* Performance\n",
    "    * Практики написания быстрого кода\n",
    "    * Performance analysis: инструменты нахождения участков кода, требующих оптимизации"
   ]
  },
  {
   "cell_type": "markdown",
   "metadata": {},
   "source": [
    "<br />"
   ]
  },
  {
   "cell_type": "markdown",
   "metadata": {},
   "source": [
    "##### Изменения в курсе после зимних каникул"
   ]
  },
  {
   "cell_type": "markdown",
   "metadata": {},
   "source": [
    "[Выложены видео с CppCon 2021!](https://www.youtube.com/watch?v=hfIBHUTwwqQ&list=PLHTh1InhhwT6bY4nS4p7f5b_754myC3ze&ab_channel=CppCon)"
   ]
  },
  {
   "cell_type": "markdown",
   "metadata": {},
   "source": [
    "<br />"
   ]
  },
  {
   "cell_type": "markdown",
   "metadata": {},
   "source": [
    "##### Бьярн Страуструп про исключения и обработку ошибок (CppCon 2021):\n",
    "* https://youtu.be/15QF2q66NhU?t=3558\n",
    "* https://youtu.be/15QF2q66NhU?t=3831"
   ]
  },
  {
   "cell_type": "markdown",
   "metadata": {},
   "source": [
    "Свойства исключений:\n",
    "* Отделяют код детекции ошибки от кода обработки ошибки\n",
    "* Отделяют код обработки ошибки от happy path\n",
    "* Гарантия обработки ошибки (либо приложение умрёт - очень хорошее свойство!)"
   ]
  },
  {
   "cell_type": "markdown",
   "metadata": {},
   "source": [
    "Пометки:\n",
    "* Не являются заменой для error codes\n",
    "* Поддержка RAII (очень хорошее свойство!)"
   ]
  },
  {
   "cell_type": "markdown",
   "metadata": {},
   "source": [
    "Обработка ошибок:\n",
    "* error codes - для частых естественных ошибок, которые могут быть обработаны вызывающим кодом\n",
    "* exceptions - для редких, противоестественных ошибок, которые не могут быть обработаны вызывающим кодом"
   ]
  },
  {
   "cell_type": "markdown",
   "metadata": {},
   "source": [
    "**Замечание от лектора**: Для ошибок Бьярн выделил 3 свойства:\n",
    "    * частота (common/rare),\n",
    "    * естественность (normal/unusual)\n",
    "    * логичность быть обработанным вызывающим кодом (can be easily handled by an immediate caller).\n",
    "Всего 8 категорий ошибок, и только для 2-х из них есть рекомендация как их обрабатывать. Для остальных шести понадобится волшебное чувство меры, а именно: контекст задачи + опыт ваш и сообщества по решению похожих задач + специфика проекта."
   ]
  },
  {
   "cell_type": "markdown",
   "metadata": {},
   "source": [
    "<br />"
   ]
  },
  {
   "cell_type": "markdown",
   "metadata": {},
   "source": [
    "##### Модель обработки ошибок в С++"
   ]
  },
  {
   "cell_type": "markdown",
   "metadata": {},
   "source": [
    "Хорошая статья про модели обработки ошибок в разных языках и best practices  \n",
    "http://joeduffyblog.com/2016/02/07/the-error-model/"
   ]
  },
  {
   "cell_type": "markdown",
   "metadata": {},
   "source": [
    "Ошибки:\n",
    "\n",
    "* Баги программы\n",
    "    - выход за границы массива\n",
    "    - нарушение контрактов\n",
    "    - разыменование nullptr\n",
    "    - работа с недопустимой памятью\n",
    "    - double free\n",
    "    - use after free\n",
    "    - ...\n",
    "\n",
    "  если такая ошибка детектируется, скорее всего, программу нужно немедленно убить (`std::terminate`)\n",
    "  \n",
    "  \n",
    "* Отказ компонентов системы\n",
    "    - разрыв сети\n",
    "    - отсутствие файла на диске\n",
    "    - некорректный ввод от пользователя\n",
    "    - обрыв соединения с БД\n",
    "    \n",
    "  такие ошибки обязаны детектироваться и элегантно обрабатываться программой\n",
    "    * error codes - частые, ожидаемые, легко обрабатываются вызывающей функцией\n",
    "    * exceptions - редкие, неожиданные, сложно или невозможно корректно обработать вызывающей функцией"
   ]
  },
  {
   "cell_type": "markdown",
   "metadata": {},
   "source": [
    "<br />"
   ]
  },
  {
   "cell_type": "markdown",
   "metadata": {},
   "source": [
    "##### std::make_unique и C++17"
   ]
  },
  {
   "cell_type": "markdown",
   "metadata": {},
   "source": [
    "Напомните, пожалуйста, в чём проблема в таком коде:\n",
    "\n",
    "```c++\n",
    "create_person(std::unique_ptr<Head>(new Head),\n",
    "              std::unique_ptr<Body>(new Body));\n",
    "```"
   ]
  },
  {
   "cell_type": "markdown",
   "metadata": {},
   "source": [
    "И как мы её чинили?"
   ]
  },
  {
   "cell_type": "markdown",
   "metadata": {},
   "source": [
    "<br />"
   ]
  },
  {
   "cell_type": "markdown",
   "metadata": {},
   "source": [
    "**Замечание:** Проблема актуальна только до С++14. В стандарте С++17 скорректировали правила порядка вычислений аргументов ([пункт 15](https://en.cppreference.com/w/cpp/language/eval_order)), и теперь аргумент функции обязан быть вычислен полностью до вычисления другого аргумента, но порядок вычисления аргументов всё равно не определён.\n",
    "\n",
    "```c++\n",
    "// undefined   behavior until C++17\n",
    "// unspecified behavior since C++17\n",
    "int i = 0;\n",
    "f(++i, ++i);\n",
    "```"
   ]
  },
  {
   "cell_type": "markdown",
   "metadata": {},
   "source": [
    "<br />"
   ]
  },
  {
   "cell_type": "markdown",
   "metadata": {},
   "source": [
    "##### Тематика второго (продвинутого) курса по С++"
   ]
  },
  {
   "cell_type": "markdown",
   "metadata": {},
   "source": [
    "* Многопоточность\n",
    "    * Понятие потока\n",
    "    * Как создавать и завершать поток\n",
    "    * Внутреннее устройство потоков\n",
    "    * Языковые средства коммуникации между потоками\n",
    "    * Race condition и средства борьбы с ними\n",
    "    * Атомарные операции и введение в lock-free\n",
    "\n",
    "\n",
    "* Конструкции языка:\n",
    "    * move-семантика\n",
    "    * compile-time вычисления\n",
    "    * undefined behavior\n",
    "    * advanced templates\n",
    "\n",
    "\n",
    "* Популярные трюки:\n",
    "    * ranges\n",
    "    * форматирование строк"
   ]
  },
  {
   "cell_type": "markdown",
   "metadata": {},
   "source": [
    "<br />"
   ]
  },
  {
   "cell_type": "markdown",
   "metadata": {},
   "source": [
    "##### Прочие орг. вопросы\n",
    "* система выставления оценок\n",
    "* пятиминутки\n",
    "* как жить слушателям\n",
    "* исходники курса на github"
   ]
  }
 ],
 "metadata": {
  "kernelspec": {
   "display_name": "Python 3",
   "language": "python",
   "name": "python3"
  },
  "language_info": {
   "codemirror_mode": {
    "name": "ipython",
    "version": 3
   },
   "file_extension": ".py",
   "mimetype": "text/x-python",
   "name": "python",
   "nbconvert_exporter": "python",
   "pygments_lexer": "ipython3",
   "version": "3.6.9"
  }
 },
 "nbformat": 4,
 "nbformat_minor": 2
}
