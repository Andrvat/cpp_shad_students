{
 "cells": [
  {
   "cell_type": "markdown",
   "metadata": {},
   "source": [
    "__Вопросы для повторения:__\n",
    "\n",
    "* Что выведет программа?\n",
    "\n",
    "    ```c++\n",
    "    std::string name = \"Ilya\";\n",
    "    std::string surname = \"Muromec\";\n",
    "\n",
    "    std::string& r = name;\n",
    "    r = \"Dobrynia\";\n",
    "    std::cout << name << std::endl;\n",
    "\n",
    "    std::string* p = &surname;\n",
    "    surname = \"Nikitich\";\n",
    "    std::cout << p << std::endl;\n",
    "    ```\n",
    "\n",
    "* Каковы контракты функций. Какие юнит-тесты следует написать?\n",
    "\n",
    "```c++\n",
    "void sort(int* arr, int n);\n",
    "\n",
    "int to_int(const std::string& s);\n",
    "```"
   ]
  }
 ],
 "metadata": {
  "kernelspec": {
   "display_name": "Python 3",
   "language": "python",
   "name": "python3"
  },
  "language_info": {
   "codemirror_mode": {
    "name": "ipython",
    "version": 3
   },
   "file_extension": ".py",
   "mimetype": "text/x-python",
   "name": "python",
   "nbconvert_exporter": "python",
   "pygments_lexer": "ipython3",
   "version": "3.6.9"
  }
 },
 "nbformat": 4,
 "nbformat_minor": 2
}
