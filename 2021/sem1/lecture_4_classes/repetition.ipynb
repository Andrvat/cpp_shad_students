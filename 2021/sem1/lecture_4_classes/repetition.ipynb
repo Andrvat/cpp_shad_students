{
 "cells": [
  {
   "cell_type": "markdown",
   "metadata": {},
   "source": [
    " __Вопросы для повторения:__\n",
    "\n",
    "* Что такое RAII? Примеры?\n",
    "* Какие конструкторы мы рассматривали на прошлой лекции?\n",
    "* Когда вызвается деструктор\n",
    "  * если объект живёт на стеке?\n",
    "  * если объект живёт в куче?\n",
    "* Что такое \"правило шести\"?\n",
    "* Как работают автогенерированные операции?\n",
    "* Когда следует избежать автогенерированных операций?\n",
    "* Какая здесь проблема?\n",
    "\n",
    "```c++\n",
    "void func()\n",
    "{\n",
    "    std::vector<std::string*> names = {\n",
    "        new std::string(\"Dobrynia\"),\n",
    "        new std::string(\"Ilusha\"),\n",
    "        new std::string(\"Alesha\")\n",
    "    };\n",
    "    \n",
    "    std::cout << *names[0];\n",
    "}\n",
    "```\n",
    "\n",
    "* Какие операции здесь вызываются?\n",
    "\n",
    "```c++\n",
    "Animal a1;\n",
    "Animal a2(\"Kesha\");\n",
    "const Animal a3 = a2;\n",
    "Animal a4(a3);\n",
    "Animal a5(std::move(a4));\n",
    "const Animal& a6 = a2;\n",
    "a1 = a2;\n",
    "a1 = std::move(a4);\n",
    "a1 = std::move(a3);\n",
    "a1 = std::move(a6);\n",
    "```"
   ]
  }
 ],
 "metadata": {
  "kernelspec": {
   "display_name": "Python 3",
   "language": "python",
   "name": "python3"
  },
  "language_info": {
   "codemirror_mode": {
    "name": "ipython",
    "version": 3
   },
   "file_extension": ".py",
   "mimetype": "text/x-python",
   "name": "python",
   "nbconvert_exporter": "python",
   "pygments_lexer": "ipython3",
   "version": "3.6.9"
  }
 },
 "nbformat": 4,
 "nbformat_minor": 2
}
