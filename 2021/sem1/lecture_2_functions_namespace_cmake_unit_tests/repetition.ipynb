{
 "cells": [
  {
   "cell_type": "markdown",
   "metadata": {},
   "source": [
    "__Вопросы для повторения:__\n",
    "\n",
    "* Что такое стэк и куча?\n",
    "* Что такое указатель?\n",
    "* `sizeof(int *)`?\n",
    "* `sizeof(int)`?\n",
    "* `sizeof(uint64_t)`?\n",
    "* Куда указывает `p`?\n",
    "\n",
    "    ```c++\n",
    "    std::uint64_t arr[100];\n",
    "    std::uint64_t *p = &arr[0];\n",
    "    p = p + 8;\n",
    "    ```\n",
    "    \n",
    "* Где хранятся данные строк при исполнении программы?\n",
    "\n",
    "```c++\n",
    "const char* s = \"hello world\";\n",
    "\n",
    "std::string s2 = \"London is the capital of Great Britain\";\n",
    "```"
   ]
  }
 ],
 "metadata": {
  "kernelspec": {
   "display_name": "Python 3",
   "language": "python",
   "name": "python3"
  },
  "language_info": {
   "codemirror_mode": {
    "name": "ipython",
    "version": 3
   },
   "file_extension": ".py",
   "mimetype": "text/x-python",
   "name": "python",
   "nbconvert_exporter": "python",
   "pygments_lexer": "ipython3",
   "version": "3.6.9"
  }
 },
 "nbformat": 4,
 "nbformat_minor": 2
}
