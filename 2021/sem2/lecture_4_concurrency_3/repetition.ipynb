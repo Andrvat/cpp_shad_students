{
 "cells": [
  {
   "cell_type": "markdown",
   "metadata": {},
   "source": [
    "**Вопросы для повторения:**\n",
    "* что такое `std::mutex`? зачем он нужен? что внутри?\n",
    "* что такое `std::lock_guard`? чем не устраивают `std::mutex::lock`, `std::mutex::unlock`?\n",
    "* предположим, у нас есть многопоточная очередь задач `MTTasksQueue`. В чём здесь проблема? Как её будем исправлять?\n",
    "\n",
    "```c++\n",
    "void run_queued_task(MTTasksQueue& q)\n",
    "{\n",
    "    if (!q.empty())\n",
    "        run_task(q.pop());\n",
    "}\n",
    "```\n",
    "\n",
    "* а в чём может быть проблема с той же самой очередью тут? Какие есть варианты её исправить?\n",
    "\n",
    "```c++\n",
    "class MTTasksQueue\n",
    "{\n",
    "public:\n",
    "    using Task = std::function<void(void)>;\n",
    "    \n",
    "    ...\n",
    "\n",
    "    void pop_and_run()\n",
    "    {\n",
    "        std::lock_guard guard(mtx);\n",
    "\n",
    "        if (!tasks_queue.empty())\n",
    "        {        \n",
    "            const auto task = std::move(tasks_queue.back());\n",
    "            tasks_queue.pop_back();\n",
    "            task();\n",
    "        }        \n",
    "    }\n",
    "\n",
    "private:\n",
    "    std::mutex mtx;\n",
    "    std::queue<Task> tasks_queue;\n",
    "};\n",
    "```\n",
    "\n",
    "<details>\n",
    "<summary>ответ</summary>\n",
    "<p>recursive_mutex и реорганизация кода. Что такое и как устроен recursive_mutex? Когда его следует использовать? Почему в данном случае recursive_mutex - плохое решение? Если остаться на обычном mutex, как следует с ним поступить?</p>\n",
    "</details>\n",
    "\n",
    "* Что такое deadlock? Каким минимальным числом потоков и mutex-ов устроить deadlock?\n",
    "\n",
    "<details>\n",
    "<summary>замечание</summary>\n",
    "<p>\"на самом деле\", дважды вызов lock у std::mutex на одном потоке - это не обязательно deadlock. Документация утверждает, что это UB, и _скорее всего_ вы получите deadlock, но некоторые реализации могут задетектить ситуацию и бросить exception, но в общем случае всё совсем плохо - это UB</p>\n",
    "<p><a href=\"https://en.cppreference.com/w/cpp/thread/mutex/lock\">proof</a></p>\n",
    "</details>\n",
    "\n",
    "\n",
    "* что такое и зачем нужны `shared_mutex`, `unique_lock`, `shared_lock` ?\n",
    "* какие есть гарантии потокобезопасности на `std::shared_ptr` ?"
   ]
  }
 ],
 "metadata": {
  "kernelspec": {
   "display_name": "Python 3",
   "language": "python",
   "name": "python3"
  },
  "language_info": {
   "codemirror_mode": {
    "name": "ipython",
    "version": 3
   },
   "file_extension": ".py",
   "mimetype": "text/x-python",
   "name": "python",
   "nbconvert_exporter": "python",
   "pygments_lexer": "ipython3",
   "version": "3.6.9"
  }
 },
 "nbformat": 4,
 "nbformat_minor": 2
}
