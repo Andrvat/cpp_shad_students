{
 "cells": [
  {
   "cell_type": "markdown",
   "metadata": {},
   "source": [
    "### Разминка"
   ]
  },
  {
   "cell_type": "markdown",
   "metadata": {},
   "source": [
    "Рассказать про материал второго курса, домашние задания и систему выставления оценок."
   ]
  },
  {
   "cell_type": "markdown",
   "metadata": {},
   "source": [
    "План на лекцию: освежить в памяти основы из 1-й части курса."
   ]
  },
  {
   "cell_type": "markdown",
   "metadata": {},
   "source": [
    "<br />"
   ]
  },
  {
   "cell_type": "markdown",
   "metadata": {},
   "source": [
    "**Разминка 1**: обсудить код программы по выводу top-n слов песни \"Yellow Submarine\""
   ]
  },
  {
   "cell_type": "markdown",
   "metadata": {},
   "source": [
    "```c++\n",
    "// обсудить: что это и как оно работает\n",
    "#include <algorithm>\n",
    "#include <cctype>\n",
    "#include <exception>\n",
    "#include <iostream>\n",
    "#include <iterator>\n",
    "#include <sstream>\n",
    "#include <string>\n",
    "#include <tuple>\n",
    "#include <unordered_map>\n",
    "#include <utility>\n",
    "#include <vector>\n",
    "\n",
    "// обсудить:\n",
    "//   * что это\n",
    "//   * что значит const\n",
    "//   * что значит static\n",
    "//   * где живут данные\n",
    "//   * когда объект создаётся и когда уничтожается\n",
    "static const std::string song = \"\\\n",
    "    Yellow Submarine\\n\\\n",
    "    \\n\\\n",
    "    In the town where I was born\\n\\\n",
    "    Lived a man who sailed to sea\\n\\\n",
    "    And he told us of his life\\n\\\n",
    "    In the land of submarines\\n\\\n",
    "    So we sailed up to the sun\\n\\\n",
    "    Till we found a sea of green\\n\\\n",
    "    And we lived beneath the waves\\n\\\n",
    "    in our yellow submarine\\n\\\n",
    "    \\n\\\n",
    "    We all live in a yellow submarine\\n\\\n",
    "    Yellow submarine, yellow submarine\\n\\\n",
    "    We all live in a yellow submarine\\n\\\n",
    "    Yellow submarine, yellow submarine\\n\\\n",
    "    \\n\\\n",
    "    And our friends are all aboard\\n\\\n",
    "    Many more of them live next door\\n\\\n",
    "    And the band begins to play\\n\\\n",
    "    \\n\\\n",
    "    We all live in a yellow submarine\\n\\\n",
    "    Yellow submarine, yellow submarine\\n\\\n",
    "    We all live in a yellow submarine\\n\\\n",
    "    Yellow submarine, yellow submarine\\n\\\n",
    "    \\n\\\n",
    "    (Full speed ahead Mr. Parker, full speed ahead\\n\\\n",
    "    Full speed ahead it is, Sergeant\\n\\\n",
    "    Action station, action station\\n\\\n",
    "    Aye, aye, sir, fire\\n\\\n",
    "    Captain, captain)\\n\\\n",
    "    \\n\\\n",
    "    As we live a life of ease\\n\\\n",
    "    Every one of us has all we need\\n\\\n",
    "    Sky of blue and sea of green\\n\\\n",
    "    In our yellow submarine\\n\\\n",
    "    \\n\\\n",
    "    We all live in a yellow submarine\\n\\\n",
    "    Yellow submarine, yellow submarine\\n\\\n",
    "    We all live in a yellow submarine\\n\\\n",
    "    Yellow submarine, yellow submarine\\n\\\n",
    "    We all live in a yellow submarine\\n\\\n",
    "    Yellow submarine, yellow submarine\";\n",
    "\n",
    "// обсудить:\n",
    "//   * что это\n",
    "//   * какой код ассемблера генерирует эта строчка\n",
    "//   * что такое unordered_map, внутреннее устройство, разница с std::map\n",
    "using WordsCounter = std::unordered_map<std::string, int>;\n",
    "\n",
    "// обсудить:\n",
    "//   * что значит static\n",
    "//   * что значит &\n",
    "static void to_lower_inplace(std::string& s)\n",
    "{\n",
    "    for (char& c : s)\n",
    "        c = static_cast<char>(std::tolower(static_cast<unsigned char>(c)));\n",
    "}\n",
    "\n",
    "// обсудить:\n",
    "//   * зачем erase\n",
    "static void remove_non_alpha_inplace(std::string& s)\n",
    "{\n",
    "    s.erase(\n",
    "        std::remove_if(\n",
    "            s.begin(),\n",
    "            s.end(),\n",
    "            [](unsigned char c) { return !std::isalpha(c); }),\n",
    "        s.end());\n",
    "}\n",
    "\n",
    "// обсудить:\n",
    "//   * что значит nodiscard\n",
    "//   * почему const&? правила передачи аргументов\n",
    "//   * что даёт наличие return только от одной локальной переменной в функции\n",
    "//   * как устроен в памяти std::vector<std::string>. если сложно - рисовать\n",
    "//   * какие ещё есть контейнеры-последовательности кроме std::vector, как они устроены\n",
    "[[nodiscard]] static std::vector<std::string> split_by_words(const std::string& text)\n",
    "{\n",
    "    std::vector<std::string> words;\n",
    "\n",
    "    std::istringstream ss{text};\n",
    "    std::for_each(\n",
    "        std::istream_iterator<std::string>(ss),\n",
    "        std::istream_iterator<std::string>(),\n",
    "        [&](std::string s){\n",
    "            remove_non_alpha_inplace(s);\n",
    "            to_lower_inplace(s);\n",
    "            if (!s.empty())\n",
    "                words.emplace_back(std::move(s));\n",
    "        });\n",
    "\n",
    "    return words;\n",
    "}\n",
    "\n",
    "[[nodiscard]] static WordsCounter make_words_counter(const std::string& text)\n",
    "{\n",
    "    const std::vector<std::string> words = split_by_words(text);\n",
    "\n",
    "    WordsCounter counter;\n",
    "    for (const std::string& word : words)\n",
    "        counter[word] += 1;\n",
    "    \n",
    "    return counter;\n",
    "}\n",
    "\n",
    "// обсудить:\n",
    "//   * почему namespace\n",
    "//   * почему struct\n",
    "//   * разница class/struct\n",
    "namespace {\n",
    "struct CountAndWord\n",
    "{\n",
    "    int count;\n",
    "    std::string word;\n",
    "};\n",
    "}  // namespace\n",
    "\n",
    "// обсудить:\n",
    "//   * reserve\n",
    "//   * partial_sort (+begin/end)\n",
    "//   * lambda (+captures)\n",
    "static void print_top_n_words(const WordsCounter& counter, const int topn)\n",
    "{\n",
    "    if (topn <= 0)\n",
    "        return;\n",
    "\n",
    "    std::vector<CountAndWord> caws;\n",
    "    caws.reserve(counter.size());\n",
    "    for (const auto& [word, count] : counter)\n",
    "        caws.emplace_back(CountAndWord{ count, word });\n",
    "\n",
    "    const int top_ix = std::min<int>(topn, caws.size());\n",
    "\n",
    "    std::partial_sort(\n",
    "        caws.begin(),\n",
    "        caws.begin() + top_ix,\n",
    "        caws.end(),\n",
    "        [](const CountAndWord& l, const CountAndWord& r) {\n",
    "            return std::tie(r.count, r.word) < std::tie(l.count, l.word);\n",
    "        });\n",
    "\n",
    "    for (int i = 0; i < top_ix; ++i)\n",
    "        std::cout << caws[i].word << \" -> \" << caws[i].count << '\\n';\n",
    "}\n",
    "\n",
    "// обсудить:\n",
    "//   * что такое main\n",
    "//   * что такое argc, argv\n",
    "int main(int argc, char **argv)\n",
    "{\n",
    "    // обсудить:\n",
    "    //   * почему 2\n",
    "    //   * что в argv[0]\n",
    "    //   * что такое endl\n",
    "    //   * почему return 1\n",
    "    if (argc != 2)\n",
    "    {\n",
    "        std::cout << \"Usage: \" << argv[0] << \" top_n\" << std::endl;\n",
    "        return 1;\n",
    "    }\n",
    "\n",
    "    // обсудить:\n",
    "    //   * что такое try-catch    \n",
    "    try\n",
    "    {\n",
    "        const int top_n = std::stoi(argv[1]);\n",
    "\n",
    "        const WordsCounter words_counter = make_words_counter(song);\n",
    "\n",
    "        print_top_n_words(words_counter, top_n);\n",
    "    }\n",
    "    catch (const std::exception& e)\n",
    "    {\n",
    "        // обсудить:\n",
    "        //   * что такое cerr\n",
    "        //   * почему return 1\n",
    "        //   * что такое std::exception и почему он здесь\n",
    "        std::cerr << \"ERROR: failed to find top n words: \" << e.what() << std::endl;\n",
    "        return 1;\n",
    "    }\n",
    "    \n",
    "    // просмотреть всю программу, где могут быть брошены исключения\n",
    "    return 0;\n",
    "}\n",
    "```"
   ]
  },
  {
   "cell_type": "markdown",
   "metadata": {},
   "source": [
    "<br />"
   ]
  },
  {
   "cell_type": "markdown",
   "metadata": {},
   "source": [
    "**Разминка 2**: обсудить класс `RoundRobinQueue`"
   ]
  },
  {
   "cell_type": "markdown",
   "metadata": {},
   "source": [
    "```c++\n",
    "#include <array>\n",
    "#include <initializer_list>\n",
    "#include <iostream>\n",
    "#include <optional>\n",
    "#include <stdexcept>\n",
    "#include <utility>\n",
    "\n",
    "// обсудить:\n",
    "//   * шаблоны (что такое, зачем, как)\n",
    "//   * шаблонные параметры\n",
    "template<typename T, int N>\n",
    "class RoundRobinQueue\n",
    "{\n",
    "private:\n",
    "    // обсудить: инварианты\n",
    "    std::array<std::optional<T>, N> data;\n",
    "    int start_ix = 0;  // индекс первого элемента в очереди\n",
    "    int final_ix = 0;  // индекс следующего за последним элементом в очереди\n",
    "    \n",
    "public:\n",
    "    // обсудить:\n",
    "    //   * конструкторы, деструкторы, когда вызываются\n",
    "    //   * какие есть ещё спец. методы\n",
    "    //   * какие есть правила\n",
    "    \n",
    "    RoundRobinQueue() = default;\n",
    "\n",
    "    RoundRobinQueue(std::initializer_list<T> lst)\n",
    "    {\n",
    "        for (const T& t : lst)\n",
    "            push(t);\n",
    "    }\n",
    "\n",
    "    RoundRobinQueue(const RoundRobinQueue&) = default;\n",
    "    RoundRobinQueue& operator=(const RoundRobinQueue&) = default;\n",
    "\n",
    "    // обсудить:\n",
    "    //   * что это такое\n",
    "    //   * что делает std::move\n",
    "    //   * зачем присваивать rhs\n",
    "    //   * зачем noexcept\n",
    "    RoundRobinQueue(RoundRobinQueue&& rhs) noexcept\n",
    "        : data(std::move(rhs.data))\n",
    "        , start_ix(rhs.start_ix)\n",
    "        , final_ix(rhs.final_ix)\n",
    "    {\n",
    "        rhs = RoundRobinQueue();\n",
    "    }\n",
    "\n",
    "    // обсудить:\n",
    "    //   * зачем это нужно если есть move-конструктор\n",
    "    //   * зачем проверка на this\n",
    "    RoundRobinQueue& operator=(RoundRobinQueue&& rhs) noexcept\n",
    "    {\n",
    "        if (this != &rhs)\n",
    "        {\n",
    "            data = std::move(rhs);\n",
    "            start_ix = rhs.start_ix;\n",
    "            final_ix = rhs.final_ix;\n",
    "\n",
    "            rhs = RoundRobinQueue();\n",
    "        }\n",
    "        return *this;\n",
    "    }\n",
    "\n",
    "    // обсудить:\n",
    "    //   * что это и что здесь происходит\n",
    "    ~RoundRobinQueue() = default;\n",
    "\n",
    "    // обсудить: почему const\n",
    "    bool empty() const\n",
    "    {\n",
    "        return start_ix == final_ix && !data[start_ix].has_value();\n",
    "    }\n",
    "\n",
    "    bool full() const\n",
    "    {\n",
    "        return start_ix == final_ix && data[start_ix].has_value();\n",
    "    }\n",
    "\n",
    "    T pop()\n",
    "    {\n",
    "        if (empty())\n",
    "            throw std::runtime_error(\"pop from empty queue\");\n",
    "\n",
    "        T res = std::move(data[start_ix].value());\n",
    "        data[start_ix].reset();\n",
    "        start_ix = next_ix(start_ix);\n",
    "        return res;\n",
    "    }\n",
    "\n",
    "    void push(T item)\n",
    "    {\n",
    "        if (full())\n",
    "            throw std::runtime_error(\"push to full queue\");\n",
    "\n",
    "        data[final_ix].emplace(std::move(item));\n",
    "        final_ix = next_ix(final_ix);\n",
    "    }\n",
    "\n",
    "private:\n",
    "    // обсудить:\n",
    "    //   * что значит static\n",
    "    static int next_ix(const int ix)\n",
    "    {\n",
    "        return (ix + 1) % N;\n",
    "    }\n",
    "};\n",
    "\n",
    "int main()\n",
    "{\n",
    "    try\n",
    "    {\n",
    "        RoundRobinQueue<std::string, 3> q;\n",
    "        q.push(\"alesha\");\n",
    "        q.push(\"dobrynia\");\n",
    "        q.push(\"ilya\");\n",
    "\n",
    "        while (true)\n",
    "            std::cout << q.pop() << std::endl;\n",
    "    }\n",
    "    catch (const std::exception& e)\n",
    "    {\n",
    "        std::cout << e.what() << std::endl;\n",
    "    }\n",
    "    \n",
    "    // обсудить:\n",
    "    //   * что будет выведено\n",
    "    //   * будет ли скомпилирован конструктор RoundRobinQueue(std::initializer_list<T> lst)\n",
    "    //   * сколько классов RoundRobinQueue будет скомпилировано\n",
    "    //   * как будут линковаться несколько RoundRobinQueue<std::string, 3>, если они компилируются\n",
    "    //     в разных cpp-файлах\n",
    "    return 0;\n",
    "}\n",
    "```"
   ]
  },
  {
   "cell_type": "markdown",
   "metadata": {},
   "source": [
    "<br />"
   ]
  },
  {
   "cell_type": "markdown",
   "metadata": {},
   "source": [
    "**Разминка 3**: обсудить программу, печатающую животных в зоопарке"
   ]
  },
  {
   "cell_type": "markdown",
   "metadata": {},
   "source": [
    "```c++\n",
    "#include <cstdio>\n",
    "#include <exception>\n",
    "#include <iostream>\n",
    "#include <memory>\n",
    "#include <string>\n",
    "#include <utility>\n",
    "#include <vector>\n",
    "\n",
    "using namespace std;\n",
    "\n",
    "namespace {\n",
    "\n",
    "// замечание:\n",
    "//\n",
    "//   организуем животных в иерархию:\n",
    "//\n",
    "//   Animal\n",
    "//    |\n",
    "//   Turtle\n",
    "//    |\n",
    "//   NinjaTurtle\n",
    "    \n",
    "class Animal\n",
    "{   \n",
    "public:\n",
    "    Animal(const string& name, int age)\n",
    "        : name_(name)\n",
    "        , age_(age)\n",
    "    {}\n",
    "\n",
    "    // обсудить:\n",
    "    //   * что это такое\n",
    "    //   * зачем так делают\n",
    "    virtual ~Animal() = default;\n",
    "\n",
    "    // обсудить:\n",
    "    //   * что это такое\n",
    "    //   * = 0\n",
    "    virtual string greeting() const = 0;\n",
    "\n",
    "    const string& name() const { return name_; }\n",
    "    int age() const { return age_;  }\n",
    "    \n",
    "private:\n",
    "    string name_;\n",
    "    int age_;\n",
    "};\n",
    "\n",
    "class Turtle : public Animal\n",
    "{\n",
    "public:\n",
    "    Turtle(const string& name, int age)\n",
    "        : Animal(name, age)\n",
    "    {}\n",
    "\n",
    "    // обсудить:\n",
    "    //   * override\n",
    "    //   * final\n",
    "    string greeting() const override\n",
    "    {\n",
    "        return \"hello\";\n",
    "    }\n",
    "};\n",
    "\n",
    "// обсудить:\n",
    "//   * порядок вызова конструкторов-деструкторов\n",
    "//   * layout класса (не трогаем что это non-standard layout)\n",
    "//   * sizeof класса\n",
    "//   * alignment\n",
    "class NinjaTurtle : public Turtle\n",
    "{\n",
    "public:\n",
    "    NinjaTurtle(const string& name,\n",
    "                const string& short_name)\n",
    "        : Turtle(name, 12)\n",
    "        , short_name_(short_name)\n",
    "    {}\n",
    "\n",
    "    string greeting() const override\n",
    "    {\n",
    "        return \"camabanga!\";\n",
    "    }\n",
    "    \n",
    "private:\n",
    "    string short_name_;\n",
    "};\n",
    "\n",
    "}  // namespace\n",
    "\n",
    "// обсудить:\n",
    "//   * что такое unique_ptr и что вы про него знаете\n",
    "//   * какие ещё есть умные указатели, внутреннее устройство\n",
    "//   * зачем нужен make_unique\n",
    "//   * зачем нужен make_shared\n",
    "[[nodiscard]]\n",
    "static vector<unique_ptr<Animal>> make_zoo()\n",
    "{\n",
    "    vector<unique_ptr<Animal>> rv;\n",
    "    rv.reserve(7);\n",
    "    rv.emplace_back(make_unique<Turtle>(\"Tortilla\", 100));\n",
    "    rv.emplace_back(make_unique<Turtle>(\"Big Turtle\", 100));\n",
    "    rv.emplace_back(make_unique<Turtle>(\"Aunt Motya\", 200));\n",
    "    rv.emplace_back(make_unique<NinjaTurtle>(\"Donatello\"));\n",
    "    rv.emplace_back(make_unique<NinjaTurtle>(\"Rafael\"));\n",
    "    return move(rv);\n",
    "}\n",
    "\n",
    "// обсудить:\n",
    "//   * где в коде main происходит вызов виртуальных функций (подсказка: 2 места)\n",
    "//\n",
    "int main()\n",
    "{\n",
    "    for (const unique_ptr<Animal>& a : make_zoo())\n",
    "    {\n",
    "        printf(\"I'm %10s. My age is %3i. %s\\n\",\n",
    "               a->name().c_str(), a->age(), a->greeting().c_str());\n",
    "    }\n",
    "    return 0;\n",
    "}\n",
    "```"
   ]
  },
  {
   "cell_type": "markdown",
   "metadata": {},
   "source": [
    "<br />"
   ]
  },
  {
   "cell_type": "markdown",
   "metadata": {},
   "source": [
    "##### Forward declaration: традиционный пример с iostream"
   ]
  },
  {
   "cell_type": "markdown",
   "metadata": {},
   "source": [
    "Рассмотрим компиляцию cpp-файла:"
   ]
  },
  {
   "cell_type": "markdown",
   "metadata": {},
   "source": [
    "```c++\n",
    "// example_fwd_declaration_1.cpp\n",
    "\n",
    "#include <iostream>\n",
    "\n",
    "extern int read_int(std::istream& is);\n",
    "extern int read_float(std::istream& is);\n",
    "\n",
    "struct Person\n",
    "{\n",
    "    int age;\n",
    "    float weight;\n",
    "};\n",
    "\n",
    "Person read_person(std::istream& is)\n",
    "{\n",
    "    Person p;\n",
    "    p.age = read_int(is);\n",
    "    p.weight = read_float(is);\n",
    "    return p;\n",
    "}\n",
    "```"
   ]
  },
  {
   "cell_type": "code",
   "execution_count": 12,
   "metadata": {},
   "outputs": [
    {
     "name": "stdout",
     "output_type": "stream",
     "text": [
      "real time 0:00.24\r\n",
      "user time 0.20\r\n",
      "sys  time 0.02\r\n"
     ]
    }
   ],
   "source": [
    "# скомпилируем, замерим время\n",
    "!time --format \"real time %E\\nuser time %U\\nsys  time %S\" clang++-8 -c example_fwd_declaration_1.cpp"
   ]
  },
  {
   "cell_type": "markdown",
   "metadata": {},
   "source": [
    "<br />"
   ]
  },
  {
   "cell_type": "markdown",
   "metadata": {},
   "source": [
    "Заметим, что при компиляции `example_fwd_declaration_1.cpp` компилятору нет необходимости видеть реализацию класса `std::istream`, т.к. в рамках этого файла:\n",
    "* ни один из методов класса не вызывается\n",
    "* не нужно знать размер класса, т.к. передаётся только указатель на объект, а размер указателя известен\n",
    "\n",
    "_(пройтись ещё раз по коду, показать где и как используется класс `std::istream`)_\n",
    "\n",
    "Компилятору достаточно знать, что такой класс существует.\n",
    "\n",
    "Применим приём **forward declaration** - заменим definition класса на declaration.\n",
    "\n",
    "Класс `std::istream` - шаблонный, поэтому forward declaration будет выглядеть страшненько:"
   ]
  },
  {
   "cell_type": "markdown",
   "metadata": {},
   "source": [
    "```c++\n",
    "// forward-declare std::istream\n",
    "namespace std {\n",
    "  template<class CharT> struct char_traits;\n",
    "  template<class CharT, class Traits = char_traits<CharT>> class basic_istream;\n",
    "  using istream = basic_istream<char>;\n",
    "}\n",
    "\n",
    "extern int read_int(std::istream& is);\n",
    "extern int read_float(std::istream& is);\n",
    "\n",
    "struct Person\n",
    "{\n",
    "    int age;\n",
    "    float weight;\n",
    "};\n",
    "\n",
    "Person read_person(std::istream& is)\n",
    "{\n",
    "    Person p;\n",
    "    p.age = read_int(is);\n",
    "    p.weight = read_float(is);\n",
    "    return p;\n",
    "}\n",
    "```"
   ]
  },
  {
   "cell_type": "code",
   "execution_count": 20,
   "metadata": {},
   "outputs": [
    {
     "name": "stdout",
     "output_type": "stream",
     "text": [
      "real time 0:00.02\r\n",
      "user time 0.01\r\n",
      "sys  time 0.00\r\n"
     ]
    }
   ],
   "source": [
    "# скомпилируем, замерим время\n",
    "!time --format \"real time %E\\nuser time %U\\nsys  time %S\" clang++-8 -c example_fwd_declaration_2.cpp"
   ]
  },
  {
   "cell_type": "markdown",
   "metadata": {},
   "source": [
    "**Мы ускорили компиляцию в ~10 раз**\n",
    "\n",
    "_(объяснить, почему возникает такой эффект)_"
   ]
  },
  {
   "cell_type": "markdown",
   "metadata": {},
   "source": [
    "<br />"
   ]
  },
  {
   "cell_type": "markdown",
   "metadata": {},
   "source": [
    "##### Forward declaration: iosfwd"
   ]
  },
  {
   "cell_type": "markdown",
   "metadata": {},
   "source": [
    "Т.к. проблема времени компиляции для заголовочного файла `iostream` известна, для него давно в стандарт ввели `#include <iosfwd>` - forward declaration для объектов из `iostream`\n",
    "\n",
    "https://en.cppreference.com/w/cpp/header/iosfwd\n",
    "\n",
    "Поэтому наш пример можно упростить:"
   ]
  },
  {
   "cell_type": "markdown",
   "metadata": {},
   "source": [
    "```c++\n",
    "#include <iosfwd>\n",
    "\n",
    "extern int read_int(std::istream& is);\n",
    "extern int read_float(std::istream& is);\n",
    "\n",
    "struct Person\n",
    "{\n",
    "    int age;\n",
    "    float weight;\n",
    "};\n",
    "\n",
    "Person read_person(std::istream& is)\n",
    "{\n",
    "    Person p;\n",
    "    p.age = read_int(is);\n",
    "    p.weight = read_float(is);\n",
    "    return p;\n",
    "}\n",
    "```"
   ]
  },
  {
   "cell_type": "code",
   "execution_count": 24,
   "metadata": {},
   "outputs": [
    {
     "name": "stdout",
     "output_type": "stream",
     "text": [
      "real time 0:00.03\r\n",
      "user time 0.02\r\n",
      "sys  time 0.00\r\n"
     ]
    }
   ],
   "source": [
    "# скомпилируем, замерим время\n",
    "!time --format \"real time %E\\nuser time %U\\nsys  time %S\" clang++-8 -c example_fwd_declaration_3.cpp"
   ]
  },
  {
   "cell_type": "markdown",
   "metadata": {},
   "source": [
    "Здесь можно найти ориентировочное влияние include-а на время компиляции:<br />\n",
    "https://artificial-mind.net/projects/compile-health/"
   ]
  },
  {
   "cell_type": "markdown",
   "metadata": {},
   "source": [
    "<br />"
   ]
  },
  {
   "cell_type": "markdown",
   "metadata": {},
   "source": [
    "##### Forward declaration: стандартный пример"
   ]
  },
  {
   "cell_type": "markdown",
   "metadata": {},
   "source": [
    "Вспомним пример из домашнего задания про фигурки 1-го семестра.\n",
    "\n",
    "Вариант организации запуска интерпретатора:"
   ]
  },
  {
   "cell_type": "markdown",
   "metadata": {},
   "source": [
    "```c++\n",
    "//\n",
    "// Interpret.h\n",
    "//\n",
    "#include \"Scene.h\"\n",
    "#include <iostream>\n",
    "\n",
    "void run_interpreter(std::istream& is, Scene& scene);\n",
    "\n",
    "//\n",
    "// Interpret.cpp\n",
    "//\n",
    "#include \"Interpret.h\"\n",
    "\n",
    "void run_interpreter(std::istream& is, Scene& scene) {\n",
    "    /* impl */\n",
    "}\n",
    "```"
   ]
  },
  {
   "cell_type": "markdown",
   "metadata": {},
   "source": [
    "Вариант с применением forward declaration"
   ]
  },
  {
   "cell_type": "markdown",
   "metadata": {},
   "source": [
    "```c++\n",
    "//\n",
    "// Interpret.h\n",
    "//\n",
    "#include <iosfwd>\n",
    "\n",
    "class Scene;\n",
    "\n",
    "void run_interpreter(std::istream& is, Scene& scene);\n",
    "\n",
    "//\n",
    "// Interpret.cpp\n",
    "//\n",
    "#include \"Interpret.h\"\n",
    "\n",
    "#include \"Scene.h\"\n",
    "#include <iostream>\n",
    "\n",
    "void run_interpreter(std::istream& is, Scene& scene) {\n",
    "    /* impl */\n",
    "}\n",
    "```"
   ]
  },
  {
   "cell_type": "markdown",
   "metadata": {},
   "source": [
    "Но...:\n",
    "* прописывать в каждом заголовочном файле `class Scene;` - неудобно\n",
    "* ещё более неудобно, когда `class` со временем рефакторится в `struct`\n",
    "* ещё более неудобно с шаблонами (записи длиннее, меняются чаще)"
   ]
  },
  {
   "cell_type": "markdown",
   "metadata": {},
   "source": [
    "Решение... аналогично `iosfwd`:\n",
    "* сгруппировать по смыслу несколько классов\n",
    "* организовать для них общий header с forward declarations"
   ]
  },
  {
   "cell_type": "markdown",
   "metadata": {},
   "source": [
    "Как это можно организовать на примере домашки с фигурками:"
   ]
  },
  {
   "cell_type": "markdown",
   "metadata": {},
   "source": [
    "```c++\n",
    "//\n",
    "// InterpreterFwd.h - forward-declaration для классы сцены и фигурок\n",
    "//\n",
    "class Circle;\n",
    "class Figure;\n",
    "class Rectangle;\n",
    "class Scene;\n",
    "class Triangle;\n",
    "\n",
    "//\n",
    "// Interpret.h\n",
    "//\n",
    "#include \"InterpreterFwd.h\"\n",
    "#include <iosfwd>\n",
    "\n",
    "void run_interpreter(std::istream& is, Scene& scene);\n",
    "\n",
    "//\n",
    "// Interpret.cpp\n",
    "//\n",
    "#include \"Interpret.h\"\n",
    "\n",
    "#include \"Scene.h\"\n",
    "#include <iostream>\n",
    "\n",
    "void run_interpreter(std::istream& is, Scene& scene) {\n",
    "    /* impl */\n",
    "}\n",
    "\n",
    "//\n",
    "// Scene.h\n",
    "//\n",
    "#include \"InterpreterFwd.h\"\n",
    "\n",
    "class Scene {\n",
    "    /* ... */\n",
    "};\n",
    "```"
   ]
  },
  {
   "cell_type": "markdown",
   "metadata": {},
   "source": [
    "<br />"
   ]
  },
  {
   "cell_type": "markdown",
   "metadata": {},
   "source": [
    "**Упражнение**: что в этом header можно сделать через forward declaration?\n",
    "\n",
    "Обсудить всё:\n",
    "* `std::string`\n",
    "* `int`\n",
    "* `std::ostream`\n",
    "* `std::istream`\n",
    "* `DBRecordPerson`\n",
    "* `JsonValue`\n",
    "* `Person`"
   ]
  },
  {
   "cell_type": "markdown",
   "metadata": {},
   "source": [
    "```c++\n",
    "#include <iostream>\n",
    "#include <memory>\n",
    "#include <string>\n",
    "\n",
    "#include \"Database/Records.h\"\n",
    "#incldue \"Json/JsonValue.h\"\n",
    "\n",
    "struct Person\n",
    "{\n",
    "    std::string name;\n",
    "    int age;    \n",
    "};\n",
    "\n",
    "inline\n",
    "std::ostream& operator<<(std::ostream& os, const Person& p)\n",
    "{\n",
    "    return os << p.name << ', '<< p.age;\n",
    "}\n",
    "\n",
    "std::istream& operator>>(std::istream& is, Person& p);\n",
    "\n",
    "std::unique_ptr<Person> create_person(const DBRecordPerson& record);\n",
    "std::unique_ptr<Person> create_person(const JsonValue& json_obj);\n",
    "\n",
    "JsonValue make_json_obj(const Person& p);\n",
    "```"
   ]
  },
  {
   "cell_type": "markdown",
   "metadata": {},
   "source": [
    "Что нужно поменять, чтобы `#include <iostream>` заменить на forward declaration?"
   ]
  },
  {
   "cell_type": "markdown",
   "metadata": {},
   "source": [
    "<br />"
   ]
  },
  {
   "cell_type": "markdown",
   "metadata": {},
   "source": [
    "##### Forward declaration: тонкости std::unique_ptr как поля класса"
   ]
  },
  {
   "cell_type": "markdown",
   "metadata": {},
   "source": [
    "Вернёмся к домашней работе про фигурки. Рассмотрим пример такого заголовочного файла:"
   ]
  },
  {
   "cell_type": "markdown",
   "metadata": {},
   "source": [
    "```c++\n",
    "#include \"Color.h\"\n",
    "#include \"Figure.h\"\n",
    "\n",
    "struct SceneItem\n",
    "{\n",
    "    std::unique_ptr<Figure> geometry;\n",
    "    int id;\n",
    "    Color color;\n",
    "};\n",
    "```"
   ]
  },
  {
   "cell_type": "markdown",
   "metadata": {},
   "source": [
    "**Вопрос:**\n",
    "* как внутри устроен `std::unique_ptr`\n",
    "* как сделать forward declaration для `Figure`\n",
    "\n",
    "<details>\n",
    "<summary>ответ</summary>\n",
    "<p>\n",
    "Не можем, потому что деструктор SceneItem автогенерируется в каждом файле, где используется, там автогенерируется деструктор std::unique_ptr, который обязан вызывать delete у Figure, а значит, он должен знать, деструктор Figure - виртуальный или нет.\n",
    "</p> \n",
    "</details>\n",
    "\n",
    "_(объяснить подробнее как работает ответ)_"
   ]
  },
  {
   "cell_type": "markdown",
   "metadata": {},
   "source": [
    "<br />"
   ]
  },
  {
   "cell_type": "markdown",
   "metadata": {},
   "source": [
    "**Вопрос:**\n",
    "* как можно обойти проблему\n",
    "\n",
    "Как тогда сделать forward declaration для `Figure`:"
   ]
  },
  {
   "cell_type": "markdown",
   "metadata": {},
   "source": [
    "```c++\n",
    "//\n",
    "// SceneItem.h\n",
    "//\n",
    "\n",
    "#include \"Color.h\"\n",
    "\n",
    "class Figure;\n",
    "\n",
    "struct SceneItem\n",
    "{\n",
    "    // объявить деструктор и move-операции (где нужно делать delete)\n",
    "    ~SceneItem();    \n",
    "    SceneItem(SceneItem&&) noexcept;\n",
    "    SceneItem& operator=(SceneItem&&) noexcept;\n",
    "    \n",
    "    // дефолтный конструктор (следуем правилу 6)\n",
    "    SceneItem();\n",
    "\n",
    "    // операции копирования можно удалить явно (следуем правилу 6)\n",
    "    SceneItem(const SceneItem&) = delete;\n",
    "    SceneItem& operator=(const SceneItem&) = delete;\n",
    "    \n",
    "    std::unique_ptr<Figure> geometry;\n",
    "    int id;\n",
    "    Color color;\n",
    "};\n",
    "\n",
    "\n",
    "//\n",
    "// SceneItem.cpp\n",
    "//\n",
    "#include \"SceneItem.h\"\n",
    "\n",
    "#include \"Figure.h\"\n",
    "\n",
    "// скомилируется единожды (здесь нужен #include <Figure.h>)\n",
    "SceneItem::~SceneItem() = default;\n",
    "\n",
    "// скомилируется единожды (здесь нужен #include <Figure.h>)\n",
    "SceneItem::SceneItem(SceneItem&&) noexcept = default;\n",
    "\n",
    "// скомилируется единожды (здесь нужен #include <Figure.h>)\n",
    "SceneItem& SceneItem::operator=(SceneItem&&) noexcept;\n",
    "```"
   ]
  },
  {
   "cell_type": "markdown",
   "metadata": {},
   "source": [
    "**Замечание:** Для `std::shared_ptr` в отличие от `std::unique_ptr` можно сделать forward declaration без отключения автогенерации деструктора. Почему? Почему так не делают?"
   ]
  },
  {
   "cell_type": "markdown",
   "metadata": {},
   "source": [
    "<br />"
   ]
  },
  {
   "cell_type": "markdown",
   "metadata": {},
   "source": [
    "##### отступление - паттерн pimpl"
   ]
  },
  {
   "cell_type": "markdown",
   "metadata": {},
   "source": [
    "Паттрен pimpl (pointer to implementation) помогает минимизировать зависимости по include-ам в C++ проектах."
   ]
  },
  {
   "cell_type": "markdown",
   "metadata": {},
   "source": [
    "**Пример:**"
   ]
  },
  {
   "cell_type": "markdown",
   "metadata": {},
   "source": [
    "```c++\n",
    "//\n",
    "// Network.h\n",
    "//\n",
    "#include <memory>\n",
    "#include <string>\n",
    "\n",
    "class Network\n",
    "{\n",
    "public:\n",
    "    Network();\n",
    "    ~Network();\n",
    "    // + define move ops, delete copy ops\n",
    "    \n",
    "    std::string get(const std::string& url);\n",
    "\n",
    "private:\n",
    "    class Impl;\n",
    "    std::unique_ptr<Impl> impl;\n",
    "};\n",
    "\n",
    "\n",
    "//\n",
    "// Network.cpp\n",
    "//\n",
    "#include \"Network.h\"\n",
    "#include \"CoolNetworkLibrary/CoolNetworkLibrary.h\"\n",
    "\n",
    "class Network::Impl\n",
    "{\n",
    "public:\n",
    "    std::string get(const std::string& url) {\n",
    "        /* impl */\n",
    "    }\n",
    "    \n",
    "private:\n",
    "    CoolNetworkLibraryStaff staff;\n",
    "};\n",
    "\n",
    "Network::Network()\n",
    "    : impl(std::make_unique<Impl>())\n",
    "{}\n",
    "\n",
    "Network::~Network() = default;\n",
    "\n",
    "std::string Network::get(const std::string& url) {\n",
    "    return impl->get(url);\n",
    "}\n",
    "```"
   ]
  },
  {
   "cell_type": "markdown",
   "metadata": {},
   "source": [
    "**Замечание:**\n",
    "* плюс - нет зависимости всего проекта по header-ам от `CoolNetworkLibrary`, зависимость локализована и не раздувает время компиляции\n",
    "* плюс - стабильность ABI\n",
    "* минус - запрещено копирование pimpl-объектов\n",
    "* минус - подороже создание / удаление\n",
    "* минус - подороже обращение к объекту\n",
    "\n",
    "<br />\n",
    "\n",
    "**Общая идея:** если хочется использовать возможности pimpl, делает это стоит с \"большими\" логическими объектами типа сеть / связь с БД / кеш запросов / парсер json-ов / ... - объекты, которые:\n",
    "* создаются редко\n",
    "* стоимость вызова достаточно велика по сравнению с одним прыжком по памяти\n",
    "* не подразумевают копирования"
   ]
  },
  {
   "cell_type": "markdown",
   "metadata": {},
   "source": [
    "<br />"
   ]
  },
  {
   "cell_type": "markdown",
   "metadata": {},
   "source": [
    "##### Forward declaration: тонкости std::optional как поля класса"
   ]
  },
  {
   "cell_type": "markdown",
   "metadata": {},
   "source": [
    "Заменим в примере про `SceneItem` `std::uinque_ptr` на `std::optional`:"
   ]
  },
  {
   "cell_type": "markdown",
   "metadata": {},
   "source": [
    "```c++\n",
    "#include <optional>\n",
    "#include <string>\n",
    "\n",
    "class Network\n",
    "{\n",
    "public:\n",
    "    Network();\n",
    "    ~Network();\n",
    "    // + define move ops, delete copy ops\n",
    "\n",
    "    std::string get(const std::string& url);\n",
    "\n",
    "private:\n",
    "    class Impl;\n",
    "    std::optional<Impl> impl;\n",
    "};\n",
    "```"
   ]
  },
  {
   "cell_type": "markdown",
   "metadata": {},
   "source": [
    "_(уточнить, что все понимают как устроен `std::optional` внутри)_\n",
    "\n",
    "Таким образом экономим аллокацию, но подход не работает.\n",
    "\n",
    "**Вопрос:** почему? \n",
    "\n",
    "Как заставить работать pimpl с `std::optional` - в докладе [Антона Полухина С++-трюки из Такси](https://www.youtube.com/watch?v=mkPTreWiglk)"
   ]
  },
  {
   "cell_type": "markdown",
   "metadata": {},
   "source": [
    "<br />"
   ]
  },
  {
   "cell_type": "markdown",
   "metadata": {},
   "source": [
    "##### Forward declaration: тонкости наследования"
   ]
  },
  {
   "cell_type": "markdown",
   "metadata": {},
   "source": [
    "**Вопрос:** возможен ли forward declaration для такого cpp-файла и почему?"
   ]
  },
  {
   "cell_type": "markdown",
   "metadata": {},
   "source": [
    "```c++\n",
    "#include <iostream>\n",
    "\n",
    "class Figure;\n",
    "class Rectangle;\n",
    "\n",
    "extern void draw_figure(const Figure& figure);\n",
    "\n",
    "void process_rectangle(Rectangle& rect)\n",
    "{\n",
    "    std::cout << \"drawing a rectangle figure\" << std::endl;\n",
    "    draw_figure(rect);  // <---\n",
    "}\n",
    "```"
   ]
  },
  {
   "cell_type": "markdown",
   "metadata": {},
   "source": [
    "**Подсказка:** вспомните лекцию из первой части про множественное наследование и смещение базовых классов в наследнике"
   ]
  },
  {
   "cell_type": "markdown",
   "metadata": {},
   "source": [
    "<details>\n",
    "<summary>ответ</summary>\n",
    "<p>Нет, т.к. не подглядев в реализацию, никак не узнать, что Rectangle - наследник от фигуры. А если он является наследником, то ещё нужно знать точное смещение базового класса Figure внутри Rectangle, т.к. возможен случай множественного наследования (или non-standard-layout, но про него говорить не будем)</p>\n",
    "</details>"
   ]
  },
  {
   "cell_type": "markdown",
   "metadata": {},
   "source": [
    "<br />"
   ]
  },
  {
   "cell_type": "markdown",
   "metadata": {},
   "source": [
    "**Резюме:**\n",
    "* Техника forward declaration позволяет ускорить компиляцию\n",
    "* Forward declaration применим не всегда. FWD запрещён, если компилятору нужна информация о методах объекта, его размере или наследнике\n",
    "* Идиома pimpl помогает снизить зависимости по заголовочным файлам, но не бесплатна в runtime"
   ]
  }
 ],
 "metadata": {
  "kernelspec": {
   "display_name": "Python 3",
   "language": "python",
   "name": "python3"
  },
  "language_info": {
   "codemirror_mode": {
    "name": "ipython",
    "version": 3
   },
   "file_extension": ".py",
   "mimetype": "text/x-python",
   "name": "python",
   "nbconvert_exporter": "python",
   "pygments_lexer": "ipython3",
   "version": "3.6.9"
  }
 },
 "nbformat": 4,
 "nbformat_minor": 2
}
