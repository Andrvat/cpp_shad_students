{
 "cells": [
  {
   "cell_type": "markdown",
   "metadata": {},
   "source": [
    "### Напоминалка для семинаристов по ревью многопоточного кода"
   ]
  },
  {
   "cell_type": "markdown",
   "metadata": {},
   "source": [
    "<br />"
   ]
  },
  {
   "cell_type": "markdown",
   "metadata": {},
   "source": [
    "Можно использовать подход сверху-вниз: от общей картины к деталям."
   ]
  },
  {
   "cell_type": "markdown",
   "metadata": {},
   "source": [
    "<br />"
   ]
  },
  {
   "cell_type": "markdown",
   "metadata": {},
   "source": [
    "**В первую очередь понять верхнуровневую организацию по классам / потокам:**\n",
    "* какие объекты на каких потоках живут\n",
    "* когда потоки создаются и умирают"
   ]
  },
  {
   "cell_type": "markdown",
   "metadata": {},
   "source": [
    "```\n",
    "SalesmanWidget - UI\n",
    "SalesmanSolver - UI, Background\n",
    "```"
   ]
  },
  {
   "cell_type": "markdown",
   "metadata": {},
   "source": [
    "<br />"
   ]
  },
  {
   "cell_type": "markdown",
   "metadata": {},
   "source": [
    "**Уровень функций / методов:**\n",
    "* какие функции / методы на каких потоках зовутся _(например, выписать функции и потоки)_\n",
    "\n",
    "```\n",
    "SalesmanWidget::update_status (UI thread)\n",
    "SalesmanSolver::SalesmanSolver (UI thread)\n",
    "SalesmanSolver::process_city (Background thread)\n",
    "```"
   ]
  },
  {
   "cell_type": "markdown",
   "metadata": {},
   "source": [
    "<br />"
   ]
  },
  {
   "cell_type": "markdown",
   "metadata": {},
   "source": [
    "**Уровень данных:**\n",
    "* какие данные используются\n",
    "* как они синхронизированы\n",
    "* корректны ли эти синхронизации\n",
    "\n",
    "\n",
    "```\n",
    "SalesmanWidget::update_status (UI thread)\n",
    "    r: thread_status_array // mutex: thread_status_mtx\n",
    "    r: global_solution     // atomic-relaxed\n",
    "    \n",
    "SalesmanSolver::SalesmanSolver (UI thread)\n",
    "    w: costs // no synchronization\n",
    "\n",
    "SalesmanSolver::process_city (Background thread)\n",
    "    r: costs // no synchronization\n",
    "    \n",
    "SalesmanSolverState:\n",
    "    int thread_count; // UI only - ok, read on background but threads are synchronized\n",
    "    int cities_count; // UI only - ok, read on background but threads are synchronized\n",
    "```"
   ]
  },
  {
   "cell_type": "markdown",
   "metadata": {},
   "source": [
    "<br />"
   ]
  },
  {
   "cell_type": "markdown",
   "metadata": {},
   "source": [
    "**Дополнительно проработать вопросы:**\n",
    "* нет ли неожиданностей после смерти потоков (use-after-free?)\n",
    "* корректна ли последовательность вызовов синхронизированных методов? Пример с многопоточной очередью задач:\n",
    "\n",
    "```c++\n",
    "if (!queue.empty())\n",
    "    process_task(queue.pop());\n",
    "```\n",
    "\n",
    "* синхронизация на 2 atomics - наиболее вероятно, что гонка\n",
    "* atomics - relaxed режим для счётчиков"
   ]
  },
  {
   "cell_type": "markdown",
   "metadata": {},
   "source": [
    "<br />"
   ]
  },
  {
   "cell_type": "markdown",
   "metadata": {},
   "source": [
    "Thread sanitizer"
   ]
  }
 ],
 "metadata": {
  "kernelspec": {
   "display_name": "Python 3",
   "language": "python",
   "name": "python3"
  },
  "language_info": {
   "codemirror_mode": {
    "name": "ipython",
    "version": 3
   },
   "file_extension": ".py",
   "mimetype": "text/x-python",
   "name": "python",
   "nbconvert_exporter": "python",
   "pygments_lexer": "ipython3",
   "version": "3.6.9"
  }
 },
 "nbformat": 4,
 "nbformat_minor": 2
}
