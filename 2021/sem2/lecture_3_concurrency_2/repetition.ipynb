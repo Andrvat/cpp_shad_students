{
 "cells": [
  {
   "cell_type": "markdown",
   "metadata": {},
   "source": [
    "##### Вопросы для повторения:\n",
    "\n",
    "* что такое процессы и потоки?\n",
    "* сколько стеков в многопоточном приложении?\n",
    "* что такое переключение контекста для ядра?\n",
    "* когда начинает и заканчивает своё выполнение поток тут:\n",
    "\n",
    "```c++\n",
    "int main()\n",
    "{\n",
    "    std::thread t([](){ std::cout << \"hello from background thread\\n\"; });\n",
    "    \n",
    "    std::cout << \"hello from main thread\\n\";\n",
    "    \n",
    "    return 0;\n",
    "}\n",
    "```\n",
    "\n",
    "* какая ошибка в примере выше и как её починить? сколькими вариантами?\n",
    "\n",
    "    <details>\n",
    "    <summary>ответ</summary>\n",
    "    <p>join/detach</p>\n",
    "    </details>\n",
    "\n",
    "* что такое эффективность параллелизации? как её вычислить? какое число ожидать?\n",
    "* что делает и зачем нужен `std::this_thread::yield`?\n",
    "* зачем нужны `std::promise` - `std::future` и как ими пользоваться?\n",
    "* что такое `std::async` и как им пользоваться?"
   ]
  },
  {
   "cell_type": "markdown",
   "metadata": {},
   "source": [
    "##### Замечание с прошлой лекции:\n",
    "\n",
    "Подробнее про superlinear speedup:<br />\n",
    "https://en.wikipedia.org/wiki/Speedup#Super-linear_speedup"
   ]
  }
 ],
 "metadata": {
  "kernelspec": {
   "display_name": "Python 3",
   "language": "python",
   "name": "python3"
  },
  "language_info": {
   "codemirror_mode": {
    "name": "ipython",
    "version": 3
   },
   "file_extension": ".py",
   "mimetype": "text/x-python",
   "name": "python",
   "nbconvert_exporter": "python",
   "pygments_lexer": "ipython3",
   "version": "3.6.9"
  }
 },
 "nbformat": 4,
 "nbformat_minor": 2
}
