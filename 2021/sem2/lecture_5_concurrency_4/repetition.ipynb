{
 "cells": [
  {
   "cell_type": "markdown",
   "metadata": {},
   "source": [
    "**Вопросы для повторения:**\n",
    "* в чём отличие?\n",
    "\n",
    "```c++\n",
    "using namespace std;\n",
    "\n",
    "// ver 1\n",
    "static const vector<string> langs = {\"ru\", \"en\"};\n",
    "\n",
    "bool is_lang_suppored(const string& lang) {\n",
    "    return find(langs.begin(), langs.end(), lang) != langs.end();\n",
    "}\n",
    "\n",
    "// ver 2\n",
    "bool is_lang_suppored(const string& lang) {\n",
    "    static const vector<string> langs = {\"ru\", \"en\"};\n",
    "    return find(langs.begin(), langs.end(), lang) != langs.end();\n",
    "}\n",
    "\n",
    "// ver 3\n",
    "\n",
    "bool is_lang_suppored(const string& lang) {\n",
    "    const vector<string> langs = {\"ru\", \"en\"};\n",
    "    return find(langs.begin(), langs.end(), lang) != langs.end();\n",
    "}\n",
    "```\n",
    "\n",
    "* как лучше сделать синглтон с ленивой инициализацией? какие есть ещё варианты?\n",
    "\n",
    "<details>\n",
    "<summary>ответ</summary>\n",
    "<p>\n",
    "\n",
    "```c++\n",
    "class Singleton {\n",
    "    Singleton() { }\n",
    "    \n",
    "public:\n",
    "    static Singleton& instance() {\n",
    "        static Singleton inst;\n",
    "        return inst;\n",
    "    }\n",
    "};\n",
    "```\n",
    "\n",
    "также: `std::call_once` + double checked locking pattern + ...\n",
    "    \n",
    "</p>    \n",
    "</details>\n",
    "\n",
    "* что такое `spin_lock`, чем он отличается от `std::mutex`? Когда какой использовать?\n",
    "* `std::atomic` - что это и зачем?\n",
    "* какие бывают instructions reordering и когда это важно?"
   ]
  }
 ],
 "metadata": {
  "kernelspec": {
   "display_name": "Python 3",
   "language": "python",
   "name": "python3"
  },
  "language_info": {
   "codemirror_mode": {
    "name": "ipython",
    "version": 3
   },
   "file_extension": ".py",
   "mimetype": "text/x-python",
   "name": "python",
   "nbconvert_exporter": "python",
   "pygments_lexer": "ipython3",
   "version": "3.6.9"
  }
 },
 "nbformat": 4,
 "nbformat_minor": 2
}
