{
 "cells": [
  {
   "cell_type": "markdown",
   "metadata": {},
   "source": [
    "**Вопросы**:\n",
    "\n",
    "Andrei Alexandrescu\n",
    "@incomputable\n",
    "\n",
    "https://twitter.com/incomputable/status/1247235812271497216    \n",
    "\n",
    "> Alrighty, so this makes my code 8% faster with g++. I am not kidding:\n",
    "> #ifdef NDEBUG\n",
    "> #undef assert\n",
    "> #define assert(c) if (c) {} else { __builtin_unreachable(); }\n",
    "> #endif"
   ]
  },
  {
   "cell_type": "markdown",
   "metadata": {},
   "source": [
    "```c++\n",
    "#ifdef NDEBUG\n",
    "#undef assert\n",
    "#define assert(c) \\\n",
    "    if (!(c)) { \\\n",
    "        __builtin_unreachable(); \\\n",
    "    }\n",
    "#endif\n",
    "```"
   ]
  },
  {
   "cell_type": "markdown",
   "metadata": {},
   "source": [
    "```c++\n",
    "#ifdef NDEBUG  // release\n",
    "#define assert(c) ;\n",
    "#else  // debug\n",
    "#define assert(c) ......;\n",
    "#endif\n",
    "```"
   ]
  },
  {
   "cell_type": "markdown",
   "metadata": {},
   "source": [
    "**Вопрос**: что поменялось и почему так?"
   ]
  }
 ],
 "metadata": {
  "kernelspec": {
   "display_name": "Python 3",
   "language": "python",
   "name": "python3"
  },
  "language_info": {
   "codemirror_mode": {
    "name": "ipython",
    "version": 3
   },
   "file_extension": ".py",
   "mimetype": "text/x-python",
   "name": "python",
   "nbconvert_exporter": "python",
   "pygments_lexer": "ipython3",
   "version": "3.6.9"
  }
 },
 "nbformat": 4,
 "nbformat_minor": 2
}
